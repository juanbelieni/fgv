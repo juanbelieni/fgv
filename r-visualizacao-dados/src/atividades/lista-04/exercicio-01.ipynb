{
 "cells": [
  {
   "cell_type": "markdown",
   "id": "assumed-keyboard",
   "metadata": {},
   "source": [
    "# Exercício 1\n",
    "\n",
    "Importanto o pacote `dplyr` e a base de dados `imdb.rds`"
   ]
  },
  {
   "cell_type": "code",
   "execution_count": 1,
   "id": "formed-fundamental",
   "metadata": {},
   "outputs": [
    {
     "data": {
      "text/html": [
       "<table class=\"dataframe\">\n",
       "<caption>A tibble: 6 × 15</caption>\n",
       "<thead>\n",
       "\t<tr><th scope=col>titulo</th><th scope=col>ano</th><th scope=col>diretor</th><th scope=col>duracao</th><th scope=col>cor</th><th scope=col>generos</th><th scope=col>pais</th><th scope=col>classificacao</th><th scope=col>orcamento</th><th scope=col>receita</th><th scope=col>nota_imdb</th><th scope=col>likes_facebook</th><th scope=col>ator_1</th><th scope=col>ator_2</th><th scope=col>ator_3</th></tr>\n",
       "\t<tr><th scope=col>&lt;chr&gt;</th><th scope=col>&lt;int&gt;</th><th scope=col>&lt;chr&gt;</th><th scope=col>&lt;int&gt;</th><th scope=col>&lt;chr&gt;</th><th scope=col>&lt;chr&gt;</th><th scope=col>&lt;chr&gt;</th><th scope=col>&lt;chr&gt;</th><th scope=col>&lt;int&gt;</th><th scope=col>&lt;int&gt;</th><th scope=col>&lt;dbl&gt;</th><th scope=col>&lt;int&gt;</th><th scope=col>&lt;chr&gt;</th><th scope=col>&lt;chr&gt;</th><th scope=col>&lt;chr&gt;</th></tr>\n",
       "</thead>\n",
       "<tbody>\n",
       "\t<tr><td>Avatar                                   </td><td>2009</td><td>James Cameron    </td><td>178</td><td>Color</td><td>Action|Adventure|Fantasy|Sci-Fi                          </td><td>USA</td><td>A partir de 13 anos</td><td>237000000</td><td>760505847</td><td>7.9</td><td> 33000</td><td>CCH Pounder </td><td>Joel David Moore</td><td>Wes Studi           </td></tr>\n",
       "\t<tr><td>Pirates of the Caribbean: At World's End </td><td>2007</td><td>Gore Verbinski   </td><td>169</td><td>Color</td><td>Action|Adventure|Fantasy                                 </td><td>USA</td><td>A partir de 13 anos</td><td>300000000</td><td>309404152</td><td>7.1</td><td>     0</td><td>Johnny Depp </td><td>Orlando Bloom   </td><td>Jack Davenport      </td></tr>\n",
       "\t<tr><td>The Dark Knight Rises                    </td><td>2012</td><td>Christopher Nolan</td><td>164</td><td>Color</td><td>Action|Thriller                                          </td><td>USA</td><td>A partir de 13 anos</td><td>250000000</td><td>448130642</td><td>8.5</td><td>164000</td><td>Tom Hardy   </td><td>Christian Bale  </td><td>Joseph Gordon-Levitt</td></tr>\n",
       "\t<tr><td>John Carter                              </td><td>2012</td><td>Andrew Stanton   </td><td>132</td><td>Color</td><td>Action|Adventure|Sci-Fi                                  </td><td>USA</td><td>A partir de 13 anos</td><td>263700000</td><td> 73058679</td><td>6.6</td><td> 24000</td><td>Daryl Sabara</td><td>Samantha Morton </td><td>Polly Walker        </td></tr>\n",
       "\t<tr><td>Spider-Man 3                             </td><td>2007</td><td>Sam Raimi        </td><td>156</td><td>Color</td><td>Action|Adventure|Romance                                 </td><td>USA</td><td>A partir de 13 anos</td><td>258000000</td><td>336530303</td><td>6.2</td><td>     0</td><td>J.K. Simmons</td><td>James Franco    </td><td>Kirsten Dunst       </td></tr>\n",
       "\t<tr><td>Tangled                                  </td><td>2010</td><td>Nathan Greno     </td><td>100</td><td>Color</td><td>Adventure|Animation|Comedy|Family|Fantasy|Musical|Romance</td><td>USA</td><td>Livre              </td><td>260000000</td><td>200807262</td><td>7.8</td><td> 29000</td><td>Brad Garrett</td><td>Donna Murphy    </td><td>M.C. Gainey         </td></tr>\n",
       "</tbody>\n",
       "</table>\n"
      ],
      "text/latex": [
       "A tibble: 6 × 15\n",
       "\\begin{tabular}{lllllllllllllll}\n",
       " titulo & ano & diretor & duracao & cor & generos & pais & classificacao & orcamento & receita & nota\\_imdb & likes\\_facebook & ator\\_1 & ator\\_2 & ator\\_3\\\\\n",
       " <chr> & <int> & <chr> & <int> & <chr> & <chr> & <chr> & <chr> & <int> & <int> & <dbl> & <int> & <chr> & <chr> & <chr>\\\\\n",
       "\\hline\n",
       "\t Avatar                                    & 2009 & James Cameron     & 178 & Color & Action\\textbar{}Adventure\\textbar{}Fantasy\\textbar{}Sci-Fi                           & USA & A partir de 13 anos & 237000000 & 760505847 & 7.9 &  33000 & CCH Pounder  & Joel David Moore & Wes Studi           \\\\\n",
       "\t Pirates of the Caribbean: At World's End  & 2007 & Gore Verbinski    & 169 & Color & Action\\textbar{}Adventure\\textbar{}Fantasy                                  & USA & A partir de 13 anos & 300000000 & 309404152 & 7.1 &      0 & Johnny Depp  & Orlando Bloom    & Jack Davenport      \\\\\n",
       "\t The Dark Knight Rises                     & 2012 & Christopher Nolan & 164 & Color & Action\\textbar{}Thriller                                           & USA & A partir de 13 anos & 250000000 & 448130642 & 8.5 & 164000 & Tom Hardy    & Christian Bale   & Joseph Gordon-Levitt\\\\\n",
       "\t John Carter                               & 2012 & Andrew Stanton    & 132 & Color & Action\\textbar{}Adventure\\textbar{}Sci-Fi                                   & USA & A partir de 13 anos & 263700000 &  73058679 & 6.6 &  24000 & Daryl Sabara & Samantha Morton  & Polly Walker        \\\\\n",
       "\t Spider-Man 3                              & 2007 & Sam Raimi         & 156 & Color & Action\\textbar{}Adventure\\textbar{}Romance                                  & USA & A partir de 13 anos & 258000000 & 336530303 & 6.2 &      0 & J.K. Simmons & James Franco     & Kirsten Dunst       \\\\\n",
       "\t Tangled                                   & 2010 & Nathan Greno      & 100 & Color & Adventure\\textbar{}Animation\\textbar{}Comedy\\textbar{}Family\\textbar{}Fantasy\\textbar{}Musical\\textbar{}Romance & USA & Livre               & 260000000 & 200807262 & 7.8 &  29000 & Brad Garrett & Donna Murphy     & M.C. Gainey         \\\\\n",
       "\\end{tabular}\n"
      ],
      "text/markdown": [
       "\n",
       "A tibble: 6 × 15\n",
       "\n",
       "| titulo &lt;chr&gt; | ano &lt;int&gt; | diretor &lt;chr&gt; | duracao &lt;int&gt; | cor &lt;chr&gt; | generos &lt;chr&gt; | pais &lt;chr&gt; | classificacao &lt;chr&gt; | orcamento &lt;int&gt; | receita &lt;int&gt; | nota_imdb &lt;dbl&gt; | likes_facebook &lt;int&gt; | ator_1 &lt;chr&gt; | ator_2 &lt;chr&gt; | ator_3 &lt;chr&gt; |\n",
       "|---|---|---|---|---|---|---|---|---|---|---|---|---|---|---|\n",
       "| Avatar                                    | 2009 | James Cameron     | 178 | Color | Action|Adventure|Fantasy|Sci-Fi                           | USA | A partir de 13 anos | 237000000 | 760505847 | 7.9 |  33000 | CCH Pounder  | Joel David Moore | Wes Studi            |\n",
       "| Pirates of the Caribbean: At World's End  | 2007 | Gore Verbinski    | 169 | Color | Action|Adventure|Fantasy                                  | USA | A partir de 13 anos | 300000000 | 309404152 | 7.1 |      0 | Johnny Depp  | Orlando Bloom    | Jack Davenport       |\n",
       "| The Dark Knight Rises                     | 2012 | Christopher Nolan | 164 | Color | Action|Thriller                                           | USA | A partir de 13 anos | 250000000 | 448130642 | 8.5 | 164000 | Tom Hardy    | Christian Bale   | Joseph Gordon-Levitt |\n",
       "| John Carter                               | 2012 | Andrew Stanton    | 132 | Color | Action|Adventure|Sci-Fi                                   | USA | A partir de 13 anos | 263700000 |  73058679 | 6.6 |  24000 | Daryl Sabara | Samantha Morton  | Polly Walker         |\n",
       "| Spider-Man 3                              | 2007 | Sam Raimi         | 156 | Color | Action|Adventure|Romance                                  | USA | A partir de 13 anos | 258000000 | 336530303 | 6.2 |      0 | J.K. Simmons | James Franco     | Kirsten Dunst        |\n",
       "| Tangled                                   | 2010 | Nathan Greno      | 100 | Color | Adventure|Animation|Comedy|Family|Fantasy|Musical|Romance | USA | Livre               | 260000000 | 200807262 | 7.8 |  29000 | Brad Garrett | Donna Murphy     | M.C. Gainey          |\n",
       "\n"
      ],
      "text/plain": [
       "  titulo                                    ano  diretor           duracao\n",
       "1 Avatar                                    2009 James Cameron     178    \n",
       "2 Pirates of the Caribbean: At World's End  2007 Gore Verbinski    169    \n",
       "3 The Dark Knight Rises                     2012 Christopher Nolan 164    \n",
       "4 John Carter                               2012 Andrew Stanton    132    \n",
       "5 Spider-Man 3                              2007 Sam Raimi         156    \n",
       "6 Tangled                                   2010 Nathan Greno      100    \n",
       "  cor   generos                                                   pais\n",
       "1 Color Action|Adventure|Fantasy|Sci-Fi                           USA \n",
       "2 Color Action|Adventure|Fantasy                                  USA \n",
       "3 Color Action|Thriller                                           USA \n",
       "4 Color Action|Adventure|Sci-Fi                                   USA \n",
       "5 Color Action|Adventure|Romance                                  USA \n",
       "6 Color Adventure|Animation|Comedy|Family|Fantasy|Musical|Romance USA \n",
       "  classificacao       orcamento receita   nota_imdb likes_facebook ator_1      \n",
       "1 A partir de 13 anos 237000000 760505847 7.9        33000         CCH Pounder \n",
       "2 A partir de 13 anos 300000000 309404152 7.1            0         Johnny Depp \n",
       "3 A partir de 13 anos 250000000 448130642 8.5       164000         Tom Hardy   \n",
       "4 A partir de 13 anos 263700000  73058679 6.6        24000         Daryl Sabara\n",
       "5 A partir de 13 anos 258000000 336530303 6.2            0         J.K. Simmons\n",
       "6 Livre               260000000 200807262 7.8        29000         Brad Garrett\n",
       "  ator_2           ator_3              \n",
       "1 Joel David Moore Wes Studi           \n",
       "2 Orlando Bloom    Jack Davenport      \n",
       "3 Christian Bale   Joseph Gordon-Levitt\n",
       "4 Samantha Morton  Polly Walker        \n",
       "5 James Franco     Kirsten Dunst       \n",
       "6 Donna Murphy     M.C. Gainey         "
      ]
     },
     "metadata": {},
     "output_type": "display_data"
    }
   ],
   "source": [
    "suppressPackageStartupMessages(library(dplyr))\n",
    "\n",
    "imdb <- readr::read_rds(\"imdb.rds\")\n",
    "head(imdb)"
   ]
  },
  {
   "cell_type": "markdown",
   "id": "accessible-personality",
   "metadata": {},
   "source": [
    "## Exercícios 7.2.1\n",
    "\n",
    "1) A função `glimpse()` oferece um resumo dos dados."
   ]
  },
  {
   "cell_type": "code",
   "execution_count": 2,
   "id": "automotive-platinum",
   "metadata": {},
   "outputs": [
    {
     "name": "stdout",
     "output_type": "stream",
     "text": [
      "Rows: 3,807\n",
      "Columns: 15\n",
      "$ titulo         \u001b[3m\u001b[90m<chr>\u001b[39m\u001b[23m \"Avatar \", \"Pirates of the Caribbean: At World's End \",…\n",
      "$ ano            \u001b[3m\u001b[90m<int>\u001b[39m\u001b[23m 2009, 2007, 2012, 2012, 2007, 2010, 2015, 2016, 2006, 2…\n",
      "$ diretor        \u001b[3m\u001b[90m<chr>\u001b[39m\u001b[23m \"James Cameron\", \"Gore Verbinski\", \"Christopher Nolan\",…\n",
      "$ duracao        \u001b[3m\u001b[90m<int>\u001b[39m\u001b[23m 178, 169, 164, 132, 156, 100, 141, 183, 169, 151, 150, …\n",
      "$ cor            \u001b[3m\u001b[90m<chr>\u001b[39m\u001b[23m \"Color\", \"Color\", \"Color\", \"Color\", \"Color\", \"Color\", \"…\n",
      "$ generos        \u001b[3m\u001b[90m<chr>\u001b[39m\u001b[23m \"Action|Adventure|Fantasy|Sci-Fi\", \"Action|Adventure|Fa…\n",
      "$ pais           \u001b[3m\u001b[90m<chr>\u001b[39m\u001b[23m \"USA\", \"USA\", \"USA\", \"USA\", \"USA\", \"USA\", \"USA\", \"USA\",…\n",
      "$ classificacao  \u001b[3m\u001b[90m<chr>\u001b[39m\u001b[23m \"A partir de 13 anos\", \"A partir de 13 anos\", \"A partir…\n",
      "$ orcamento      \u001b[3m\u001b[90m<int>\u001b[39m\u001b[23m 237000000, 300000000, 250000000, 263700000, 258000000, …\n",
      "$ receita        \u001b[3m\u001b[90m<int>\u001b[39m\u001b[23m 760505847, 309404152, 448130642, 73058679, 336530303, 2…\n",
      "$ nota_imdb      \u001b[3m\u001b[90m<dbl>\u001b[39m\u001b[23m 7.9, 7.1, 8.5, 6.6, 6.2, 7.8, 7.5, 6.9, 6.1, 7.3, 6.5, …\n",
      "$ likes_facebook \u001b[3m\u001b[90m<int>\u001b[39m\u001b[23m 33000, 0, 164000, 24000, 0, 29000, 118000, 197000, 0, 5…\n",
      "$ ator_1         \u001b[3m\u001b[90m<chr>\u001b[39m\u001b[23m \"CCH Pounder\", \"Johnny Depp\", \"Tom Hardy\", \"Daryl Sabar…\n",
      "$ ator_2         \u001b[3m\u001b[90m<chr>\u001b[39m\u001b[23m \"Joel David Moore\", \"Orlando Bloom\", \"Christian Bale\", …\n",
      "$ ator_3         \u001b[3m\u001b[90m<chr>\u001b[39m\u001b[23m \"Wes Studi\", \"Jack Davenport\", \"Joseph Gordon-Levitt\", …\n"
     ]
    }
   ],
   "source": [
    "glimpse(imdb)"
   ]
  },
  {
   "cell_type": "markdown",
   "id": "basic-aerospace",
   "metadata": {},
   "source": [
    "2)"
   ]
  },
  {
   "cell_type": "code",
   "execution_count": 3,
   "id": "prescription-deadline",
   "metadata": {},
   "outputs": [
    {
     "data": {
      "text/html": [
       "<table class=\"dataframe\">\n",
       "<caption>A tibble: 6 × 3</caption>\n",
       "<thead>\n",
       "\t<tr><th scope=col>titulo</th><th scope=col>diretor</th><th scope=col>orcamento</th></tr>\n",
       "\t<tr><th scope=col>&lt;chr&gt;</th><th scope=col>&lt;chr&gt;</th><th scope=col>&lt;int&gt;</th></tr>\n",
       "</thead>\n",
       "<tbody>\n",
       "\t<tr><td>Avatar                                   </td><td>James Cameron    </td><td>237000000</td></tr>\n",
       "\t<tr><td>Pirates of the Caribbean: At World's End </td><td>Gore Verbinski   </td><td>300000000</td></tr>\n",
       "\t<tr><td>The Dark Knight Rises                    </td><td>Christopher Nolan</td><td>250000000</td></tr>\n",
       "\t<tr><td>John Carter                              </td><td>Andrew Stanton   </td><td>263700000</td></tr>\n",
       "\t<tr><td>Spider-Man 3                             </td><td>Sam Raimi        </td><td>258000000</td></tr>\n",
       "\t<tr><td>Tangled                                  </td><td>Nathan Greno     </td><td>260000000</td></tr>\n",
       "</tbody>\n",
       "</table>\n"
      ],
      "text/latex": [
       "A tibble: 6 × 3\n",
       "\\begin{tabular}{lll}\n",
       " titulo & diretor & orcamento\\\\\n",
       " <chr> & <chr> & <int>\\\\\n",
       "\\hline\n",
       "\t Avatar                                    & James Cameron     & 237000000\\\\\n",
       "\t Pirates of the Caribbean: At World's End  & Gore Verbinski    & 300000000\\\\\n",
       "\t The Dark Knight Rises                     & Christopher Nolan & 250000000\\\\\n",
       "\t John Carter                               & Andrew Stanton    & 263700000\\\\\n",
       "\t Spider-Man 3                              & Sam Raimi         & 258000000\\\\\n",
       "\t Tangled                                   & Nathan Greno      & 260000000\\\\\n",
       "\\end{tabular}\n"
      ],
      "text/markdown": [
       "\n",
       "A tibble: 6 × 3\n",
       "\n",
       "| titulo &lt;chr&gt; | diretor &lt;chr&gt; | orcamento &lt;int&gt; |\n",
       "|---|---|---|\n",
       "| Avatar                                    | James Cameron     | 237000000 |\n",
       "| Pirates of the Caribbean: At World's End  | Gore Verbinski    | 300000000 |\n",
       "| The Dark Knight Rises                     | Christopher Nolan | 250000000 |\n",
       "| John Carter                               | Andrew Stanton    | 263700000 |\n",
       "| Spider-Man 3                              | Sam Raimi         | 258000000 |\n",
       "| Tangled                                   | Nathan Greno      | 260000000 |\n",
       "\n"
      ],
      "text/plain": [
       "  titulo                                    diretor           orcamento\n",
       "1 Avatar                                    James Cameron     237000000\n",
       "2 Pirates of the Caribbean: At World's End  Gore Verbinski    300000000\n",
       "3 The Dark Knight Rises                     Christopher Nolan 250000000\n",
       "4 John Carter                               Andrew Stanton    263700000\n",
       "5 Spider-Man 3                              Sam Raimi         258000000\n",
       "6 Tangled                                   Nathan Greno      260000000"
      ]
     },
     "metadata": {},
     "output_type": "display_data"
    }
   ],
   "source": [
    "imdb_simples <- imdb %>% select(titulo, diretor, orcamento)\n",
    "head(imdb_simples)"
   ]
  },
  {
   "cell_type": "markdown",
   "id": "diagnostic-grass",
   "metadata": {},
   "source": [
    "3)"
   ]
  },
  {
   "cell_type": "code",
   "execution_count": 5,
   "id": "rapid-karaoke",
   "metadata": {},
   "outputs": [
    {
     "data": {
      "text/html": [
       "<table class=\"dataframe\">\n",
       "<caption>A tibble: 6 × 3</caption>\n",
       "<thead>\n",
       "\t<tr><th scope=col>ator_1</th><th scope=col>ator_2</th><th scope=col>ator_3</th></tr>\n",
       "\t<tr><th scope=col>&lt;chr&gt;</th><th scope=col>&lt;chr&gt;</th><th scope=col>&lt;chr&gt;</th></tr>\n",
       "</thead>\n",
       "<tbody>\n",
       "\t<tr><td>CCH Pounder </td><td>Joel David Moore</td><td>Wes Studi           </td></tr>\n",
       "\t<tr><td>Johnny Depp </td><td>Orlando Bloom   </td><td>Jack Davenport      </td></tr>\n",
       "\t<tr><td>Tom Hardy   </td><td>Christian Bale  </td><td>Joseph Gordon-Levitt</td></tr>\n",
       "\t<tr><td>Daryl Sabara</td><td>Samantha Morton </td><td>Polly Walker        </td></tr>\n",
       "\t<tr><td>J.K. Simmons</td><td>James Franco    </td><td>Kirsten Dunst       </td></tr>\n",
       "\t<tr><td>Brad Garrett</td><td>Donna Murphy    </td><td>M.C. Gainey         </td></tr>\n",
       "</tbody>\n",
       "</table>\n"
      ],
      "text/latex": [
       "A tibble: 6 × 3\n",
       "\\begin{tabular}{lll}\n",
       " ator\\_1 & ator\\_2 & ator\\_3\\\\\n",
       " <chr> & <chr> & <chr>\\\\\n",
       "\\hline\n",
       "\t CCH Pounder  & Joel David Moore & Wes Studi           \\\\\n",
       "\t Johnny Depp  & Orlando Bloom    & Jack Davenport      \\\\\n",
       "\t Tom Hardy    & Christian Bale   & Joseph Gordon-Levitt\\\\\n",
       "\t Daryl Sabara & Samantha Morton  & Polly Walker        \\\\\n",
       "\t J.K. Simmons & James Franco     & Kirsten Dunst       \\\\\n",
       "\t Brad Garrett & Donna Murphy     & M.C. Gainey         \\\\\n",
       "\\end{tabular}\n"
      ],
      "text/markdown": [
       "\n",
       "A tibble: 6 × 3\n",
       "\n",
       "| ator_1 &lt;chr&gt; | ator_2 &lt;chr&gt; | ator_3 &lt;chr&gt; |\n",
       "|---|---|---|\n",
       "| CCH Pounder  | Joel David Moore | Wes Studi            |\n",
       "| Johnny Depp  | Orlando Bloom    | Jack Davenport       |\n",
       "| Tom Hardy    | Christian Bale   | Joseph Gordon-Levitt |\n",
       "| Daryl Sabara | Samantha Morton  | Polly Walker         |\n",
       "| J.K. Simmons | James Franco     | Kirsten Dunst        |\n",
       "| Brad Garrett | Donna Murphy     | M.C. Gainey          |\n",
       "\n"
      ],
      "text/plain": [
       "  ator_1       ator_2           ator_3              \n",
       "1 CCH Pounder  Joel David Moore Wes Studi           \n",
       "2 Johnny Depp  Orlando Bloom    Jack Davenport      \n",
       "3 Tom Hardy    Christian Bale   Joseph Gordon-Levitt\n",
       "4 Daryl Sabara Samantha Morton  Polly Walker        \n",
       "5 J.K. Simmons James Franco     Kirsten Dunst       \n",
       "6 Brad Garrett Donna Murphy     M.C. Gainey         "
      ]
     },
     "metadata": {},
     "output_type": "display_data"
    }
   ],
   "source": [
    "imdb_atores <- imdb %>% select(contains(\"ator\"))\n",
    "imdb_atores %>% head()"
   ]
  },
  {
   "cell_type": "markdown",
   "id": "stuffed-huntington",
   "metadata": {},
   "source": [
    "4)"
   ]
  },
  {
   "cell_type": "code",
   "execution_count": 14,
   "id": "favorite-equation",
   "metadata": {},
   "outputs": [
    {
     "data": {
      "text/html": [
       "<style>\n",
       ".list-inline {list-style: none; margin:0; padding: 0}\n",
       ".list-inline>li {display: inline-block}\n",
       ".list-inline>li:not(:last-child)::after {content: \"\\00b7\"; padding: 0 .5ex}\n",
       "</style>\n",
       "<ol class=list-inline><li>'titulo'</li><li>'ano'</li><li>'diretor'</li><li>'duracao'</li><li>'cor'</li><li>'generos'</li><li>'pais'</li><li>'classificacao'</li><li>'orcamento'</li><li>'receita'</li><li>'nota_imdb'</li><li>'likes_facebook'</li></ol>\n"
      ],
      "text/latex": [
       "\\begin{enumerate*}\n",
       "\\item 'titulo'\n",
       "\\item 'ano'\n",
       "\\item 'diretor'\n",
       "\\item 'duracao'\n",
       "\\item 'cor'\n",
       "\\item 'generos'\n",
       "\\item 'pais'\n",
       "\\item 'classificacao'\n",
       "\\item 'orcamento'\n",
       "\\item 'receita'\n",
       "\\item 'nota\\_imdb'\n",
       "\\item 'likes\\_facebook'\n",
       "\\end{enumerate*}\n"
      ],
      "text/markdown": [
       "1. 'titulo'\n",
       "2. 'ano'\n",
       "3. 'diretor'\n",
       "4. 'duracao'\n",
       "5. 'cor'\n",
       "6. 'generos'\n",
       "7. 'pais'\n",
       "8. 'classificacao'\n",
       "9. 'orcamento'\n",
       "10. 'receita'\n",
       "11. 'nota_imdb'\n",
       "12. 'likes_facebook'\n",
       "\n",
       "\n"
      ],
      "text/plain": [
       " [1] \"titulo\"         \"ano\"            \"diretor\"        \"duracao\"       \n",
       " [5] \"cor\"            \"generos\"        \"pais\"           \"classificacao\" \n",
       " [9] \"orcamento\"      \"receita\"        \"nota_imdb\"      \"likes_facebook\""
      ]
     },
     "metadata": {},
     "output_type": "display_data"
    },
    {
     "data": {
      "text/html": [
       "<style>\n",
       ".list-inline {list-style: none; margin:0; padding: 0}\n",
       ".list-inline>li {display: inline-block}\n",
       ".list-inline>li:not(:last-child)::after {content: \"\\00b7\"; padding: 0 .5ex}\n",
       "</style>\n",
       "<ol class=list-inline><li>'titulo'</li><li>'ano'</li><li>'diretor'</li><li>'duracao'</li><li>'cor'</li><li>'generos'</li><li>'pais'</li><li>'classificacao'</li><li>'orcamento'</li><li>'receita'</li><li>'nota_imdb'</li><li>'likes_facebook'</li></ol>\n"
      ],
      "text/latex": [
       "\\begin{enumerate*}\n",
       "\\item 'titulo'\n",
       "\\item 'ano'\n",
       "\\item 'diretor'\n",
       "\\item 'duracao'\n",
       "\\item 'cor'\n",
       "\\item 'generos'\n",
       "\\item 'pais'\n",
       "\\item 'classificacao'\n",
       "\\item 'orcamento'\n",
       "\\item 'receita'\n",
       "\\item 'nota\\_imdb'\n",
       "\\item 'likes\\_facebook'\n",
       "\\end{enumerate*}\n"
      ],
      "text/markdown": [
       "1. 'titulo'\n",
       "2. 'ano'\n",
       "3. 'diretor'\n",
       "4. 'duracao'\n",
       "5. 'cor'\n",
       "6. 'generos'\n",
       "7. 'pais'\n",
       "8. 'classificacao'\n",
       "9. 'orcamento'\n",
       "10. 'receita'\n",
       "11. 'nota_imdb'\n",
       "12. 'likes_facebook'\n",
       "\n",
       "\n"
      ],
      "text/plain": [
       " [1] \"titulo\"         \"ano\"            \"diretor\"        \"duracao\"       \n",
       " [5] \"cor\"            \"generos\"        \"pais\"           \"classificacao\" \n",
       " [9] \"orcamento\"      \"receita\"        \"nota_imdb\"      \"likes_facebook\""
      ]
     },
     "metadata": {},
     "output_type": "display_data"
    },
    {
     "data": {
      "text/html": [
       "<style>\n",
       ".list-inline {list-style: none; margin:0; padding: 0}\n",
       ".list-inline>li {display: inline-block}\n",
       ".list-inline>li:not(:last-child)::after {content: \"\\00b7\"; padding: 0 .5ex}\n",
       "</style>\n",
       "<ol class=list-inline><li>'titulo'</li><li>'ano'</li><li>'diretor'</li><li>'duracao'</li><li>'cor'</li><li>'generos'</li><li>'pais'</li><li>'classificacao'</li><li>'orcamento'</li><li>'receita'</li><li>'nota_imdb'</li><li>'likes_facebook'</li></ol>\n"
      ],
      "text/latex": [
       "\\begin{enumerate*}\n",
       "\\item 'titulo'\n",
       "\\item 'ano'\n",
       "\\item 'diretor'\n",
       "\\item 'duracao'\n",
       "\\item 'cor'\n",
       "\\item 'generos'\n",
       "\\item 'pais'\n",
       "\\item 'classificacao'\n",
       "\\item 'orcamento'\n",
       "\\item 'receita'\n",
       "\\item 'nota\\_imdb'\n",
       "\\item 'likes\\_facebook'\n",
       "\\end{enumerate*}\n"
      ],
      "text/markdown": [
       "1. 'titulo'\n",
       "2. 'ano'\n",
       "3. 'diretor'\n",
       "4. 'duracao'\n",
       "5. 'cor'\n",
       "6. 'generos'\n",
       "7. 'pais'\n",
       "8. 'classificacao'\n",
       "9. 'orcamento'\n",
       "10. 'receita'\n",
       "11. 'nota_imdb'\n",
       "12. 'likes_facebook'\n",
       "\n",
       "\n"
      ],
      "text/plain": [
       " [1] \"titulo\"         \"ano\"            \"diretor\"        \"duracao\"       \n",
       " [5] \"cor\"            \"generos\"        \"pais\"           \"classificacao\" \n",
       " [9] \"orcamento\"      \"receita\"        \"nota_imdb\"      \"likes_facebook\""
      ]
     },
     "metadata": {},
     "output_type": "display_data"
    },
    {
     "data": {
      "text/html": [
       "<style>\n",
       ".list-inline {list-style: none; margin:0; padding: 0}\n",
       ".list-inline>li {display: inline-block}\n",
       ".list-inline>li:not(:last-child)::after {content: \"\\00b7\"; padding: 0 .5ex}\n",
       "</style>\n",
       "<ol class=list-inline><li>'titulo'</li><li>'ano'</li><li>'diretor'</li><li>'duracao'</li><li>'cor'</li><li>'generos'</li><li>'pais'</li><li>'classificacao'</li><li>'orcamento'</li><li>'receita'</li><li>'nota_imdb'</li><li>'likes_facebook'</li></ol>\n"
      ],
      "text/latex": [
       "\\begin{enumerate*}\n",
       "\\item 'titulo'\n",
       "\\item 'ano'\n",
       "\\item 'diretor'\n",
       "\\item 'duracao'\n",
       "\\item 'cor'\n",
       "\\item 'generos'\n",
       "\\item 'pais'\n",
       "\\item 'classificacao'\n",
       "\\item 'orcamento'\n",
       "\\item 'receita'\n",
       "\\item 'nota\\_imdb'\n",
       "\\item 'likes\\_facebook'\n",
       "\\end{enumerate*}\n"
      ],
      "text/markdown": [
       "1. 'titulo'\n",
       "2. 'ano'\n",
       "3. 'diretor'\n",
       "4. 'duracao'\n",
       "5. 'cor'\n",
       "6. 'generos'\n",
       "7. 'pais'\n",
       "8. 'classificacao'\n",
       "9. 'orcamento'\n",
       "10. 'receita'\n",
       "11. 'nota_imdb'\n",
       "12. 'likes_facebook'\n",
       "\n",
       "\n"
      ],
      "text/plain": [
       " [1] \"titulo\"         \"ano\"            \"diretor\"        \"duracao\"       \n",
       " [5] \"cor\"            \"generos\"        \"pais\"           \"classificacao\" \n",
       " [9] \"orcamento\"      \"receita\"        \"nota_imdb\"      \"likes_facebook\""
      ]
     },
     "metadata": {},
     "output_type": "display_data"
    },
    {
     "data": {
      "text/html": [
       "<style>\n",
       ".list-inline {list-style: none; margin:0; padding: 0}\n",
       ".list-inline>li {display: inline-block}\n",
       ".list-inline>li:not(:last-child)::after {content: \"\\00b7\"; padding: 0 .5ex}\n",
       "</style>\n",
       "<ol class=list-inline><li>'titulo'</li><li>'ano'</li><li>'diretor'</li><li>'duracao'</li><li>'cor'</li><li>'generos'</li><li>'pais'</li><li>'classificacao'</li><li>'orcamento'</li><li>'receita'</li><li>'nota_imdb'</li><li>'likes_facebook'</li></ol>\n"
      ],
      "text/latex": [
       "\\begin{enumerate*}\n",
       "\\item 'titulo'\n",
       "\\item 'ano'\n",
       "\\item 'diretor'\n",
       "\\item 'duracao'\n",
       "\\item 'cor'\n",
       "\\item 'generos'\n",
       "\\item 'pais'\n",
       "\\item 'classificacao'\n",
       "\\item 'orcamento'\n",
       "\\item 'receita'\n",
       "\\item 'nota\\_imdb'\n",
       "\\item 'likes\\_facebook'\n",
       "\\end{enumerate*}\n"
      ],
      "text/markdown": [
       "1. 'titulo'\n",
       "2. 'ano'\n",
       "3. 'diretor'\n",
       "4. 'duracao'\n",
       "5. 'cor'\n",
       "6. 'generos'\n",
       "7. 'pais'\n",
       "8. 'classificacao'\n",
       "9. 'orcamento'\n",
       "10. 'receita'\n",
       "11. 'nota_imdb'\n",
       "12. 'likes_facebook'\n",
       "\n",
       "\n"
      ],
      "text/plain": [
       " [1] \"titulo\"         \"ano\"            \"diretor\"        \"duracao\"       \n",
       " [5] \"cor\"            \"generos\"        \"pais\"           \"classificacao\" \n",
       " [9] \"orcamento\"      \"receita\"        \"nota_imdb\"      \"likes_facebook\""
      ]
     },
     "metadata": {},
     "output_type": "display_data"
    }
   ],
   "source": [
    "names(imdb %>% select(titulo:likes_facebook))\n",
    "names(imdb %>% select(!contains(\"ator\")))\n",
    "names(imdb %>% select(1:12))\n",
    "names(imdb %>% select(!starts_with(\"ator\")))\n",
    "names(imdb %>% select(-ator_1, -ator_2, -ator_3))"
   ]
  },
  {
   "cell_type": "markdown",
   "id": "adopted-mineral",
   "metadata": {},
   "source": [
    "## Exercícios 7.2.2\n",
    "\n",
    "1)"
   ]
  },
  {
   "cell_type": "code",
   "execution_count": 3,
   "id": "aggregate-heritage",
   "metadata": {
    "scrolled": false
   },
   "outputs": [
    {
     "data": {
      "text/html": [
       "<table class=\"dataframe\">\n",
       "<caption>A tibble: 20 × 15</caption>\n",
       "<thead>\n",
       "\t<tr><th scope=col>titulo</th><th scope=col>ano</th><th scope=col>diretor</th><th scope=col>duracao</th><th scope=col>cor</th><th scope=col>generos</th><th scope=col>pais</th><th scope=col>classificacao</th><th scope=col>orcamento</th><th scope=col>receita</th><th scope=col>nota_imdb</th><th scope=col>likes_facebook</th><th scope=col>ator_1</th><th scope=col>ator_2</th><th scope=col>ator_3</th></tr>\n",
       "\t<tr><th scope=col>&lt;chr&gt;</th><th scope=col>&lt;int&gt;</th><th scope=col>&lt;chr&gt;</th><th scope=col>&lt;int&gt;</th><th scope=col>&lt;chr&gt;</th><th scope=col>&lt;chr&gt;</th><th scope=col>&lt;chr&gt;</th><th scope=col>&lt;chr&gt;</th><th scope=col>&lt;int&gt;</th><th scope=col>&lt;int&gt;</th><th scope=col>&lt;dbl&gt;</th><th scope=col>&lt;int&gt;</th><th scope=col>&lt;chr&gt;</th><th scope=col>&lt;chr&gt;</th><th scope=col>&lt;chr&gt;</th></tr>\n",
       "</thead>\n",
       "<tbody>\n",
       "\t<tr><td>Intolerance: Love's Struggle Throughout the Ages </td><td>1916</td><td>D.W. Griffith    </td><td>123</td><td>Black and White</td><td>Drama|History|War                   </td><td>USA</td><td>Outros</td><td> 385907</td><td>       NA</td><td>8.0</td><td>  691</td><td>Lillian Gish     </td><td>Mae Marsh            </td><td>Walter Long     </td></tr>\n",
       "\t<tr><td>Over the Hill to the Poorhouse                   </td><td>1920</td><td>Harry F. Millarde</td><td>110</td><td>Black and White</td><td>Crime|Drama                         </td><td>USA</td><td>Outros</td><td> 100000</td><td>  3000000</td><td>4.8</td><td>    0</td><td>Stephen Carr     </td><td>Johnnie Walker       </td><td>Mary Carr       </td></tr>\n",
       "\t<tr><td>The Big Parade                                   </td><td>1925</td><td>King Vidor       </td><td>151</td><td>Black and White</td><td>Drama|Romance|War                   </td><td>USA</td><td>Outros</td><td> 245000</td><td>       NA</td><td>8.3</td><td>  226</td><td>John Gilbert     </td><td>Renée Adorée         </td><td>Claire Adams    </td></tr>\n",
       "\t<tr><td>The Broadway Melody                              </td><td>1929</td><td>Harry Beaumont   </td><td>100</td><td>Black and White</td><td>Musical|Romance                     </td><td>USA</td><td>Outros</td><td> 379000</td><td>  2808000</td><td>6.3</td><td>  167</td><td>Anita Page       </td><td>Bessie Love          </td><td>Charles King    </td></tr>\n",
       "\t<tr><td>Hell's Angels                                    </td><td>1930</td><td>Howard Hughes    </td><td> 96</td><td>Black and White</td><td>Drama|War                           </td><td>USA</td><td>Outros</td><td>3950000</td><td>       NA</td><td>7.8</td><td>  279</td><td>Jean Harlow      </td><td>Marian Marsh         </td><td>James Hall      </td></tr>\n",
       "\t<tr><td>A Farewell to Arms                               </td><td>1932</td><td>Frank Borzage    </td><td> 79</td><td>Black and White</td><td>Drama|Romance|War                   </td><td>USA</td><td>Outros</td><td> 800000</td><td>       NA</td><td>6.6</td><td>  213</td><td>Gary Cooper      </td><td>Helen Hayes          </td><td>Adolphe Menjou  </td></tr>\n",
       "\t<tr><td>42nd Street                                      </td><td>1933</td><td>Lloyd Bacon      </td><td> 89</td><td>Black and White</td><td>Comedy|Musical|Romance              </td><td>USA</td><td>Outros</td><td> 439000</td><td>  2300000</td><td>7.7</td><td>  439</td><td>Ginger Rogers    </td><td>Dick Powell          </td><td>George Brent    </td></tr>\n",
       "\t<tr><td>She Done Him Wrong                               </td><td>1933</td><td>Lowell Sherman   </td><td> 66</td><td>Black and White</td><td>Comedy|Drama|History|Musical|Romance</td><td>USA</td><td>Outros</td><td> 200000</td><td>       NA</td><td>6.5</td><td>  328</td><td>Mae West         </td><td>Gilbert Roland       </td><td>Louise Beavers  </td></tr>\n",
       "\t<tr><td>It Happened One Night                            </td><td>1934</td><td>Frank Capra      </td><td> 65</td><td>Black and White</td><td>Comedy|Romance                      </td><td>USA</td><td>Outros</td><td> 325000</td><td>       NA</td><td>8.2</td><td>    0</td><td>Claudette Colbert</td><td>Alan Hale            </td><td>Walter Connolly </td></tr>\n",
       "\t<tr><td>Top Hat                                          </td><td>1935</td><td>Mark Sandrich    </td><td> 81</td><td>Black and White</td><td>Comedy|Musical|Romance              </td><td>USA</td><td>Outros</td><td> 609000</td><td>  3000000</td><td>7.8</td><td> 1000</td><td>Ginger Rogers    </td><td>Edward Everett Horton</td><td>Eric Blore      </td></tr>\n",
       "\t<tr><td>Modern Times                                     </td><td>1936</td><td>Charles Chaplin  </td><td> 87</td><td>Black and White</td><td>Comedy|Drama|Family                 </td><td>USA</td><td>Outros</td><td>1500000</td><td>   163245</td><td>8.6</td><td>    0</td><td>Paulette Goddard </td><td>Stanley Blystone     </td><td>Fred Malatesta  </td></tr>\n",
       "\t<tr><td>The Charge of the Light Brigade                  </td><td>1936</td><td>Michael Curtiz   </td><td>100</td><td>Black and White</td><td>Action|Adventure|Romance|War        </td><td>USA</td><td>Outros</td><td>1200000</td><td>       NA</td><td>7.1</td><td>  204</td><td>Errol Flynn      </td><td>David Niven          </td><td>Spring Byington </td></tr>\n",
       "\t<tr><td>Snow White and the Seven Dwarfs                  </td><td>1937</td><td>William Cottrell </td><td> 83</td><td>Color          </td><td>Animation|Family|Fantasy|Musical    </td><td>USA</td><td>Outros</td><td>2000000</td><td>184925485</td><td>7.7</td><td>    0</td><td>Adriana Caselotti</td><td>Billy Gilbert        </td><td>Lucille La Verne</td></tr>\n",
       "\t<tr><td>The Prisoner of Zenda                            </td><td>1937</td><td>John Cromwell    </td><td>101</td><td>Black and White</td><td>Adventure|Drama|Romance             </td><td>USA</td><td>Outros</td><td>     NA</td><td>       NA</td><td>7.8</td><td>  337</td><td>David Niven      </td><td>Mary Astor           </td><td>Ronald Colman   </td></tr>\n",
       "\t<tr><td>Alexander's Ragtime Band                         </td><td>1938</td><td>Henry King       </td><td>106</td><td>Black and White</td><td>Drama|Musical|Romance               </td><td>USA</td><td>Outros</td><td>2000000</td><td>       NA</td><td>7.0</td><td>   60</td><td>Tyrone Power     </td><td>Don Ameche           </td><td>John Carradine  </td></tr>\n",
       "\t<tr><td>You Can't Take It with You                       </td><td>1938</td><td>Frank Capra      </td><td>126</td><td>Black and White</td><td>Comedy|Drama|Romance                </td><td>USA</td><td>Outros</td><td>1644736</td><td>       NA</td><td>8.0</td><td>    0</td><td>Jean Arthur      </td><td>Ann Miller           </td><td>Lionel Barrymore</td></tr>\n",
       "\t<tr><td>Gone with the Wind                               </td><td>1939</td><td>Victor Fleming   </td><td>226</td><td>Color          </td><td>Drama|History|Romance|War           </td><td>USA</td><td>Outros</td><td>3977000</td><td>198655278</td><td>8.2</td><td>16000</td><td>Hattie McDaniel  </td><td>George Reeves        </td><td>Thomas Mitchell </td></tr>\n",
       "\t<tr><td>The Wizard of Oz                                 </td><td>1939</td><td>Victor Fleming   </td><td>102</td><td>Black and White</td><td>Adventure|Family|Fantasy|Musical    </td><td>USA</td><td>Outros</td><td>2800000</td><td> 22202612</td><td>8.1</td><td>14000</td><td>Margaret Hamilton</td><td>Terry                </td><td>Billie Burke    </td></tr>\n",
       "\t<tr><td>Mr. Smith Goes to Washington                     </td><td>1939</td><td>Frank Capra      </td><td>120</td><td>Black and White</td><td>Comedy|Drama                        </td><td>USA</td><td>Outros</td><td>1500000</td><td>       NA</td><td>8.2</td><td>    0</td><td>Claude Rains     </td><td>Jean Arthur          </td><td>Thomas Mitchell </td></tr>\n",
       "\t<tr><td>Pinocchio                                        </td><td>1940</td><td>Norman Ferguson  </td><td> 88</td><td>Color          </td><td>Animation|Family|Fantasy|Musical    </td><td>USA</td><td>Outros</td><td>2600000</td><td> 84300000</td><td>7.5</td><td>    0</td><td>Mel Blanc        </td><td>Dickie Jones         </td><td>Cliff Edwards   </td></tr>\n",
       "</tbody>\n",
       "</table>\n"
      ],
      "text/latex": [
       "A tibble: 20 × 15\n",
       "\\begin{tabular}{lllllllllllllll}\n",
       " titulo & ano & diretor & duracao & cor & generos & pais & classificacao & orcamento & receita & nota\\_imdb & likes\\_facebook & ator\\_1 & ator\\_2 & ator\\_3\\\\\n",
       " <chr> & <int> & <chr> & <int> & <chr> & <chr> & <chr> & <chr> & <int> & <int> & <dbl> & <int> & <chr> & <chr> & <chr>\\\\\n",
       "\\hline\n",
       "\t Intolerance: Love's Struggle Throughout the Ages  & 1916 & D.W. Griffith     & 123 & Black and White & Drama\\textbar{}History\\textbar{}War                    & USA & Outros &  385907 &        NA & 8.0 &   691 & Lillian Gish      & Mae Marsh             & Walter Long     \\\\\n",
       "\t Over the Hill to the Poorhouse                    & 1920 & Harry F. Millarde & 110 & Black and White & Crime\\textbar{}Drama                          & USA & Outros &  100000 &   3000000 & 4.8 &     0 & Stephen Carr      & Johnnie Walker        & Mary Carr       \\\\\n",
       "\t The Big Parade                                    & 1925 & King Vidor        & 151 & Black and White & Drama\\textbar{}Romance\\textbar{}War                    & USA & Outros &  245000 &        NA & 8.3 &   226 & John Gilbert      & Renée Adorée          & Claire Adams    \\\\\n",
       "\t The Broadway Melody                               & 1929 & Harry Beaumont    & 100 & Black and White & Musical\\textbar{}Romance                      & USA & Outros &  379000 &   2808000 & 6.3 &   167 & Anita Page        & Bessie Love           & Charles King    \\\\\n",
       "\t Hell's Angels                                     & 1930 & Howard Hughes     &  96 & Black and White & Drama\\textbar{}War                            & USA & Outros & 3950000 &        NA & 7.8 &   279 & Jean Harlow       & Marian Marsh          & James Hall      \\\\\n",
       "\t A Farewell to Arms                                & 1932 & Frank Borzage     &  79 & Black and White & Drama\\textbar{}Romance\\textbar{}War                    & USA & Outros &  800000 &        NA & 6.6 &   213 & Gary Cooper       & Helen Hayes           & Adolphe Menjou  \\\\\n",
       "\t 42nd Street                                       & 1933 & Lloyd Bacon       &  89 & Black and White & Comedy\\textbar{}Musical\\textbar{}Romance               & USA & Outros &  439000 &   2300000 & 7.7 &   439 & Ginger Rogers     & Dick Powell           & George Brent    \\\\\n",
       "\t She Done Him Wrong                                & 1933 & Lowell Sherman    &  66 & Black and White & Comedy\\textbar{}Drama\\textbar{}History\\textbar{}Musical\\textbar{}Romance & USA & Outros &  200000 &        NA & 6.5 &   328 & Mae West          & Gilbert Roland        & Louise Beavers  \\\\\n",
       "\t It Happened One Night                             & 1934 & Frank Capra       &  65 & Black and White & Comedy\\textbar{}Romance                       & USA & Outros &  325000 &        NA & 8.2 &     0 & Claudette Colbert & Alan Hale             & Walter Connolly \\\\\n",
       "\t Top Hat                                           & 1935 & Mark Sandrich     &  81 & Black and White & Comedy\\textbar{}Musical\\textbar{}Romance               & USA & Outros &  609000 &   3000000 & 7.8 &  1000 & Ginger Rogers     & Edward Everett Horton & Eric Blore      \\\\\n",
       "\t Modern Times                                      & 1936 & Charles Chaplin   &  87 & Black and White & Comedy\\textbar{}Drama\\textbar{}Family                  & USA & Outros & 1500000 &    163245 & 8.6 &     0 & Paulette Goddard  & Stanley Blystone      & Fred Malatesta  \\\\\n",
       "\t The Charge of the Light Brigade                   & 1936 & Michael Curtiz    & 100 & Black and White & Action\\textbar{}Adventure\\textbar{}Romance\\textbar{}War         & USA & Outros & 1200000 &        NA & 7.1 &   204 & Errol Flynn       & David Niven           & Spring Byington \\\\\n",
       "\t Snow White and the Seven Dwarfs                   & 1937 & William Cottrell  &  83 & Color           & Animation\\textbar{}Family\\textbar{}Fantasy\\textbar{}Musical     & USA & Outros & 2000000 & 184925485 & 7.7 &     0 & Adriana Caselotti & Billy Gilbert         & Lucille La Verne\\\\\n",
       "\t The Prisoner of Zenda                             & 1937 & John Cromwell     & 101 & Black and White & Adventure\\textbar{}Drama\\textbar{}Romance              & USA & Outros &      NA &        NA & 7.8 &   337 & David Niven       & Mary Astor            & Ronald Colman   \\\\\n",
       "\t Alexander's Ragtime Band                          & 1938 & Henry King        & 106 & Black and White & Drama\\textbar{}Musical\\textbar{}Romance                & USA & Outros & 2000000 &        NA & 7.0 &    60 & Tyrone Power      & Don Ameche            & John Carradine  \\\\\n",
       "\t You Can't Take It with You                        & 1938 & Frank Capra       & 126 & Black and White & Comedy\\textbar{}Drama\\textbar{}Romance                 & USA & Outros & 1644736 &        NA & 8.0 &     0 & Jean Arthur       & Ann Miller            & Lionel Barrymore\\\\\n",
       "\t Gone with the Wind                                & 1939 & Victor Fleming    & 226 & Color           & Drama\\textbar{}History\\textbar{}Romance\\textbar{}War            & USA & Outros & 3977000 & 198655278 & 8.2 & 16000 & Hattie McDaniel   & George Reeves         & Thomas Mitchell \\\\\n",
       "\t The Wizard of Oz                                  & 1939 & Victor Fleming    & 102 & Black and White & Adventure\\textbar{}Family\\textbar{}Fantasy\\textbar{}Musical     & USA & Outros & 2800000 &  22202612 & 8.1 & 14000 & Margaret Hamilton & Terry                 & Billie Burke    \\\\\n",
       "\t Mr. Smith Goes to Washington                      & 1939 & Frank Capra       & 120 & Black and White & Comedy\\textbar{}Drama                         & USA & Outros & 1500000 &        NA & 8.2 &     0 & Claude Rains      & Jean Arthur           & Thomas Mitchell \\\\\n",
       "\t Pinocchio                                         & 1940 & Norman Ferguson   &  88 & Color           & Animation\\textbar{}Family\\textbar{}Fantasy\\textbar{}Musical     & USA & Outros & 2600000 &  84300000 & 7.5 &     0 & Mel Blanc         & Dickie Jones          & Cliff Edwards   \\\\\n",
       "\\end{tabular}\n"
      ],
      "text/markdown": [
       "\n",
       "A tibble: 20 × 15\n",
       "\n",
       "| titulo &lt;chr&gt; | ano &lt;int&gt; | diretor &lt;chr&gt; | duracao &lt;int&gt; | cor &lt;chr&gt; | generos &lt;chr&gt; | pais &lt;chr&gt; | classificacao &lt;chr&gt; | orcamento &lt;int&gt; | receita &lt;int&gt; | nota_imdb &lt;dbl&gt; | likes_facebook &lt;int&gt; | ator_1 &lt;chr&gt; | ator_2 &lt;chr&gt; | ator_3 &lt;chr&gt; |\n",
       "|---|---|---|---|---|---|---|---|---|---|---|---|---|---|---|\n",
       "| Intolerance: Love's Struggle Throughout the Ages  | 1916 | D.W. Griffith     | 123 | Black and White | Drama|History|War                    | USA | Outros |  385907 |        NA | 8.0 |   691 | Lillian Gish      | Mae Marsh             | Walter Long      |\n",
       "| Over the Hill to the Poorhouse                    | 1920 | Harry F. Millarde | 110 | Black and White | Crime|Drama                          | USA | Outros |  100000 |   3000000 | 4.8 |     0 | Stephen Carr      | Johnnie Walker        | Mary Carr        |\n",
       "| The Big Parade                                    | 1925 | King Vidor        | 151 | Black and White | Drama|Romance|War                    | USA | Outros |  245000 |        NA | 8.3 |   226 | John Gilbert      | Renée Adorée          | Claire Adams     |\n",
       "| The Broadway Melody                               | 1929 | Harry Beaumont    | 100 | Black and White | Musical|Romance                      | USA | Outros |  379000 |   2808000 | 6.3 |   167 | Anita Page        | Bessie Love           | Charles King     |\n",
       "| Hell's Angels                                     | 1930 | Howard Hughes     |  96 | Black and White | Drama|War                            | USA | Outros | 3950000 |        NA | 7.8 |   279 | Jean Harlow       | Marian Marsh          | James Hall       |\n",
       "| A Farewell to Arms                                | 1932 | Frank Borzage     |  79 | Black and White | Drama|Romance|War                    | USA | Outros |  800000 |        NA | 6.6 |   213 | Gary Cooper       | Helen Hayes           | Adolphe Menjou   |\n",
       "| 42nd Street                                       | 1933 | Lloyd Bacon       |  89 | Black and White | Comedy|Musical|Romance               | USA | Outros |  439000 |   2300000 | 7.7 |   439 | Ginger Rogers     | Dick Powell           | George Brent     |\n",
       "| She Done Him Wrong                                | 1933 | Lowell Sherman    |  66 | Black and White | Comedy|Drama|History|Musical|Romance | USA | Outros |  200000 |        NA | 6.5 |   328 | Mae West          | Gilbert Roland        | Louise Beavers   |\n",
       "| It Happened One Night                             | 1934 | Frank Capra       |  65 | Black and White | Comedy|Romance                       | USA | Outros |  325000 |        NA | 8.2 |     0 | Claudette Colbert | Alan Hale             | Walter Connolly  |\n",
       "| Top Hat                                           | 1935 | Mark Sandrich     |  81 | Black and White | Comedy|Musical|Romance               | USA | Outros |  609000 |   3000000 | 7.8 |  1000 | Ginger Rogers     | Edward Everett Horton | Eric Blore       |\n",
       "| Modern Times                                      | 1936 | Charles Chaplin   |  87 | Black and White | Comedy|Drama|Family                  | USA | Outros | 1500000 |    163245 | 8.6 |     0 | Paulette Goddard  | Stanley Blystone      | Fred Malatesta   |\n",
       "| The Charge of the Light Brigade                   | 1936 | Michael Curtiz    | 100 | Black and White | Action|Adventure|Romance|War         | USA | Outros | 1200000 |        NA | 7.1 |   204 | Errol Flynn       | David Niven           | Spring Byington  |\n",
       "| Snow White and the Seven Dwarfs                   | 1937 | William Cottrell  |  83 | Color           | Animation|Family|Fantasy|Musical     | USA | Outros | 2000000 | 184925485 | 7.7 |     0 | Adriana Caselotti | Billy Gilbert         | Lucille La Verne |\n",
       "| The Prisoner of Zenda                             | 1937 | John Cromwell     | 101 | Black and White | Adventure|Drama|Romance              | USA | Outros |      NA |        NA | 7.8 |   337 | David Niven       | Mary Astor            | Ronald Colman    |\n",
       "| Alexander's Ragtime Band                          | 1938 | Henry King        | 106 | Black and White | Drama|Musical|Romance                | USA | Outros | 2000000 |        NA | 7.0 |    60 | Tyrone Power      | Don Ameche            | John Carradine   |\n",
       "| You Can't Take It with You                        | 1938 | Frank Capra       | 126 | Black and White | Comedy|Drama|Romance                 | USA | Outros | 1644736 |        NA | 8.0 |     0 | Jean Arthur       | Ann Miller            | Lionel Barrymore |\n",
       "| Gone with the Wind                                | 1939 | Victor Fleming    | 226 | Color           | Drama|History|Romance|War            | USA | Outros | 3977000 | 198655278 | 8.2 | 16000 | Hattie McDaniel   | George Reeves         | Thomas Mitchell  |\n",
       "| The Wizard of Oz                                  | 1939 | Victor Fleming    | 102 | Black and White | Adventure|Family|Fantasy|Musical     | USA | Outros | 2800000 |  22202612 | 8.1 | 14000 | Margaret Hamilton | Terry                 | Billie Burke     |\n",
       "| Mr. Smith Goes to Washington                      | 1939 | Frank Capra       | 120 | Black and White | Comedy|Drama                         | USA | Outros | 1500000 |        NA | 8.2 |     0 | Claude Rains      | Jean Arthur           | Thomas Mitchell  |\n",
       "| Pinocchio                                         | 1940 | Norman Ferguson   |  88 | Color           | Animation|Family|Fantasy|Musical     | USA | Outros | 2600000 |  84300000 | 7.5 |     0 | Mel Blanc         | Dickie Jones          | Cliff Edwards    |\n",
       "\n"
      ],
      "text/plain": [
       "   titulo                                            ano  diretor          \n",
       "1  Intolerance: Love's Struggle Throughout the Ages  1916 D.W. Griffith    \n",
       "2  Over the Hill to the Poorhouse                    1920 Harry F. Millarde\n",
       "3  The Big Parade                                    1925 King Vidor       \n",
       "4  The Broadway Melody                               1929 Harry Beaumont   \n",
       "5  Hell's Angels                                     1930 Howard Hughes    \n",
       "6  A Farewell to Arms                                1932 Frank Borzage    \n",
       "7  42nd Street                                       1933 Lloyd Bacon      \n",
       "8  She Done Him Wrong                                1933 Lowell Sherman   \n",
       "9  It Happened One Night                             1934 Frank Capra      \n",
       "10 Top Hat                                           1935 Mark Sandrich    \n",
       "11 Modern Times                                      1936 Charles Chaplin  \n",
       "12 The Charge of the Light Brigade                   1936 Michael Curtiz   \n",
       "13 Snow White and the Seven Dwarfs                   1937 William Cottrell \n",
       "14 The Prisoner of Zenda                             1937 John Cromwell    \n",
       "15 Alexander's Ragtime Band                          1938 Henry King       \n",
       "16 You Can't Take It with You                        1938 Frank Capra      \n",
       "17 Gone with the Wind                                1939 Victor Fleming   \n",
       "18 The Wizard of Oz                                  1939 Victor Fleming   \n",
       "19 Mr. Smith Goes to Washington                      1939 Frank Capra      \n",
       "20 Pinocchio                                         1940 Norman Ferguson  \n",
       "   duracao cor             generos                              pais\n",
       "1  123     Black and White Drama|History|War                    USA \n",
       "2  110     Black and White Crime|Drama                          USA \n",
       "3  151     Black and White Drama|Romance|War                    USA \n",
       "4  100     Black and White Musical|Romance                      USA \n",
       "5   96     Black and White Drama|War                            USA \n",
       "6   79     Black and White Drama|Romance|War                    USA \n",
       "7   89     Black and White Comedy|Musical|Romance               USA \n",
       "8   66     Black and White Comedy|Drama|History|Musical|Romance USA \n",
       "9   65     Black and White Comedy|Romance                       USA \n",
       "10  81     Black and White Comedy|Musical|Romance               USA \n",
       "11  87     Black and White Comedy|Drama|Family                  USA \n",
       "12 100     Black and White Action|Adventure|Romance|War         USA \n",
       "13  83     Color           Animation|Family|Fantasy|Musical     USA \n",
       "14 101     Black and White Adventure|Drama|Romance              USA \n",
       "15 106     Black and White Drama|Musical|Romance                USA \n",
       "16 126     Black and White Comedy|Drama|Romance                 USA \n",
       "17 226     Color           Drama|History|Romance|War            USA \n",
       "18 102     Black and White Adventure|Family|Fantasy|Musical     USA \n",
       "19 120     Black and White Comedy|Drama                         USA \n",
       "20  88     Color           Animation|Family|Fantasy|Musical     USA \n",
       "   classificacao orcamento receita   nota_imdb likes_facebook ator_1           \n",
       "1  Outros         385907          NA 8.0         691          Lillian Gish     \n",
       "2  Outros         100000     3000000 4.8           0          Stephen Carr     \n",
       "3  Outros         245000          NA 8.3         226          John Gilbert     \n",
       "4  Outros         379000     2808000 6.3         167          Anita Page       \n",
       "5  Outros        3950000          NA 7.8         279          Jean Harlow      \n",
       "6  Outros         800000          NA 6.6         213          Gary Cooper      \n",
       "7  Outros         439000     2300000 7.7         439          Ginger Rogers    \n",
       "8  Outros         200000          NA 6.5         328          Mae West         \n",
       "9  Outros         325000          NA 8.2           0          Claudette Colbert\n",
       "10 Outros         609000     3000000 7.8        1000          Ginger Rogers    \n",
       "11 Outros        1500000      163245 8.6           0          Paulette Goddard \n",
       "12 Outros        1200000          NA 7.1         204          Errol Flynn      \n",
       "13 Outros        2000000   184925485 7.7           0          Adriana Caselotti\n",
       "14 Outros             NA          NA 7.8         337          David Niven      \n",
       "15 Outros        2000000          NA 7.0          60          Tyrone Power     \n",
       "16 Outros        1644736          NA 8.0           0          Jean Arthur      \n",
       "17 Outros        3977000   198655278 8.2       16000          Hattie McDaniel  \n",
       "18 Outros        2800000    22202612 8.1       14000          Margaret Hamilton\n",
       "19 Outros        1500000          NA 8.2           0          Claude Rains     \n",
       "20 Outros        2600000    84300000 7.5           0          Mel Blanc        \n",
       "   ator_2                ator_3          \n",
       "1  Mae Marsh             Walter Long     \n",
       "2  Johnnie Walker        Mary Carr       \n",
       "3  Renée Adorée          Claire Adams    \n",
       "4  Bessie Love           Charles King    \n",
       "5  Marian Marsh          James Hall      \n",
       "6  Helen Hayes           Adolphe Menjou  \n",
       "7  Dick Powell           George Brent    \n",
       "8  Gilbert Roland        Louise Beavers  \n",
       "9  Alan Hale             Walter Connolly \n",
       "10 Edward Everett Horton Eric Blore      \n",
       "11 Stanley Blystone      Fred Malatesta  \n",
       "12 David Niven           Spring Byington \n",
       "13 Billy Gilbert         Lucille La Verne\n",
       "14 Mary Astor            Ronald Colman   \n",
       "15 Don Ameche            John Carradine  \n",
       "16 Ann Miller            Lionel Barrymore\n",
       "17 George Reeves         Thomas Mitchell \n",
       "18 Terry                 Billie Burke    \n",
       "19 Jean Arthur           Thomas Mitchell \n",
       "20 Dickie Jones          Cliff Edwards   "
      ]
     },
     "metadata": {},
     "output_type": "display_data"
    }
   ],
   "source": [
    "filmes_ordenados <- imdb %>% arrange(ano, desc(receita))\n",
    "filmes_ordenados %>% head(20)"
   ]
  },
  {
   "cell_type": "markdown",
   "id": "roman-delivery",
   "metadata": {},
   "source": [
    "2)"
   ]
  },
  {
   "cell_type": "code",
   "execution_count": 6,
   "id": "coated-concentration",
   "metadata": {},
   "outputs": [
    {
     "data": {
      "text/html": [
       "<table class=\"dataframe\">\n",
       "<caption>A tibble: 6 × 2</caption>\n",
       "<thead>\n",
       "\t<tr><th scope=col>titulo</th><th scope=col>orcamento</th></tr>\n",
       "\t<tr><th scope=col>&lt;chr&gt;</th><th scope=col>&lt;int&gt;</th></tr>\n",
       "</thead>\n",
       "<tbody>\n",
       "\t<tr><td>Pirates of the Caribbean: At World's End </td><td>300000000</td></tr>\n",
       "\t<tr><td>John Carter                              </td><td>263700000</td></tr>\n",
       "\t<tr><td>Tangled                                  </td><td>260000000</td></tr>\n",
       "\t<tr><td>Spider-Man 3                             </td><td>258000000</td></tr>\n",
       "\t<tr><td>Spider-Man 3                             </td><td>258000000</td></tr>\n",
       "\t<tr><td>The Dark Knight Rises                    </td><td>250000000</td></tr>\n",
       "</tbody>\n",
       "</table>\n"
      ],
      "text/latex": [
       "A tibble: 6 × 2\n",
       "\\begin{tabular}{ll}\n",
       " titulo & orcamento\\\\\n",
       " <chr> & <int>\\\\\n",
       "\\hline\n",
       "\t Pirates of the Caribbean: At World's End  & 300000000\\\\\n",
       "\t John Carter                               & 263700000\\\\\n",
       "\t Tangled                                   & 260000000\\\\\n",
       "\t Spider-Man 3                              & 258000000\\\\\n",
       "\t Spider-Man 3                              & 258000000\\\\\n",
       "\t The Dark Knight Rises                     & 250000000\\\\\n",
       "\\end{tabular}\n"
      ],
      "text/markdown": [
       "\n",
       "A tibble: 6 × 2\n",
       "\n",
       "| titulo &lt;chr&gt; | orcamento &lt;int&gt; |\n",
       "|---|---|\n",
       "| Pirates of the Caribbean: At World's End  | 300000000 |\n",
       "| John Carter                               | 263700000 |\n",
       "| Tangled                                   | 260000000 |\n",
       "| Spider-Man 3                              | 258000000 |\n",
       "| Spider-Man 3                              | 258000000 |\n",
       "| The Dark Knight Rises                     | 250000000 |\n",
       "\n"
      ],
      "text/plain": [
       "  titulo                                    orcamento\n",
       "1 Pirates of the Caribbean: At World's End  300000000\n",
       "2 John Carter                               263700000\n",
       "3 Tangled                                   260000000\n",
       "4 Spider-Man 3                              258000000\n",
       "5 Spider-Man 3                              258000000\n",
       "6 The Dark Knight Rises                     250000000"
      ]
     },
     "metadata": {},
     "output_type": "display_data"
    }
   ],
   "source": [
    "filmes_ordenados_2 <- imdb %>% arrange(desc(orcamento)) %>% select(titulo, orcamento)\n",
    "filmes_ordenados_2 %>% head()"
   ]
  },
  {
   "cell_type": "markdown",
   "id": "continental-customer",
   "metadata": {},
   "source": [
    "## Exercícios 7.2.4\n",
    "\n",
    "1)"
   ]
  },
  {
   "cell_type": "code",
   "execution_count": 7,
   "id": "final-latex",
   "metadata": {},
   "outputs": [
    {
     "data": {
      "text/html": [
       "<table class=\"dataframe\">\n",
       "<caption>A tibble: 6 × 15</caption>\n",
       "<thead>\n",
       "\t<tr><th scope=col>titulo</th><th scope=col>ano</th><th scope=col>diretor</th><th scope=col>duracao</th><th scope=col>cor</th><th scope=col>generos</th><th scope=col>pais</th><th scope=col>classificacao</th><th scope=col>orcamento</th><th scope=col>receita</th><th scope=col>nota_imdb</th><th scope=col>likes_facebook</th><th scope=col>ator_1</th><th scope=col>ator_2</th><th scope=col>ator_3</th></tr>\n",
       "\t<tr><th scope=col>&lt;chr&gt;</th><th scope=col>&lt;int&gt;</th><th scope=col>&lt;chr&gt;</th><th scope=col>&lt;int&gt;</th><th scope=col>&lt;chr&gt;</th><th scope=col>&lt;chr&gt;</th><th scope=col>&lt;chr&gt;</th><th scope=col>&lt;chr&gt;</th><th scope=col>&lt;int&gt;</th><th scope=col>&lt;int&gt;</th><th scope=col>&lt;dbl&gt;</th><th scope=col>&lt;int&gt;</th><th scope=col>&lt;chr&gt;</th><th scope=col>&lt;chr&gt;</th><th scope=col>&lt;chr&gt;</th></tr>\n",
       "</thead>\n",
       "<tbody>\n",
       "\t<tr><td>Pearl Harbor </td><td>2001</td><td>Michael Bay     </td><td>184</td><td>Black and White</td><td>Action|Drama|History|Romance|War</td><td>USA</td><td>A partir de 13 anos</td><td>140000000</td><td>198539855</td><td>6.1</td><td>0</td><td>Jennifer Garner     </td><td>Jaime King        </td><td>Mako           </td></tr>\n",
       "\t<tr><td>The Aviator  </td><td>2004</td><td>Martin Scorsese </td><td>170</td><td>Black and White</td><td>Biography|Drama                 </td><td>USA</td><td>A partir de 13 anos</td><td>110000000</td><td>102608827</td><td>7.5</td><td>0</td><td>Leonardo DiCaprio   </td><td>Adam Scott        </td><td>Frances Conroy </td></tr>\n",
       "\t<tr><td>Ali          </td><td>2001</td><td>Michael Mann    </td><td>165</td><td>Black and White</td><td>Biography|Drama|Sport           </td><td>USA</td><td>A partir de 18 anos</td><td>107000000</td><td> 58183966</td><td>6.8</td><td>0</td><td>Will Smith          </td><td>Jada Pinkett Smith</td><td>Joe Morton     </td></tr>\n",
       "\t<tr><td>Eragon       </td><td>2006</td><td>Stefen Fangmeier</td><td>104</td><td>Black and White</td><td>Action|Adventure|Family|Fantasy </td><td>USA</td><td>Livre              </td><td>100000000</td><td> 75030163</td><td>5.1</td><td>0</td><td>Djimon Hounsou      </td><td>Ed Speleers       </td><td>Gary Lewis     </td></tr>\n",
       "\t<tr><td>Seabiscuit   </td><td>2003</td><td>Gary Ross       </td><td>140</td><td>Black and White</td><td>Drama|History|Sport             </td><td>USA</td><td>A partir de 13 anos</td><td> 87000000</td><td>120147445</td><td>7.3</td><td>0</td><td>Jeff Bridges        </td><td>Michael Angarano  </td><td>Michael O'Neill</td></tr>\n",
       "\t<tr><td>Bewitched    </td><td>  NA</td><td>NA              </td><td> 25</td><td>Black and White</td><td>Comedy|Family|Fantasy           </td><td>USA</td><td>Outros             </td><td>       NA</td><td>       NA</td><td>7.6</td><td>0</td><td>Elizabeth Montgomery</td><td>Agnes Moorehead   </td><td>Dick York      </td></tr>\n",
       "</tbody>\n",
       "</table>\n"
      ],
      "text/latex": [
       "A tibble: 6 × 15\n",
       "\\begin{tabular}{lllllllllllllll}\n",
       " titulo & ano & diretor & duracao & cor & generos & pais & classificacao & orcamento & receita & nota\\_imdb & likes\\_facebook & ator\\_1 & ator\\_2 & ator\\_3\\\\\n",
       " <chr> & <int> & <chr> & <int> & <chr> & <chr> & <chr> & <chr> & <int> & <int> & <dbl> & <int> & <chr> & <chr> & <chr>\\\\\n",
       "\\hline\n",
       "\t Pearl Harbor  & 2001 & Michael Bay      & 184 & Black and White & Action\\textbar{}Drama\\textbar{}History\\textbar{}Romance\\textbar{}War & USA & A partir de 13 anos & 140000000 & 198539855 & 6.1 & 0 & Jennifer Garner      & Jaime King         & Mako           \\\\\n",
       "\t The Aviator   & 2004 & Martin Scorsese  & 170 & Black and White & Biography\\textbar{}Drama                  & USA & A partir de 13 anos & 110000000 & 102608827 & 7.5 & 0 & Leonardo DiCaprio    & Adam Scott         & Frances Conroy \\\\\n",
       "\t Ali           & 2001 & Michael Mann     & 165 & Black and White & Biography\\textbar{}Drama\\textbar{}Sport            & USA & A partir de 18 anos & 107000000 &  58183966 & 6.8 & 0 & Will Smith           & Jada Pinkett Smith & Joe Morton     \\\\\n",
       "\t Eragon        & 2006 & Stefen Fangmeier & 104 & Black and White & Action\\textbar{}Adventure\\textbar{}Family\\textbar{}Fantasy  & USA & Livre               & 100000000 &  75030163 & 5.1 & 0 & Djimon Hounsou       & Ed Speleers        & Gary Lewis     \\\\\n",
       "\t Seabiscuit    & 2003 & Gary Ross        & 140 & Black and White & Drama\\textbar{}History\\textbar{}Sport              & USA & A partir de 13 anos &  87000000 & 120147445 & 7.3 & 0 & Jeff Bridges         & Michael Angarano   & Michael O'Neill\\\\\n",
       "\t Bewitched     &   NA & NA               &  25 & Black and White & Comedy\\textbar{}Family\\textbar{}Fantasy            & USA & Outros              &        NA &        NA & 7.6 & 0 & Elizabeth Montgomery & Agnes Moorehead    & Dick York      \\\\\n",
       "\\end{tabular}\n"
      ],
      "text/markdown": [
       "\n",
       "A tibble: 6 × 15\n",
       "\n",
       "| titulo &lt;chr&gt; | ano &lt;int&gt; | diretor &lt;chr&gt; | duracao &lt;int&gt; | cor &lt;chr&gt; | generos &lt;chr&gt; | pais &lt;chr&gt; | classificacao &lt;chr&gt; | orcamento &lt;int&gt; | receita &lt;int&gt; | nota_imdb &lt;dbl&gt; | likes_facebook &lt;int&gt; | ator_1 &lt;chr&gt; | ator_2 &lt;chr&gt; | ator_3 &lt;chr&gt; |\n",
       "|---|---|---|---|---|---|---|---|---|---|---|---|---|---|---|\n",
       "| Pearl Harbor  | 2001 | Michael Bay      | 184 | Black and White | Action|Drama|History|Romance|War | USA | A partir de 13 anos | 140000000 | 198539855 | 6.1 | 0 | Jennifer Garner      | Jaime King         | Mako            |\n",
       "| The Aviator   | 2004 | Martin Scorsese  | 170 | Black and White | Biography|Drama                  | USA | A partir de 13 anos | 110000000 | 102608827 | 7.5 | 0 | Leonardo DiCaprio    | Adam Scott         | Frances Conroy  |\n",
       "| Ali           | 2001 | Michael Mann     | 165 | Black and White | Biography|Drama|Sport            | USA | A partir de 18 anos | 107000000 |  58183966 | 6.8 | 0 | Will Smith           | Jada Pinkett Smith | Joe Morton      |\n",
       "| Eragon        | 2006 | Stefen Fangmeier | 104 | Black and White | Action|Adventure|Family|Fantasy  | USA | Livre               | 100000000 |  75030163 | 5.1 | 0 | Djimon Hounsou       | Ed Speleers        | Gary Lewis      |\n",
       "| Seabiscuit    | 2003 | Gary Ross        | 140 | Black and White | Drama|History|Sport              | USA | A partir de 13 anos |  87000000 | 120147445 | 7.3 | 0 | Jeff Bridges         | Michael Angarano   | Michael O'Neill |\n",
       "| Bewitched     |   NA | NA               |  25 | Black and White | Comedy|Family|Fantasy            | USA | Outros              |        NA |        NA | 7.6 | 0 | Elizabeth Montgomery | Agnes Moorehead    | Dick York       |\n",
       "\n"
      ],
      "text/plain": [
       "  titulo        ano  diretor          duracao cor            \n",
       "1 Pearl Harbor  2001 Michael Bay      184     Black and White\n",
       "2 The Aviator   2004 Martin Scorsese  170     Black and White\n",
       "3 Ali           2001 Michael Mann     165     Black and White\n",
       "4 Eragon        2006 Stefen Fangmeier 104     Black and White\n",
       "5 Seabiscuit    2003 Gary Ross        140     Black and White\n",
       "6 Bewitched       NA NA                25     Black and White\n",
       "  generos                          pais classificacao       orcamento receita  \n",
       "1 Action|Drama|History|Romance|War USA  A partir de 13 anos 140000000 198539855\n",
       "2 Biography|Drama                  USA  A partir de 13 anos 110000000 102608827\n",
       "3 Biography|Drama|Sport            USA  A partir de 18 anos 107000000  58183966\n",
       "4 Action|Adventure|Family|Fantasy  USA  Livre               100000000  75030163\n",
       "5 Drama|History|Sport              USA  A partir de 13 anos  87000000 120147445\n",
       "6 Comedy|Family|Fantasy            USA  Outros                     NA        NA\n",
       "  nota_imdb likes_facebook ator_1               ator_2            \n",
       "1 6.1       0              Jennifer Garner      Jaime King        \n",
       "2 7.5       0              Leonardo DiCaprio    Adam Scott        \n",
       "3 6.8       0              Will Smith           Jada Pinkett Smith\n",
       "4 5.1       0              Djimon Hounsou       Ed Speleers       \n",
       "5 7.3       0              Jeff Bridges         Michael Angarano  \n",
       "6 7.6       0              Elizabeth Montgomery Agnes Moorehead   \n",
       "  ator_3         \n",
       "1 Mako           \n",
       "2 Frances Conroy \n",
       "3 Joe Morton     \n",
       "4 Gary Lewis     \n",
       "5 Michael O'Neill\n",
       "6 Dick York      "
      ]
     },
     "metadata": {},
     "output_type": "display_data"
    }
   ],
   "source": [
    "filmes_pb <- imdb %>% filter(cor == \"Black and White\")\n",
    "filmes_pb %>% head()"
   ]
  },
  {
   "cell_type": "markdown",
   "id": "powerful-roberts",
   "metadata": {},
   "source": [
    "2)"
   ]
  },
  {
   "cell_type": "code",
   "execution_count": 8,
   "id": "meaning-oklahoma",
   "metadata": {},
   "outputs": [
    {
     "data": {
      "text/html": [
       "<table class=\"dataframe\">\n",
       "<caption>A tibble: 6 × 15</caption>\n",
       "<thead>\n",
       "\t<tr><th scope=col>titulo</th><th scope=col>ano</th><th scope=col>diretor</th><th scope=col>duracao</th><th scope=col>cor</th><th scope=col>generos</th><th scope=col>pais</th><th scope=col>classificacao</th><th scope=col>orcamento</th><th scope=col>receita</th><th scope=col>nota_imdb</th><th scope=col>likes_facebook</th><th scope=col>ator_1</th><th scope=col>ator_2</th><th scope=col>ator_3</th></tr>\n",
       "\t<tr><th scope=col>&lt;chr&gt;</th><th scope=col>&lt;int&gt;</th><th scope=col>&lt;chr&gt;</th><th scope=col>&lt;int&gt;</th><th scope=col>&lt;chr&gt;</th><th scope=col>&lt;chr&gt;</th><th scope=col>&lt;chr&gt;</th><th scope=col>&lt;chr&gt;</th><th scope=col>&lt;int&gt;</th><th scope=col>&lt;int&gt;</th><th scope=col>&lt;dbl&gt;</th><th scope=col>&lt;int&gt;</th><th scope=col>&lt;chr&gt;</th><th scope=col>&lt;chr&gt;</th><th scope=col>&lt;chr&gt;</th></tr>\n",
       "</thead>\n",
       "<tbody>\n",
       "\t<tr><td>Hannibal                          </td><td>NA</td><td>NA</td><td>44</td><td>Color          </td><td>Crime|Drama|Horror|Mystery|Thriller         </td><td>USA</td><td>Outros</td><td>NA</td><td>NA</td><td>8.6</td><td>59000</td><td>Caroline Dhavernas</td><td>Scott Thompson </td><td>Hettienne Park</td></tr>\n",
       "\t<tr><td>Daredevil                         </td><td>NA</td><td>NA</td><td>54</td><td>NA             </td><td>Action|Adventure|Crime|Drama|Sci-Fi|Thriller</td><td>USA</td><td>Outros</td><td>NA</td><td>NA</td><td>8.8</td><td>55000</td><td>Elden Henson      </td><td>Royce Johnson  </td><td>Charlie Cox   </td></tr>\n",
       "\t<tr><td>Friday Night Lights               </td><td>NA</td><td>NA</td><td>44</td><td>Color          </td><td>Drama|Sport                                 </td><td>USA</td><td>Outros</td><td>NA</td><td>NA</td><td>8.7</td><td>    0</td><td>Zach Gilford      </td><td>Aimee Teegarden</td><td>Scott Porter  </td></tr>\n",
       "\t<tr><td>The Honeymooners                  </td><td>NA</td><td>NA</td><td>30</td><td>Black and White</td><td>Comedy|Family                               </td><td>USA</td><td>Outros</td><td>NA</td><td>NA</td><td>8.7</td><td>  459</td><td>Jackie Gleason    </td><td>Art Carney     </td><td>Joyce Randolph</td></tr>\n",
       "\t<tr><td>It's Always Sunny in Philadelphia </td><td>NA</td><td>NA</td><td>22</td><td>Color          </td><td>Comedy                                      </td><td>USA</td><td>Outros</td><td>NA</td><td>NA</td><td>8.8</td><td>    0</td><td>Rob McElhenney    </td><td>Kaitlin Olson  </td><td>Glenn Howerton</td></tr>\n",
       "\t<tr><td>Spartacus: War of the Damned      </td><td>NA</td><td>NA</td><td>55</td><td>Color          </td><td>Action|Adventure|Biography|Drama|History    </td><td>USA</td><td>Outros</td><td>NA</td><td>NA</td><td>8.6</td><td>31000</td><td>Peter Mensah      </td><td>Kelvin Taylor  </td><td>Viva Bianca   </td></tr>\n",
       "</tbody>\n",
       "</table>\n"
      ],
      "text/latex": [
       "A tibble: 6 × 15\n",
       "\\begin{tabular}{lllllllllllllll}\n",
       " titulo & ano & diretor & duracao & cor & generos & pais & classificacao & orcamento & receita & nota\\_imdb & likes\\_facebook & ator\\_1 & ator\\_2 & ator\\_3\\\\\n",
       " <chr> & <int> & <chr> & <int> & <chr> & <chr> & <chr> & <chr> & <int> & <int> & <dbl> & <int> & <chr> & <chr> & <chr>\\\\\n",
       "\\hline\n",
       "\t Hannibal                           & NA & NA & 44 & Color           & Crime\\textbar{}Drama\\textbar{}Horror\\textbar{}Mystery\\textbar{}Thriller          & USA & Outros & NA & NA & 8.6 & 59000 & Caroline Dhavernas & Scott Thompson  & Hettienne Park\\\\\n",
       "\t Daredevil                          & NA & NA & 54 & NA              & Action\\textbar{}Adventure\\textbar{}Crime\\textbar{}Drama\\textbar{}Sci-Fi\\textbar{}Thriller & USA & Outros & NA & NA & 8.8 & 55000 & Elden Henson       & Royce Johnson   & Charlie Cox   \\\\\n",
       "\t Friday Night Lights                & NA & NA & 44 & Color           & Drama\\textbar{}Sport                                  & USA & Outros & NA & NA & 8.7 &     0 & Zach Gilford       & Aimee Teegarden & Scott Porter  \\\\\n",
       "\t The Honeymooners                   & NA & NA & 30 & Black and White & Comedy\\textbar{}Family                                & USA & Outros & NA & NA & 8.7 &   459 & Jackie Gleason     & Art Carney      & Joyce Randolph\\\\\n",
       "\t It's Always Sunny in Philadelphia  & NA & NA & 22 & Color           & Comedy                                       & USA & Outros & NA & NA & 8.8 &     0 & Rob McElhenney     & Kaitlin Olson   & Glenn Howerton\\\\\n",
       "\t Spartacus: War of the Damned       & NA & NA & 55 & Color           & Action\\textbar{}Adventure\\textbar{}Biography\\textbar{}Drama\\textbar{}History     & USA & Outros & NA & NA & 8.6 & 31000 & Peter Mensah       & Kelvin Taylor   & Viva Bianca   \\\\\n",
       "\\end{tabular}\n"
      ],
      "text/markdown": [
       "\n",
       "A tibble: 6 × 15\n",
       "\n",
       "| titulo &lt;chr&gt; | ano &lt;int&gt; | diretor &lt;chr&gt; | duracao &lt;int&gt; | cor &lt;chr&gt; | generos &lt;chr&gt; | pais &lt;chr&gt; | classificacao &lt;chr&gt; | orcamento &lt;int&gt; | receita &lt;int&gt; | nota_imdb &lt;dbl&gt; | likes_facebook &lt;int&gt; | ator_1 &lt;chr&gt; | ator_2 &lt;chr&gt; | ator_3 &lt;chr&gt; |\n",
       "|---|---|---|---|---|---|---|---|---|---|---|---|---|---|---|\n",
       "| Hannibal                           | NA | NA | 44 | Color           | Crime|Drama|Horror|Mystery|Thriller          | USA | Outros | NA | NA | 8.6 | 59000 | Caroline Dhavernas | Scott Thompson  | Hettienne Park |\n",
       "| Daredevil                          | NA | NA | 54 | NA              | Action|Adventure|Crime|Drama|Sci-Fi|Thriller | USA | Outros | NA | NA | 8.8 | 55000 | Elden Henson       | Royce Johnson   | Charlie Cox    |\n",
       "| Friday Night Lights                | NA | NA | 44 | Color           | Drama|Sport                                  | USA | Outros | NA | NA | 8.7 |     0 | Zach Gilford       | Aimee Teegarden | Scott Porter   |\n",
       "| The Honeymooners                   | NA | NA | 30 | Black and White | Comedy|Family                                | USA | Outros | NA | NA | 8.7 |   459 | Jackie Gleason     | Art Carney      | Joyce Randolph |\n",
       "| It's Always Sunny in Philadelphia  | NA | NA | 22 | Color           | Comedy                                       | USA | Outros | NA | NA | 8.8 |     0 | Rob McElhenney     | Kaitlin Olson   | Glenn Howerton |\n",
       "| Spartacus: War of the Damned       | NA | NA | 55 | Color           | Action|Adventure|Biography|Drama|History     | USA | Outros | NA | NA | 8.6 | 31000 | Peter Mensah       | Kelvin Taylor   | Viva Bianca    |\n",
       "\n"
      ],
      "text/plain": [
       "  titulo                             ano diretor duracao cor            \n",
       "1 Hannibal                           NA  NA      44      Color          \n",
       "2 Daredevil                          NA  NA      54      NA             \n",
       "3 Friday Night Lights                NA  NA      44      Color          \n",
       "4 The Honeymooners                   NA  NA      30      Black and White\n",
       "5 It's Always Sunny in Philadelphia  NA  NA      22      Color          \n",
       "6 Spartacus: War of the Damned       NA  NA      55      Color          \n",
       "  generos                                      pais classificacao orcamento\n",
       "1 Crime|Drama|Horror|Mystery|Thriller          USA  Outros        NA       \n",
       "2 Action|Adventure|Crime|Drama|Sci-Fi|Thriller USA  Outros        NA       \n",
       "3 Drama|Sport                                  USA  Outros        NA       \n",
       "4 Comedy|Family                                USA  Outros        NA       \n",
       "5 Comedy                                       USA  Outros        NA       \n",
       "6 Action|Adventure|Biography|Drama|History     USA  Outros        NA       \n",
       "  receita nota_imdb likes_facebook ator_1             ator_2         \n",
       "1 NA      8.6       59000          Caroline Dhavernas Scott Thompson \n",
       "2 NA      8.8       55000          Elden Henson       Royce Johnson  \n",
       "3 NA      8.7           0          Zach Gilford       Aimee Teegarden\n",
       "4 NA      8.7         459          Jackie Gleason     Art Carney     \n",
       "5 NA      8.8           0          Rob McElhenney     Kaitlin Olson  \n",
       "6 NA      8.6       31000          Peter Mensah       Kelvin Taylor  \n",
       "  ator_3        \n",
       "1 Hettienne Park\n",
       "2 Charlie Cox   \n",
       "3 Scott Porter  \n",
       "4 Joyce Randolph\n",
       "5 Glenn Howerton\n",
       "6 Viva Bianca   "
      ]
     },
     "metadata": {},
     "output_type": "display_data"
    }
   ],
   "source": [
    "curtas_legais <- imdb %>% filter(duracao <= 90 & nota_imdb > 8.5)\n",
    "curtas_legais %>% head()"
   ]
  },
  {
   "cell_type": "markdown",
   "id": "geological-webster",
   "metadata": {},
   "source": [
    "3) a)"
   ]
  },
  {
   "cell_type": "code",
   "execution_count": 15,
   "id": "signed-powder",
   "metadata": {},
   "outputs": [
    {
     "data": {
      "text/html": [
       "<table class=\"dataframe\">\n",
       "<caption>A tibble: 6 × 15</caption>\n",
       "<thead>\n",
       "\t<tr><th scope=col>titulo</th><th scope=col>ano</th><th scope=col>diretor</th><th scope=col>duracao</th><th scope=col>cor</th><th scope=col>generos</th><th scope=col>pais</th><th scope=col>classificacao</th><th scope=col>orcamento</th><th scope=col>receita</th><th scope=col>nota_imdb</th><th scope=col>likes_facebook</th><th scope=col>ator_1</th><th scope=col>ator_2</th><th scope=col>ator_3</th></tr>\n",
       "\t<tr><th scope=col>&lt;chr&gt;</th><th scope=col>&lt;int&gt;</th><th scope=col>&lt;chr&gt;</th><th scope=col>&lt;int&gt;</th><th scope=col>&lt;chr&gt;</th><th scope=col>&lt;chr&gt;</th><th scope=col>&lt;chr&gt;</th><th scope=col>&lt;chr&gt;</th><th scope=col>&lt;int&gt;</th><th scope=col>&lt;int&gt;</th><th scope=col>&lt;dbl&gt;</th><th scope=col>&lt;int&gt;</th><th scope=col>&lt;chr&gt;</th><th scope=col>&lt;chr&gt;</th><th scope=col>&lt;chr&gt;</th></tr>\n",
       "</thead>\n",
       "<tbody>\n",
       "\t<tr><td>Pinocchio          </td><td>1940</td><td>Norman Ferguson  </td><td> 88</td><td>Color</td><td>Animation|Family|Fantasy|Musical</td><td>USA</td><td>Outros</td><td>2600000</td><td> 84300000</td><td>7.5</td><td>    0</td><td>Mel Blanc      </td><td>Dickie Jones </td><td>Cliff Edwards  </td></tr>\n",
       "\t<tr><td>Duel in the Sun    </td><td>1946</td><td>King Vidor       </td><td>144</td><td>Color</td><td>Drama|Romance|Western           </td><td>USA</td><td>Outros</td><td>8000000</td><td> 20400000</td><td>6.9</td><td>  403</td><td>Joseph Cotten  </td><td>Lillian Gish </td><td>Jennifer Jones </td></tr>\n",
       "\t<tr><td>Tycoon             </td><td>1947</td><td>Richard Wallace  </td><td> 95</td><td>Color</td><td>Adventure|Drama|Romance         </td><td>USA</td><td>Outros</td><td>3209000</td><td>       NA</td><td>6.2</td><td>   44</td><td>Judith Anderson</td><td>Paul Fix     </td><td>Laraine Day    </td></tr>\n",
       "\t<tr><td>State Fair         </td><td>1945</td><td>Walter Lang      </td><td>100</td><td>Color</td><td>Musical|Romance                 </td><td>USA</td><td>Outros</td><td>     NA</td><td>       NA</td><td>7.1</td><td>  501</td><td>Dana Andrews   </td><td>Jeanne Crain </td><td>Frank McHugh   </td></tr>\n",
       "\t<tr><td>Gone with the Wind </td><td>1939</td><td>Victor Fleming   </td><td>226</td><td>Color</td><td>Drama|History|Romance|War       </td><td>USA</td><td>Outros</td><td>3977000</td><td>198655278</td><td>8.2</td><td>16000</td><td>Hattie McDaniel</td><td>George Reeves</td><td>Thomas Mitchell</td></tr>\n",
       "\t<tr><td>The Pirate         </td><td>1948</td><td>Vincente Minnelli</td><td>102</td><td>Color</td><td>Adventure|Comedy|Musical|Romance</td><td>USA</td><td>Outros</td><td>3700000</td><td>  2956000</td><td>7.1</td><td>  359</td><td>Gladys Cooper  </td><td>Reginald Owen</td><td>Ellen Ross     </td></tr>\n",
       "</tbody>\n",
       "</table>\n"
      ],
      "text/latex": [
       "A tibble: 6 × 15\n",
       "\\begin{tabular}{lllllllllllllll}\n",
       " titulo & ano & diretor & duracao & cor & generos & pais & classificacao & orcamento & receita & nota\\_imdb & likes\\_facebook & ator\\_1 & ator\\_2 & ator\\_3\\\\\n",
       " <chr> & <int> & <chr> & <int> & <chr> & <chr> & <chr> & <chr> & <int> & <int> & <dbl> & <int> & <chr> & <chr> & <chr>\\\\\n",
       "\\hline\n",
       "\t Pinocchio           & 1940 & Norman Ferguson   &  88 & Color & Animation\\textbar{}Family\\textbar{}Fantasy\\textbar{}Musical & USA & Outros & 2600000 &  84300000 & 7.5 &     0 & Mel Blanc       & Dickie Jones  & Cliff Edwards  \\\\\n",
       "\t Duel in the Sun     & 1946 & King Vidor        & 144 & Color & Drama\\textbar{}Romance\\textbar{}Western            & USA & Outros & 8000000 &  20400000 & 6.9 &   403 & Joseph Cotten   & Lillian Gish  & Jennifer Jones \\\\\n",
       "\t Tycoon              & 1947 & Richard Wallace   &  95 & Color & Adventure\\textbar{}Drama\\textbar{}Romance          & USA & Outros & 3209000 &        NA & 6.2 &    44 & Judith Anderson & Paul Fix      & Laraine Day    \\\\\n",
       "\t State Fair          & 1945 & Walter Lang       & 100 & Color & Musical\\textbar{}Romance                  & USA & Outros &      NA &        NA & 7.1 &   501 & Dana Andrews    & Jeanne Crain  & Frank McHugh   \\\\\n",
       "\t Gone with the Wind  & 1939 & Victor Fleming    & 226 & Color & Drama\\textbar{}History\\textbar{}Romance\\textbar{}War        & USA & Outros & 3977000 & 198655278 & 8.2 & 16000 & Hattie McDaniel & George Reeves & Thomas Mitchell\\\\\n",
       "\t The Pirate          & 1948 & Vincente Minnelli & 102 & Color & Adventure\\textbar{}Comedy\\textbar{}Musical\\textbar{}Romance & USA & Outros & 3700000 &   2956000 & 7.1 &   359 & Gladys Cooper   & Reginald Owen & Ellen Ross     \\\\\n",
       "\\end{tabular}\n"
      ],
      "text/markdown": [
       "\n",
       "A tibble: 6 × 15\n",
       "\n",
       "| titulo &lt;chr&gt; | ano &lt;int&gt; | diretor &lt;chr&gt; | duracao &lt;int&gt; | cor &lt;chr&gt; | generos &lt;chr&gt; | pais &lt;chr&gt; | classificacao &lt;chr&gt; | orcamento &lt;int&gt; | receita &lt;int&gt; | nota_imdb &lt;dbl&gt; | likes_facebook &lt;int&gt; | ator_1 &lt;chr&gt; | ator_2 &lt;chr&gt; | ator_3 &lt;chr&gt; |\n",
       "|---|---|---|---|---|---|---|---|---|---|---|---|---|---|---|\n",
       "| Pinocchio           | 1940 | Norman Ferguson   |  88 | Color | Animation|Family|Fantasy|Musical | USA | Outros | 2600000 |  84300000 | 7.5 |     0 | Mel Blanc       | Dickie Jones  | Cliff Edwards   |\n",
       "| Duel in the Sun     | 1946 | King Vidor        | 144 | Color | Drama|Romance|Western            | USA | Outros | 8000000 |  20400000 | 6.9 |   403 | Joseph Cotten   | Lillian Gish  | Jennifer Jones  |\n",
       "| Tycoon              | 1947 | Richard Wallace   |  95 | Color | Adventure|Drama|Romance          | USA | Outros | 3209000 |        NA | 6.2 |    44 | Judith Anderson | Paul Fix      | Laraine Day     |\n",
       "| State Fair          | 1945 | Walter Lang       | 100 | Color | Musical|Romance                  | USA | Outros |      NA |        NA | 7.1 |   501 | Dana Andrews    | Jeanne Crain  | Frank McHugh    |\n",
       "| Gone with the Wind  | 1939 | Victor Fleming    | 226 | Color | Drama|History|Romance|War        | USA | Outros | 3977000 | 198655278 | 8.2 | 16000 | Hattie McDaniel | George Reeves | Thomas Mitchell |\n",
       "| The Pirate          | 1948 | Vincente Minnelli | 102 | Color | Adventure|Comedy|Musical|Romance | USA | Outros | 3700000 |   2956000 | 7.1 |   359 | Gladys Cooper   | Reginald Owen | Ellen Ross      |\n",
       "\n"
      ],
      "text/plain": [
       "  titulo              ano  diretor           duracao cor  \n",
       "1 Pinocchio           1940 Norman Ferguson    88     Color\n",
       "2 Duel in the Sun     1946 King Vidor        144     Color\n",
       "3 Tycoon              1947 Richard Wallace    95     Color\n",
       "4 State Fair          1945 Walter Lang       100     Color\n",
       "5 Gone with the Wind  1939 Victor Fleming    226     Color\n",
       "6 The Pirate          1948 Vincente Minnelli 102     Color\n",
       "  generos                          pais classificacao orcamento receita  \n",
       "1 Animation|Family|Fantasy|Musical USA  Outros        2600000    84300000\n",
       "2 Drama|Romance|Western            USA  Outros        8000000    20400000\n",
       "3 Adventure|Drama|Romance          USA  Outros        3209000          NA\n",
       "4 Musical|Romance                  USA  Outros             NA          NA\n",
       "5 Drama|History|Romance|War        USA  Outros        3977000   198655278\n",
       "6 Adventure|Comedy|Musical|Romance USA  Outros        3700000     2956000\n",
       "  nota_imdb likes_facebook ator_1          ator_2        ator_3         \n",
       "1 7.5           0          Mel Blanc       Dickie Jones  Cliff Edwards  \n",
       "2 6.9         403          Joseph Cotten   Lillian Gish  Jennifer Jones \n",
       "3 6.2          44          Judith Anderson Paul Fix      Laraine Day    \n",
       "4 7.1         501          Dana Andrews    Jeanne Crain  Frank McHugh   \n",
       "5 8.2       16000          Hattie McDaniel George Reeves Thomas Mitchell\n",
       "6 7.1         359          Gladys Cooper   Reginald Owen Ellen Ross     "
      ]
     },
     "metadata": {},
     "output_type": "display_data"
    }
   ],
   "source": [
    "imdb %>% filter(cor == \"Color\" & ano < 1950) %>% head()"
   ]
  },
  {
   "cell_type": "markdown",
   "id": "bound-radical",
   "metadata": {},
   "source": [
    "b)"
   ]
  },
  {
   "cell_type": "code",
   "execution_count": 16,
   "id": "limited-portsmouth",
   "metadata": {},
   "outputs": [
    {
     "data": {
      "text/html": [
       "<table class=\"dataframe\">\n",
       "<caption>A tibble: 6 × 15</caption>\n",
       "<thead>\n",
       "\t<tr><th scope=col>titulo</th><th scope=col>ano</th><th scope=col>diretor</th><th scope=col>duracao</th><th scope=col>cor</th><th scope=col>generos</th><th scope=col>pais</th><th scope=col>classificacao</th><th scope=col>orcamento</th><th scope=col>receita</th><th scope=col>nota_imdb</th><th scope=col>likes_facebook</th><th scope=col>ator_1</th><th scope=col>ator_2</th><th scope=col>ator_3</th></tr>\n",
       "\t<tr><th scope=col>&lt;chr&gt;</th><th scope=col>&lt;int&gt;</th><th scope=col>&lt;chr&gt;</th><th scope=col>&lt;int&gt;</th><th scope=col>&lt;chr&gt;</th><th scope=col>&lt;chr&gt;</th><th scope=col>&lt;chr&gt;</th><th scope=col>&lt;chr&gt;</th><th scope=col>&lt;int&gt;</th><th scope=col>&lt;int&gt;</th><th scope=col>&lt;dbl&gt;</th><th scope=col>&lt;int&gt;</th><th scope=col>&lt;chr&gt;</th><th scope=col>&lt;chr&gt;</th><th scope=col>&lt;chr&gt;</th></tr>\n",
       "</thead>\n",
       "<tbody>\n",
       "\t<tr><td>Django Unchained               </td><td>2012</td><td>Quentin Tarantino</td><td>165</td><td>Color          </td><td>Drama|Western                       </td><td>USA</td><td>A partir de 18 anos</td><td>100000000</td><td>162804648</td><td>8.5</td><td>199000</td><td>Leonardo DiCaprio </td><td>Christoph Waltz     </td><td>Ato Essandoh   </td></tr>\n",
       "\t<tr><td>Inglourious Basterds           </td><td>2009</td><td>Quentin Tarantino</td><td>153</td><td>Color          </td><td>Adventure|Drama|War                 </td><td>USA</td><td>A partir de 18 anos</td><td> 75000000</td><td>120523073</td><td>8.3</td><td> 42000</td><td>Michael Fassbender</td><td>Brad Pitt           </td><td>Christoph Waltz</td></tr>\n",
       "\t<tr><td>The Hateful Eight              </td><td>2015</td><td>Quentin Tarantino</td><td>187</td><td>Color          </td><td>Crime|Drama|Mystery|Thriller|Western</td><td>USA</td><td>A partir de 18 anos</td><td> 44000000</td><td> 54116191</td><td>7.9</td><td>114000</td><td>Craig Stark       </td><td>Jennifer Jason Leigh</td><td>Zoë Bell       </td></tr>\n",
       "\t<tr><td>Kill Bill: Vol. 1              </td><td>2003</td><td>Quentin Tarantino</td><td>111</td><td>Black and White</td><td>Action                              </td><td>USA</td><td>A partir de 18 anos</td><td> 30000000</td><td> 70098138</td><td>8.1</td><td> 13000</td><td>David Carradine   </td><td>Vivica A. Fox       </td><td>Chiaki Kuriyama</td></tr>\n",
       "\t<tr><td>Kill Bill: Vol. 2              </td><td>2004</td><td>Quentin Tarantino</td><td>137</td><td>Black and White</td><td>Action|Crime|Drama|Thriller         </td><td>USA</td><td>A partir de 18 anos</td><td> 30000000</td><td> 66207920</td><td>8.0</td><td>     0</td><td>Vivica A. Fox     </td><td>Michael Parks       </td><td>Michael Bowen  </td></tr>\n",
       "\t<tr><td>The Curse of the Jade Scorpion </td><td>2001</td><td>Woody Allen      </td><td>103</td><td>Color          </td><td>Comedy|Crime|Mystery|Romance        </td><td>USA</td><td>A partir de 13 anos</td><td> 26000000</td><td>  7496522</td><td>6.8</td><td>   826</td><td>Woody Allen       </td><td>Elizabeth Berkley   </td><td>Peter Gerety   </td></tr>\n",
       "</tbody>\n",
       "</table>\n"
      ],
      "text/latex": [
       "A tibble: 6 × 15\n",
       "\\begin{tabular}{lllllllllllllll}\n",
       " titulo & ano & diretor & duracao & cor & generos & pais & classificacao & orcamento & receita & nota\\_imdb & likes\\_facebook & ator\\_1 & ator\\_2 & ator\\_3\\\\\n",
       " <chr> & <int> & <chr> & <int> & <chr> & <chr> & <chr> & <chr> & <int> & <int> & <dbl> & <int> & <chr> & <chr> & <chr>\\\\\n",
       "\\hline\n",
       "\t Django Unchained                & 2012 & Quentin Tarantino & 165 & Color           & Drama\\textbar{}Western                        & USA & A partir de 18 anos & 100000000 & 162804648 & 8.5 & 199000 & Leonardo DiCaprio  & Christoph Waltz      & Ato Essandoh   \\\\\n",
       "\t Inglourious Basterds            & 2009 & Quentin Tarantino & 153 & Color           & Adventure\\textbar{}Drama\\textbar{}War                  & USA & A partir de 18 anos &  75000000 & 120523073 & 8.3 &  42000 & Michael Fassbender & Brad Pitt            & Christoph Waltz\\\\\n",
       "\t The Hateful Eight               & 2015 & Quentin Tarantino & 187 & Color           & Crime\\textbar{}Drama\\textbar{}Mystery\\textbar{}Thriller\\textbar{}Western & USA & A partir de 18 anos &  44000000 &  54116191 & 7.9 & 114000 & Craig Stark        & Jennifer Jason Leigh & Zoë Bell       \\\\\n",
       "\t Kill Bill: Vol. 1               & 2003 & Quentin Tarantino & 111 & Black and White & Action                               & USA & A partir de 18 anos &  30000000 &  70098138 & 8.1 &  13000 & David Carradine    & Vivica A. Fox        & Chiaki Kuriyama\\\\\n",
       "\t Kill Bill: Vol. 2               & 2004 & Quentin Tarantino & 137 & Black and White & Action\\textbar{}Crime\\textbar{}Drama\\textbar{}Thriller          & USA & A partir de 18 anos &  30000000 &  66207920 & 8.0 &      0 & Vivica A. Fox      & Michael Parks        & Michael Bowen  \\\\\n",
       "\t The Curse of the Jade Scorpion  & 2001 & Woody Allen       & 103 & Color           & Comedy\\textbar{}Crime\\textbar{}Mystery\\textbar{}Romance         & USA & A partir de 13 anos &  26000000 &   7496522 & 6.8 &    826 & Woody Allen        & Elizabeth Berkley    & Peter Gerety   \\\\\n",
       "\\end{tabular}\n"
      ],
      "text/markdown": [
       "\n",
       "A tibble: 6 × 15\n",
       "\n",
       "| titulo &lt;chr&gt; | ano &lt;int&gt; | diretor &lt;chr&gt; | duracao &lt;int&gt; | cor &lt;chr&gt; | generos &lt;chr&gt; | pais &lt;chr&gt; | classificacao &lt;chr&gt; | orcamento &lt;int&gt; | receita &lt;int&gt; | nota_imdb &lt;dbl&gt; | likes_facebook &lt;int&gt; | ator_1 &lt;chr&gt; | ator_2 &lt;chr&gt; | ator_3 &lt;chr&gt; |\n",
       "|---|---|---|---|---|---|---|---|---|---|---|---|---|---|---|\n",
       "| Django Unchained                | 2012 | Quentin Tarantino | 165 | Color           | Drama|Western                        | USA | A partir de 18 anos | 100000000 | 162804648 | 8.5 | 199000 | Leonardo DiCaprio  | Christoph Waltz      | Ato Essandoh    |\n",
       "| Inglourious Basterds            | 2009 | Quentin Tarantino | 153 | Color           | Adventure|Drama|War                  | USA | A partir de 18 anos |  75000000 | 120523073 | 8.3 |  42000 | Michael Fassbender | Brad Pitt            | Christoph Waltz |\n",
       "| The Hateful Eight               | 2015 | Quentin Tarantino | 187 | Color           | Crime|Drama|Mystery|Thriller|Western | USA | A partir de 18 anos |  44000000 |  54116191 | 7.9 | 114000 | Craig Stark        | Jennifer Jason Leigh | Zoë Bell        |\n",
       "| Kill Bill: Vol. 1               | 2003 | Quentin Tarantino | 111 | Black and White | Action                               | USA | A partir de 18 anos |  30000000 |  70098138 | 8.1 |  13000 | David Carradine    | Vivica A. Fox        | Chiaki Kuriyama |\n",
       "| Kill Bill: Vol. 2               | 2004 | Quentin Tarantino | 137 | Black and White | Action|Crime|Drama|Thriller          | USA | A partir de 18 anos |  30000000 |  66207920 | 8.0 |      0 | Vivica A. Fox      | Michael Parks        | Michael Bowen   |\n",
       "| The Curse of the Jade Scorpion  | 2001 | Woody Allen       | 103 | Color           | Comedy|Crime|Mystery|Romance         | USA | A partir de 13 anos |  26000000 |   7496522 | 6.8 |    826 | Woody Allen        | Elizabeth Berkley    | Peter Gerety    |\n",
       "\n"
      ],
      "text/plain": [
       "  titulo                          ano  diretor           duracao\n",
       "1 Django Unchained                2012 Quentin Tarantino 165    \n",
       "2 Inglourious Basterds            2009 Quentin Tarantino 153    \n",
       "3 The Hateful Eight               2015 Quentin Tarantino 187    \n",
       "4 Kill Bill: Vol. 1               2003 Quentin Tarantino 111    \n",
       "5 Kill Bill: Vol. 2               2004 Quentin Tarantino 137    \n",
       "6 The Curse of the Jade Scorpion  2001 Woody Allen       103    \n",
       "  cor             generos                              pais classificacao      \n",
       "1 Color           Drama|Western                        USA  A partir de 18 anos\n",
       "2 Color           Adventure|Drama|War                  USA  A partir de 18 anos\n",
       "3 Color           Crime|Drama|Mystery|Thriller|Western USA  A partir de 18 anos\n",
       "4 Black and White Action                               USA  A partir de 18 anos\n",
       "5 Black and White Action|Crime|Drama|Thriller          USA  A partir de 18 anos\n",
       "6 Color           Comedy|Crime|Mystery|Romance         USA  A partir de 13 anos\n",
       "  orcamento receita   nota_imdb likes_facebook ator_1            \n",
       "1 100000000 162804648 8.5       199000         Leonardo DiCaprio \n",
       "2  75000000 120523073 8.3        42000         Michael Fassbender\n",
       "3  44000000  54116191 7.9       114000         Craig Stark       \n",
       "4  30000000  70098138 8.1        13000         David Carradine   \n",
       "5  30000000  66207920 8.0            0         Vivica A. Fox     \n",
       "6  26000000   7496522 6.8          826         Woody Allen       \n",
       "  ator_2               ator_3         \n",
       "1 Christoph Waltz      Ato Essandoh   \n",
       "2 Brad Pitt            Christoph Waltz\n",
       "3 Jennifer Jason Leigh Zoë Bell       \n",
       "4 Vivica A. Fox        Chiaki Kuriyama\n",
       "5 Michael Parks        Michael Bowen  \n",
       "6 Elizabeth Berkley    Peter Gerety   "
      ]
     },
     "metadata": {},
     "output_type": "display_data"
    }
   ],
   "source": [
    "imdb %>% filter(diretor %in% c(\"Woody Allen\", \"Quentin Tarantino\")) %>% head()"
   ]
  },
  {
   "cell_type": "markdown",
   "id": "alive-teacher",
   "metadata": {},
   "source": [
    "c)"
   ]
  },
  {
   "cell_type": "code",
   "execution_count": 17,
   "id": "unauthorized-highland",
   "metadata": {},
   "outputs": [
    {
     "data": {
      "text/html": [
       "<table class=\"dataframe\">\n",
       "<caption>A tibble: 6 × 2</caption>\n",
       "<thead>\n",
       "\t<tr><th scope=col>ano</th><th scope=col>titulo</th></tr>\n",
       "\t<tr><th scope=col>&lt;int&gt;</th><th scope=col>&lt;chr&gt;</th></tr>\n",
       "</thead>\n",
       "<tbody>\n",
       "\t<tr><td>2015</td><td>The Hateful Eight    </td></tr>\n",
       "\t<tr><td>2012</td><td>Django Unchained     </td></tr>\n",
       "\t<tr><td>2009</td><td>Inglourious Basterds </td></tr>\n",
       "\t<tr><td>2004</td><td>Kill Bill: Vol. 2    </td></tr>\n",
       "\t<tr><td>2003</td><td>Kill Bill: Vol. 1    </td></tr>\n",
       "\t<tr><td>1997</td><td>Jackie Brown         </td></tr>\n",
       "</tbody>\n",
       "</table>\n"
      ],
      "text/latex": [
       "A tibble: 6 × 2\n",
       "\\begin{tabular}{ll}\n",
       " ano & titulo\\\\\n",
       " <int> & <chr>\\\\\n",
       "\\hline\n",
       "\t 2015 & The Hateful Eight    \\\\\n",
       "\t 2012 & Django Unchained     \\\\\n",
       "\t 2009 & Inglourious Basterds \\\\\n",
       "\t 2004 & Kill Bill: Vol. 2    \\\\\n",
       "\t 2003 & Kill Bill: Vol. 1    \\\\\n",
       "\t 1997 & Jackie Brown         \\\\\n",
       "\\end{tabular}\n"
      ],
      "text/markdown": [
       "\n",
       "A tibble: 6 × 2\n",
       "\n",
       "| ano &lt;int&gt; | titulo &lt;chr&gt; |\n",
       "|---|---|\n",
       "| 2015 | The Hateful Eight     |\n",
       "| 2012 | Django Unchained      |\n",
       "| 2009 | Inglourious Basterds  |\n",
       "| 2004 | Kill Bill: Vol. 2     |\n",
       "| 2003 | Kill Bill: Vol. 1     |\n",
       "| 1997 | Jackie Brown          |\n",
       "\n"
      ],
      "text/plain": [
       "  ano  titulo               \n",
       "1 2015 The Hateful Eight    \n",
       "2 2012 Django Unchained     \n",
       "3 2009 Inglourious Basterds \n",
       "4 2004 Kill Bill: Vol. 2    \n",
       "5 2003 Kill Bill: Vol. 1    \n",
       "6 1997 Jackie Brown         "
      ]
     },
     "metadata": {},
     "output_type": "display_data"
    }
   ],
   "source": [
    "imdb %>% filter(diretor == \"Quentin Tarantino\") %>% select(ano, titulo) %>% arrange(desc(ano)) %>% \n",
    "    head()"
   ]
  },
  {
   "cell_type": "markdown",
   "id": "junior-moderator",
   "metadata": {},
   "source": [
    "d)"
   ]
  },
  {
   "cell_type": "code",
   "execution_count": 18,
   "id": "wired-orientation",
   "metadata": {},
   "outputs": [
    {
     "data": {
      "text/html": [
       "<table class=\"dataframe\">\n",
       "<caption>A tibble: 6 × 15</caption>\n",
       "<thead>\n",
       "\t<tr><th scope=col>titulo</th><th scope=col>ano</th><th scope=col>diretor</th><th scope=col>duracao</th><th scope=col>cor</th><th scope=col>generos</th><th scope=col>pais</th><th scope=col>classificacao</th><th scope=col>orcamento</th><th scope=col>receita</th><th scope=col>nota_imdb</th><th scope=col>likes_facebook</th><th scope=col>ator_1</th><th scope=col>ator_2</th><th scope=col>ator_3</th></tr>\n",
       "\t<tr><th scope=col>&lt;chr&gt;</th><th scope=col>&lt;int&gt;</th><th scope=col>&lt;chr&gt;</th><th scope=col>&lt;int&gt;</th><th scope=col>&lt;chr&gt;</th><th scope=col>&lt;chr&gt;</th><th scope=col>&lt;chr&gt;</th><th scope=col>&lt;chr&gt;</th><th scope=col>&lt;int&gt;</th><th scope=col>&lt;int&gt;</th><th scope=col>&lt;dbl&gt;</th><th scope=col>&lt;int&gt;</th><th scope=col>&lt;chr&gt;</th><th scope=col>&lt;chr&gt;</th><th scope=col>&lt;chr&gt;</th></tr>\n",
       "</thead>\n",
       "<tbody>\n",
       "\t<tr><td>Avatar                                   </td><td>2009</td><td>James Cameron    </td><td>178</td><td>Color</td><td>Action|Adventure|Fantasy|Sci-Fi                          </td><td>USA</td><td>A partir de 13 anos</td><td>237000000</td><td>760505847</td><td>7.9</td><td> 33000</td><td>CCH Pounder </td><td>Joel David Moore</td><td>Wes Studi           </td></tr>\n",
       "\t<tr><td>Pirates of the Caribbean: At World's End </td><td>2007</td><td>Gore Verbinski   </td><td>169</td><td>Color</td><td>Action|Adventure|Fantasy                                 </td><td>USA</td><td>A partir de 13 anos</td><td>300000000</td><td>309404152</td><td>7.1</td><td>     0</td><td>Johnny Depp </td><td>Orlando Bloom   </td><td>Jack Davenport      </td></tr>\n",
       "\t<tr><td>The Dark Knight Rises                    </td><td>2012</td><td>Christopher Nolan</td><td>164</td><td>Color</td><td>Action|Thriller                                          </td><td>USA</td><td>A partir de 13 anos</td><td>250000000</td><td>448130642</td><td>8.5</td><td>164000</td><td>Tom Hardy   </td><td>Christian Bale  </td><td>Joseph Gordon-Levitt</td></tr>\n",
       "\t<tr><td>John Carter                              </td><td>2012</td><td>Andrew Stanton   </td><td>132</td><td>Color</td><td>Action|Adventure|Sci-Fi                                  </td><td>USA</td><td>A partir de 13 anos</td><td>263700000</td><td> 73058679</td><td>6.6</td><td> 24000</td><td>Daryl Sabara</td><td>Samantha Morton </td><td>Polly Walker        </td></tr>\n",
       "\t<tr><td>Spider-Man 3                             </td><td>2007</td><td>Sam Raimi        </td><td>156</td><td>Color</td><td>Action|Adventure|Romance                                 </td><td>USA</td><td>A partir de 13 anos</td><td>258000000</td><td>336530303</td><td>6.2</td><td>     0</td><td>J.K. Simmons</td><td>James Franco    </td><td>Kirsten Dunst       </td></tr>\n",
       "\t<tr><td>Tangled                                  </td><td>2010</td><td>Nathan Greno     </td><td>100</td><td>Color</td><td>Adventure|Animation|Comedy|Family|Fantasy|Musical|Romance</td><td>USA</td><td>Livre              </td><td>260000000</td><td>200807262</td><td>7.8</td><td> 29000</td><td>Brad Garrett</td><td>Donna Murphy    </td><td>M.C. Gainey         </td></tr>\n",
       "</tbody>\n",
       "</table>\n"
      ],
      "text/latex": [
       "A tibble: 6 × 15\n",
       "\\begin{tabular}{lllllllllllllll}\n",
       " titulo & ano & diretor & duracao & cor & generos & pais & classificacao & orcamento & receita & nota\\_imdb & likes\\_facebook & ator\\_1 & ator\\_2 & ator\\_3\\\\\n",
       " <chr> & <int> & <chr> & <int> & <chr> & <chr> & <chr> & <chr> & <int> & <int> & <dbl> & <int> & <chr> & <chr> & <chr>\\\\\n",
       "\\hline\n",
       "\t Avatar                                    & 2009 & James Cameron     & 178 & Color & Action\\textbar{}Adventure\\textbar{}Fantasy\\textbar{}Sci-Fi                           & USA & A partir de 13 anos & 237000000 & 760505847 & 7.9 &  33000 & CCH Pounder  & Joel David Moore & Wes Studi           \\\\\n",
       "\t Pirates of the Caribbean: At World's End  & 2007 & Gore Verbinski    & 169 & Color & Action\\textbar{}Adventure\\textbar{}Fantasy                                  & USA & A partir de 13 anos & 300000000 & 309404152 & 7.1 &      0 & Johnny Depp  & Orlando Bloom    & Jack Davenport      \\\\\n",
       "\t The Dark Knight Rises                     & 2012 & Christopher Nolan & 164 & Color & Action\\textbar{}Thriller                                           & USA & A partir de 13 anos & 250000000 & 448130642 & 8.5 & 164000 & Tom Hardy    & Christian Bale   & Joseph Gordon-Levitt\\\\\n",
       "\t John Carter                               & 2012 & Andrew Stanton    & 132 & Color & Action\\textbar{}Adventure\\textbar{}Sci-Fi                                   & USA & A partir de 13 anos & 263700000 &  73058679 & 6.6 &  24000 & Daryl Sabara & Samantha Morton  & Polly Walker        \\\\\n",
       "\t Spider-Man 3                              & 2007 & Sam Raimi         & 156 & Color & Action\\textbar{}Adventure\\textbar{}Romance                                  & USA & A partir de 13 anos & 258000000 & 336530303 & 6.2 &      0 & J.K. Simmons & James Franco     & Kirsten Dunst       \\\\\n",
       "\t Tangled                                   & 2010 & Nathan Greno      & 100 & Color & Adventure\\textbar{}Animation\\textbar{}Comedy\\textbar{}Family\\textbar{}Fantasy\\textbar{}Musical\\textbar{}Romance & USA & Livre               & 260000000 & 200807262 & 7.8 &  29000 & Brad Garrett & Donna Murphy     & M.C. Gainey         \\\\\n",
       "\\end{tabular}\n"
      ],
      "text/markdown": [
       "\n",
       "A tibble: 6 × 15\n",
       "\n",
       "| titulo &lt;chr&gt; | ano &lt;int&gt; | diretor &lt;chr&gt; | duracao &lt;int&gt; | cor &lt;chr&gt; | generos &lt;chr&gt; | pais &lt;chr&gt; | classificacao &lt;chr&gt; | orcamento &lt;int&gt; | receita &lt;int&gt; | nota_imdb &lt;dbl&gt; | likes_facebook &lt;int&gt; | ator_1 &lt;chr&gt; | ator_2 &lt;chr&gt; | ator_3 &lt;chr&gt; |\n",
       "|---|---|---|---|---|---|---|---|---|---|---|---|---|---|---|\n",
       "| Avatar                                    | 2009 | James Cameron     | 178 | Color | Action|Adventure|Fantasy|Sci-Fi                           | USA | A partir de 13 anos | 237000000 | 760505847 | 7.9 |  33000 | CCH Pounder  | Joel David Moore | Wes Studi            |\n",
       "| Pirates of the Caribbean: At World's End  | 2007 | Gore Verbinski    | 169 | Color | Action|Adventure|Fantasy                                  | USA | A partir de 13 anos | 300000000 | 309404152 | 7.1 |      0 | Johnny Depp  | Orlando Bloom    | Jack Davenport       |\n",
       "| The Dark Knight Rises                     | 2012 | Christopher Nolan | 164 | Color | Action|Thriller                                           | USA | A partir de 13 anos | 250000000 | 448130642 | 8.5 | 164000 | Tom Hardy    | Christian Bale   | Joseph Gordon-Levitt |\n",
       "| John Carter                               | 2012 | Andrew Stanton    | 132 | Color | Action|Adventure|Sci-Fi                                   | USA | A partir de 13 anos | 263700000 |  73058679 | 6.6 |  24000 | Daryl Sabara | Samantha Morton  | Polly Walker         |\n",
       "| Spider-Man 3                              | 2007 | Sam Raimi         | 156 | Color | Action|Adventure|Romance                                  | USA | A partir de 13 anos | 258000000 | 336530303 | 6.2 |      0 | J.K. Simmons | James Franco     | Kirsten Dunst        |\n",
       "| Tangled                                   | 2010 | Nathan Greno      | 100 | Color | Adventure|Animation|Comedy|Family|Fantasy|Musical|Romance | USA | Livre               | 260000000 | 200807262 | 7.8 |  29000 | Brad Garrett | Donna Murphy     | M.C. Gainey          |\n",
       "\n"
      ],
      "text/plain": [
       "  titulo                                    ano  diretor           duracao\n",
       "1 Avatar                                    2009 James Cameron     178    \n",
       "2 Pirates of the Caribbean: At World's End  2007 Gore Verbinski    169    \n",
       "3 The Dark Knight Rises                     2012 Christopher Nolan 164    \n",
       "4 John Carter                               2012 Andrew Stanton    132    \n",
       "5 Spider-Man 3                              2007 Sam Raimi         156    \n",
       "6 Tangled                                   2010 Nathan Greno      100    \n",
       "  cor   generos                                                   pais\n",
       "1 Color Action|Adventure|Fantasy|Sci-Fi                           USA \n",
       "2 Color Action|Adventure|Fantasy                                  USA \n",
       "3 Color Action|Thriller                                           USA \n",
       "4 Color Action|Adventure|Sci-Fi                                   USA \n",
       "5 Color Action|Adventure|Romance                                  USA \n",
       "6 Color Adventure|Animation|Comedy|Family|Fantasy|Musical|Romance USA \n",
       "  classificacao       orcamento receita   nota_imdb likes_facebook ator_1      \n",
       "1 A partir de 13 anos 237000000 760505847 7.9        33000         CCH Pounder \n",
       "2 A partir de 13 anos 300000000 309404152 7.1            0         Johnny Depp \n",
       "3 A partir de 13 anos 250000000 448130642 8.5       164000         Tom Hardy   \n",
       "4 A partir de 13 anos 263700000  73058679 6.6        24000         Daryl Sabara\n",
       "5 A partir de 13 anos 258000000 336530303 6.2            0         J.K. Simmons\n",
       "6 Livre               260000000 200807262 7.8        29000         Brad Garrett\n",
       "  ator_2           ator_3              \n",
       "1 Joel David Moore Wes Studi           \n",
       "2 Orlando Bloom    Jack Davenport      \n",
       "3 Christian Bale   Joseph Gordon-Levitt\n",
       "4 Samantha Morton  Polly Walker        \n",
       "5 James Franco     Kirsten Dunst       \n",
       "6 Donna Murphy     M.C. Gainey         "
      ]
     },
     "metadata": {},
     "output_type": "display_data"
    }
   ],
   "source": [
    "suppressPackageStartupMessages(library(\"stringr\"))\n",
    "\n",
    "imdb %>% filter(str_detect(generos, \"Action\") | str_detect(generos, \"Comedy\")) %>% \n",
    "    head()"
   ]
  },
  {
   "cell_type": "markdown",
   "id": "cross-lucas",
   "metadata": {},
   "source": [
    "e)"
   ]
  },
  {
   "cell_type": "code",
   "execution_count": 19,
   "id": "favorite-space",
   "metadata": {},
   "outputs": [
    {
     "data": {
      "text/html": [
       "<table class=\"dataframe\">\n",
       "<caption>A tibble: 1 × 15</caption>\n",
       "<thead>\n",
       "\t<tr><th scope=col>titulo</th><th scope=col>ano</th><th scope=col>diretor</th><th scope=col>duracao</th><th scope=col>cor</th><th scope=col>generos</th><th scope=col>pais</th><th scope=col>classificacao</th><th scope=col>orcamento</th><th scope=col>receita</th><th scope=col>nota_imdb</th><th scope=col>likes_facebook</th><th scope=col>ator_1</th><th scope=col>ator_2</th><th scope=col>ator_3</th></tr>\n",
       "\t<tr><th scope=col>&lt;chr&gt;</th><th scope=col>&lt;int&gt;</th><th scope=col>&lt;chr&gt;</th><th scope=col>&lt;int&gt;</th><th scope=col>&lt;chr&gt;</th><th scope=col>&lt;chr&gt;</th><th scope=col>&lt;chr&gt;</th><th scope=col>&lt;chr&gt;</th><th scope=col>&lt;int&gt;</th><th scope=col>&lt;int&gt;</th><th scope=col>&lt;dbl&gt;</th><th scope=col>&lt;int&gt;</th><th scope=col>&lt;chr&gt;</th><th scope=col>&lt;chr&gt;</th><th scope=col>&lt;chr&gt;</th></tr>\n",
       "</thead>\n",
       "<tbody>\n",
       "\t<tr><td>Deadpool </td><td>2016</td><td>Tim Miller</td><td>108</td><td>Color</td><td>Action|Adventure|Comedy|Romance|Sci-Fi</td><td>USA</td><td>A partir de 18 anos</td><td>58000000</td><td>363024263</td><td>8.1</td><td>117000</td><td>Ryan Reynolds</td><td>Ed Skrein</td><td>Stefan Kapicic</td></tr>\n",
       "</tbody>\n",
       "</table>\n"
      ],
      "text/latex": [
       "A tibble: 1 × 15\n",
       "\\begin{tabular}{lllllllllllllll}\n",
       " titulo & ano & diretor & duracao & cor & generos & pais & classificacao & orcamento & receita & nota\\_imdb & likes\\_facebook & ator\\_1 & ator\\_2 & ator\\_3\\\\\n",
       " <chr> & <int> & <chr> & <int> & <chr> & <chr> & <chr> & <chr> & <int> & <int> & <dbl> & <int> & <chr> & <chr> & <chr>\\\\\n",
       "\\hline\n",
       "\t Deadpool  & 2016 & Tim Miller & 108 & Color & Action\\textbar{}Adventure\\textbar{}Comedy\\textbar{}Romance\\textbar{}Sci-Fi & USA & A partir de 18 anos & 58000000 & 363024263 & 8.1 & 117000 & Ryan Reynolds & Ed Skrein & Stefan Kapicic\\\\\n",
       "\\end{tabular}\n"
      ],
      "text/markdown": [
       "\n",
       "A tibble: 1 × 15\n",
       "\n",
       "| titulo &lt;chr&gt; | ano &lt;int&gt; | diretor &lt;chr&gt; | duracao &lt;int&gt; | cor &lt;chr&gt; | generos &lt;chr&gt; | pais &lt;chr&gt; | classificacao &lt;chr&gt; | orcamento &lt;int&gt; | receita &lt;int&gt; | nota_imdb &lt;dbl&gt; | likes_facebook &lt;int&gt; | ator_1 &lt;chr&gt; | ator_2 &lt;chr&gt; | ator_3 &lt;chr&gt; |\n",
       "|---|---|---|---|---|---|---|---|---|---|---|---|---|---|---|\n",
       "| Deadpool  | 2016 | Tim Miller | 108 | Color | Action|Adventure|Comedy|Romance|Sci-Fi | USA | A partir de 18 anos | 58000000 | 363024263 | 8.1 | 117000 | Ryan Reynolds | Ed Skrein | Stefan Kapicic |\n",
       "\n"
      ],
      "text/plain": [
       "  titulo    ano  diretor    duracao cor  \n",
       "1 Deadpool  2016 Tim Miller 108     Color\n",
       "  generos                                pais classificacao       orcamento\n",
       "1 Action|Adventure|Comedy|Romance|Sci-Fi USA  A partir de 18 anos 58000000 \n",
       "  receita   nota_imdb likes_facebook ator_1        ator_2    ator_3        \n",
       "1 363024263 8.1       117000         Ryan Reynolds Ed Skrein Stefan Kapicic"
      ]
     },
     "metadata": {},
     "output_type": "display_data"
    }
   ],
   "source": [
    "imdb %>% filter(str_detect(generos, \"Action\") & str_detect(generos, \"Comedy\") & nota_imdb > \n",
    "    8)"
   ]
  },
  {
   "cell_type": "markdown",
   "id": "ordered-collar",
   "metadata": {},
   "source": [
    "f)"
   ]
  },
  {
   "cell_type": "code",
   "execution_count": 44,
   "id": "chinese-subcommittee",
   "metadata": {},
   "outputs": [
    {
     "data": {
      "text/html": [
       "<table class=\"dataframe\">\n",
       "<caption>A tibble: 6 × 15</caption>\n",
       "<thead>\n",
       "\t<tr><th scope=col>titulo</th><th scope=col>ano</th><th scope=col>diretor</th><th scope=col>duracao</th><th scope=col>cor</th><th scope=col>generos</th><th scope=col>pais</th><th scope=col>classificacao</th><th scope=col>orcamento</th><th scope=col>receita</th><th scope=col>nota_imdb</th><th scope=col>likes_facebook</th><th scope=col>ator_1</th><th scope=col>ator_2</th><th scope=col>ator_3</th></tr>\n",
       "\t<tr><th scope=col>&lt;chr&gt;</th><th scope=col>&lt;int&gt;</th><th scope=col>&lt;chr&gt;</th><th scope=col>&lt;int&gt;</th><th scope=col>&lt;chr&gt;</th><th scope=col>&lt;chr&gt;</th><th scope=col>&lt;chr&gt;</th><th scope=col>&lt;chr&gt;</th><th scope=col>&lt;int&gt;</th><th scope=col>&lt;int&gt;</th><th scope=col>&lt;dbl&gt;</th><th scope=col>&lt;int&gt;</th><th scope=col>&lt;chr&gt;</th><th scope=col>&lt;chr&gt;</th><th scope=col>&lt;chr&gt;</th></tr>\n",
       "</thead>\n",
       "<tbody>\n",
       "\t<tr><td>The A-Team    </td><td>  NA</td><td>NA               </td><td> 60</td><td>Color          </td><td>Action|Adventure|Crime                      </td><td>USA</td><td>Outros             </td><td>NA</td><td>NA</td><td>7.6</td><td>    0</td><td>George Peppard      </td><td>Dirk Benedict  </td><td>Dwight Schultz</td></tr>\n",
       "\t<tr><td>Ben-Hur       </td><td>2016</td><td>Timur Bekmambetov</td><td>141</td><td>Color          </td><td>Adventure|Drama|History                     </td><td>USA</td><td>A partir de 13 anos</td><td>NA</td><td>NA</td><td>6.1</td><td>    0</td><td>Morgan Freeman      </td><td>Ayelet Zurer   </td><td>Moises Arias  </td></tr>\n",
       "\t<tr><td>Hannibal      </td><td>  NA</td><td>NA               </td><td> 44</td><td>Color          </td><td>Crime|Drama|Horror|Mystery|Thriller         </td><td>USA</td><td>Outros             </td><td>NA</td><td>NA</td><td>8.6</td><td>59000</td><td>Caroline Dhavernas  </td><td>Scott Thompson </td><td>Hettienne Park</td></tr>\n",
       "\t<tr><td>All That Jazz </td><td>1979</td><td>Bob Fosse        </td><td>123</td><td>Color          </td><td>Comedy|Drama|Music|Musical                  </td><td>USA</td><td>A partir de 18 anos</td><td>NA</td><td>NA</td><td>7.8</td><td>    0</td><td>Roy Scheider        </td><td>Ben Vereen     </td><td>Max Wright    </td></tr>\n",
       "\t<tr><td>Daredevil     </td><td>  NA</td><td>NA               </td><td> 54</td><td>NA             </td><td>Action|Adventure|Crime|Drama|Sci-Fi|Thriller</td><td>USA</td><td>Outros             </td><td>NA</td><td>NA</td><td>8.8</td><td>55000</td><td>Elden Henson        </td><td>Royce Johnson  </td><td>Charlie Cox   </td></tr>\n",
       "\t<tr><td>Bewitched     </td><td>  NA</td><td>NA               </td><td> 25</td><td>Black and White</td><td>Comedy|Family|Fantasy                       </td><td>USA</td><td>Outros             </td><td>NA</td><td>NA</td><td>7.6</td><td>    0</td><td>Elizabeth Montgomery</td><td>Agnes Moorehead</td><td>Dick York     </td></tr>\n",
       "</tbody>\n",
       "</table>\n"
      ],
      "text/latex": [
       "A tibble: 6 × 15\n",
       "\\begin{tabular}{lllllllllllllll}\n",
       " titulo & ano & diretor & duracao & cor & generos & pais & classificacao & orcamento & receita & nota\\_imdb & likes\\_facebook & ator\\_1 & ator\\_2 & ator\\_3\\\\\n",
       " <chr> & <int> & <chr> & <int> & <chr> & <chr> & <chr> & <chr> & <int> & <int> & <dbl> & <int> & <chr> & <chr> & <chr>\\\\\n",
       "\\hline\n",
       "\t The A-Team     &   NA & NA                &  60 & Color           & Action\\textbar{}Adventure\\textbar{}Crime                       & USA & Outros              & NA & NA & 7.6 &     0 & George Peppard       & Dirk Benedict   & Dwight Schultz\\\\\n",
       "\t Ben-Hur        & 2016 & Timur Bekmambetov & 141 & Color           & Adventure\\textbar{}Drama\\textbar{}History                      & USA & A partir de 13 anos & NA & NA & 6.1 &     0 & Morgan Freeman       & Ayelet Zurer    & Moises Arias  \\\\\n",
       "\t Hannibal       &   NA & NA                &  44 & Color           & Crime\\textbar{}Drama\\textbar{}Horror\\textbar{}Mystery\\textbar{}Thriller          & USA & Outros              & NA & NA & 8.6 & 59000 & Caroline Dhavernas   & Scott Thompson  & Hettienne Park\\\\\n",
       "\t All That Jazz  & 1979 & Bob Fosse         & 123 & Color           & Comedy\\textbar{}Drama\\textbar{}Music\\textbar{}Musical                   & USA & A partir de 18 anos & NA & NA & 7.8 &     0 & Roy Scheider         & Ben Vereen      & Max Wright    \\\\\n",
       "\t Daredevil      &   NA & NA                &  54 & NA              & Action\\textbar{}Adventure\\textbar{}Crime\\textbar{}Drama\\textbar{}Sci-Fi\\textbar{}Thriller & USA & Outros              & NA & NA & 8.8 & 55000 & Elden Henson         & Royce Johnson   & Charlie Cox   \\\\\n",
       "\t Bewitched      &   NA & NA                &  25 & Black and White & Comedy\\textbar{}Family\\textbar{}Fantasy                        & USA & Outros              & NA & NA & 7.6 &     0 & Elizabeth Montgomery & Agnes Moorehead & Dick York     \\\\\n",
       "\\end{tabular}\n"
      ],
      "text/markdown": [
       "\n",
       "A tibble: 6 × 15\n",
       "\n",
       "| titulo &lt;chr&gt; | ano &lt;int&gt; | diretor &lt;chr&gt; | duracao &lt;int&gt; | cor &lt;chr&gt; | generos &lt;chr&gt; | pais &lt;chr&gt; | classificacao &lt;chr&gt; | orcamento &lt;int&gt; | receita &lt;int&gt; | nota_imdb &lt;dbl&gt; | likes_facebook &lt;int&gt; | ator_1 &lt;chr&gt; | ator_2 &lt;chr&gt; | ator_3 &lt;chr&gt; |\n",
       "|---|---|---|---|---|---|---|---|---|---|---|---|---|---|---|\n",
       "| The A-Team     |   NA | NA                |  60 | Color           | Action|Adventure|Crime                       | USA | Outros              | NA | NA | 7.6 |     0 | George Peppard       | Dirk Benedict   | Dwight Schultz |\n",
       "| Ben-Hur        | 2016 | Timur Bekmambetov | 141 | Color           | Adventure|Drama|History                      | USA | A partir de 13 anos | NA | NA | 6.1 |     0 | Morgan Freeman       | Ayelet Zurer    | Moises Arias   |\n",
       "| Hannibal       |   NA | NA                |  44 | Color           | Crime|Drama|Horror|Mystery|Thriller          | USA | Outros              | NA | NA | 8.6 | 59000 | Caroline Dhavernas   | Scott Thompson  | Hettienne Park |\n",
       "| All That Jazz  | 1979 | Bob Fosse         | 123 | Color           | Comedy|Drama|Music|Musical                   | USA | A partir de 18 anos | NA | NA | 7.8 |     0 | Roy Scheider         | Ben Vereen      | Max Wright     |\n",
       "| Daredevil      |   NA | NA                |  54 | NA              | Action|Adventure|Crime|Drama|Sci-Fi|Thriller | USA | Outros              | NA | NA | 8.8 | 55000 | Elden Henson         | Royce Johnson   | Charlie Cox    |\n",
       "| Bewitched      |   NA | NA                |  25 | Black and White | Comedy|Family|Fantasy                        | USA | Outros              | NA | NA | 7.6 |     0 | Elizabeth Montgomery | Agnes Moorehead | Dick York      |\n",
       "\n"
      ],
      "text/plain": [
       "  titulo         ano  diretor           duracao cor            \n",
       "1 The A-Team       NA NA                 60     Color          \n",
       "2 Ben-Hur        2016 Timur Bekmambetov 141     Color          \n",
       "3 Hannibal         NA NA                 44     Color          \n",
       "4 All That Jazz  1979 Bob Fosse         123     Color          \n",
       "5 Daredevil        NA NA                 54     NA             \n",
       "6 Bewitched        NA NA                 25     Black and White\n",
       "  generos                                      pais classificacao      \n",
       "1 Action|Adventure|Crime                       USA  Outros             \n",
       "2 Adventure|Drama|History                      USA  A partir de 13 anos\n",
       "3 Crime|Drama|Horror|Mystery|Thriller          USA  Outros             \n",
       "4 Comedy|Drama|Music|Musical                   USA  A partir de 18 anos\n",
       "5 Action|Adventure|Crime|Drama|Sci-Fi|Thriller USA  Outros             \n",
       "6 Comedy|Family|Fantasy                        USA  Outros             \n",
       "  orcamento receita nota_imdb likes_facebook ator_1              \n",
       "1 NA        NA      7.6           0          George Peppard      \n",
       "2 NA        NA      6.1           0          Morgan Freeman      \n",
       "3 NA        NA      8.6       59000          Caroline Dhavernas  \n",
       "4 NA        NA      7.8           0          Roy Scheider        \n",
       "5 NA        NA      8.8       55000          Elden Henson        \n",
       "6 NA        NA      7.6           0          Elizabeth Montgomery\n",
       "  ator_2          ator_3        \n",
       "1 Dirk Benedict   Dwight Schultz\n",
       "2 Ayelet Zurer    Moises Arias  \n",
       "3 Scott Thompson  Hettienne Park\n",
       "4 Ben Vereen      Max Wright    \n",
       "5 Royce Johnson   Charlie Cox   \n",
       "6 Agnes Moorehead Dick York     "
      ]
     },
     "metadata": {},
     "output_type": "display_data"
    }
   ],
   "source": [
    "head(imdb %>% filter(is.na(receita) & is.na(orcamento)))"
   ]
  },
  {
   "cell_type": "markdown",
   "id": "devoted-trinity",
   "metadata": {},
   "source": [
    "## Exercícios 7.2.5\n",
    "\n",
    "1)"
   ]
  },
  {
   "cell_type": "code",
   "execution_count": 20,
   "id": "expensive-myrtle",
   "metadata": {},
   "outputs": [
    {
     "data": {
      "text/html": [
       "<table class=\"dataframe\">\n",
       "<caption>A tibble: 6 × 16</caption>\n",
       "<thead>\n",
       "\t<tr><th scope=col>titulo</th><th scope=col>ano</th><th scope=col>diretor</th><th scope=col>duracao</th><th scope=col>cor</th><th scope=col>generos</th><th scope=col>pais</th><th scope=col>classificacao</th><th scope=col>orcamento</th><th scope=col>receita</th><th scope=col>nota_imdb</th><th scope=col>likes_facebook</th><th scope=col>ator_1</th><th scope=col>ator_2</th><th scope=col>ator_3</th><th scope=col>prejuizo</th></tr>\n",
       "\t<tr><th scope=col>&lt;chr&gt;</th><th scope=col>&lt;int&gt;</th><th scope=col>&lt;chr&gt;</th><th scope=col>&lt;int&gt;</th><th scope=col>&lt;chr&gt;</th><th scope=col>&lt;chr&gt;</th><th scope=col>&lt;chr&gt;</th><th scope=col>&lt;chr&gt;</th><th scope=col>&lt;int&gt;</th><th scope=col>&lt;int&gt;</th><th scope=col>&lt;dbl&gt;</th><th scope=col>&lt;int&gt;</th><th scope=col>&lt;chr&gt;</th><th scope=col>&lt;chr&gt;</th><th scope=col>&lt;chr&gt;</th><th scope=col>&lt;int&gt;</th></tr>\n",
       "</thead>\n",
       "<tbody>\n",
       "\t<tr><td>The Horse Boy  </td><td>2009</td><td>Michel Orion Scott   </td><td> 93</td><td>Color</td><td>Documentary         </td><td>USA</td><td>Outros             </td><td> 160000</td><td> 155984</td><td>7.4</td><td>  0</td><td>Temple Grandin     </td><td>Rowan Isaacson    </td><td>Simon Baron-Cohen</td><td> 4016</td></tr>\n",
       "\t<tr><td>Newlyweds      </td><td>2011</td><td>Edward Burns         </td><td> 95</td><td>Color</td><td>Comedy|Drama        </td><td>USA</td><td>Outros             </td><td>   9000</td><td>   4584</td><td>6.4</td><td>413</td><td>Kerry Bishé        </td><td>Caitlin FitzGerald</td><td>Daniella Pineda  </td><td> 4416</td></tr>\n",
       "\t<tr><td>Shortbus       </td><td>2006</td><td>John Cameron Mitchell</td><td>101</td><td>Color</td><td>Comedy|Drama|Romance</td><td>USA</td><td>Outros             </td><td>2000000</td><td>1984378</td><td>6.5</td><td>  0</td><td>Sook-Yin Lee       </td><td>Peter Stickles    </td><td>Raphael Barker   </td><td>15622</td></tr>\n",
       "\t<tr><td>Slam           </td><td>1998</td><td>Marc Levin           </td><td>100</td><td>Color</td><td>Drama               </td><td>USA</td><td>A partir de 18 anos</td><td>1000000</td><td> 982214</td><td>7.2</td><td>603</td><td>Sonja Sohn         </td><td>Saul Williams     </td><td>Bonz Malone      </td><td>17786</td></tr>\n",
       "\t<tr><td>Pink Narcissus </td><td>1971</td><td>James Bidgood        </td><td> 65</td><td>Color</td><td>Drama|Fantasy       </td><td>USA</td><td>Outros             </td><td>  27000</td><td>   8231</td><td>6.7</td><td> 85</td><td>Don Brooks         </td><td>Bobby Kendall     </td><td>NA               </td><td>18769</td></tr>\n",
       "\t<tr><td>The FP         </td><td>2011</td><td>Brandon Trost        </td><td> 82</td><td>Color</td><td>Comedy              </td><td>USA</td><td>A partir de 18 anos</td><td>  60000</td><td>  40557</td><td>5.6</td><td>  0</td><td>Clifton Collins Jr.</td><td>Sean Whalen       </td><td>James DeBello    </td><td>19443</td></tr>\n",
       "</tbody>\n",
       "</table>\n"
      ],
      "text/latex": [
       "A tibble: 6 × 16\n",
       "\\begin{tabular}{llllllllllllllll}\n",
       " titulo & ano & diretor & duracao & cor & generos & pais & classificacao & orcamento & receita & nota\\_imdb & likes\\_facebook & ator\\_1 & ator\\_2 & ator\\_3 & prejuizo\\\\\n",
       " <chr> & <int> & <chr> & <int> & <chr> & <chr> & <chr> & <chr> & <int> & <int> & <dbl> & <int> & <chr> & <chr> & <chr> & <int>\\\\\n",
       "\\hline\n",
       "\t The Horse Boy   & 2009 & Michel Orion Scott    &  93 & Color & Documentary          & USA & Outros              &  160000 &  155984 & 7.4 &   0 & Temple Grandin      & Rowan Isaacson     & Simon Baron-Cohen &  4016\\\\\n",
       "\t Newlyweds       & 2011 & Edward Burns          &  95 & Color & Comedy\\textbar{}Drama         & USA & Outros              &    9000 &    4584 & 6.4 & 413 & Kerry Bishé         & Caitlin FitzGerald & Daniella Pineda   &  4416\\\\\n",
       "\t Shortbus        & 2006 & John Cameron Mitchell & 101 & Color & Comedy\\textbar{}Drama\\textbar{}Romance & USA & Outros              & 2000000 & 1984378 & 6.5 &   0 & Sook-Yin Lee        & Peter Stickles     & Raphael Barker    & 15622\\\\\n",
       "\t Slam            & 1998 & Marc Levin            & 100 & Color & Drama                & USA & A partir de 18 anos & 1000000 &  982214 & 7.2 & 603 & Sonja Sohn          & Saul Williams      & Bonz Malone       & 17786\\\\\n",
       "\t Pink Narcissus  & 1971 & James Bidgood         &  65 & Color & Drama\\textbar{}Fantasy        & USA & Outros              &   27000 &    8231 & 6.7 &  85 & Don Brooks          & Bobby Kendall      & NA                & 18769\\\\\n",
       "\t The FP          & 2011 & Brandon Trost         &  82 & Color & Comedy               & USA & A partir de 18 anos &   60000 &   40557 & 5.6 &   0 & Clifton Collins Jr. & Sean Whalen        & James DeBello     & 19443\\\\\n",
       "\\end{tabular}\n"
      ],
      "text/markdown": [
       "\n",
       "A tibble: 6 × 16\n",
       "\n",
       "| titulo &lt;chr&gt; | ano &lt;int&gt; | diretor &lt;chr&gt; | duracao &lt;int&gt; | cor &lt;chr&gt; | generos &lt;chr&gt; | pais &lt;chr&gt; | classificacao &lt;chr&gt; | orcamento &lt;int&gt; | receita &lt;int&gt; | nota_imdb &lt;dbl&gt; | likes_facebook &lt;int&gt; | ator_1 &lt;chr&gt; | ator_2 &lt;chr&gt; | ator_3 &lt;chr&gt; | prejuizo &lt;int&gt; |\n",
       "|---|---|---|---|---|---|---|---|---|---|---|---|---|---|---|---|\n",
       "| The Horse Boy   | 2009 | Michel Orion Scott    |  93 | Color | Documentary          | USA | Outros              |  160000 |  155984 | 7.4 |   0 | Temple Grandin      | Rowan Isaacson     | Simon Baron-Cohen |  4016 |\n",
       "| Newlyweds       | 2011 | Edward Burns          |  95 | Color | Comedy|Drama         | USA | Outros              |    9000 |    4584 | 6.4 | 413 | Kerry Bishé         | Caitlin FitzGerald | Daniella Pineda   |  4416 |\n",
       "| Shortbus        | 2006 | John Cameron Mitchell | 101 | Color | Comedy|Drama|Romance | USA | Outros              | 2000000 | 1984378 | 6.5 |   0 | Sook-Yin Lee        | Peter Stickles     | Raphael Barker    | 15622 |\n",
       "| Slam            | 1998 | Marc Levin            | 100 | Color | Drama                | USA | A partir de 18 anos | 1000000 |  982214 | 7.2 | 603 | Sonja Sohn          | Saul Williams      | Bonz Malone       | 17786 |\n",
       "| Pink Narcissus  | 1971 | James Bidgood         |  65 | Color | Drama|Fantasy        | USA | Outros              |   27000 |    8231 | 6.7 |  85 | Don Brooks          | Bobby Kendall      | NA                | 18769 |\n",
       "| The FP          | 2011 | Brandon Trost         |  82 | Color | Comedy               | USA | A partir de 18 anos |   60000 |   40557 | 5.6 |   0 | Clifton Collins Jr. | Sean Whalen        | James DeBello     | 19443 |\n",
       "\n"
      ],
      "text/plain": [
       "  titulo          ano  diretor               duracao cor   generos             \n",
       "1 The Horse Boy   2009 Michel Orion Scott     93     Color Documentary         \n",
       "2 Newlyweds       2011 Edward Burns           95     Color Comedy|Drama        \n",
       "3 Shortbus        2006 John Cameron Mitchell 101     Color Comedy|Drama|Romance\n",
       "4 Slam            1998 Marc Levin            100     Color Drama               \n",
       "5 Pink Narcissus  1971 James Bidgood          65     Color Drama|Fantasy       \n",
       "6 The FP          2011 Brandon Trost          82     Color Comedy              \n",
       "  pais classificacao       orcamento receita nota_imdb likes_facebook\n",
       "1 USA  Outros               160000    155984 7.4         0           \n",
       "2 USA  Outros                 9000      4584 6.4       413           \n",
       "3 USA  Outros              2000000   1984378 6.5         0           \n",
       "4 USA  A partir de 18 anos 1000000    982214 7.2       603           \n",
       "5 USA  Outros                27000      8231 6.7        85           \n",
       "6 USA  A partir de 18 anos   60000     40557 5.6         0           \n",
       "  ator_1              ator_2             ator_3            prejuizo\n",
       "1 Temple Grandin      Rowan Isaacson     Simon Baron-Cohen  4016   \n",
       "2 Kerry Bishé         Caitlin FitzGerald Daniella Pineda    4416   \n",
       "3 Sook-Yin Lee        Peter Stickles     Raphael Barker    15622   \n",
       "4 Sonja Sohn          Saul Williams      Bonz Malone       17786   \n",
       "5 Don Brooks          Bobby Kendall      NA                18769   \n",
       "6 Clifton Collins Jr. Sean Whalen        James DeBello     19443   "
      ]
     },
     "metadata": {},
     "output_type": "display_data"
    }
   ],
   "source": [
    "imdb_prejuizo <- imdb %>% mutate(prejuizo = orcamento - receita) %>% filter(prejuizo > \n",
    "    0) %>% arrange(prejuizo)\n",
    "imdb_prejuizo %>% head()"
   ]
  },
  {
   "cell_type": "markdown",
   "id": "standing-strike",
   "metadata": {},
   "source": [
    "2)"
   ]
  },
  {
   "cell_type": "code",
   "execution_count": 21,
   "id": "generic-commissioner",
   "metadata": {},
   "outputs": [
    {
     "data": {
      "text/html": [
       "<table class=\"dataframe\">\n",
       "<caption>A tibble: 6 × 19</caption>\n",
       "<thead>\n",
       "\t<tr><th scope=col>titulo</th><th scope=col>ano</th><th scope=col>diretor</th><th scope=col>duracao</th><th scope=col>cor</th><th scope=col>generos</th><th scope=col>pais</th><th scope=col>classificacao</th><th scope=col>orcamento</th><th scope=col>receita</th><th scope=col>nota_imdb</th><th scope=col>likes_facebook</th><th scope=col>ator_1</th><th scope=col>ator_2</th><th scope=col>ator_3</th><th scope=col>lucro</th><th scope=col>lucro_medio</th><th scope=col>lucro_relativo</th><th scope=col>houve_lucro</th></tr>\n",
       "\t<tr><th scope=col>&lt;chr&gt;</th><th scope=col>&lt;int&gt;</th><th scope=col>&lt;chr&gt;</th><th scope=col>&lt;int&gt;</th><th scope=col>&lt;chr&gt;</th><th scope=col>&lt;chr&gt;</th><th scope=col>&lt;chr&gt;</th><th scope=col>&lt;chr&gt;</th><th scope=col>&lt;int&gt;</th><th scope=col>&lt;int&gt;</th><th scope=col>&lt;dbl&gt;</th><th scope=col>&lt;int&gt;</th><th scope=col>&lt;chr&gt;</th><th scope=col>&lt;chr&gt;</th><th scope=col>&lt;chr&gt;</th><th scope=col>&lt;int&gt;</th><th scope=col>&lt;dbl&gt;</th><th scope=col>&lt;dbl&gt;</th><th scope=col>&lt;chr&gt;</th></tr>\n",
       "</thead>\n",
       "<tbody>\n",
       "\t<tr><td>Avatar                                   </td><td>2009</td><td>James Cameron    </td><td>178</td><td>Color</td><td>Action|Adventure|Fantasy|Sci-Fi                          </td><td>USA</td><td>A partir de 13 anos</td><td>237000000</td><td>760505847</td><td>7.9</td><td> 33000</td><td>CCH Pounder </td><td>Joel David Moore</td><td>Wes Studi           </td><td> 523505847</td><td>17258230</td><td> 29.3336921</td><td>sim</td></tr>\n",
       "\t<tr><td>Pirates of the Caribbean: At World's End </td><td>2007</td><td>Gore Verbinski   </td><td>169</td><td>Color</td><td>Action|Adventure|Fantasy                                 </td><td>USA</td><td>A partir de 13 anos</td><td>300000000</td><td>309404152</td><td>7.1</td><td>     0</td><td>Johnny Depp </td><td>Orlando Bloom   </td><td>Jack Davenport      </td><td>   9404152</td><td>17258230</td><td> -0.4550918</td><td>sim</td></tr>\n",
       "\t<tr><td>The Dark Knight Rises                    </td><td>2012</td><td>Christopher Nolan</td><td>164</td><td>Color</td><td>Action|Thriller                                          </td><td>USA</td><td>A partir de 13 anos</td><td>250000000</td><td>448130642</td><td>8.5</td><td>164000</td><td>Tom Hardy   </td><td>Christian Bale  </td><td>Joseph Gordon-Levitt</td><td> 198130642</td><td>17258230</td><td> 10.4803568</td><td>sim</td></tr>\n",
       "\t<tr><td>John Carter                              </td><td>2012</td><td>Andrew Stanton   </td><td>132</td><td>Color</td><td>Action|Adventure|Sci-Fi                                  </td><td>USA</td><td>A partir de 13 anos</td><td>263700000</td><td> 73058679</td><td>6.6</td><td> 24000</td><td>Daryl Sabara</td><td>Samantha Morton </td><td>Polly Walker        </td><td>-190641321</td><td>17258230</td><td>-12.0464003</td><td>não</td></tr>\n",
       "\t<tr><td>Spider-Man 3                             </td><td>2007</td><td>Sam Raimi        </td><td>156</td><td>Color</td><td>Action|Adventure|Romance                                 </td><td>USA</td><td>A partir de 13 anos</td><td>258000000</td><td>336530303</td><td>6.2</td><td>     0</td><td>J.K. Simmons</td><td>James Franco    </td><td>Kirsten Dunst       </td><td>  78530303</td><td>17258230</td><td>  3.5503103</td><td>sim</td></tr>\n",
       "\t<tr><td>Tangled                                  </td><td>2010</td><td>Nathan Greno     </td><td>100</td><td>Color</td><td>Adventure|Animation|Comedy|Family|Fantasy|Musical|Romance</td><td>USA</td><td>Livre              </td><td>260000000</td><td>200807262</td><td>7.8</td><td> 29000</td><td>Brad Garrett</td><td>Donna Murphy    </td><td>M.C. Gainey         </td><td> -59192738</td><td>17258230</td><td> -4.4298266</td><td>não</td></tr>\n",
       "</tbody>\n",
       "</table>\n"
      ],
      "text/latex": [
       "A tibble: 6 × 19\n",
       "\\begin{tabular}{lllllllllllllllllll}\n",
       " titulo & ano & diretor & duracao & cor & generos & pais & classificacao & orcamento & receita & nota\\_imdb & likes\\_facebook & ator\\_1 & ator\\_2 & ator\\_3 & lucro & lucro\\_medio & lucro\\_relativo & houve\\_lucro\\\\\n",
       " <chr> & <int> & <chr> & <int> & <chr> & <chr> & <chr> & <chr> & <int> & <int> & <dbl> & <int> & <chr> & <chr> & <chr> & <int> & <dbl> & <dbl> & <chr>\\\\\n",
       "\\hline\n",
       "\t Avatar                                    & 2009 & James Cameron     & 178 & Color & Action\\textbar{}Adventure\\textbar{}Fantasy\\textbar{}Sci-Fi                           & USA & A partir de 13 anos & 237000000 & 760505847 & 7.9 &  33000 & CCH Pounder  & Joel David Moore & Wes Studi            &  523505847 & 17258230 &  29.3336921 & sim\\\\\n",
       "\t Pirates of the Caribbean: At World's End  & 2007 & Gore Verbinski    & 169 & Color & Action\\textbar{}Adventure\\textbar{}Fantasy                                  & USA & A partir de 13 anos & 300000000 & 309404152 & 7.1 &      0 & Johnny Depp  & Orlando Bloom    & Jack Davenport       &    9404152 & 17258230 &  -0.4550918 & sim\\\\\n",
       "\t The Dark Knight Rises                     & 2012 & Christopher Nolan & 164 & Color & Action\\textbar{}Thriller                                           & USA & A partir de 13 anos & 250000000 & 448130642 & 8.5 & 164000 & Tom Hardy    & Christian Bale   & Joseph Gordon-Levitt &  198130642 & 17258230 &  10.4803568 & sim\\\\\n",
       "\t John Carter                               & 2012 & Andrew Stanton    & 132 & Color & Action\\textbar{}Adventure\\textbar{}Sci-Fi                                   & USA & A partir de 13 anos & 263700000 &  73058679 & 6.6 &  24000 & Daryl Sabara & Samantha Morton  & Polly Walker         & -190641321 & 17258230 & -12.0464003 & não\\\\\n",
       "\t Spider-Man 3                              & 2007 & Sam Raimi         & 156 & Color & Action\\textbar{}Adventure\\textbar{}Romance                                  & USA & A partir de 13 anos & 258000000 & 336530303 & 6.2 &      0 & J.K. Simmons & James Franco     & Kirsten Dunst        &   78530303 & 17258230 &   3.5503103 & sim\\\\\n",
       "\t Tangled                                   & 2010 & Nathan Greno      & 100 & Color & Adventure\\textbar{}Animation\\textbar{}Comedy\\textbar{}Family\\textbar{}Fantasy\\textbar{}Musical\\textbar{}Romance & USA & Livre               & 260000000 & 200807262 & 7.8 &  29000 & Brad Garrett & Donna Murphy     & M.C. Gainey          &  -59192738 & 17258230 &  -4.4298266 & não\\\\\n",
       "\\end{tabular}\n"
      ],
      "text/markdown": [
       "\n",
       "A tibble: 6 × 19\n",
       "\n",
       "| titulo &lt;chr&gt; | ano &lt;int&gt; | diretor &lt;chr&gt; | duracao &lt;int&gt; | cor &lt;chr&gt; | generos &lt;chr&gt; | pais &lt;chr&gt; | classificacao &lt;chr&gt; | orcamento &lt;int&gt; | receita &lt;int&gt; | nota_imdb &lt;dbl&gt; | likes_facebook &lt;int&gt; | ator_1 &lt;chr&gt; | ator_2 &lt;chr&gt; | ator_3 &lt;chr&gt; | lucro &lt;int&gt; | lucro_medio &lt;dbl&gt; | lucro_relativo &lt;dbl&gt; | houve_lucro &lt;chr&gt; |\n",
       "|---|---|---|---|---|---|---|---|---|---|---|---|---|---|---|---|---|---|---|\n",
       "| Avatar                                    | 2009 | James Cameron     | 178 | Color | Action|Adventure|Fantasy|Sci-Fi                           | USA | A partir de 13 anos | 237000000 | 760505847 | 7.9 |  33000 | CCH Pounder  | Joel David Moore | Wes Studi            |  523505847 | 17258230 |  29.3336921 | sim |\n",
       "| Pirates of the Caribbean: At World's End  | 2007 | Gore Verbinski    | 169 | Color | Action|Adventure|Fantasy                                  | USA | A partir de 13 anos | 300000000 | 309404152 | 7.1 |      0 | Johnny Depp  | Orlando Bloom    | Jack Davenport       |    9404152 | 17258230 |  -0.4550918 | sim |\n",
       "| The Dark Knight Rises                     | 2012 | Christopher Nolan | 164 | Color | Action|Thriller                                           | USA | A partir de 13 anos | 250000000 | 448130642 | 8.5 | 164000 | Tom Hardy    | Christian Bale   | Joseph Gordon-Levitt |  198130642 | 17258230 |  10.4803568 | sim |\n",
       "| John Carter                               | 2012 | Andrew Stanton    | 132 | Color | Action|Adventure|Sci-Fi                                   | USA | A partir de 13 anos | 263700000 |  73058679 | 6.6 |  24000 | Daryl Sabara | Samantha Morton  | Polly Walker         | -190641321 | 17258230 | -12.0464003 | não |\n",
       "| Spider-Man 3                              | 2007 | Sam Raimi         | 156 | Color | Action|Adventure|Romance                                  | USA | A partir de 13 anos | 258000000 | 336530303 | 6.2 |      0 | J.K. Simmons | James Franco     | Kirsten Dunst        |   78530303 | 17258230 |   3.5503103 | sim |\n",
       "| Tangled                                   | 2010 | Nathan Greno      | 100 | Color | Adventure|Animation|Comedy|Family|Fantasy|Musical|Romance | USA | Livre               | 260000000 | 200807262 | 7.8 |  29000 | Brad Garrett | Donna Murphy     | M.C. Gainey          |  -59192738 | 17258230 |  -4.4298266 | não |\n",
       "\n"
      ],
      "text/plain": [
       "  titulo                                    ano  diretor           duracao\n",
       "1 Avatar                                    2009 James Cameron     178    \n",
       "2 Pirates of the Caribbean: At World's End  2007 Gore Verbinski    169    \n",
       "3 The Dark Knight Rises                     2012 Christopher Nolan 164    \n",
       "4 John Carter                               2012 Andrew Stanton    132    \n",
       "5 Spider-Man 3                              2007 Sam Raimi         156    \n",
       "6 Tangled                                   2010 Nathan Greno      100    \n",
       "  cor   generos                                                   pais\n",
       "1 Color Action|Adventure|Fantasy|Sci-Fi                           USA \n",
       "2 Color Action|Adventure|Fantasy                                  USA \n",
       "3 Color Action|Thriller                                           USA \n",
       "4 Color Action|Adventure|Sci-Fi                                   USA \n",
       "5 Color Action|Adventure|Romance                                  USA \n",
       "6 Color Adventure|Animation|Comedy|Family|Fantasy|Musical|Romance USA \n",
       "  classificacao       orcamento receita   nota_imdb likes_facebook ator_1      \n",
       "1 A partir de 13 anos 237000000 760505847 7.9        33000         CCH Pounder \n",
       "2 A partir de 13 anos 300000000 309404152 7.1            0         Johnny Depp \n",
       "3 A partir de 13 anos 250000000 448130642 8.5       164000         Tom Hardy   \n",
       "4 A partir de 13 anos 263700000  73058679 6.6        24000         Daryl Sabara\n",
       "5 A partir de 13 anos 258000000 336530303 6.2            0         J.K. Simmons\n",
       "6 Livre               260000000 200807262 7.8        29000         Brad Garrett\n",
       "  ator_2           ator_3               lucro      lucro_medio lucro_relativo\n",
       "1 Joel David Moore Wes Studi             523505847 17258230     29.3336921   \n",
       "2 Orlando Bloom    Jack Davenport          9404152 17258230     -0.4550918   \n",
       "3 Christian Bale   Joseph Gordon-Levitt  198130642 17258230     10.4803568   \n",
       "4 Samantha Morton  Polly Walker         -190641321 17258230    -12.0464003   \n",
       "5 James Franco     Kirsten Dunst          78530303 17258230      3.5503103   \n",
       "6 Donna Murphy     M.C. Gainey           -59192738 17258230     -4.4298266   \n",
       "  houve_lucro\n",
       "1 sim        \n",
       "2 sim        \n",
       "3 sim        \n",
       "4 não        \n",
       "5 sim        \n",
       "6 não        "
      ]
     },
     "metadata": {},
     "output_type": "display_data"
    }
   ],
   "source": [
    "imdb %>% mutate(lucro = receita - orcamento, lucro_medio = mean(lucro, na.rm = T), \n",
    "    lucro_relativo = (lucro - lucro_medio)/lucro_medio, houve_lucro = ifelse(lucro > \n",
    "        0, \"sim\", \"não\")) %>% head()"
   ]
  },
  {
   "cell_type": "markdown",
   "id": "exclusive-afghanistan",
   "metadata": {},
   "source": [
    "3)"
   ]
  },
  {
   "cell_type": "code",
   "execution_count": 24,
   "id": "small-complexity",
   "metadata": {},
   "outputs": [
    {
     "data": {
      "text/html": [
       "<table class=\"dataframe\">\n",
       "<caption>A tibble: 25 × 16</caption>\n",
       "<thead>\n",
       "\t<tr><th scope=col>titulo</th><th scope=col>ano</th><th scope=col>diretor</th><th scope=col>duracao</th><th scope=col>cor</th><th scope=col>generos</th><th scope=col>pais</th><th scope=col>classificacao</th><th scope=col>orcamento</th><th scope=col>receita</th><th scope=col>nota_imdb</th><th scope=col>likes_facebook</th><th scope=col>ator_1</th><th scope=col>ator_2</th><th scope=col>ator_3</th><th scope=col>classificacao_ano_lancamento</th></tr>\n",
       "\t<tr><th scope=col>&lt;chr&gt;</th><th scope=col>&lt;int&gt;</th><th scope=col>&lt;chr&gt;</th><th scope=col>&lt;int&gt;</th><th scope=col>&lt;chr&gt;</th><th scope=col>&lt;chr&gt;</th><th scope=col>&lt;chr&gt;</th><th scope=col>&lt;chr&gt;</th><th scope=col>&lt;int&gt;</th><th scope=col>&lt;int&gt;</th><th scope=col>&lt;dbl&gt;</th><th scope=col>&lt;int&gt;</th><th scope=col>&lt;chr&gt;</th><th scope=col>&lt;chr&gt;</th><th scope=col>&lt;chr&gt;</th><th scope=col>&lt;chr&gt;</th></tr>\n",
       "</thead>\n",
       "<tbody>\n",
       "\t<tr><td>Avatar                                      </td><td>2009</td><td>James Cameron    </td><td>178</td><td>Color</td><td>Action|Adventure|Fantasy|Sci-Fi                          </td><td>USA</td><td>A partir de 13 anos</td><td>237000000</td><td>760505847</td><td>7.9</td><td> 33000</td><td>CCH Pounder        </td><td>Joel David Moore    </td><td>Wes Studi           </td><td>recente</td></tr>\n",
       "\t<tr><td>Pirates of the Caribbean: At World's End    </td><td>2007</td><td>Gore Verbinski   </td><td>169</td><td>Color</td><td>Action|Adventure|Fantasy                                 </td><td>USA</td><td>A partir de 13 anos</td><td>300000000</td><td>309404152</td><td>7.1</td><td>     0</td><td>Johnny Depp        </td><td>Orlando Bloom       </td><td>Jack Davenport      </td><td>recente</td></tr>\n",
       "\t<tr><td>The Dark Knight Rises                       </td><td>2012</td><td>Christopher Nolan</td><td>164</td><td>Color</td><td>Action|Thriller                                          </td><td>USA</td><td>A partir de 13 anos</td><td>250000000</td><td>448130642</td><td>8.5</td><td>164000</td><td>Tom Hardy          </td><td>Christian Bale      </td><td>Joseph Gordon-Levitt</td><td>recente</td></tr>\n",
       "\t<tr><td>John Carter                                 </td><td>2012</td><td>Andrew Stanton   </td><td>132</td><td>Color</td><td>Action|Adventure|Sci-Fi                                  </td><td>USA</td><td>A partir de 13 anos</td><td>263700000</td><td> 73058679</td><td>6.6</td><td> 24000</td><td>Daryl Sabara       </td><td>Samantha Morton     </td><td>Polly Walker        </td><td>recente</td></tr>\n",
       "\t<tr><td>Spider-Man 3                                </td><td>2007</td><td>Sam Raimi        </td><td>156</td><td>Color</td><td>Action|Adventure|Romance                                 </td><td>USA</td><td>A partir de 13 anos</td><td>258000000</td><td>336530303</td><td>6.2</td><td>     0</td><td>J.K. Simmons       </td><td>James Franco        </td><td>Kirsten Dunst       </td><td>recente</td></tr>\n",
       "\t<tr><td>Tangled                                     </td><td>2010</td><td>Nathan Greno     </td><td>100</td><td>Color</td><td>Adventure|Animation|Comedy|Family|Fantasy|Musical|Romance</td><td>USA</td><td>Livre              </td><td>260000000</td><td>200807262</td><td>7.8</td><td> 29000</td><td>Brad Garrett       </td><td>Donna Murphy        </td><td>M.C. Gainey         </td><td>recente</td></tr>\n",
       "\t<tr><td>Avengers: Age of Ultron                     </td><td>2015</td><td>Joss Whedon      </td><td>141</td><td>Color</td><td>Action|Adventure|Sci-Fi                                  </td><td>USA</td><td>A partir de 13 anos</td><td>250000000</td><td>458991599</td><td>7.5</td><td>118000</td><td>Chris Hemsworth    </td><td>Robert Downey Jr.   </td><td>Scarlett Johansson  </td><td>recente</td></tr>\n",
       "\t<tr><td>Batman v Superman: Dawn of Justice          </td><td>2016</td><td>Zack Snyder      </td><td>183</td><td>Color</td><td>Action|Adventure|Sci-Fi                                  </td><td>USA</td><td>A partir de 13 anos</td><td>250000000</td><td>330249062</td><td>6.9</td><td>197000</td><td>Henry Cavill       </td><td>Lauren Cohan        </td><td>Alan D. Purwin      </td><td>recente</td></tr>\n",
       "\t<tr><td>Superman Returns                            </td><td>2006</td><td>Bryan Singer     </td><td>169</td><td>Color</td><td>Action|Adventure|Sci-Fi                                  </td><td>USA</td><td>A partir de 13 anos</td><td>209000000</td><td>200069408</td><td>6.1</td><td>     0</td><td>Kevin Spacey       </td><td>Marlon Brando       </td><td>Frank Langella      </td><td>recente</td></tr>\n",
       "\t<tr><td>Pirates of the Caribbean: Dead Man's Chest  </td><td>2006</td><td>Gore Verbinski   </td><td>151</td><td>Color</td><td>Action|Adventure|Fantasy                                 </td><td>USA</td><td>A partir de 13 anos</td><td>225000000</td><td>423032628</td><td>7.3</td><td>  5000</td><td>Johnny Depp        </td><td>Orlando Bloom       </td><td>Jack Davenport      </td><td>recente</td></tr>\n",
       "\t<tr><td>The Lone Ranger                             </td><td>2013</td><td>Gore Verbinski   </td><td>150</td><td>Color</td><td>Action|Adventure|Western                                 </td><td>USA</td><td>A partir de 13 anos</td><td>215000000</td><td> 89289910</td><td>6.5</td><td> 48000</td><td>Johnny Depp        </td><td>Ruth Wilson         </td><td>Tom Wilkinson       </td><td>recente</td></tr>\n",
       "\t<tr><td>Man of Steel                                </td><td>2013</td><td>Zack Snyder      </td><td>143</td><td>Color</td><td>Action|Adventure|Fantasy|Sci-Fi                          </td><td>USA</td><td>A partir de 13 anos</td><td>225000000</td><td>291021565</td><td>7.2</td><td>118000</td><td>Henry Cavill       </td><td>Christopher Meloni  </td><td>Harry Lennix        </td><td>recente</td></tr>\n",
       "\t<tr><td>The Chronicles of Narnia: Prince Caspian    </td><td>2008</td><td>Andrew Adamson   </td><td>150</td><td>Color</td><td>Action|Adventure|Family|Fantasy                          </td><td>USA</td><td>Livre              </td><td>225000000</td><td>141614023</td><td>6.6</td><td>     0</td><td>Peter Dinklage     </td><td>Pierfrancesco Favino</td><td>Damián Alcázar      </td><td>recente</td></tr>\n",
       "\t<tr><td>The Avengers                                </td><td>2012</td><td>Joss Whedon      </td><td>173</td><td>Color</td><td>Action|Adventure|Sci-Fi                                  </td><td>USA</td><td>A partir de 13 anos</td><td>220000000</td><td>623279547</td><td>8.1</td><td>123000</td><td>Chris Hemsworth    </td><td>Robert Downey Jr.   </td><td>Scarlett Johansson  </td><td>recente</td></tr>\n",
       "\t<tr><td>Pirates of the Caribbean: On Stranger Tides </td><td>2011</td><td>Rob Marshall     </td><td>136</td><td>Color</td><td>Action|Adventure|Fantasy                                 </td><td>USA</td><td>A partir de 13 anos</td><td>250000000</td><td>241063875</td><td>6.7</td><td> 58000</td><td>Johnny Depp        </td><td>Sam Claflin         </td><td>Stephen Graham      </td><td>recente</td></tr>\n",
       "\t<tr><td>Men in Black 3                              </td><td>2012</td><td>Barry Sonnenfeld </td><td>106</td><td>Color</td><td>Action|Adventure|Comedy|Family|Fantasy|Sci-Fi            </td><td>USA</td><td>A partir de 13 anos</td><td>225000000</td><td>179020854</td><td>6.8</td><td> 40000</td><td>Will Smith         </td><td>Michael Stuhlbarg   </td><td>Nicole Scherzinger  </td><td>recente</td></tr>\n",
       "\t<tr><td>The Amazing Spider-Man                      </td><td>2012</td><td>Marc Webb        </td><td>153</td><td>Color</td><td>Action|Adventure|Fantasy                                 </td><td>USA</td><td>A partir de 13 anos</td><td>230000000</td><td>262030663</td><td>7.0</td><td> 56000</td><td>Emma Stone         </td><td>Andrew Garfield     </td><td>Chris Zylka         </td><td>recente</td></tr>\n",
       "\t<tr><td>Robin Hood                                  </td><td>2010</td><td>Ridley Scott     </td><td>156</td><td>Color</td><td>Action|Adventure|Drama|History                           </td><td>USA</td><td>A partir de 13 anos</td><td>200000000</td><td>105219735</td><td>6.7</td><td> 17000</td><td>Mark Addy          </td><td>William Hurt        </td><td>Scott Grimes        </td><td>recente</td></tr>\n",
       "\t<tr><td>The Hobbit: The Desolation of Smaug         </td><td>2013</td><td>Peter Jackson    </td><td>186</td><td>Color</td><td>Adventure|Fantasy                                        </td><td>USA</td><td>A partir de 13 anos</td><td>225000000</td><td>258355354</td><td>7.9</td><td> 83000</td><td>Aidan Turner       </td><td>Adam Brown          </td><td>James Nesbitt       </td><td>recente</td></tr>\n",
       "\t<tr><td>The Golden Compass                          </td><td>2007</td><td>Chris Weitz      </td><td>113</td><td>Color</td><td>Adventure|Family|Fantasy                                 </td><td>USA</td><td>A partir de 13 anos</td><td>180000000</td><td> 70083519</td><td>6.1</td><td>     0</td><td>Christopher Lee    </td><td>Eva Green           </td><td>Kristin Scott Thomas</td><td>recente</td></tr>\n",
       "\t<tr><td>Titanic                                     </td><td>1997</td><td>James Cameron    </td><td>194</td><td>Color</td><td>Drama|Romance                                            </td><td>USA</td><td>A partir de 13 anos</td><td>200000000</td><td>658672302</td><td>7.7</td><td> 26000</td><td>Leonardo DiCaprio  </td><td>Kate Winslet        </td><td>Gloria Stuart       </td><td>antigo </td></tr>\n",
       "\t<tr><td>Captain America: Civil War                  </td><td>2016</td><td>Anthony Russo    </td><td>147</td><td>Color</td><td>Action|Adventure|Sci-Fi                                  </td><td>USA</td><td>A partir de 13 anos</td><td>250000000</td><td>407197282</td><td>8.2</td><td> 72000</td><td>Robert Downey Jr.  </td><td>Scarlett Johansson  </td><td>Chris Evans         </td><td>recente</td></tr>\n",
       "\t<tr><td>Battleship                                  </td><td>2012</td><td>Peter Berg       </td><td>131</td><td>Color</td><td>Action|Adventure|Sci-Fi|Thriller                         </td><td>USA</td><td>A partir de 13 anos</td><td>209000000</td><td> 65173160</td><td>5.9</td><td> 44000</td><td>Liam Neeson        </td><td>Alexander Skarsgård </td><td>Tadanobu Asano      </td><td>recente</td></tr>\n",
       "\t<tr><td>Jurassic World                              </td><td>2015</td><td>Colin Trevorrow  </td><td>124</td><td>Color</td><td>Action|Adventure|Sci-Fi|Thriller                         </td><td>USA</td><td>A partir de 13 anos</td><td>150000000</td><td>652177271</td><td>7.0</td><td>150000</td><td>Bryce Dallas Howard</td><td>Judy Greer          </td><td>Omar Sy             </td><td>recente</td></tr>\n",
       "\t<tr><td>Spider-Man 2                                </td><td>2004</td><td>Sam Raimi        </td><td>135</td><td>Color</td><td>Action|Adventure|Fantasy|Romance                         </td><td>USA</td><td>A partir de 13 anos</td><td>200000000</td><td>373377893</td><td>7.3</td><td>     0</td><td>J.K. Simmons       </td><td>James Franco        </td><td>Kirsten Dunst       </td><td>recente</td></tr>\n",
       "</tbody>\n",
       "</table>\n"
      ],
      "text/latex": [
       "A tibble: 25 × 16\n",
       "\\begin{tabular}{llllllllllllllll}\n",
       " titulo & ano & diretor & duracao & cor & generos & pais & classificacao & orcamento & receita & nota\\_imdb & likes\\_facebook & ator\\_1 & ator\\_2 & ator\\_3 & classificacao\\_ano\\_lancamento\\\\\n",
       " <chr> & <int> & <chr> & <int> & <chr> & <chr> & <chr> & <chr> & <int> & <int> & <dbl> & <int> & <chr> & <chr> & <chr> & <chr>\\\\\n",
       "\\hline\n",
       "\t Avatar                                       & 2009 & James Cameron     & 178 & Color & Action\\textbar{}Adventure\\textbar{}Fantasy\\textbar{}Sci-Fi                           & USA & A partir de 13 anos & 237000000 & 760505847 & 7.9 &  33000 & CCH Pounder         & Joel David Moore     & Wes Studi            & recente\\\\\n",
       "\t Pirates of the Caribbean: At World's End     & 2007 & Gore Verbinski    & 169 & Color & Action\\textbar{}Adventure\\textbar{}Fantasy                                  & USA & A partir de 13 anos & 300000000 & 309404152 & 7.1 &      0 & Johnny Depp         & Orlando Bloom        & Jack Davenport       & recente\\\\\n",
       "\t The Dark Knight Rises                        & 2012 & Christopher Nolan & 164 & Color & Action\\textbar{}Thriller                                           & USA & A partir de 13 anos & 250000000 & 448130642 & 8.5 & 164000 & Tom Hardy           & Christian Bale       & Joseph Gordon-Levitt & recente\\\\\n",
       "\t John Carter                                  & 2012 & Andrew Stanton    & 132 & Color & Action\\textbar{}Adventure\\textbar{}Sci-Fi                                   & USA & A partir de 13 anos & 263700000 &  73058679 & 6.6 &  24000 & Daryl Sabara        & Samantha Morton      & Polly Walker         & recente\\\\\n",
       "\t Spider-Man 3                                 & 2007 & Sam Raimi         & 156 & Color & Action\\textbar{}Adventure\\textbar{}Romance                                  & USA & A partir de 13 anos & 258000000 & 336530303 & 6.2 &      0 & J.K. Simmons        & James Franco         & Kirsten Dunst        & recente\\\\\n",
       "\t Tangled                                      & 2010 & Nathan Greno      & 100 & Color & Adventure\\textbar{}Animation\\textbar{}Comedy\\textbar{}Family\\textbar{}Fantasy\\textbar{}Musical\\textbar{}Romance & USA & Livre               & 260000000 & 200807262 & 7.8 &  29000 & Brad Garrett        & Donna Murphy         & M.C. Gainey          & recente\\\\\n",
       "\t Avengers: Age of Ultron                      & 2015 & Joss Whedon       & 141 & Color & Action\\textbar{}Adventure\\textbar{}Sci-Fi                                   & USA & A partir de 13 anos & 250000000 & 458991599 & 7.5 & 118000 & Chris Hemsworth     & Robert Downey Jr.    & Scarlett Johansson   & recente\\\\\n",
       "\t Batman v Superman: Dawn of Justice           & 2016 & Zack Snyder       & 183 & Color & Action\\textbar{}Adventure\\textbar{}Sci-Fi                                   & USA & A partir de 13 anos & 250000000 & 330249062 & 6.9 & 197000 & Henry Cavill        & Lauren Cohan         & Alan D. Purwin       & recente\\\\\n",
       "\t Superman Returns                             & 2006 & Bryan Singer      & 169 & Color & Action\\textbar{}Adventure\\textbar{}Sci-Fi                                   & USA & A partir de 13 anos & 209000000 & 200069408 & 6.1 &      0 & Kevin Spacey        & Marlon Brando        & Frank Langella       & recente\\\\\n",
       "\t Pirates of the Caribbean: Dead Man's Chest   & 2006 & Gore Verbinski    & 151 & Color & Action\\textbar{}Adventure\\textbar{}Fantasy                                  & USA & A partir de 13 anos & 225000000 & 423032628 & 7.3 &   5000 & Johnny Depp         & Orlando Bloom        & Jack Davenport       & recente\\\\\n",
       "\t The Lone Ranger                              & 2013 & Gore Verbinski    & 150 & Color & Action\\textbar{}Adventure\\textbar{}Western                                  & USA & A partir de 13 anos & 215000000 &  89289910 & 6.5 &  48000 & Johnny Depp         & Ruth Wilson          & Tom Wilkinson        & recente\\\\\n",
       "\t Man of Steel                                 & 2013 & Zack Snyder       & 143 & Color & Action\\textbar{}Adventure\\textbar{}Fantasy\\textbar{}Sci-Fi                           & USA & A partir de 13 anos & 225000000 & 291021565 & 7.2 & 118000 & Henry Cavill        & Christopher Meloni   & Harry Lennix         & recente\\\\\n",
       "\t The Chronicles of Narnia: Prince Caspian     & 2008 & Andrew Adamson    & 150 & Color & Action\\textbar{}Adventure\\textbar{}Family\\textbar{}Fantasy                           & USA & Livre               & 225000000 & 141614023 & 6.6 &      0 & Peter Dinklage      & Pierfrancesco Favino & Damián Alcázar       & recente\\\\\n",
       "\t The Avengers                                 & 2012 & Joss Whedon       & 173 & Color & Action\\textbar{}Adventure\\textbar{}Sci-Fi                                   & USA & A partir de 13 anos & 220000000 & 623279547 & 8.1 & 123000 & Chris Hemsworth     & Robert Downey Jr.    & Scarlett Johansson   & recente\\\\\n",
       "\t Pirates of the Caribbean: On Stranger Tides  & 2011 & Rob Marshall      & 136 & Color & Action\\textbar{}Adventure\\textbar{}Fantasy                                  & USA & A partir de 13 anos & 250000000 & 241063875 & 6.7 &  58000 & Johnny Depp         & Sam Claflin          & Stephen Graham       & recente\\\\\n",
       "\t Men in Black 3                               & 2012 & Barry Sonnenfeld  & 106 & Color & Action\\textbar{}Adventure\\textbar{}Comedy\\textbar{}Family\\textbar{}Fantasy\\textbar{}Sci-Fi             & USA & A partir de 13 anos & 225000000 & 179020854 & 6.8 &  40000 & Will Smith          & Michael Stuhlbarg    & Nicole Scherzinger   & recente\\\\\n",
       "\t The Amazing Spider-Man                       & 2012 & Marc Webb         & 153 & Color & Action\\textbar{}Adventure\\textbar{}Fantasy                                  & USA & A partir de 13 anos & 230000000 & 262030663 & 7.0 &  56000 & Emma Stone          & Andrew Garfield      & Chris Zylka          & recente\\\\\n",
       "\t Robin Hood                                   & 2010 & Ridley Scott      & 156 & Color & Action\\textbar{}Adventure\\textbar{}Drama\\textbar{}History                            & USA & A partir de 13 anos & 200000000 & 105219735 & 6.7 &  17000 & Mark Addy           & William Hurt         & Scott Grimes         & recente\\\\\n",
       "\t The Hobbit: The Desolation of Smaug          & 2013 & Peter Jackson     & 186 & Color & Adventure\\textbar{}Fantasy                                         & USA & A partir de 13 anos & 225000000 & 258355354 & 7.9 &  83000 & Aidan Turner        & Adam Brown           & James Nesbitt        & recente\\\\\n",
       "\t The Golden Compass                           & 2007 & Chris Weitz       & 113 & Color & Adventure\\textbar{}Family\\textbar{}Fantasy                                  & USA & A partir de 13 anos & 180000000 &  70083519 & 6.1 &      0 & Christopher Lee     & Eva Green            & Kristin Scott Thomas & recente\\\\\n",
       "\t Titanic                                      & 1997 & James Cameron     & 194 & Color & Drama\\textbar{}Romance                                             & USA & A partir de 13 anos & 200000000 & 658672302 & 7.7 &  26000 & Leonardo DiCaprio   & Kate Winslet         & Gloria Stuart        & antigo \\\\\n",
       "\t Captain America: Civil War                   & 2016 & Anthony Russo     & 147 & Color & Action\\textbar{}Adventure\\textbar{}Sci-Fi                                   & USA & A partir de 13 anos & 250000000 & 407197282 & 8.2 &  72000 & Robert Downey Jr.   & Scarlett Johansson   & Chris Evans          & recente\\\\\n",
       "\t Battleship                                   & 2012 & Peter Berg        & 131 & Color & Action\\textbar{}Adventure\\textbar{}Sci-Fi\\textbar{}Thriller                          & USA & A partir de 13 anos & 209000000 &  65173160 & 5.9 &  44000 & Liam Neeson         & Alexander Skarsgård  & Tadanobu Asano       & recente\\\\\n",
       "\t Jurassic World                               & 2015 & Colin Trevorrow   & 124 & Color & Action\\textbar{}Adventure\\textbar{}Sci-Fi\\textbar{}Thriller                          & USA & A partir de 13 anos & 150000000 & 652177271 & 7.0 & 150000 & Bryce Dallas Howard & Judy Greer           & Omar Sy              & recente\\\\\n",
       "\t Spider-Man 2                                 & 2004 & Sam Raimi         & 135 & Color & Action\\textbar{}Adventure\\textbar{}Fantasy\\textbar{}Romance                          & USA & A partir de 13 anos & 200000000 & 373377893 & 7.3 &      0 & J.K. Simmons        & James Franco         & Kirsten Dunst        & recente\\\\\n",
       "\\end{tabular}\n"
      ],
      "text/markdown": [
       "\n",
       "A tibble: 25 × 16\n",
       "\n",
       "| titulo &lt;chr&gt; | ano &lt;int&gt; | diretor &lt;chr&gt; | duracao &lt;int&gt; | cor &lt;chr&gt; | generos &lt;chr&gt; | pais &lt;chr&gt; | classificacao &lt;chr&gt; | orcamento &lt;int&gt; | receita &lt;int&gt; | nota_imdb &lt;dbl&gt; | likes_facebook &lt;int&gt; | ator_1 &lt;chr&gt; | ator_2 &lt;chr&gt; | ator_3 &lt;chr&gt; | classificacao_ano_lancamento &lt;chr&gt; |\n",
       "|---|---|---|---|---|---|---|---|---|---|---|---|---|---|---|---|\n",
       "| Avatar                                       | 2009 | James Cameron     | 178 | Color | Action|Adventure|Fantasy|Sci-Fi                           | USA | A partir de 13 anos | 237000000 | 760505847 | 7.9 |  33000 | CCH Pounder         | Joel David Moore     | Wes Studi            | recente |\n",
       "| Pirates of the Caribbean: At World's End     | 2007 | Gore Verbinski    | 169 | Color | Action|Adventure|Fantasy                                  | USA | A partir de 13 anos | 300000000 | 309404152 | 7.1 |      0 | Johnny Depp         | Orlando Bloom        | Jack Davenport       | recente |\n",
       "| The Dark Knight Rises                        | 2012 | Christopher Nolan | 164 | Color | Action|Thriller                                           | USA | A partir de 13 anos | 250000000 | 448130642 | 8.5 | 164000 | Tom Hardy           | Christian Bale       | Joseph Gordon-Levitt | recente |\n",
       "| John Carter                                  | 2012 | Andrew Stanton    | 132 | Color | Action|Adventure|Sci-Fi                                   | USA | A partir de 13 anos | 263700000 |  73058679 | 6.6 |  24000 | Daryl Sabara        | Samantha Morton      | Polly Walker         | recente |\n",
       "| Spider-Man 3                                 | 2007 | Sam Raimi         | 156 | Color | Action|Adventure|Romance                                  | USA | A partir de 13 anos | 258000000 | 336530303 | 6.2 |      0 | J.K. Simmons        | James Franco         | Kirsten Dunst        | recente |\n",
       "| Tangled                                      | 2010 | Nathan Greno      | 100 | Color | Adventure|Animation|Comedy|Family|Fantasy|Musical|Romance | USA | Livre               | 260000000 | 200807262 | 7.8 |  29000 | Brad Garrett        | Donna Murphy         | M.C. Gainey          | recente |\n",
       "| Avengers: Age of Ultron                      | 2015 | Joss Whedon       | 141 | Color | Action|Adventure|Sci-Fi                                   | USA | A partir de 13 anos | 250000000 | 458991599 | 7.5 | 118000 | Chris Hemsworth     | Robert Downey Jr.    | Scarlett Johansson   | recente |\n",
       "| Batman v Superman: Dawn of Justice           | 2016 | Zack Snyder       | 183 | Color | Action|Adventure|Sci-Fi                                   | USA | A partir de 13 anos | 250000000 | 330249062 | 6.9 | 197000 | Henry Cavill        | Lauren Cohan         | Alan D. Purwin       | recente |\n",
       "| Superman Returns                             | 2006 | Bryan Singer      | 169 | Color | Action|Adventure|Sci-Fi                                   | USA | A partir de 13 anos | 209000000 | 200069408 | 6.1 |      0 | Kevin Spacey        | Marlon Brando        | Frank Langella       | recente |\n",
       "| Pirates of the Caribbean: Dead Man's Chest   | 2006 | Gore Verbinski    | 151 | Color | Action|Adventure|Fantasy                                  | USA | A partir de 13 anos | 225000000 | 423032628 | 7.3 |   5000 | Johnny Depp         | Orlando Bloom        | Jack Davenport       | recente |\n",
       "| The Lone Ranger                              | 2013 | Gore Verbinski    | 150 | Color | Action|Adventure|Western                                  | USA | A partir de 13 anos | 215000000 |  89289910 | 6.5 |  48000 | Johnny Depp         | Ruth Wilson          | Tom Wilkinson        | recente |\n",
       "| Man of Steel                                 | 2013 | Zack Snyder       | 143 | Color | Action|Adventure|Fantasy|Sci-Fi                           | USA | A partir de 13 anos | 225000000 | 291021565 | 7.2 | 118000 | Henry Cavill        | Christopher Meloni   | Harry Lennix         | recente |\n",
       "| The Chronicles of Narnia: Prince Caspian     | 2008 | Andrew Adamson    | 150 | Color | Action|Adventure|Family|Fantasy                           | USA | Livre               | 225000000 | 141614023 | 6.6 |      0 | Peter Dinklage      | Pierfrancesco Favino | Damián Alcázar       | recente |\n",
       "| The Avengers                                 | 2012 | Joss Whedon       | 173 | Color | Action|Adventure|Sci-Fi                                   | USA | A partir de 13 anos | 220000000 | 623279547 | 8.1 | 123000 | Chris Hemsworth     | Robert Downey Jr.    | Scarlett Johansson   | recente |\n",
       "| Pirates of the Caribbean: On Stranger Tides  | 2011 | Rob Marshall      | 136 | Color | Action|Adventure|Fantasy                                  | USA | A partir de 13 anos | 250000000 | 241063875 | 6.7 |  58000 | Johnny Depp         | Sam Claflin          | Stephen Graham       | recente |\n",
       "| Men in Black 3                               | 2012 | Barry Sonnenfeld  | 106 | Color | Action|Adventure|Comedy|Family|Fantasy|Sci-Fi             | USA | A partir de 13 anos | 225000000 | 179020854 | 6.8 |  40000 | Will Smith          | Michael Stuhlbarg    | Nicole Scherzinger   | recente |\n",
       "| The Amazing Spider-Man                       | 2012 | Marc Webb         | 153 | Color | Action|Adventure|Fantasy                                  | USA | A partir de 13 anos | 230000000 | 262030663 | 7.0 |  56000 | Emma Stone          | Andrew Garfield      | Chris Zylka          | recente |\n",
       "| Robin Hood                                   | 2010 | Ridley Scott      | 156 | Color | Action|Adventure|Drama|History                            | USA | A partir de 13 anos | 200000000 | 105219735 | 6.7 |  17000 | Mark Addy           | William Hurt         | Scott Grimes         | recente |\n",
       "| The Hobbit: The Desolation of Smaug          | 2013 | Peter Jackson     | 186 | Color | Adventure|Fantasy                                         | USA | A partir de 13 anos | 225000000 | 258355354 | 7.9 |  83000 | Aidan Turner        | Adam Brown           | James Nesbitt        | recente |\n",
       "| The Golden Compass                           | 2007 | Chris Weitz       | 113 | Color | Adventure|Family|Fantasy                                  | USA | A partir de 13 anos | 180000000 |  70083519 | 6.1 |      0 | Christopher Lee     | Eva Green            | Kristin Scott Thomas | recente |\n",
       "| Titanic                                      | 1997 | James Cameron     | 194 | Color | Drama|Romance                                             | USA | A partir de 13 anos | 200000000 | 658672302 | 7.7 |  26000 | Leonardo DiCaprio   | Kate Winslet         | Gloria Stuart        | antigo  |\n",
       "| Captain America: Civil War                   | 2016 | Anthony Russo     | 147 | Color | Action|Adventure|Sci-Fi                                   | USA | A partir de 13 anos | 250000000 | 407197282 | 8.2 |  72000 | Robert Downey Jr.   | Scarlett Johansson   | Chris Evans          | recente |\n",
       "| Battleship                                   | 2012 | Peter Berg        | 131 | Color | Action|Adventure|Sci-Fi|Thriller                          | USA | A partir de 13 anos | 209000000 |  65173160 | 5.9 |  44000 | Liam Neeson         | Alexander Skarsgård  | Tadanobu Asano       | recente |\n",
       "| Jurassic World                               | 2015 | Colin Trevorrow   | 124 | Color | Action|Adventure|Sci-Fi|Thriller                          | USA | A partir de 13 anos | 150000000 | 652177271 | 7.0 | 150000 | Bryce Dallas Howard | Judy Greer           | Omar Sy              | recente |\n",
       "| Spider-Man 2                                 | 2004 | Sam Raimi         | 135 | Color | Action|Adventure|Fantasy|Romance                          | USA | A partir de 13 anos | 200000000 | 373377893 | 7.3 |      0 | J.K. Simmons        | James Franco         | Kirsten Dunst        | recente |\n",
       "\n"
      ],
      "text/plain": [
       "   titulo                                       ano  diretor           duracao\n",
       "1  Avatar                                       2009 James Cameron     178    \n",
       "2  Pirates of the Caribbean: At World's End     2007 Gore Verbinski    169    \n",
       "3  The Dark Knight Rises                        2012 Christopher Nolan 164    \n",
       "4  John Carter                                  2012 Andrew Stanton    132    \n",
       "5  Spider-Man 3                                 2007 Sam Raimi         156    \n",
       "6  Tangled                                      2010 Nathan Greno      100    \n",
       "7  Avengers: Age of Ultron                      2015 Joss Whedon       141    \n",
       "8  Batman v Superman: Dawn of Justice           2016 Zack Snyder       183    \n",
       "9  Superman Returns                             2006 Bryan Singer      169    \n",
       "10 Pirates of the Caribbean: Dead Man's Chest   2006 Gore Verbinski    151    \n",
       "11 The Lone Ranger                              2013 Gore Verbinski    150    \n",
       "12 Man of Steel                                 2013 Zack Snyder       143    \n",
       "13 The Chronicles of Narnia: Prince Caspian     2008 Andrew Adamson    150    \n",
       "14 The Avengers                                 2012 Joss Whedon       173    \n",
       "15 Pirates of the Caribbean: On Stranger Tides  2011 Rob Marshall      136    \n",
       "16 Men in Black 3                               2012 Barry Sonnenfeld  106    \n",
       "17 The Amazing Spider-Man                       2012 Marc Webb         153    \n",
       "18 Robin Hood                                   2010 Ridley Scott      156    \n",
       "19 The Hobbit: The Desolation of Smaug          2013 Peter Jackson     186    \n",
       "20 The Golden Compass                           2007 Chris Weitz       113    \n",
       "21 Titanic                                      1997 James Cameron     194    \n",
       "22 Captain America: Civil War                   2016 Anthony Russo     147    \n",
       "23 Battleship                                   2012 Peter Berg        131    \n",
       "24 Jurassic World                               2015 Colin Trevorrow   124    \n",
       "25 Spider-Man 2                                 2004 Sam Raimi         135    \n",
       "   cor   generos                                                   pais\n",
       "1  Color Action|Adventure|Fantasy|Sci-Fi                           USA \n",
       "2  Color Action|Adventure|Fantasy                                  USA \n",
       "3  Color Action|Thriller                                           USA \n",
       "4  Color Action|Adventure|Sci-Fi                                   USA \n",
       "5  Color Action|Adventure|Romance                                  USA \n",
       "6  Color Adventure|Animation|Comedy|Family|Fantasy|Musical|Romance USA \n",
       "7  Color Action|Adventure|Sci-Fi                                   USA \n",
       "8  Color Action|Adventure|Sci-Fi                                   USA \n",
       "9  Color Action|Adventure|Sci-Fi                                   USA \n",
       "10 Color Action|Adventure|Fantasy                                  USA \n",
       "11 Color Action|Adventure|Western                                  USA \n",
       "12 Color Action|Adventure|Fantasy|Sci-Fi                           USA \n",
       "13 Color Action|Adventure|Family|Fantasy                           USA \n",
       "14 Color Action|Adventure|Sci-Fi                                   USA \n",
       "15 Color Action|Adventure|Fantasy                                  USA \n",
       "16 Color Action|Adventure|Comedy|Family|Fantasy|Sci-Fi             USA \n",
       "17 Color Action|Adventure|Fantasy                                  USA \n",
       "18 Color Action|Adventure|Drama|History                            USA \n",
       "19 Color Adventure|Fantasy                                         USA \n",
       "20 Color Adventure|Family|Fantasy                                  USA \n",
       "21 Color Drama|Romance                                             USA \n",
       "22 Color Action|Adventure|Sci-Fi                                   USA \n",
       "23 Color Action|Adventure|Sci-Fi|Thriller                          USA \n",
       "24 Color Action|Adventure|Sci-Fi|Thriller                          USA \n",
       "25 Color Action|Adventure|Fantasy|Romance                          USA \n",
       "   classificacao       orcamento receita   nota_imdb likes_facebook\n",
       "1  A partir de 13 anos 237000000 760505847 7.9        33000        \n",
       "2  A partir de 13 anos 300000000 309404152 7.1            0        \n",
       "3  A partir de 13 anos 250000000 448130642 8.5       164000        \n",
       "4  A partir de 13 anos 263700000  73058679 6.6        24000        \n",
       "5  A partir de 13 anos 258000000 336530303 6.2            0        \n",
       "6  Livre               260000000 200807262 7.8        29000        \n",
       "7  A partir de 13 anos 250000000 458991599 7.5       118000        \n",
       "8  A partir de 13 anos 250000000 330249062 6.9       197000        \n",
       "9  A partir de 13 anos 209000000 200069408 6.1            0        \n",
       "10 A partir de 13 anos 225000000 423032628 7.3         5000        \n",
       "11 A partir de 13 anos 215000000  89289910 6.5        48000        \n",
       "12 A partir de 13 anos 225000000 291021565 7.2       118000        \n",
       "13 Livre               225000000 141614023 6.6            0        \n",
       "14 A partir de 13 anos 220000000 623279547 8.1       123000        \n",
       "15 A partir de 13 anos 250000000 241063875 6.7        58000        \n",
       "16 A partir de 13 anos 225000000 179020854 6.8        40000        \n",
       "17 A partir de 13 anos 230000000 262030663 7.0        56000        \n",
       "18 A partir de 13 anos 200000000 105219735 6.7        17000        \n",
       "19 A partir de 13 anos 225000000 258355354 7.9        83000        \n",
       "20 A partir de 13 anos 180000000  70083519 6.1            0        \n",
       "21 A partir de 13 anos 200000000 658672302 7.7        26000        \n",
       "22 A partir de 13 anos 250000000 407197282 8.2        72000        \n",
       "23 A partir de 13 anos 209000000  65173160 5.9        44000        \n",
       "24 A partir de 13 anos 150000000 652177271 7.0       150000        \n",
       "25 A partir de 13 anos 200000000 373377893 7.3            0        \n",
       "   ator_1              ator_2               ator_3              \n",
       "1  CCH Pounder         Joel David Moore     Wes Studi           \n",
       "2  Johnny Depp         Orlando Bloom        Jack Davenport      \n",
       "3  Tom Hardy           Christian Bale       Joseph Gordon-Levitt\n",
       "4  Daryl Sabara        Samantha Morton      Polly Walker        \n",
       "5  J.K. Simmons        James Franco         Kirsten Dunst       \n",
       "6  Brad Garrett        Donna Murphy         M.C. Gainey         \n",
       "7  Chris Hemsworth     Robert Downey Jr.    Scarlett Johansson  \n",
       "8  Henry Cavill        Lauren Cohan         Alan D. Purwin      \n",
       "9  Kevin Spacey        Marlon Brando        Frank Langella      \n",
       "10 Johnny Depp         Orlando Bloom        Jack Davenport      \n",
       "11 Johnny Depp         Ruth Wilson          Tom Wilkinson       \n",
       "12 Henry Cavill        Christopher Meloni   Harry Lennix        \n",
       "13 Peter Dinklage      Pierfrancesco Favino Damián Alcázar      \n",
       "14 Chris Hemsworth     Robert Downey Jr.    Scarlett Johansson  \n",
       "15 Johnny Depp         Sam Claflin          Stephen Graham      \n",
       "16 Will Smith          Michael Stuhlbarg    Nicole Scherzinger  \n",
       "17 Emma Stone          Andrew Garfield      Chris Zylka         \n",
       "18 Mark Addy           William Hurt         Scott Grimes        \n",
       "19 Aidan Turner        Adam Brown           James Nesbitt       \n",
       "20 Christopher Lee     Eva Green            Kristin Scott Thomas\n",
       "21 Leonardo DiCaprio   Kate Winslet         Gloria Stuart       \n",
       "22 Robert Downey Jr.   Scarlett Johansson   Chris Evans         \n",
       "23 Liam Neeson         Alexander Skarsgård  Tadanobu Asano      \n",
       "24 Bryce Dallas Howard Judy Greer           Omar Sy             \n",
       "25 J.K. Simmons        James Franco         Kirsten Dunst       \n",
       "   classificacao_ano_lancamento\n",
       "1  recente                     \n",
       "2  recente                     \n",
       "3  recente                     \n",
       "4  recente                     \n",
       "5  recente                     \n",
       "6  recente                     \n",
       "7  recente                     \n",
       "8  recente                     \n",
       "9  recente                     \n",
       "10 recente                     \n",
       "11 recente                     \n",
       "12 recente                     \n",
       "13 recente                     \n",
       "14 recente                     \n",
       "15 recente                     \n",
       "16 recente                     \n",
       "17 recente                     \n",
       "18 recente                     \n",
       "19 recente                     \n",
       "20 recente                     \n",
       "21 antigo                      \n",
       "22 recente                     \n",
       "23 recente                     \n",
       "24 recente                     \n",
       "25 recente                     "
      ]
     },
     "metadata": {},
     "output_type": "display_data"
    }
   ],
   "source": [
    "imdb %>% mutate(classificacao_ano_lancamento = ifelse(ano > 2000, \"recente\", \n",
    "    \"antigo\")) %>% head(25)"
   ]
  },
  {
   "cell_type": "markdown",
   "id": "lyric-scheme",
   "metadata": {},
   "source": [
    "## Exercícios 7.2.6\n",
    "\n",
    "1)"
   ]
  },
  {
   "cell_type": "code",
   "execution_count": 6,
   "id": "french-socket",
   "metadata": {},
   "outputs": [
    {
     "data": {
      "text/html": [
       "<table class=\"dataframe\">\n",
       "<caption>A tibble: 1 × 2</caption>\n",
       "<thead>\n",
       "\t<tr><th scope=col>media_duracao</th><th scope=col>mediana_duracao</th></tr>\n",
       "\t<tr><th scope=col>&lt;dbl&gt;</th><th scope=col>&lt;int&gt;</th></tr>\n",
       "</thead>\n",
       "<tbody>\n",
       "\t<tr><td>106.4351</td><td>103</td></tr>\n",
       "</tbody>\n",
       "</table>\n"
      ],
      "text/latex": [
       "A tibble: 1 × 2\n",
       "\\begin{tabular}{ll}\n",
       " media\\_duracao & mediana\\_duracao\\\\\n",
       " <dbl> & <int>\\\\\n",
       "\\hline\n",
       "\t 106.4351 & 103\\\\\n",
       "\\end{tabular}\n"
      ],
      "text/markdown": [
       "\n",
       "A tibble: 1 × 2\n",
       "\n",
       "| media_duracao &lt;dbl&gt; | mediana_duracao &lt;int&gt; |\n",
       "|---|---|\n",
       "| 106.4351 | 103 |\n",
       "\n"
      ],
      "text/plain": [
       "  media_duracao mediana_duracao\n",
       "1 106.4351      103            "
      ]
     },
     "metadata": {},
     "output_type": "display_data"
    }
   ],
   "source": [
    "imdb %>% summarize(media_duracao = mean(duracao, na.rm = T), mediana_duracao = median(duracao, \n",
    "    na.rm = T))"
   ]
  },
  {
   "cell_type": "markdown",
   "id": "olympic-challenge",
   "metadata": {},
   "source": [
    "2)"
   ]
  },
  {
   "cell_type": "code",
   "execution_count": 11,
   "id": "concrete-relaxation",
   "metadata": {},
   "outputs": [
    {
     "data": {
      "text/html": [
       "<table class=\"dataframe\">\n",
       "<caption>A tibble: 1 × 1</caption>\n",
       "<thead>\n",
       "\t<tr><th scope=col>media_lucro</th></tr>\n",
       "\t<tr><th scope=col>&lt;dbl&gt;</th></tr>\n",
       "</thead>\n",
       "<tbody>\n",
       "\t<tr><td>632454.3</td></tr>\n",
       "</tbody>\n",
       "</table>\n"
      ],
      "text/latex": [
       "A tibble: 1 × 1\n",
       "\\begin{tabular}{l}\n",
       " media\\_lucro\\\\\n",
       " <dbl>\\\\\n",
       "\\hline\n",
       "\t 632454.3\\\\\n",
       "\\end{tabular}\n"
      ],
      "text/markdown": [
       "\n",
       "A tibble: 1 × 1\n",
       "\n",
       "| media_lucro &lt;dbl&gt; |\n",
       "|---|\n",
       "| 632454.3 |\n",
       "\n"
      ],
      "text/plain": [
       "  media_lucro\n",
       "1 632454.3   "
      ]
     },
     "metadata": {},
     "output_type": "display_data"
    }
   ],
   "source": [
    "imdb %>% filter(duracao < 60) %>% mutate(lucro = receita - orcamento) %>% summarize(media_lucro = mean(lucro, \n",
    "    na.rm = T))"
   ]
  },
  {
   "cell_type": "markdown",
   "id": "blessed-central",
   "metadata": {},
   "source": [
    "3)"
   ]
  },
  {
   "cell_type": "code",
   "execution_count": 18,
   "id": "technological-plate",
   "metadata": {},
   "outputs": [
    {
     "data": {
      "text/html": [
       "<table class=\"dataframe\">\n",
       "<caption>A tibble: 1 × 2</caption>\n",
       "<thead>\n",
       "\t<tr><th scope=col>media_lucro_menos_60</th><th scope=col>media_lucro_mais_60</th></tr>\n",
       "\t<tr><th scope=col>&lt;dbl&gt;</th><th scope=col>&lt;dbl&gt;</th></tr>\n",
       "</thead>\n",
       "<tbody>\n",
       "\t<tr><td>632454.3</td><td>17274472</td></tr>\n",
       "</tbody>\n",
       "</table>\n"
      ],
      "text/latex": [
       "A tibble: 1 × 2\n",
       "\\begin{tabular}{ll}\n",
       " media\\_lucro\\_menos\\_60 & media\\_lucro\\_mais\\_60\\\\\n",
       " <dbl> & <dbl>\\\\\n",
       "\\hline\n",
       "\t 632454.3 & 17274472\\\\\n",
       "\\end{tabular}\n"
      ],
      "text/markdown": [
       "\n",
       "A tibble: 1 × 2\n",
       "\n",
       "| media_lucro_menos_60 &lt;dbl&gt; | media_lucro_mais_60 &lt;dbl&gt; |\n",
       "|---|---|\n",
       "| 632454.3 | 17274472 |\n",
       "\n"
      ],
      "text/plain": [
       "  media_lucro_menos_60 media_lucro_mais_60\n",
       "1 632454.3             17274472           "
      ]
     },
     "metadata": {},
     "output_type": "display_data"
    }
   ],
   "source": [
    "imdb %>% mutate(lucro = receita - orcamento) %>% summarize(media_lucro_menos_60 = mean(lucro[duracao < \n",
    "    60], na.rm = T), media_lucro_mais_60 = mean(lucro[duracao >= 60], na.rm = T))"
   ]
  },
  {
   "cell_type": "markdown",
   "id": "noble-flour",
   "metadata": {},
   "source": [
    "4) a)"
   ]
  },
  {
   "cell_type": "code",
   "execution_count": 23,
   "id": "acute-withdrawal",
   "metadata": {},
   "outputs": [
    {
     "data": {
      "text/html": [
       "<table class=\"dataframe\">\n",
       "<caption>A tibble: 4 × 2</caption>\n",
       "<thead>\n",
       "\t<tr><th></th><th scope=col>classificacao</th><th scope=col>media_nota_imdb</th></tr>\n",
       "\t<tr><th></th><th scope=col>&lt;chr&gt;</th><th scope=col>&lt;dbl&gt;</th></tr>\n",
       "</thead>\n",
       "<tbody>\n",
       "\t<tr><th scope=row>1</th><td>A partir de 13 anos</td><td>6.180132</td></tr>\n",
       "\t<tr><th scope=row>2</th><td>A partir de 18 anos</td><td>6.466688</td></tr>\n",
       "\t<tr><th scope=row>3</th><td>Livre              </td><td>6.260932</td></tr>\n",
       "\t<tr><th scope=row>4</th><td>Outros             </td><td>6.645376</td></tr>\n",
       "</tbody>\n",
       "</table>\n"
      ],
      "text/latex": [
       "A tibble: 4 × 2\n",
       "\\begin{tabular}{r|ll}\n",
       "  & classificacao & media\\_nota\\_imdb\\\\\n",
       "  & <chr> & <dbl>\\\\\n",
       "\\hline\n",
       "\t1 & A partir de 13 anos & 6.180132\\\\\n",
       "\t2 & A partir de 18 anos & 6.466688\\\\\n",
       "\t3 & Livre               & 6.260932\\\\\n",
       "\t4 & Outros              & 6.645376\\\\\n",
       "\\end{tabular}\n"
      ],
      "text/markdown": [
       "\n",
       "A tibble: 4 × 2\n",
       "\n",
       "| <!--/--> | classificacao &lt;chr&gt; | media_nota_imdb &lt;dbl&gt; |\n",
       "|---|---|---|\n",
       "| 1 | A partir de 13 anos | 6.180132 |\n",
       "| 2 | A partir de 18 anos | 6.466688 |\n",
       "| 3 | Livre               | 6.260932 |\n",
       "| 4 | Outros              | 6.645376 |\n",
       "\n"
      ],
      "text/plain": [
       "  classificacao       media_nota_imdb\n",
       "1 A partir de 13 anos 6.180132       \n",
       "2 A partir de 18 anos 6.466688       \n",
       "3 Livre               6.260932       \n",
       "4 Outros              6.645376       "
      ]
     },
     "metadata": {},
     "output_type": "display_data"
    }
   ],
   "source": [
    "imdb %>% group_by(classificacao) %>% summarise(media_nota_imdb = mean(nota_imdb, \n",
    "    na.rm = T))"
   ]
  },
  {
   "cell_type": "markdown",
   "id": "environmental-camping",
   "metadata": {},
   "source": [
    "b)"
   ]
  },
  {
   "cell_type": "code",
   "execution_count": 27,
   "id": "editorial-holocaust",
   "metadata": {},
   "outputs": [
    {
     "data": {
      "text/html": [
       "<table class=\"dataframe\">\n",
       "<caption>A tibble: 25 × 3</caption>\n",
       "<thead>\n",
       "\t<tr><th scope=col>ano</th><th scope=col>media_receita</th><th scope=col>mediana_receita</th></tr>\n",
       "\t<tr><th scope=col>&lt;int&gt;</th><th scope=col>&lt;dbl&gt;</th><th scope=col>&lt;dbl&gt;</th></tr>\n",
       "</thead>\n",
       "<tbody>\n",
       "\t<tr><td>1920</td><td>  3000000</td><td>  3000000</td></tr>\n",
       "\t<tr><td>1929</td><td>  2808000</td><td>  2808000</td></tr>\n",
       "\t<tr><td>1933</td><td>  2300000</td><td>  2300000</td></tr>\n",
       "\t<tr><td>1935</td><td>  3000000</td><td>  3000000</td></tr>\n",
       "\t<tr><td>1936</td><td>   163245</td><td>   163245</td></tr>\n",
       "\t<tr><td>1937</td><td>184925485</td><td>184925485</td></tr>\n",
       "\t<tr><td>1939</td><td>110428945</td><td>110428945</td></tr>\n",
       "\t<tr><td>1940</td><td> 80350000</td><td> 80350000</td></tr>\n",
       "\t<tr><td>1942</td><td>102797150</td><td>102797150</td></tr>\n",
       "\t<tr><td>1946</td><td> 22025000</td><td> 22025000</td></tr>\n",
       "\t<tr><td>1947</td><td>     7927</td><td>     7927</td></tr>\n",
       "\t<tr><td>1948</td><td>  2956000</td><td>  2956000</td></tr>\n",
       "\t<tr><td>1950</td><td>  8000000</td><td>  8000000</td></tr>\n",
       "\t<tr><td>1952</td><td> 36000000</td><td> 36000000</td></tr>\n",
       "\t<tr><td>1953</td><td> 20500000</td><td> 20500000</td></tr>\n",
       "\t<tr><td>1954</td><td>  9600000</td><td>  9600000</td></tr>\n",
       "\t<tr><td>1959</td><td> 25000000</td><td> 25000000</td></tr>\n",
       "\t<tr><td>1960</td><td> 32000000</td><td> 32000000</td></tr>\n",
       "\t<tr><td>1961</td><td> 43650000</td><td> 43650000</td></tr>\n",
       "\t<tr><td>1963</td><td> 46300000</td><td> 46300000</td></tr>\n",
       "\t<tr><td>1964</td><td> 58104146</td><td> 72000000</td></tr>\n",
       "\t<tr><td>1965</td><td> 70737790</td><td> 59861000</td></tr>\n",
       "\t<tr><td>1969</td><td>102308900</td><td>102308900</td></tr>\n",
       "\t<tr><td>1970</td><td>  9100000</td><td>  9000000</td></tr>\n",
       "\t<tr><td>1971</td><td> 21729410</td><td> 15180000</td></tr>\n",
       "</tbody>\n",
       "</table>\n"
      ],
      "text/latex": [
       "A tibble: 25 × 3\n",
       "\\begin{tabular}{lll}\n",
       " ano & media\\_receita & mediana\\_receita\\\\\n",
       " <int> & <dbl> & <dbl>\\\\\n",
       "\\hline\n",
       "\t 1920 &   3000000 &   3000000\\\\\n",
       "\t 1929 &   2808000 &   2808000\\\\\n",
       "\t 1933 &   2300000 &   2300000\\\\\n",
       "\t 1935 &   3000000 &   3000000\\\\\n",
       "\t 1936 &    163245 &    163245\\\\\n",
       "\t 1937 & 184925485 & 184925485\\\\\n",
       "\t 1939 & 110428945 & 110428945\\\\\n",
       "\t 1940 &  80350000 &  80350000\\\\\n",
       "\t 1942 & 102797150 & 102797150\\\\\n",
       "\t 1946 &  22025000 &  22025000\\\\\n",
       "\t 1947 &      7927 &      7927\\\\\n",
       "\t 1948 &   2956000 &   2956000\\\\\n",
       "\t 1950 &   8000000 &   8000000\\\\\n",
       "\t 1952 &  36000000 &  36000000\\\\\n",
       "\t 1953 &  20500000 &  20500000\\\\\n",
       "\t 1954 &   9600000 &   9600000\\\\\n",
       "\t 1959 &  25000000 &  25000000\\\\\n",
       "\t 1960 &  32000000 &  32000000\\\\\n",
       "\t 1961 &  43650000 &  43650000\\\\\n",
       "\t 1963 &  46300000 &  46300000\\\\\n",
       "\t 1964 &  58104146 &  72000000\\\\\n",
       "\t 1965 &  70737790 &  59861000\\\\\n",
       "\t 1969 & 102308900 & 102308900\\\\\n",
       "\t 1970 &   9100000 &   9000000\\\\\n",
       "\t 1971 &  21729410 &  15180000\\\\\n",
       "\\end{tabular}\n"
      ],
      "text/markdown": [
       "\n",
       "A tibble: 25 × 3\n",
       "\n",
       "| ano &lt;int&gt; | media_receita &lt;dbl&gt; | mediana_receita &lt;dbl&gt; |\n",
       "|---|---|---|\n",
       "| 1920 |   3000000 |   3000000 |\n",
       "| 1929 |   2808000 |   2808000 |\n",
       "| 1933 |   2300000 |   2300000 |\n",
       "| 1935 |   3000000 |   3000000 |\n",
       "| 1936 |    163245 |    163245 |\n",
       "| 1937 | 184925485 | 184925485 |\n",
       "| 1939 | 110428945 | 110428945 |\n",
       "| 1940 |  80350000 |  80350000 |\n",
       "| 1942 | 102797150 | 102797150 |\n",
       "| 1946 |  22025000 |  22025000 |\n",
       "| 1947 |      7927 |      7927 |\n",
       "| 1948 |   2956000 |   2956000 |\n",
       "| 1950 |   8000000 |   8000000 |\n",
       "| 1952 |  36000000 |  36000000 |\n",
       "| 1953 |  20500000 |  20500000 |\n",
       "| 1954 |   9600000 |   9600000 |\n",
       "| 1959 |  25000000 |  25000000 |\n",
       "| 1960 |  32000000 |  32000000 |\n",
       "| 1961 |  43650000 |  43650000 |\n",
       "| 1963 |  46300000 |  46300000 |\n",
       "| 1964 |  58104146 |  72000000 |\n",
       "| 1965 |  70737790 |  59861000 |\n",
       "| 1969 | 102308900 | 102308900 |\n",
       "| 1970 |   9100000 |   9000000 |\n",
       "| 1971 |  21729410 |  15180000 |\n",
       "\n"
      ],
      "text/plain": [
       "   ano  media_receita mediana_receita\n",
       "1  1920   3000000       3000000      \n",
       "2  1929   2808000       2808000      \n",
       "3  1933   2300000       2300000      \n",
       "4  1935   3000000       3000000      \n",
       "5  1936    163245        163245      \n",
       "6  1937 184925485     184925485      \n",
       "7  1939 110428945     110428945      \n",
       "8  1940  80350000      80350000      \n",
       "9  1942 102797150     102797150      \n",
       "10 1946  22025000      22025000      \n",
       "11 1947      7927          7927      \n",
       "12 1948   2956000       2956000      \n",
       "13 1950   8000000       8000000      \n",
       "14 1952  36000000      36000000      \n",
       "15 1953  20500000      20500000      \n",
       "16 1954   9600000       9600000      \n",
       "17 1959  25000000      25000000      \n",
       "18 1960  32000000      32000000      \n",
       "19 1961  43650000      43650000      \n",
       "20 1963  46300000      46300000      \n",
       "21 1964  58104146      72000000      \n",
       "22 1965  70737790      59861000      \n",
       "23 1969 102308900     102308900      \n",
       "24 1970   9100000       9000000      \n",
       "25 1971  21729410      15180000      "
      ]
     },
     "metadata": {},
     "output_type": "display_data"
    }
   ],
   "source": [
    "imdb %>% filter(!is.na(receita)) %>% group_by(ano) %>% summarise(media_receita = mean(receita), \n",
    "    mediana_receita = median(receita)) %>% head(25)"
   ]
  },
  {
   "cell_type": "markdown",
   "id": "furnished-identification",
   "metadata": {},
   "source": [
    "c)"
   ]
  },
  {
   "cell_type": "code",
   "execution_count": 41,
   "id": "stupid-tokyo",
   "metadata": {},
   "outputs": [
    {
     "data": {
      "text/html": [
       "<table class=\"dataframe\">\n",
       "<caption>A grouped_df: 22 × 2</caption>\n",
       "<thead>\n",
       "\t<tr><th scope=col>diretor</th><th scope=col>n</th></tr>\n",
       "\t<tr><th scope=col>&lt;chr&gt;</th><th scope=col>&lt;int&gt;</th></tr>\n",
       "</thead>\n",
       "<tbody>\n",
       "\t<tr><td>Barry Levinson      </td><td>13</td></tr>\n",
       "\t<tr><td>Clint Eastwood      </td><td>20</td></tr>\n",
       "\t<tr><td>Francis Ford Coppola</td><td>11</td></tr>\n",
       "\t<tr><td>John Carpenter      </td><td>12</td></tr>\n",
       "\t<tr><td>Kevin Smith         </td><td>12</td></tr>\n",
       "\t<tr><td>Martin Scorsese     </td><td>20</td></tr>\n",
       "\t<tr><td>Michael Bay         </td><td>13</td></tr>\n",
       "\t<tr><td>Renny Harlin        </td><td>14</td></tr>\n",
       "\t<tr><td>Ridley Scott        </td><td>14</td></tr>\n",
       "\t<tr><td>Rob Cohen           </td><td>11</td></tr>\n",
       "\t<tr><td>Rob Reiner          </td><td>11</td></tr>\n",
       "\t<tr><td>Robert Rodriguez    </td><td>12</td></tr>\n",
       "\t<tr><td>Robert Zemeckis     </td><td>13</td></tr>\n",
       "\t<tr><td>Ron Howard          </td><td>12</td></tr>\n",
       "\t<tr><td>Sam Raimi           </td><td>11</td></tr>\n",
       "\t<tr><td>Shawn Levy          </td><td>12</td></tr>\n",
       "\t<tr><td>Spike Lee           </td><td>16</td></tr>\n",
       "\t<tr><td>Steven Soderbergh   </td><td>15</td></tr>\n",
       "\t<tr><td>Steven Spielberg    </td><td>24</td></tr>\n",
       "\t<tr><td>Tim Burton          </td><td>16</td></tr>\n",
       "\t<tr><td>Wes Craven          </td><td>12</td></tr>\n",
       "\t<tr><td>Woody Allen         </td><td>18</td></tr>\n",
       "</tbody>\n",
       "</table>\n"
      ],
      "text/latex": [
       "A grouped\\_df: 22 × 2\n",
       "\\begin{tabular}{ll}\n",
       " diretor & n\\\\\n",
       " <chr> & <int>\\\\\n",
       "\\hline\n",
       "\t Barry Levinson       & 13\\\\\n",
       "\t Clint Eastwood       & 20\\\\\n",
       "\t Francis Ford Coppola & 11\\\\\n",
       "\t John Carpenter       & 12\\\\\n",
       "\t Kevin Smith          & 12\\\\\n",
       "\t Martin Scorsese      & 20\\\\\n",
       "\t Michael Bay          & 13\\\\\n",
       "\t Renny Harlin         & 14\\\\\n",
       "\t Ridley Scott         & 14\\\\\n",
       "\t Rob Cohen            & 11\\\\\n",
       "\t Rob Reiner           & 11\\\\\n",
       "\t Robert Rodriguez     & 12\\\\\n",
       "\t Robert Zemeckis      & 13\\\\\n",
       "\t Ron Howard           & 12\\\\\n",
       "\t Sam Raimi            & 11\\\\\n",
       "\t Shawn Levy           & 12\\\\\n",
       "\t Spike Lee            & 16\\\\\n",
       "\t Steven Soderbergh    & 15\\\\\n",
       "\t Steven Spielberg     & 24\\\\\n",
       "\t Tim Burton           & 16\\\\\n",
       "\t Wes Craven           & 12\\\\\n",
       "\t Woody Allen          & 18\\\\\n",
       "\\end{tabular}\n"
      ],
      "text/markdown": [
       "\n",
       "A grouped_df: 22 × 2\n",
       "\n",
       "| diretor &lt;chr&gt; | n &lt;int&gt; |\n",
       "|---|---|\n",
       "| Barry Levinson       | 13 |\n",
       "| Clint Eastwood       | 20 |\n",
       "| Francis Ford Coppola | 11 |\n",
       "| John Carpenter       | 12 |\n",
       "| Kevin Smith          | 12 |\n",
       "| Martin Scorsese      | 20 |\n",
       "| Michael Bay          | 13 |\n",
       "| Renny Harlin         | 14 |\n",
       "| Ridley Scott         | 14 |\n",
       "| Rob Cohen            | 11 |\n",
       "| Rob Reiner           | 11 |\n",
       "| Robert Rodriguez     | 12 |\n",
       "| Robert Zemeckis      | 13 |\n",
       "| Ron Howard           | 12 |\n",
       "| Sam Raimi            | 11 |\n",
       "| Shawn Levy           | 12 |\n",
       "| Spike Lee            | 16 |\n",
       "| Steven Soderbergh    | 15 |\n",
       "| Steven Spielberg     | 24 |\n",
       "| Tim Burton           | 16 |\n",
       "| Wes Craven           | 12 |\n",
       "| Woody Allen          | 18 |\n",
       "\n"
      ],
      "text/plain": [
       "   diretor              n \n",
       "1  Barry Levinson       13\n",
       "2  Clint Eastwood       20\n",
       "3  Francis Ford Coppola 11\n",
       "4  John Carpenter       12\n",
       "5  Kevin Smith          12\n",
       "6  Martin Scorsese      20\n",
       "7  Michael Bay          13\n",
       "8  Renny Harlin         14\n",
       "9  Ridley Scott         14\n",
       "10 Rob Cohen            11\n",
       "11 Rob Reiner           11\n",
       "12 Robert Rodriguez     12\n",
       "13 Robert Zemeckis      13\n",
       "14 Ron Howard           12\n",
       "15 Sam Raimi            11\n",
       "16 Shawn Levy           12\n",
       "17 Spike Lee            16\n",
       "18 Steven Soderbergh    15\n",
       "19 Steven Spielberg     24\n",
       "20 Tim Burton           16\n",
       "21 Wes Craven           12\n",
       "22 Woody Allen          18"
      ]
     },
     "metadata": {},
     "output_type": "display_data"
    }
   ],
   "source": [
    "imdb %>% filter(!is.na(diretor)) %>% group_by(diretor) %>% count(diretor) %>% filter(n > \n",
    "    10)"
   ]
  },
  {
   "cell_type": "markdown",
   "id": "future-formula",
   "metadata": {},
   "source": [
    "## Exercícios 7.2.7\n",
    "\n",
    "1) a)"
   ]
  },
  {
   "cell_type": "code",
   "execution_count": 30,
   "id": "mysterious-cotton",
   "metadata": {},
   "outputs": [
    {
     "data": {
      "text/html": [
       "<table class=\"dataframe\">\n",
       "<caption>A tibble: 6 × 2</caption>\n",
       "<thead>\n",
       "\t<tr><th scope=col>diretor</th><th scope=col>media_nota_imdb</th></tr>\n",
       "\t<tr><th scope=col>&lt;chr&gt;</th><th scope=col>&lt;dbl&gt;</th></tr>\n",
       "</thead>\n",
       "<tbody>\n",
       "\t<tr><td>A. Raven Cruz  </td><td>1.9</td></tr>\n",
       "\t<tr><td>Aaron Hann     </td><td>6.0</td></tr>\n",
       "\t<tr><td>Aaron Schneider</td><td>7.1</td></tr>\n",
       "\t<tr><td>Aaron Seltzer  </td><td>2.7</td></tr>\n",
       "\t<tr><td>Abel Ferrara   </td><td>6.6</td></tr>\n",
       "\t<tr><td>Adam Carolla   </td><td>6.1</td></tr>\n",
       "</tbody>\n",
       "</table>\n"
      ],
      "text/latex": [
       "A tibble: 6 × 2\n",
       "\\begin{tabular}{ll}\n",
       " diretor & media\\_nota\\_imdb\\\\\n",
       " <chr> & <dbl>\\\\\n",
       "\\hline\n",
       "\t A. Raven Cruz   & 1.9\\\\\n",
       "\t Aaron Hann      & 6.0\\\\\n",
       "\t Aaron Schneider & 7.1\\\\\n",
       "\t Aaron Seltzer   & 2.7\\\\\n",
       "\t Abel Ferrara    & 6.6\\\\\n",
       "\t Adam Carolla    & 6.1\\\\\n",
       "\\end{tabular}\n"
      ],
      "text/markdown": [
       "\n",
       "A tibble: 6 × 2\n",
       "\n",
       "| diretor &lt;chr&gt; | media_nota_imdb &lt;dbl&gt; |\n",
       "|---|---|\n",
       "| A. Raven Cruz   | 1.9 |\n",
       "| Aaron Hann      | 6.0 |\n",
       "| Aaron Schneider | 7.1 |\n",
       "| Aaron Seltzer   | 2.7 |\n",
       "| Abel Ferrara    | 6.6 |\n",
       "| Adam Carolla    | 6.1 |\n",
       "\n"
      ],
      "text/plain": [
       "  diretor         media_nota_imdb\n",
       "1 A. Raven Cruz   1.9            \n",
       "2 Aaron Hann      6.0            \n",
       "3 Aaron Schneider 7.1            \n",
       "4 Aaron Seltzer   2.7            \n",
       "5 Abel Ferrara    6.6            \n",
       "6 Adam Carolla    6.1            "
      ]
     },
     "metadata": {},
     "output_type": "display_data"
    }
   ],
   "source": [
    "imdb_diretores_nota <- imdb %>% group_by(diretor) %>% summarise(media_nota_imdb = mean(nota_imdb, \n",
    "    na.rm = T)) %>% select(diretor, media_nota_imdb)\n",
    "\n",
    "imdb_diretores_nota %>% head()"
   ]
  },
  {
   "cell_type": "markdown",
   "id": "freelance-empire",
   "metadata": {},
   "source": [
    "b)"
   ]
  },
  {
   "cell_type": "code",
   "execution_count": 32,
   "id": "textile-egyptian",
   "metadata": {},
   "outputs": [
    {
     "data": {
      "text/html": [
       "<table class=\"dataframe\">\n",
       "<caption>A tibble: 15 × 16</caption>\n",
       "<thead>\n",
       "\t<tr><th scope=col>titulo</th><th scope=col>ano</th><th scope=col>diretor</th><th scope=col>duracao</th><th scope=col>cor</th><th scope=col>generos</th><th scope=col>pais</th><th scope=col>classificacao</th><th scope=col>orcamento</th><th scope=col>receita</th><th scope=col>nota_imdb</th><th scope=col>likes_facebook</th><th scope=col>ator_1</th><th scope=col>ator_2</th><th scope=col>ator_3</th><th scope=col>media_nota_imdb</th></tr>\n",
       "\t<tr><th scope=col>&lt;chr&gt;</th><th scope=col>&lt;int&gt;</th><th scope=col>&lt;chr&gt;</th><th scope=col>&lt;int&gt;</th><th scope=col>&lt;chr&gt;</th><th scope=col>&lt;chr&gt;</th><th scope=col>&lt;chr&gt;</th><th scope=col>&lt;chr&gt;</th><th scope=col>&lt;int&gt;</th><th scope=col>&lt;int&gt;</th><th scope=col>&lt;dbl&gt;</th><th scope=col>&lt;int&gt;</th><th scope=col>&lt;chr&gt;</th><th scope=col>&lt;chr&gt;</th><th scope=col>&lt;chr&gt;</th><th scope=col>&lt;dbl&gt;</th></tr>\n",
       "</thead>\n",
       "<tbody>\n",
       "\t<tr><td>The Helix... Loaded                         </td><td>2005</td><td>A. Raven Cruz   </td><td> 97</td><td>Color</td><td>Action|Adventure|Comedy|Fantasy|Sci-Fi</td><td>USA</td><td>A partir de 18 anos</td><td>  1000000</td><td>       NA</td><td>1.9</td><td>  128</td><td>Scott Levy         </td><td>Vanilla Ice       </td><td>Jennifer Sky         </td><td>1.900000</td></tr>\n",
       "\t<tr><td>Circle                                      </td><td>2015</td><td>Aaron Hann      </td><td> 87</td><td>Color</td><td>Drama|Horror|Mystery|Sci-Fi|Thriller  </td><td>USA</td><td>Outros             </td><td>       NA</td><td>       NA</td><td>6.0</td><td>    0</td><td>Jordi Vilasuso     </td><td>Michael McLafferty</td><td>Kaiwi Lyman-Mersereau</td><td>6.000000</td></tr>\n",
       "\t<tr><td>Get Low                                     </td><td>2009</td><td>Aaron Schneider </td><td>100</td><td>Color</td><td>Drama|Mystery                         </td><td>USA</td><td>A partir de 13 anos</td><td>  7500000</td><td>  9176553</td><td>7.1</td><td>    0</td><td>Bill Murray        </td><td>Robert Duvall     </td><td>Bill Cobbs           </td><td>7.100000</td></tr>\n",
       "\t<tr><td>Date Movie                                  </td><td>2006</td><td>Aaron Seltzer   </td><td> 85</td><td>Color</td><td>Comedy|Romance                        </td><td>USA</td><td>A partir de 13 anos</td><td> 20000000</td><td> 48546578</td><td>2.7</td><td>  806</td><td>Alyson Hannigan    </td><td>Carmen Electra    </td><td>Fred Willard         </td><td>2.700000</td></tr>\n",
       "\t<tr><td>The Funeral                                 </td><td>1996</td><td>Abel Ferrara    </td><td> 99</td><td>Color</td><td>Crime|Drama                           </td><td>USA</td><td>A partir de 18 anos</td><td> 12500000</td><td>  1227324</td><td>6.6</td><td>  344</td><td>Isabella Rossellini</td><td>Vincent Gallo     </td><td>Gretchen Mol         </td><td>6.600000</td></tr>\n",
       "\t<tr><td>Road Hard                                   </td><td>2015</td><td>Adam Carolla    </td><td> 98</td><td>Color</td><td>Comedy                                </td><td>USA</td><td>Outros             </td><td>  1500000</td><td>   105943</td><td>6.1</td><td>  212</td><td>Jay Mohr           </td><td>Jim O'Heir        </td><td>David Alan Grier     </td><td>6.100000</td></tr>\n",
       "\t<tr><td>I Love Your Work                            </td><td>2003</td><td>Adam Goldberg   </td><td>111</td><td>Color</td><td>Drama|Mystery                         </td><td>USA</td><td>A partir de 18 anos</td><td>  1650000</td><td>     2580</td><td>5.4</td><td>   63</td><td>Judy Greer         </td><td>Marisa Coughlan   </td><td>Nicky Katt           </td><td>5.400000</td></tr>\n",
       "\t<tr><td>Hatchet                                     </td><td>2006</td><td>Adam Green      </td><td> 93</td><td>Color</td><td>Comedy|Horror                         </td><td>USA</td><td>A partir de 18 anos</td><td>  1500000</td><td>       NA</td><td>5.7</td><td>    0</td><td>Joel David Moore   </td><td>Kane Hodder       </td><td>Joel Murray          </td><td>5.700000</td></tr>\n",
       "\t<tr><td>Extreme Movie                               </td><td>2008</td><td>Adam Jay Epstein</td><td> 76</td><td>Color</td><td>Comedy                                </td><td>USA</td><td>A partir de 18 anos</td><td>       NA</td><td>       NA</td><td>3.8</td><td>  636</td><td>Rich Ceraulo       </td><td>Denise Boutte     </td><td>Vanessa Lee Chester  </td><td>3.800000</td></tr>\n",
       "\t<tr><td>Jason Goes to Hell: The Final Friday        </td><td>1993</td><td>Adam Marcus     </td><td> 91</td><td>Color</td><td>Fantasy|Horror|Thriller               </td><td>USA</td><td>A partir de 18 anos</td><td>  2500000</td><td> 15935068</td><td>4.3</td><td>  949</td><td>Kane Hodder        </td><td>Leslie Jordan     </td><td>Erin Gray            </td><td>4.300000</td></tr>\n",
       "\t<tr><td>The Other Guys                              </td><td>2010</td><td>Adam McKay      </td><td>116</td><td>Color</td><td>Action|Comedy|Crime                   </td><td>USA</td><td>A partir de 13 anos</td><td>100000000</td><td>119219978</td><td>6.7</td><td>16000</td><td>Dwayne Johnson     </td><td>Will Ferrell      </td><td>Derek Jeter          </td><td>6.916667</td></tr>\n",
       "\t<tr><td>Talladega Nights: The Ballad of Ricky Bobby </td><td>2006</td><td>Adam McKay      </td><td>122</td><td>Color</td><td>Action|Comedy|Sport                   </td><td>USA</td><td>A partir de 13 anos</td><td> 73000000</td><td>148213377</td><td>6.6</td><td>    0</td><td>Will Ferrell       </td><td>Leslie Bibb       </td><td>Gary Cole            </td><td>6.916667</td></tr>\n",
       "\t<tr><td>Step Brothers                               </td><td>2008</td><td>Adam McKay      </td><td>106</td><td>Color</td><td>Comedy                                </td><td>USA</td><td>A partir de 18 anos</td><td> 65000000</td><td>100468793</td><td>6.9</td><td>    0</td><td>Will Ferrell       </td><td>Adam Scott        </td><td>Andrea Savage        </td><td>6.916667</td></tr>\n",
       "\t<tr><td>Anchorman 2: The Legend Continues           </td><td>2013</td><td>Adam McKay      </td><td>143</td><td>Color</td><td>Comedy                                </td><td>USA</td><td>A partir de 13 anos</td><td> 50000000</td><td>  2175312</td><td>6.3</td><td>41000</td><td>Harrison Ford      </td><td>Will Ferrell      </td><td>Steve Carell         </td><td>6.916667</td></tr>\n",
       "\t<tr><td>The Big Short                               </td><td>2015</td><td>Adam McKay      </td><td>130</td><td>Color</td><td>Biography|Comedy|Drama|History        </td><td>USA</td><td>A partir de 18 anos</td><td> 28000000</td><td> 70235322</td><td>7.8</td><td>99000</td><td>Ryan Gosling       </td><td>Christian Bale    </td><td>Charlie Talbert      </td><td>6.916667</td></tr>\n",
       "</tbody>\n",
       "</table>\n"
      ],
      "text/latex": [
       "A tibble: 15 × 16\n",
       "\\begin{tabular}{llllllllllllllll}\n",
       " titulo & ano & diretor & duracao & cor & generos & pais & classificacao & orcamento & receita & nota\\_imdb & likes\\_facebook & ator\\_1 & ator\\_2 & ator\\_3 & media\\_nota\\_imdb\\\\\n",
       " <chr> & <int> & <chr> & <int> & <chr> & <chr> & <chr> & <chr> & <int> & <int> & <dbl> & <int> & <chr> & <chr> & <chr> & <dbl>\\\\\n",
       "\\hline\n",
       "\t The Helix... Loaded                          & 2005 & A. Raven Cruz    &  97 & Color & Action\\textbar{}Adventure\\textbar{}Comedy\\textbar{}Fantasy\\textbar{}Sci-Fi & USA & A partir de 18 anos &   1000000 &        NA & 1.9 &   128 & Scott Levy          & Vanilla Ice        & Jennifer Sky          & 1.900000\\\\\n",
       "\t Circle                                       & 2015 & Aaron Hann       &  87 & Color & Drama\\textbar{}Horror\\textbar{}Mystery\\textbar{}Sci-Fi\\textbar{}Thriller   & USA & Outros              &        NA &        NA & 6.0 &     0 & Jordi Vilasuso      & Michael McLafferty & Kaiwi Lyman-Mersereau & 6.000000\\\\\n",
       "\t Get Low                                      & 2009 & Aaron Schneider  & 100 & Color & Drama\\textbar{}Mystery                          & USA & A partir de 13 anos &   7500000 &   9176553 & 7.1 &     0 & Bill Murray         & Robert Duvall      & Bill Cobbs            & 7.100000\\\\\n",
       "\t Date Movie                                   & 2006 & Aaron Seltzer    &  85 & Color & Comedy\\textbar{}Romance                         & USA & A partir de 13 anos &  20000000 &  48546578 & 2.7 &   806 & Alyson Hannigan     & Carmen Electra     & Fred Willard          & 2.700000\\\\\n",
       "\t The Funeral                                  & 1996 & Abel Ferrara     &  99 & Color & Crime\\textbar{}Drama                            & USA & A partir de 18 anos &  12500000 &   1227324 & 6.6 &   344 & Isabella Rossellini & Vincent Gallo      & Gretchen Mol          & 6.600000\\\\\n",
       "\t Road Hard                                    & 2015 & Adam Carolla     &  98 & Color & Comedy                                 & USA & Outros              &   1500000 &    105943 & 6.1 &   212 & Jay Mohr            & Jim O'Heir         & David Alan Grier      & 6.100000\\\\\n",
       "\t I Love Your Work                             & 2003 & Adam Goldberg    & 111 & Color & Drama\\textbar{}Mystery                          & USA & A partir de 18 anos &   1650000 &      2580 & 5.4 &    63 & Judy Greer          & Marisa Coughlan    & Nicky Katt            & 5.400000\\\\\n",
       "\t Hatchet                                      & 2006 & Adam Green       &  93 & Color & Comedy\\textbar{}Horror                          & USA & A partir de 18 anos &   1500000 &        NA & 5.7 &     0 & Joel David Moore    & Kane Hodder        & Joel Murray           & 5.700000\\\\\n",
       "\t Extreme Movie                                & 2008 & Adam Jay Epstein &  76 & Color & Comedy                                 & USA & A partir de 18 anos &        NA &        NA & 3.8 &   636 & Rich Ceraulo        & Denise Boutte      & Vanessa Lee Chester   & 3.800000\\\\\n",
       "\t Jason Goes to Hell: The Final Friday         & 1993 & Adam Marcus      &  91 & Color & Fantasy\\textbar{}Horror\\textbar{}Thriller                & USA & A partir de 18 anos &   2500000 &  15935068 & 4.3 &   949 & Kane Hodder         & Leslie Jordan      & Erin Gray             & 4.300000\\\\\n",
       "\t The Other Guys                               & 2010 & Adam McKay       & 116 & Color & Action\\textbar{}Comedy\\textbar{}Crime                    & USA & A partir de 13 anos & 100000000 & 119219978 & 6.7 & 16000 & Dwayne Johnson      & Will Ferrell       & Derek Jeter           & 6.916667\\\\\n",
       "\t Talladega Nights: The Ballad of Ricky Bobby  & 2006 & Adam McKay       & 122 & Color & Action\\textbar{}Comedy\\textbar{}Sport                    & USA & A partir de 13 anos &  73000000 & 148213377 & 6.6 &     0 & Will Ferrell        & Leslie Bibb        & Gary Cole             & 6.916667\\\\\n",
       "\t Step Brothers                                & 2008 & Adam McKay       & 106 & Color & Comedy                                 & USA & A partir de 18 anos &  65000000 & 100468793 & 6.9 &     0 & Will Ferrell        & Adam Scott         & Andrea Savage         & 6.916667\\\\\n",
       "\t Anchorman 2: The Legend Continues            & 2013 & Adam McKay       & 143 & Color & Comedy                                 & USA & A partir de 13 anos &  50000000 &   2175312 & 6.3 & 41000 & Harrison Ford       & Will Ferrell       & Steve Carell          & 6.916667\\\\\n",
       "\t The Big Short                                & 2015 & Adam McKay       & 130 & Color & Biography\\textbar{}Comedy\\textbar{}Drama\\textbar{}History         & USA & A partir de 18 anos &  28000000 &  70235322 & 7.8 & 99000 & Ryan Gosling        & Christian Bale     & Charlie Talbert       & 6.916667\\\\\n",
       "\\end{tabular}\n"
      ],
      "text/markdown": [
       "\n",
       "A tibble: 15 × 16\n",
       "\n",
       "| titulo &lt;chr&gt; | ano &lt;int&gt; | diretor &lt;chr&gt; | duracao &lt;int&gt; | cor &lt;chr&gt; | generos &lt;chr&gt; | pais &lt;chr&gt; | classificacao &lt;chr&gt; | orcamento &lt;int&gt; | receita &lt;int&gt; | nota_imdb &lt;dbl&gt; | likes_facebook &lt;int&gt; | ator_1 &lt;chr&gt; | ator_2 &lt;chr&gt; | ator_3 &lt;chr&gt; | media_nota_imdb &lt;dbl&gt; |\n",
       "|---|---|---|---|---|---|---|---|---|---|---|---|---|---|---|---|\n",
       "| The Helix... Loaded                          | 2005 | A. Raven Cruz    |  97 | Color | Action|Adventure|Comedy|Fantasy|Sci-Fi | USA | A partir de 18 anos |   1000000 |        NA | 1.9 |   128 | Scott Levy          | Vanilla Ice        | Jennifer Sky          | 1.900000 |\n",
       "| Circle                                       | 2015 | Aaron Hann       |  87 | Color | Drama|Horror|Mystery|Sci-Fi|Thriller   | USA | Outros              |        NA |        NA | 6.0 |     0 | Jordi Vilasuso      | Michael McLafferty | Kaiwi Lyman-Mersereau | 6.000000 |\n",
       "| Get Low                                      | 2009 | Aaron Schneider  | 100 | Color | Drama|Mystery                          | USA | A partir de 13 anos |   7500000 |   9176553 | 7.1 |     0 | Bill Murray         | Robert Duvall      | Bill Cobbs            | 7.100000 |\n",
       "| Date Movie                                   | 2006 | Aaron Seltzer    |  85 | Color | Comedy|Romance                         | USA | A partir de 13 anos |  20000000 |  48546578 | 2.7 |   806 | Alyson Hannigan     | Carmen Electra     | Fred Willard          | 2.700000 |\n",
       "| The Funeral                                  | 1996 | Abel Ferrara     |  99 | Color | Crime|Drama                            | USA | A partir de 18 anos |  12500000 |   1227324 | 6.6 |   344 | Isabella Rossellini | Vincent Gallo      | Gretchen Mol          | 6.600000 |\n",
       "| Road Hard                                    | 2015 | Adam Carolla     |  98 | Color | Comedy                                 | USA | Outros              |   1500000 |    105943 | 6.1 |   212 | Jay Mohr            | Jim O'Heir         | David Alan Grier      | 6.100000 |\n",
       "| I Love Your Work                             | 2003 | Adam Goldberg    | 111 | Color | Drama|Mystery                          | USA | A partir de 18 anos |   1650000 |      2580 | 5.4 |    63 | Judy Greer          | Marisa Coughlan    | Nicky Katt            | 5.400000 |\n",
       "| Hatchet                                      | 2006 | Adam Green       |  93 | Color | Comedy|Horror                          | USA | A partir de 18 anos |   1500000 |        NA | 5.7 |     0 | Joel David Moore    | Kane Hodder        | Joel Murray           | 5.700000 |\n",
       "| Extreme Movie                                | 2008 | Adam Jay Epstein |  76 | Color | Comedy                                 | USA | A partir de 18 anos |        NA |        NA | 3.8 |   636 | Rich Ceraulo        | Denise Boutte      | Vanessa Lee Chester   | 3.800000 |\n",
       "| Jason Goes to Hell: The Final Friday         | 1993 | Adam Marcus      |  91 | Color | Fantasy|Horror|Thriller                | USA | A partir de 18 anos |   2500000 |  15935068 | 4.3 |   949 | Kane Hodder         | Leslie Jordan      | Erin Gray             | 4.300000 |\n",
       "| The Other Guys                               | 2010 | Adam McKay       | 116 | Color | Action|Comedy|Crime                    | USA | A partir de 13 anos | 100000000 | 119219978 | 6.7 | 16000 | Dwayne Johnson      | Will Ferrell       | Derek Jeter           | 6.916667 |\n",
       "| Talladega Nights: The Ballad of Ricky Bobby  | 2006 | Adam McKay       | 122 | Color | Action|Comedy|Sport                    | USA | A partir de 13 anos |  73000000 | 148213377 | 6.6 |     0 | Will Ferrell        | Leslie Bibb        | Gary Cole             | 6.916667 |\n",
       "| Step Brothers                                | 2008 | Adam McKay       | 106 | Color | Comedy                                 | USA | A partir de 18 anos |  65000000 | 100468793 | 6.9 |     0 | Will Ferrell        | Adam Scott         | Andrea Savage         | 6.916667 |\n",
       "| Anchorman 2: The Legend Continues            | 2013 | Adam McKay       | 143 | Color | Comedy                                 | USA | A partir de 13 anos |  50000000 |   2175312 | 6.3 | 41000 | Harrison Ford       | Will Ferrell       | Steve Carell          | 6.916667 |\n",
       "| The Big Short                                | 2015 | Adam McKay       | 130 | Color | Biography|Comedy|Drama|History         | USA | A partir de 18 anos |  28000000 |  70235322 | 7.8 | 99000 | Ryan Gosling        | Christian Bale     | Charlie Talbert       | 6.916667 |\n",
       "\n"
      ],
      "text/plain": [
       "   titulo                                       ano  diretor          duracao\n",
       "1  The Helix... Loaded                          2005 A. Raven Cruz     97    \n",
       "2  Circle                                       2015 Aaron Hann        87    \n",
       "3  Get Low                                      2009 Aaron Schneider  100    \n",
       "4  Date Movie                                   2006 Aaron Seltzer     85    \n",
       "5  The Funeral                                  1996 Abel Ferrara      99    \n",
       "6  Road Hard                                    2015 Adam Carolla      98    \n",
       "7  I Love Your Work                             2003 Adam Goldberg    111    \n",
       "8  Hatchet                                      2006 Adam Green        93    \n",
       "9  Extreme Movie                                2008 Adam Jay Epstein  76    \n",
       "10 Jason Goes to Hell: The Final Friday         1993 Adam Marcus       91    \n",
       "11 The Other Guys                               2010 Adam McKay       116    \n",
       "12 Talladega Nights: The Ballad of Ricky Bobby  2006 Adam McKay       122    \n",
       "13 Step Brothers                                2008 Adam McKay       106    \n",
       "14 Anchorman 2: The Legend Continues            2013 Adam McKay       143    \n",
       "15 The Big Short                                2015 Adam McKay       130    \n",
       "   cor   generos                                pais classificacao      \n",
       "1  Color Action|Adventure|Comedy|Fantasy|Sci-Fi USA  A partir de 18 anos\n",
       "2  Color Drama|Horror|Mystery|Sci-Fi|Thriller   USA  Outros             \n",
       "3  Color Drama|Mystery                          USA  A partir de 13 anos\n",
       "4  Color Comedy|Romance                         USA  A partir de 13 anos\n",
       "5  Color Crime|Drama                            USA  A partir de 18 anos\n",
       "6  Color Comedy                                 USA  Outros             \n",
       "7  Color Drama|Mystery                          USA  A partir de 18 anos\n",
       "8  Color Comedy|Horror                          USA  A partir de 18 anos\n",
       "9  Color Comedy                                 USA  A partir de 18 anos\n",
       "10 Color Fantasy|Horror|Thriller                USA  A partir de 18 anos\n",
       "11 Color Action|Comedy|Crime                    USA  A partir de 13 anos\n",
       "12 Color Action|Comedy|Sport                    USA  A partir de 13 anos\n",
       "13 Color Comedy                                 USA  A partir de 18 anos\n",
       "14 Color Comedy                                 USA  A partir de 13 anos\n",
       "15 Color Biography|Comedy|Drama|History         USA  A partir de 18 anos\n",
       "   orcamento receita   nota_imdb likes_facebook ator_1             \n",
       "1    1000000        NA 1.9         128          Scott Levy         \n",
       "2         NA        NA 6.0           0          Jordi Vilasuso     \n",
       "3    7500000   9176553 7.1           0          Bill Murray        \n",
       "4   20000000  48546578 2.7         806          Alyson Hannigan    \n",
       "5   12500000   1227324 6.6         344          Isabella Rossellini\n",
       "6    1500000    105943 6.1         212          Jay Mohr           \n",
       "7    1650000      2580 5.4          63          Judy Greer         \n",
       "8    1500000        NA 5.7           0          Joel David Moore   \n",
       "9         NA        NA 3.8         636          Rich Ceraulo       \n",
       "10   2500000  15935068 4.3         949          Kane Hodder        \n",
       "11 100000000 119219978 6.7       16000          Dwayne Johnson     \n",
       "12  73000000 148213377 6.6           0          Will Ferrell       \n",
       "13  65000000 100468793 6.9           0          Will Ferrell       \n",
       "14  50000000   2175312 6.3       41000          Harrison Ford      \n",
       "15  28000000  70235322 7.8       99000          Ryan Gosling       \n",
       "   ator_2             ator_3                media_nota_imdb\n",
       "1  Vanilla Ice        Jennifer Sky          1.900000       \n",
       "2  Michael McLafferty Kaiwi Lyman-Mersereau 6.000000       \n",
       "3  Robert Duvall      Bill Cobbs            7.100000       \n",
       "4  Carmen Electra     Fred Willard          2.700000       \n",
       "5  Vincent Gallo      Gretchen Mol          6.600000       \n",
       "6  Jim O'Heir         David Alan Grier      6.100000       \n",
       "7  Marisa Coughlan    Nicky Katt            5.400000       \n",
       "8  Kane Hodder        Joel Murray           5.700000       \n",
       "9  Denise Boutte      Vanessa Lee Chester   3.800000       \n",
       "10 Leslie Jordan      Erin Gray             4.300000       \n",
       "11 Will Ferrell       Derek Jeter           6.916667       \n",
       "12 Leslie Bibb        Gary Cole             6.916667       \n",
       "13 Adam Scott         Andrea Savage         6.916667       \n",
       "14 Will Ferrell       Steve Carell          6.916667       \n",
       "15 Christian Bale     Charlie Talbert       6.916667       "
      ]
     },
     "metadata": {},
     "output_type": "display_data"
    }
   ],
   "source": [
    "left_join(imdb, imdb_diretores_nota, by = \"diretor\") %>% arrange(diretor) %>% head(15)"
   ]
  }
 ],
 "metadata": {
  "kernelspec": {
   "display_name": "R",
   "language": "R",
   "name": "ir"
  },
  "language_info": {
   "codemirror_mode": "r",
   "file_extension": ".r",
   "mimetype": "text/x-r-source",
   "name": "R",
   "pygments_lexer": "r",
   "version": "4.0.3"
  }
 },
 "nbformat": 4,
 "nbformat_minor": 5
}
