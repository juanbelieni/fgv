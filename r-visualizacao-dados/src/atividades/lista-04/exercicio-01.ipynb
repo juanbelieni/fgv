{
 "cells": [
  {
   "cell_type": "markdown",
   "id": "assumed-keyboard",
   "metadata": {},
   "source": [
    "# Exercício 1\n",
    "\n",
    "Importanto o pacote `dplyr` e a base de dados `imdb.rds`"
   ]
  },
  {
   "cell_type": "code",
   "execution_count": 2,
   "id": "formed-fundamental",
   "metadata": {},
   "outputs": [
    {
     "data": {
      "text/html": [
       "<table class=\"dataframe\">\n",
       "<caption>A tibble: 6 × 15</caption>\n",
       "<thead>\n",
       "\t<tr><th scope=col>titulo</th><th scope=col>ano</th><th scope=col>diretor</th><th scope=col>duracao</th><th scope=col>cor</th><th scope=col>generos</th><th scope=col>pais</th><th scope=col>classificacao</th><th scope=col>orcamento</th><th scope=col>receita</th><th scope=col>nota_imdb</th><th scope=col>likes_facebook</th><th scope=col>ator_1</th><th scope=col>ator_2</th><th scope=col>ator_3</th></tr>\n",
       "\t<tr><th scope=col>&lt;chr&gt;</th><th scope=col>&lt;int&gt;</th><th scope=col>&lt;chr&gt;</th><th scope=col>&lt;int&gt;</th><th scope=col>&lt;chr&gt;</th><th scope=col>&lt;chr&gt;</th><th scope=col>&lt;chr&gt;</th><th scope=col>&lt;chr&gt;</th><th scope=col>&lt;int&gt;</th><th scope=col>&lt;int&gt;</th><th scope=col>&lt;dbl&gt;</th><th scope=col>&lt;int&gt;</th><th scope=col>&lt;chr&gt;</th><th scope=col>&lt;chr&gt;</th><th scope=col>&lt;chr&gt;</th></tr>\n",
       "</thead>\n",
       "<tbody>\n",
       "\t<tr><td>Avatar                                   </td><td>2009</td><td>James Cameron    </td><td>178</td><td>Color</td><td>Action|Adventure|Fantasy|Sci-Fi                          </td><td>USA</td><td>A partir de 13 anos</td><td>237000000</td><td>760505847</td><td>7.9</td><td> 33000</td><td>CCH Pounder </td><td>Joel David Moore</td><td>Wes Studi           </td></tr>\n",
       "\t<tr><td>Pirates of the Caribbean: At World's End </td><td>2007</td><td>Gore Verbinski   </td><td>169</td><td>Color</td><td>Action|Adventure|Fantasy                                 </td><td>USA</td><td>A partir de 13 anos</td><td>300000000</td><td>309404152</td><td>7.1</td><td>     0</td><td>Johnny Depp </td><td>Orlando Bloom   </td><td>Jack Davenport      </td></tr>\n",
       "\t<tr><td>The Dark Knight Rises                    </td><td>2012</td><td>Christopher Nolan</td><td>164</td><td>Color</td><td>Action|Thriller                                          </td><td>USA</td><td>A partir de 13 anos</td><td>250000000</td><td>448130642</td><td>8.5</td><td>164000</td><td>Tom Hardy   </td><td>Christian Bale  </td><td>Joseph Gordon-Levitt</td></tr>\n",
       "\t<tr><td>John Carter                              </td><td>2012</td><td>Andrew Stanton   </td><td>132</td><td>Color</td><td>Action|Adventure|Sci-Fi                                  </td><td>USA</td><td>A partir de 13 anos</td><td>263700000</td><td> 73058679</td><td>6.6</td><td> 24000</td><td>Daryl Sabara</td><td>Samantha Morton </td><td>Polly Walker        </td></tr>\n",
       "\t<tr><td>Spider-Man 3                             </td><td>2007</td><td>Sam Raimi        </td><td>156</td><td>Color</td><td>Action|Adventure|Romance                                 </td><td>USA</td><td>A partir de 13 anos</td><td>258000000</td><td>336530303</td><td>6.2</td><td>     0</td><td>J.K. Simmons</td><td>James Franco    </td><td>Kirsten Dunst       </td></tr>\n",
       "\t<tr><td>Tangled                                  </td><td>2010</td><td>Nathan Greno     </td><td>100</td><td>Color</td><td>Adventure|Animation|Comedy|Family|Fantasy|Musical|Romance</td><td>USA</td><td>Livre              </td><td>260000000</td><td>200807262</td><td>7.8</td><td> 29000</td><td>Brad Garrett</td><td>Donna Murphy    </td><td>M.C. Gainey         </td></tr>\n",
       "</tbody>\n",
       "</table>\n"
      ],
      "text/latex": [
       "A tibble: 6 × 15\n",
       "\\begin{tabular}{lllllllllllllll}\n",
       " titulo & ano & diretor & duracao & cor & generos & pais & classificacao & orcamento & receita & nota\\_imdb & likes\\_facebook & ator\\_1 & ator\\_2 & ator\\_3\\\\\n",
       " <chr> & <int> & <chr> & <int> & <chr> & <chr> & <chr> & <chr> & <int> & <int> & <dbl> & <int> & <chr> & <chr> & <chr>\\\\\n",
       "\\hline\n",
       "\t Avatar                                    & 2009 & James Cameron     & 178 & Color & Action\\textbar{}Adventure\\textbar{}Fantasy\\textbar{}Sci-Fi                           & USA & A partir de 13 anos & 237000000 & 760505847 & 7.9 &  33000 & CCH Pounder  & Joel David Moore & Wes Studi           \\\\\n",
       "\t Pirates of the Caribbean: At World's End  & 2007 & Gore Verbinski    & 169 & Color & Action\\textbar{}Adventure\\textbar{}Fantasy                                  & USA & A partir de 13 anos & 300000000 & 309404152 & 7.1 &      0 & Johnny Depp  & Orlando Bloom    & Jack Davenport      \\\\\n",
       "\t The Dark Knight Rises                     & 2012 & Christopher Nolan & 164 & Color & Action\\textbar{}Thriller                                           & USA & A partir de 13 anos & 250000000 & 448130642 & 8.5 & 164000 & Tom Hardy    & Christian Bale   & Joseph Gordon-Levitt\\\\\n",
       "\t John Carter                               & 2012 & Andrew Stanton    & 132 & Color & Action\\textbar{}Adventure\\textbar{}Sci-Fi                                   & USA & A partir de 13 anos & 263700000 &  73058679 & 6.6 &  24000 & Daryl Sabara & Samantha Morton  & Polly Walker        \\\\\n",
       "\t Spider-Man 3                              & 2007 & Sam Raimi         & 156 & Color & Action\\textbar{}Adventure\\textbar{}Romance                                  & USA & A partir de 13 anos & 258000000 & 336530303 & 6.2 &      0 & J.K. Simmons & James Franco     & Kirsten Dunst       \\\\\n",
       "\t Tangled                                   & 2010 & Nathan Greno      & 100 & Color & Adventure\\textbar{}Animation\\textbar{}Comedy\\textbar{}Family\\textbar{}Fantasy\\textbar{}Musical\\textbar{}Romance & USA & Livre               & 260000000 & 200807262 & 7.8 &  29000 & Brad Garrett & Donna Murphy     & M.C. Gainey         \\\\\n",
       "\\end{tabular}\n"
      ],
      "text/markdown": [
       "\n",
       "A tibble: 6 × 15\n",
       "\n",
       "| titulo &lt;chr&gt; | ano &lt;int&gt; | diretor &lt;chr&gt; | duracao &lt;int&gt; | cor &lt;chr&gt; | generos &lt;chr&gt; | pais &lt;chr&gt; | classificacao &lt;chr&gt; | orcamento &lt;int&gt; | receita &lt;int&gt; | nota_imdb &lt;dbl&gt; | likes_facebook &lt;int&gt; | ator_1 &lt;chr&gt; | ator_2 &lt;chr&gt; | ator_3 &lt;chr&gt; |\n",
       "|---|---|---|---|---|---|---|---|---|---|---|---|---|---|---|\n",
       "| Avatar                                    | 2009 | James Cameron     | 178 | Color | Action|Adventure|Fantasy|Sci-Fi                           | USA | A partir de 13 anos | 237000000 | 760505847 | 7.9 |  33000 | CCH Pounder  | Joel David Moore | Wes Studi            |\n",
       "| Pirates of the Caribbean: At World's End  | 2007 | Gore Verbinski    | 169 | Color | Action|Adventure|Fantasy                                  | USA | A partir de 13 anos | 300000000 | 309404152 | 7.1 |      0 | Johnny Depp  | Orlando Bloom    | Jack Davenport       |\n",
       "| The Dark Knight Rises                     | 2012 | Christopher Nolan | 164 | Color | Action|Thriller                                           | USA | A partir de 13 anos | 250000000 | 448130642 | 8.5 | 164000 | Tom Hardy    | Christian Bale   | Joseph Gordon-Levitt |\n",
       "| John Carter                               | 2012 | Andrew Stanton    | 132 | Color | Action|Adventure|Sci-Fi                                   | USA | A partir de 13 anos | 263700000 |  73058679 | 6.6 |  24000 | Daryl Sabara | Samantha Morton  | Polly Walker         |\n",
       "| Spider-Man 3                              | 2007 | Sam Raimi         | 156 | Color | Action|Adventure|Romance                                  | USA | A partir de 13 anos | 258000000 | 336530303 | 6.2 |      0 | J.K. Simmons | James Franco     | Kirsten Dunst        |\n",
       "| Tangled                                   | 2010 | Nathan Greno      | 100 | Color | Adventure|Animation|Comedy|Family|Fantasy|Musical|Romance | USA | Livre               | 260000000 | 200807262 | 7.8 |  29000 | Brad Garrett | Donna Murphy     | M.C. Gainey          |\n",
       "\n"
      ],
      "text/plain": [
       "  titulo                                    ano  diretor           duracao\n",
       "1 Avatar                                    2009 James Cameron     178    \n",
       "2 Pirates of the Caribbean: At World's End  2007 Gore Verbinski    169    \n",
       "3 The Dark Knight Rises                     2012 Christopher Nolan 164    \n",
       "4 John Carter                               2012 Andrew Stanton    132    \n",
       "5 Spider-Man 3                              2007 Sam Raimi         156    \n",
       "6 Tangled                                   2010 Nathan Greno      100    \n",
       "  cor   generos                                                   pais\n",
       "1 Color Action|Adventure|Fantasy|Sci-Fi                           USA \n",
       "2 Color Action|Adventure|Fantasy                                  USA \n",
       "3 Color Action|Thriller                                           USA \n",
       "4 Color Action|Adventure|Sci-Fi                                   USA \n",
       "5 Color Action|Adventure|Romance                                  USA \n",
       "6 Color Adventure|Animation|Comedy|Family|Fantasy|Musical|Romance USA \n",
       "  classificacao       orcamento receita   nota_imdb likes_facebook ator_1      \n",
       "1 A partir de 13 anos 237000000 760505847 7.9        33000         CCH Pounder \n",
       "2 A partir de 13 anos 300000000 309404152 7.1            0         Johnny Depp \n",
       "3 A partir de 13 anos 250000000 448130642 8.5       164000         Tom Hardy   \n",
       "4 A partir de 13 anos 263700000  73058679 6.6        24000         Daryl Sabara\n",
       "5 A partir de 13 anos 258000000 336530303 6.2            0         J.K. Simmons\n",
       "6 Livre               260000000 200807262 7.8        29000         Brad Garrett\n",
       "  ator_2           ator_3              \n",
       "1 Joel David Moore Wes Studi           \n",
       "2 Orlando Bloom    Jack Davenport      \n",
       "3 Christian Bale   Joseph Gordon-Levitt\n",
       "4 Samantha Morton  Polly Walker        \n",
       "5 James Franco     Kirsten Dunst       \n",
       "6 Donna Murphy     M.C. Gainey         "
      ]
     },
     "metadata": {},
     "output_type": "display_data"
    }
   ],
   "source": [
    "suppressPackageStartupMessages(library(dplyr))\n",
    "\n",
    "imdb <- readr::read_rds(\"imdb.rds\")\n",
    "head(imdb)"
   ]
  },
  {
   "cell_type": "markdown",
   "id": "accessible-personality",
   "metadata": {},
   "source": [
    "## Exercícios 7.2.1\n",
    "\n",
    "1) A função `glimpse()` oferece um resumo dos dados."
   ]
  },
  {
   "cell_type": "code",
   "execution_count": 2,
   "id": "automotive-platinum",
   "metadata": {},
   "outputs": [
    {
     "name": "stdout",
     "output_type": "stream",
     "text": [
      "Rows: 3,807\n",
      "Columns: 15\n",
      "$ titulo         \u001b[3m\u001b[90m<chr>\u001b[39m\u001b[23m \"Avatar \", \"Pirates of the Caribbean: At World's End \",…\n",
      "$ ano            \u001b[3m\u001b[90m<int>\u001b[39m\u001b[23m 2009, 2007, 2012, 2012, 2007, 2010, 2015, 2016, 2006, 2…\n",
      "$ diretor        \u001b[3m\u001b[90m<chr>\u001b[39m\u001b[23m \"James Cameron\", \"Gore Verbinski\", \"Christopher Nolan\",…\n",
      "$ duracao        \u001b[3m\u001b[90m<int>\u001b[39m\u001b[23m 178, 169, 164, 132, 156, 100, 141, 183, 169, 151, 150, …\n",
      "$ cor            \u001b[3m\u001b[90m<chr>\u001b[39m\u001b[23m \"Color\", \"Color\", \"Color\", \"Color\", \"Color\", \"Color\", \"…\n",
      "$ generos        \u001b[3m\u001b[90m<chr>\u001b[39m\u001b[23m \"Action|Adventure|Fantasy|Sci-Fi\", \"Action|Adventure|Fa…\n",
      "$ pais           \u001b[3m\u001b[90m<chr>\u001b[39m\u001b[23m \"USA\", \"USA\", \"USA\", \"USA\", \"USA\", \"USA\", \"USA\", \"USA\",…\n",
      "$ classificacao  \u001b[3m\u001b[90m<chr>\u001b[39m\u001b[23m \"A partir de 13 anos\", \"A partir de 13 anos\", \"A partir…\n",
      "$ orcamento      \u001b[3m\u001b[90m<int>\u001b[39m\u001b[23m 237000000, 300000000, 250000000, 263700000, 258000000, …\n",
      "$ receita        \u001b[3m\u001b[90m<int>\u001b[39m\u001b[23m 760505847, 309404152, 448130642, 73058679, 336530303, 2…\n",
      "$ nota_imdb      \u001b[3m\u001b[90m<dbl>\u001b[39m\u001b[23m 7.9, 7.1, 8.5, 6.6, 6.2, 7.8, 7.5, 6.9, 6.1, 7.3, 6.5, …\n",
      "$ likes_facebook \u001b[3m\u001b[90m<int>\u001b[39m\u001b[23m 33000, 0, 164000, 24000, 0, 29000, 118000, 197000, 0, 5…\n",
      "$ ator_1         \u001b[3m\u001b[90m<chr>\u001b[39m\u001b[23m \"CCH Pounder\", \"Johnny Depp\", \"Tom Hardy\", \"Daryl Sabar…\n",
      "$ ator_2         \u001b[3m\u001b[90m<chr>\u001b[39m\u001b[23m \"Joel David Moore\", \"Orlando Bloom\", \"Christian Bale\", …\n",
      "$ ator_3         \u001b[3m\u001b[90m<chr>\u001b[39m\u001b[23m \"Wes Studi\", \"Jack Davenport\", \"Joseph Gordon-Levitt\", …\n"
     ]
    }
   ],
   "source": [
    "glimpse(imdb)"
   ]
  },
  {
   "cell_type": "markdown",
   "id": "basic-aerospace",
   "metadata": {},
   "source": [
    "2)"
   ]
  },
  {
   "cell_type": "code",
   "execution_count": 3,
   "id": "prescription-deadline",
   "metadata": {},
   "outputs": [
    {
     "data": {
      "text/html": [
       "<table class=\"dataframe\">\n",
       "<caption>A tibble: 6 × 3</caption>\n",
       "<thead>\n",
       "\t<tr><th scope=col>titulo</th><th scope=col>diretor</th><th scope=col>orcamento</th></tr>\n",
       "\t<tr><th scope=col>&lt;chr&gt;</th><th scope=col>&lt;chr&gt;</th><th scope=col>&lt;int&gt;</th></tr>\n",
       "</thead>\n",
       "<tbody>\n",
       "\t<tr><td>Avatar                                   </td><td>James Cameron    </td><td>237000000</td></tr>\n",
       "\t<tr><td>Pirates of the Caribbean: At World's End </td><td>Gore Verbinski   </td><td>300000000</td></tr>\n",
       "\t<tr><td>The Dark Knight Rises                    </td><td>Christopher Nolan</td><td>250000000</td></tr>\n",
       "\t<tr><td>John Carter                              </td><td>Andrew Stanton   </td><td>263700000</td></tr>\n",
       "\t<tr><td>Spider-Man 3                             </td><td>Sam Raimi        </td><td>258000000</td></tr>\n",
       "\t<tr><td>Tangled                                  </td><td>Nathan Greno     </td><td>260000000</td></tr>\n",
       "</tbody>\n",
       "</table>\n"
      ],
      "text/latex": [
       "A tibble: 6 × 3\n",
       "\\begin{tabular}{lll}\n",
       " titulo & diretor & orcamento\\\\\n",
       " <chr> & <chr> & <int>\\\\\n",
       "\\hline\n",
       "\t Avatar                                    & James Cameron     & 237000000\\\\\n",
       "\t Pirates of the Caribbean: At World's End  & Gore Verbinski    & 300000000\\\\\n",
       "\t The Dark Knight Rises                     & Christopher Nolan & 250000000\\\\\n",
       "\t John Carter                               & Andrew Stanton    & 263700000\\\\\n",
       "\t Spider-Man 3                              & Sam Raimi         & 258000000\\\\\n",
       "\t Tangled                                   & Nathan Greno      & 260000000\\\\\n",
       "\\end{tabular}\n"
      ],
      "text/markdown": [
       "\n",
       "A tibble: 6 × 3\n",
       "\n",
       "| titulo &lt;chr&gt; | diretor &lt;chr&gt; | orcamento &lt;int&gt; |\n",
       "|---|---|---|\n",
       "| Avatar                                    | James Cameron     | 237000000 |\n",
       "| Pirates of the Caribbean: At World's End  | Gore Verbinski    | 300000000 |\n",
       "| The Dark Knight Rises                     | Christopher Nolan | 250000000 |\n",
       "| John Carter                               | Andrew Stanton    | 263700000 |\n",
       "| Spider-Man 3                              | Sam Raimi         | 258000000 |\n",
       "| Tangled                                   | Nathan Greno      | 260000000 |\n",
       "\n"
      ],
      "text/plain": [
       "  titulo                                    diretor           orcamento\n",
       "1 Avatar                                    James Cameron     237000000\n",
       "2 Pirates of the Caribbean: At World's End  Gore Verbinski    300000000\n",
       "3 The Dark Knight Rises                     Christopher Nolan 250000000\n",
       "4 John Carter                               Andrew Stanton    263700000\n",
       "5 Spider-Man 3                              Sam Raimi         258000000\n",
       "6 Tangled                                   Nathan Greno      260000000"
      ]
     },
     "metadata": {},
     "output_type": "display_data"
    }
   ],
   "source": [
    "imdb_simples <- imdb %>% select(titulo, diretor, orcamento)\n",
    "head(imdb_simples)"
   ]
  },
  {
   "cell_type": "markdown",
   "id": "diagnostic-grass",
   "metadata": {},
   "source": [
    "3)"
   ]
  },
  {
   "cell_type": "code",
   "execution_count": 5,
   "id": "rapid-karaoke",
   "metadata": {},
   "outputs": [
    {
     "data": {
      "text/html": [
       "<table class=\"dataframe\">\n",
       "<caption>A tibble: 6 × 3</caption>\n",
       "<thead>\n",
       "\t<tr><th scope=col>ator_1</th><th scope=col>ator_2</th><th scope=col>ator_3</th></tr>\n",
       "\t<tr><th scope=col>&lt;chr&gt;</th><th scope=col>&lt;chr&gt;</th><th scope=col>&lt;chr&gt;</th></tr>\n",
       "</thead>\n",
       "<tbody>\n",
       "\t<tr><td>CCH Pounder </td><td>Joel David Moore</td><td>Wes Studi           </td></tr>\n",
       "\t<tr><td>Johnny Depp </td><td>Orlando Bloom   </td><td>Jack Davenport      </td></tr>\n",
       "\t<tr><td>Tom Hardy   </td><td>Christian Bale  </td><td>Joseph Gordon-Levitt</td></tr>\n",
       "\t<tr><td>Daryl Sabara</td><td>Samantha Morton </td><td>Polly Walker        </td></tr>\n",
       "\t<tr><td>J.K. Simmons</td><td>James Franco    </td><td>Kirsten Dunst       </td></tr>\n",
       "\t<tr><td>Brad Garrett</td><td>Donna Murphy    </td><td>M.C. Gainey         </td></tr>\n",
       "</tbody>\n",
       "</table>\n"
      ],
      "text/latex": [
       "A tibble: 6 × 3\n",
       "\\begin{tabular}{lll}\n",
       " ator\\_1 & ator\\_2 & ator\\_3\\\\\n",
       " <chr> & <chr> & <chr>\\\\\n",
       "\\hline\n",
       "\t CCH Pounder  & Joel David Moore & Wes Studi           \\\\\n",
       "\t Johnny Depp  & Orlando Bloom    & Jack Davenport      \\\\\n",
       "\t Tom Hardy    & Christian Bale   & Joseph Gordon-Levitt\\\\\n",
       "\t Daryl Sabara & Samantha Morton  & Polly Walker        \\\\\n",
       "\t J.K. Simmons & James Franco     & Kirsten Dunst       \\\\\n",
       "\t Brad Garrett & Donna Murphy     & M.C. Gainey         \\\\\n",
       "\\end{tabular}\n"
      ],
      "text/markdown": [
       "\n",
       "A tibble: 6 × 3\n",
       "\n",
       "| ator_1 &lt;chr&gt; | ator_2 &lt;chr&gt; | ator_3 &lt;chr&gt; |\n",
       "|---|---|---|\n",
       "| CCH Pounder  | Joel David Moore | Wes Studi            |\n",
       "| Johnny Depp  | Orlando Bloom    | Jack Davenport       |\n",
       "| Tom Hardy    | Christian Bale   | Joseph Gordon-Levitt |\n",
       "| Daryl Sabara | Samantha Morton  | Polly Walker         |\n",
       "| J.K. Simmons | James Franco     | Kirsten Dunst        |\n",
       "| Brad Garrett | Donna Murphy     | M.C. Gainey          |\n",
       "\n"
      ],
      "text/plain": [
       "  ator_1       ator_2           ator_3              \n",
       "1 CCH Pounder  Joel David Moore Wes Studi           \n",
       "2 Johnny Depp  Orlando Bloom    Jack Davenport      \n",
       "3 Tom Hardy    Christian Bale   Joseph Gordon-Levitt\n",
       "4 Daryl Sabara Samantha Morton  Polly Walker        \n",
       "5 J.K. Simmons James Franco     Kirsten Dunst       \n",
       "6 Brad Garrett Donna Murphy     M.C. Gainey         "
      ]
     },
     "metadata": {},
     "output_type": "display_data"
    }
   ],
   "source": [
    "imdb_atores <- imdb %>% select(contains(\"ator\"))\n",
    "head(imdb_atores)"
   ]
  },
  {
   "cell_type": "markdown",
   "id": "stuffed-huntington",
   "metadata": {},
   "source": [
    "4)"
   ]
  },
  {
   "cell_type": "code",
   "execution_count": 14,
   "id": "favorite-equation",
   "metadata": {},
   "outputs": [
    {
     "data": {
      "text/html": [
       "<style>\n",
       ".list-inline {list-style: none; margin:0; padding: 0}\n",
       ".list-inline>li {display: inline-block}\n",
       ".list-inline>li:not(:last-child)::after {content: \"\\00b7\"; padding: 0 .5ex}\n",
       "</style>\n",
       "<ol class=list-inline><li>'titulo'</li><li>'ano'</li><li>'diretor'</li><li>'duracao'</li><li>'cor'</li><li>'generos'</li><li>'pais'</li><li>'classificacao'</li><li>'orcamento'</li><li>'receita'</li><li>'nota_imdb'</li><li>'likes_facebook'</li></ol>\n"
      ],
      "text/latex": [
       "\\begin{enumerate*}\n",
       "\\item 'titulo'\n",
       "\\item 'ano'\n",
       "\\item 'diretor'\n",
       "\\item 'duracao'\n",
       "\\item 'cor'\n",
       "\\item 'generos'\n",
       "\\item 'pais'\n",
       "\\item 'classificacao'\n",
       "\\item 'orcamento'\n",
       "\\item 'receita'\n",
       "\\item 'nota\\_imdb'\n",
       "\\item 'likes\\_facebook'\n",
       "\\end{enumerate*}\n"
      ],
      "text/markdown": [
       "1. 'titulo'\n",
       "2. 'ano'\n",
       "3. 'diretor'\n",
       "4. 'duracao'\n",
       "5. 'cor'\n",
       "6. 'generos'\n",
       "7. 'pais'\n",
       "8. 'classificacao'\n",
       "9. 'orcamento'\n",
       "10. 'receita'\n",
       "11. 'nota_imdb'\n",
       "12. 'likes_facebook'\n",
       "\n",
       "\n"
      ],
      "text/plain": [
       " [1] \"titulo\"         \"ano\"            \"diretor\"        \"duracao\"       \n",
       " [5] \"cor\"            \"generos\"        \"pais\"           \"classificacao\" \n",
       " [9] \"orcamento\"      \"receita\"        \"nota_imdb\"      \"likes_facebook\""
      ]
     },
     "metadata": {},
     "output_type": "display_data"
    },
    {
     "data": {
      "text/html": [
       "<style>\n",
       ".list-inline {list-style: none; margin:0; padding: 0}\n",
       ".list-inline>li {display: inline-block}\n",
       ".list-inline>li:not(:last-child)::after {content: \"\\00b7\"; padding: 0 .5ex}\n",
       "</style>\n",
       "<ol class=list-inline><li>'titulo'</li><li>'ano'</li><li>'diretor'</li><li>'duracao'</li><li>'cor'</li><li>'generos'</li><li>'pais'</li><li>'classificacao'</li><li>'orcamento'</li><li>'receita'</li><li>'nota_imdb'</li><li>'likes_facebook'</li></ol>\n"
      ],
      "text/latex": [
       "\\begin{enumerate*}\n",
       "\\item 'titulo'\n",
       "\\item 'ano'\n",
       "\\item 'diretor'\n",
       "\\item 'duracao'\n",
       "\\item 'cor'\n",
       "\\item 'generos'\n",
       "\\item 'pais'\n",
       "\\item 'classificacao'\n",
       "\\item 'orcamento'\n",
       "\\item 'receita'\n",
       "\\item 'nota\\_imdb'\n",
       "\\item 'likes\\_facebook'\n",
       "\\end{enumerate*}\n"
      ],
      "text/markdown": [
       "1. 'titulo'\n",
       "2. 'ano'\n",
       "3. 'diretor'\n",
       "4. 'duracao'\n",
       "5. 'cor'\n",
       "6. 'generos'\n",
       "7. 'pais'\n",
       "8. 'classificacao'\n",
       "9. 'orcamento'\n",
       "10. 'receita'\n",
       "11. 'nota_imdb'\n",
       "12. 'likes_facebook'\n",
       "\n",
       "\n"
      ],
      "text/plain": [
       " [1] \"titulo\"         \"ano\"            \"diretor\"        \"duracao\"       \n",
       " [5] \"cor\"            \"generos\"        \"pais\"           \"classificacao\" \n",
       " [9] \"orcamento\"      \"receita\"        \"nota_imdb\"      \"likes_facebook\""
      ]
     },
     "metadata": {},
     "output_type": "display_data"
    },
    {
     "data": {
      "text/html": [
       "<style>\n",
       ".list-inline {list-style: none; margin:0; padding: 0}\n",
       ".list-inline>li {display: inline-block}\n",
       ".list-inline>li:not(:last-child)::after {content: \"\\00b7\"; padding: 0 .5ex}\n",
       "</style>\n",
       "<ol class=list-inline><li>'titulo'</li><li>'ano'</li><li>'diretor'</li><li>'duracao'</li><li>'cor'</li><li>'generos'</li><li>'pais'</li><li>'classificacao'</li><li>'orcamento'</li><li>'receita'</li><li>'nota_imdb'</li><li>'likes_facebook'</li></ol>\n"
      ],
      "text/latex": [
       "\\begin{enumerate*}\n",
       "\\item 'titulo'\n",
       "\\item 'ano'\n",
       "\\item 'diretor'\n",
       "\\item 'duracao'\n",
       "\\item 'cor'\n",
       "\\item 'generos'\n",
       "\\item 'pais'\n",
       "\\item 'classificacao'\n",
       "\\item 'orcamento'\n",
       "\\item 'receita'\n",
       "\\item 'nota\\_imdb'\n",
       "\\item 'likes\\_facebook'\n",
       "\\end{enumerate*}\n"
      ],
      "text/markdown": [
       "1. 'titulo'\n",
       "2. 'ano'\n",
       "3. 'diretor'\n",
       "4. 'duracao'\n",
       "5. 'cor'\n",
       "6. 'generos'\n",
       "7. 'pais'\n",
       "8. 'classificacao'\n",
       "9. 'orcamento'\n",
       "10. 'receita'\n",
       "11. 'nota_imdb'\n",
       "12. 'likes_facebook'\n",
       "\n",
       "\n"
      ],
      "text/plain": [
       " [1] \"titulo\"         \"ano\"            \"diretor\"        \"duracao\"       \n",
       " [5] \"cor\"            \"generos\"        \"pais\"           \"classificacao\" \n",
       " [9] \"orcamento\"      \"receita\"        \"nota_imdb\"      \"likes_facebook\""
      ]
     },
     "metadata": {},
     "output_type": "display_data"
    },
    {
     "data": {
      "text/html": [
       "<style>\n",
       ".list-inline {list-style: none; margin:0; padding: 0}\n",
       ".list-inline>li {display: inline-block}\n",
       ".list-inline>li:not(:last-child)::after {content: \"\\00b7\"; padding: 0 .5ex}\n",
       "</style>\n",
       "<ol class=list-inline><li>'titulo'</li><li>'ano'</li><li>'diretor'</li><li>'duracao'</li><li>'cor'</li><li>'generos'</li><li>'pais'</li><li>'classificacao'</li><li>'orcamento'</li><li>'receita'</li><li>'nota_imdb'</li><li>'likes_facebook'</li></ol>\n"
      ],
      "text/latex": [
       "\\begin{enumerate*}\n",
       "\\item 'titulo'\n",
       "\\item 'ano'\n",
       "\\item 'diretor'\n",
       "\\item 'duracao'\n",
       "\\item 'cor'\n",
       "\\item 'generos'\n",
       "\\item 'pais'\n",
       "\\item 'classificacao'\n",
       "\\item 'orcamento'\n",
       "\\item 'receita'\n",
       "\\item 'nota\\_imdb'\n",
       "\\item 'likes\\_facebook'\n",
       "\\end{enumerate*}\n"
      ],
      "text/markdown": [
       "1. 'titulo'\n",
       "2. 'ano'\n",
       "3. 'diretor'\n",
       "4. 'duracao'\n",
       "5. 'cor'\n",
       "6. 'generos'\n",
       "7. 'pais'\n",
       "8. 'classificacao'\n",
       "9. 'orcamento'\n",
       "10. 'receita'\n",
       "11. 'nota_imdb'\n",
       "12. 'likes_facebook'\n",
       "\n",
       "\n"
      ],
      "text/plain": [
       " [1] \"titulo\"         \"ano\"            \"diretor\"        \"duracao\"       \n",
       " [5] \"cor\"            \"generos\"        \"pais\"           \"classificacao\" \n",
       " [9] \"orcamento\"      \"receita\"        \"nota_imdb\"      \"likes_facebook\""
      ]
     },
     "metadata": {},
     "output_type": "display_data"
    },
    {
     "data": {
      "text/html": [
       "<style>\n",
       ".list-inline {list-style: none; margin:0; padding: 0}\n",
       ".list-inline>li {display: inline-block}\n",
       ".list-inline>li:not(:last-child)::after {content: \"\\00b7\"; padding: 0 .5ex}\n",
       "</style>\n",
       "<ol class=list-inline><li>'titulo'</li><li>'ano'</li><li>'diretor'</li><li>'duracao'</li><li>'cor'</li><li>'generos'</li><li>'pais'</li><li>'classificacao'</li><li>'orcamento'</li><li>'receita'</li><li>'nota_imdb'</li><li>'likes_facebook'</li></ol>\n"
      ],
      "text/latex": [
       "\\begin{enumerate*}\n",
       "\\item 'titulo'\n",
       "\\item 'ano'\n",
       "\\item 'diretor'\n",
       "\\item 'duracao'\n",
       "\\item 'cor'\n",
       "\\item 'generos'\n",
       "\\item 'pais'\n",
       "\\item 'classificacao'\n",
       "\\item 'orcamento'\n",
       "\\item 'receita'\n",
       "\\item 'nota\\_imdb'\n",
       "\\item 'likes\\_facebook'\n",
       "\\end{enumerate*}\n"
      ],
      "text/markdown": [
       "1. 'titulo'\n",
       "2. 'ano'\n",
       "3. 'diretor'\n",
       "4. 'duracao'\n",
       "5. 'cor'\n",
       "6. 'generos'\n",
       "7. 'pais'\n",
       "8. 'classificacao'\n",
       "9. 'orcamento'\n",
       "10. 'receita'\n",
       "11. 'nota_imdb'\n",
       "12. 'likes_facebook'\n",
       "\n",
       "\n"
      ],
      "text/plain": [
       " [1] \"titulo\"         \"ano\"            \"diretor\"        \"duracao\"       \n",
       " [5] \"cor\"            \"generos\"        \"pais\"           \"classificacao\" \n",
       " [9] \"orcamento\"      \"receita\"        \"nota_imdb\"      \"likes_facebook\""
      ]
     },
     "metadata": {},
     "output_type": "display_data"
    }
   ],
   "source": [
    "names(imdb %>% select(titulo:likes_facebook))\n",
    "names(imdb %>% select(!contains(\"ator\")))\n",
    "names(imdb %>% select(1:12))\n",
    "names(imdb %>% select(!starts_with(\"ator\")))\n",
    "names(imdb %>% select(-ator_1, -ator_2, -ator_3))"
   ]
  },
  {
   "cell_type": "markdown",
   "id": "adopted-mineral",
   "metadata": {},
   "source": [
    "## Exercícios 7.2.2\n",
    "\n",
    "1)"
   ]
  },
  {
   "cell_type": "code",
   "execution_count": 16,
   "id": "aggregate-heritage",
   "metadata": {
    "scrolled": false
   },
   "outputs": [
    {
     "data": {
      "text/html": [
       "<table class=\"dataframe\">\n",
       "<caption>A tibble: 3807 × 15</caption>\n",
       "<thead>\n",
       "\t<tr><th scope=col>titulo</th><th scope=col>ano</th><th scope=col>diretor</th><th scope=col>duracao</th><th scope=col>cor</th><th scope=col>generos</th><th scope=col>pais</th><th scope=col>classificacao</th><th scope=col>orcamento</th><th scope=col>receita</th><th scope=col>nota_imdb</th><th scope=col>likes_facebook</th><th scope=col>ator_1</th><th scope=col>ator_2</th><th scope=col>ator_3</th></tr>\n",
       "\t<tr><th scope=col>&lt;chr&gt;</th><th scope=col>&lt;int&gt;</th><th scope=col>&lt;chr&gt;</th><th scope=col>&lt;int&gt;</th><th scope=col>&lt;chr&gt;</th><th scope=col>&lt;chr&gt;</th><th scope=col>&lt;chr&gt;</th><th scope=col>&lt;chr&gt;</th><th scope=col>&lt;int&gt;</th><th scope=col>&lt;int&gt;</th><th scope=col>&lt;dbl&gt;</th><th scope=col>&lt;int&gt;</th><th scope=col>&lt;chr&gt;</th><th scope=col>&lt;chr&gt;</th><th scope=col>&lt;chr&gt;</th></tr>\n",
       "</thead>\n",
       "<tbody>\n",
       "\t<tr><td>Intolerance: Love's Struggle Throughout the Ages </td><td>1916</td><td>D.W. Griffith    </td><td>123</td><td>Black and White</td><td>Drama|History|War                   </td><td>USA</td><td>Outros</td><td> 385907</td><td>       NA</td><td>8.0</td><td>  691</td><td>Lillian Gish     </td><td>Mae Marsh            </td><td>Walter Long      </td></tr>\n",
       "\t<tr><td>Over the Hill to the Poorhouse                   </td><td>1920</td><td>Harry F. Millarde</td><td>110</td><td>Black and White</td><td>Crime|Drama                         </td><td>USA</td><td>Outros</td><td> 100000</td><td>  3000000</td><td>4.8</td><td>    0</td><td>Stephen Carr     </td><td>Johnnie Walker       </td><td>Mary Carr        </td></tr>\n",
       "\t<tr><td>The Big Parade                                   </td><td>1925</td><td>King Vidor       </td><td>151</td><td>Black and White</td><td>Drama|Romance|War                   </td><td>USA</td><td>Outros</td><td> 245000</td><td>       NA</td><td>8.3</td><td>  226</td><td>John Gilbert     </td><td>Renée Adorée         </td><td>Claire Adams     </td></tr>\n",
       "\t<tr><td>The Broadway Melody                              </td><td>1929</td><td>Harry Beaumont   </td><td>100</td><td>Black and White</td><td>Musical|Romance                     </td><td>USA</td><td>Outros</td><td> 379000</td><td>  2808000</td><td>6.3</td><td>  167</td><td>Anita Page       </td><td>Bessie Love          </td><td>Charles King     </td></tr>\n",
       "\t<tr><td>Hell's Angels                                    </td><td>1930</td><td>Howard Hughes    </td><td> 96</td><td>Black and White</td><td>Drama|War                           </td><td>USA</td><td>Outros</td><td>3950000</td><td>       NA</td><td>7.8</td><td>  279</td><td>Jean Harlow      </td><td>Marian Marsh         </td><td>James Hall       </td></tr>\n",
       "\t<tr><td>A Farewell to Arms                               </td><td>1932</td><td>Frank Borzage    </td><td> 79</td><td>Black and White</td><td>Drama|Romance|War                   </td><td>USA</td><td>Outros</td><td> 800000</td><td>       NA</td><td>6.6</td><td>  213</td><td>Gary Cooper      </td><td>Helen Hayes          </td><td>Adolphe Menjou   </td></tr>\n",
       "\t<tr><td>42nd Street                                      </td><td>1933</td><td>Lloyd Bacon      </td><td> 89</td><td>Black and White</td><td>Comedy|Musical|Romance              </td><td>USA</td><td>Outros</td><td> 439000</td><td>  2300000</td><td>7.7</td><td>  439</td><td>Ginger Rogers    </td><td>Dick Powell          </td><td>George Brent     </td></tr>\n",
       "\t<tr><td>She Done Him Wrong                               </td><td>1933</td><td>Lowell Sherman   </td><td> 66</td><td>Black and White</td><td>Comedy|Drama|History|Musical|Romance</td><td>USA</td><td>Outros</td><td> 200000</td><td>       NA</td><td>6.5</td><td>  328</td><td>Mae West         </td><td>Gilbert Roland       </td><td>Louise Beavers   </td></tr>\n",
       "\t<tr><td>It Happened One Night                            </td><td>1934</td><td>Frank Capra      </td><td> 65</td><td>Black and White</td><td>Comedy|Romance                      </td><td>USA</td><td>Outros</td><td> 325000</td><td>       NA</td><td>8.2</td><td>    0</td><td>Claudette Colbert</td><td>Alan Hale            </td><td>Walter Connolly  </td></tr>\n",
       "\t<tr><td>Top Hat                                          </td><td>1935</td><td>Mark Sandrich    </td><td> 81</td><td>Black and White</td><td>Comedy|Musical|Romance              </td><td>USA</td><td>Outros</td><td> 609000</td><td>  3000000</td><td>7.8</td><td> 1000</td><td>Ginger Rogers    </td><td>Edward Everett Horton</td><td>Eric Blore       </td></tr>\n",
       "\t<tr><td>Modern Times                                     </td><td>1936</td><td>Charles Chaplin  </td><td> 87</td><td>Black and White</td><td>Comedy|Drama|Family                 </td><td>USA</td><td>Outros</td><td>1500000</td><td>   163245</td><td>8.6</td><td>    0</td><td>Paulette Goddard </td><td>Stanley Blystone     </td><td>Fred Malatesta   </td></tr>\n",
       "\t<tr><td>The Charge of the Light Brigade                  </td><td>1936</td><td>Michael Curtiz   </td><td>100</td><td>Black and White</td><td>Action|Adventure|Romance|War        </td><td>USA</td><td>Outros</td><td>1200000</td><td>       NA</td><td>7.1</td><td>  204</td><td>Errol Flynn      </td><td>David Niven          </td><td>Spring Byington  </td></tr>\n",
       "\t<tr><td>Snow White and the Seven Dwarfs                  </td><td>1937</td><td>William Cottrell </td><td> 83</td><td>Color          </td><td>Animation|Family|Fantasy|Musical    </td><td>USA</td><td>Outros</td><td>2000000</td><td>184925485</td><td>7.7</td><td>    0</td><td>Adriana Caselotti</td><td>Billy Gilbert        </td><td>Lucille La Verne </td></tr>\n",
       "\t<tr><td>The Prisoner of Zenda                            </td><td>1937</td><td>John Cromwell    </td><td>101</td><td>Black and White</td><td>Adventure|Drama|Romance             </td><td>USA</td><td>Outros</td><td>     NA</td><td>       NA</td><td>7.8</td><td>  337</td><td>David Niven      </td><td>Mary Astor           </td><td>Ronald Colman    </td></tr>\n",
       "\t<tr><td>Alexander's Ragtime Band                         </td><td>1938</td><td>Henry King       </td><td>106</td><td>Black and White</td><td>Drama|Musical|Romance               </td><td>USA</td><td>Outros</td><td>2000000</td><td>       NA</td><td>7.0</td><td>   60</td><td>Tyrone Power     </td><td>Don Ameche           </td><td>John Carradine   </td></tr>\n",
       "\t<tr><td>You Can't Take It with You                       </td><td>1938</td><td>Frank Capra      </td><td>126</td><td>Black and White</td><td>Comedy|Drama|Romance                </td><td>USA</td><td>Outros</td><td>1644736</td><td>       NA</td><td>8.0</td><td>    0</td><td>Jean Arthur      </td><td>Ann Miller           </td><td>Lionel Barrymore </td></tr>\n",
       "\t<tr><td>Gone with the Wind                               </td><td>1939</td><td>Victor Fleming   </td><td>226</td><td>Color          </td><td>Drama|History|Romance|War           </td><td>USA</td><td>Outros</td><td>3977000</td><td>198655278</td><td>8.2</td><td>16000</td><td>Hattie McDaniel  </td><td>George Reeves        </td><td>Thomas Mitchell  </td></tr>\n",
       "\t<tr><td>The Wizard of Oz                                 </td><td>1939</td><td>Victor Fleming   </td><td>102</td><td>Black and White</td><td>Adventure|Family|Fantasy|Musical    </td><td>USA</td><td>Outros</td><td>2800000</td><td> 22202612</td><td>8.1</td><td>14000</td><td>Margaret Hamilton</td><td>Terry                </td><td>Billie Burke     </td></tr>\n",
       "\t<tr><td>Mr. Smith Goes to Washington                     </td><td>1939</td><td>Frank Capra      </td><td>120</td><td>Black and White</td><td>Comedy|Drama                        </td><td>USA</td><td>Outros</td><td>1500000</td><td>       NA</td><td>8.2</td><td>    0</td><td>Claude Rains     </td><td>Jean Arthur          </td><td>Thomas Mitchell  </td></tr>\n",
       "\t<tr><td>Pinocchio                                        </td><td>1940</td><td>Norman Ferguson  </td><td> 88</td><td>Color          </td><td>Animation|Family|Fantasy|Musical    </td><td>USA</td><td>Outros</td><td>2600000</td><td> 84300000</td><td>7.5</td><td>    0</td><td>Mel Blanc        </td><td>Dickie Jones         </td><td>Cliff Edwards    </td></tr>\n",
       "\t<tr><td>Fantasia                                         </td><td>1940</td><td>James Algar      </td><td>120</td><td>Color          </td><td>Animation|Family|Fantasy|Music      </td><td>USA</td><td>Outros</td><td>2280000</td><td> 76400000</td><td>7.8</td><td> 3000</td><td>Leopold Stokowski</td><td>Deems Taylor         </td><td>NA               </td></tr>\n",
       "\t<tr><td>Boom Town                                        </td><td>1940</td><td>Jack Conway      </td><td>119</td><td>Black and White</td><td>Adventure|Drama|Romance|Western     </td><td>USA</td><td>Outros</td><td>1614000</td><td>       NA</td><td>7.1</td><td>  236</td><td>Hedy Lamarr      </td><td>Spencer Tracy        </td><td>Claudette Colbert</td></tr>\n",
       "\t<tr><td>Rebecca                                          </td><td>1940</td><td>Alfred Hitchcock </td><td>130</td><td>Black and White</td><td>Drama|Film-Noir|Mystery|Thriller    </td><td>USA</td><td>Outros</td><td>1288000</td><td>       NA</td><td>8.2</td><td>    0</td><td>Laurence Olivier </td><td>Joan Fontaine        </td><td>George Sanders   </td></tr>\n",
       "\t<tr><td>The Blue Bird                                    </td><td>1940</td><td>Walter Lang      </td><td> 83</td><td>Black and White</td><td>Drama|Family|Fantasy                </td><td>USA</td><td>Outros</td><td>     NA</td><td>       NA</td><td>6.5</td><td>  548</td><td>Spring Byington  </td><td>Nigel Bruce          </td><td>Gale Sondergaard </td></tr>\n",
       "\t<tr><td>How Green Was My Valley                          </td><td>1941</td><td>John Ford        </td><td>118</td><td>Black and White</td><td>Drama|Family                        </td><td>USA</td><td>Outros</td><td>1250000</td><td>       NA</td><td>7.8</td><td>    0</td><td>Roddy McDowall   </td><td>Walter Pidgeon       </td><td>Barry Fitzgerald </td></tr>\n",
       "\t<tr><td>Bambi                                            </td><td>1942</td><td>James Algar      </td><td> 70</td><td>Color          </td><td>Animation|Drama|Family              </td><td>USA</td><td>Outros</td><td>     NA</td><td>102797150</td><td>7.4</td><td>    0</td><td>Sam Edwards      </td><td>Donnie Dunagan       </td><td>Ann Gillis       </td></tr>\n",
       "\t<tr><td>Casablanca                                       </td><td>1942</td><td>Michael Curtiz   </td><td> 82</td><td>Color          </td><td>Drama|Romance|War                   </td><td>USA</td><td>Livre </td><td> 950000</td><td>       NA</td><td>8.6</td><td>23000</td><td>Humphrey Bogart  </td><td>Claude Rains         </td><td>Conrad Veidt     </td></tr>\n",
       "\t<tr><td>A Guy Named Joe                                  </td><td>1943</td><td>Victor Fleming   </td><td>122</td><td>Black and White</td><td>Drama|Fantasy|Romance|War           </td><td>USA</td><td>Outros</td><td>2627000</td><td>       NA</td><td>7.0</td><td>  116</td><td>Spencer Tracy    </td><td>Esther Williams      </td><td>Irene Dunne      </td></tr>\n",
       "\t<tr><td>Bathing Beauty                                   </td><td>1944</td><td>George Sidney    </td><td>101</td><td>Color          </td><td>Comedy|Musical                      </td><td>USA</td><td>Outros</td><td>2361000</td><td>       NA</td><td>6.5</td><td>  144</td><td>Esther Williams  </td><td>Basil Rathbone       </td><td>Red Skelton      </td></tr>\n",
       "\t<tr><td>State Fair                                       </td><td>1945</td><td>Walter Lang      </td><td>100</td><td>Color          </td><td>Musical|Romance                     </td><td>USA</td><td>Outros</td><td>     NA</td><td>       NA</td><td>7.1</td><td>  501</td><td>Dana Andrews     </td><td>Jeanne Crain         </td><td>Frank McHugh     </td></tr>\n",
       "\t<tr><td>⋮</td><td>⋮</td><td>⋮</td><td>⋮</td><td>⋮</td><td>⋮</td><td>⋮</td><td>⋮</td><td>⋮</td><td>⋮</td><td>⋮</td><td>⋮</td><td>⋮</td><td>⋮</td><td>⋮</td></tr>\n",
       "\t<tr><td>The Player                   </td><td>NA</td><td>NA</td><td> 60</td><td>Color</td><td>Action|Crime|Drama|Thriller        </td><td>USA</td><td>Outros</td><td>     NA</td><td>NA</td><td>7.1</td><td>    0</td><td>Nick Wechsler        </td><td>Philip Winchester</td><td>Jeff Marlow               </td></tr>\n",
       "\t<tr><td>Fargo                        </td><td>NA</td><td>NA</td><td> 53</td><td>Color</td><td>Crime|Drama|Thriller               </td><td>USA</td><td>Outros</td><td>     NA</td><td>NA</td><td>9.0</td><td>61000</td><td>Kirsten Dunst        </td><td>Adam Goldberg    </td><td>Oliver Platt              </td></tr>\n",
       "\t<tr><td>Buffy the Vampire Slayer     </td><td>NA</td><td>NA</td><td> 44</td><td>Color</td><td>Action|Drama|Fantasy|Romance       </td><td>USA</td><td>Outros</td><td>2300000</td><td>NA</td><td>8.2</td><td> 6000</td><td>Sarah Michelle Gellar</td><td>Alyson Hannigan  </td><td>Emma Caulfield            </td></tr>\n",
       "\t<tr><td>Nikita                       </td><td>NA</td><td>NA</td><td> 60</td><td>Color</td><td>Action|Crime|Drama|Thriller        </td><td>USA</td><td>Outros</td><td>     NA</td><td>NA</td><td>7.7</td><td>    0</td><td>Melinda Clarke       </td><td>Xander Berkeley  </td><td>Aaron Stanford            </td></tr>\n",
       "\t<tr><td>Dark Angel                   </td><td>NA</td><td>NA</td><td> 60</td><td>Color</td><td>Action|Drama|Mystery|Sci-Fi        </td><td>USA</td><td>Outros</td><td>     NA</td><td>NA</td><td>7.4</td><td>    0</td><td>Jensen Ackles        </td><td>Ashley Scott     </td><td>John Savage               </td></tr>\n",
       "\t<tr><td>Veronica Mars                </td><td>NA</td><td>NA</td><td> 44</td><td>Color</td><td>Crime|Drama|Mystery                </td><td>USA</td><td>Outros</td><td>     NA</td><td>NA</td><td>8.4</td><td>    0</td><td>Francis Capra        </td><td>Jason Dohring    </td><td>Enrico Colantoni          </td></tr>\n",
       "\t<tr><td>Saving Grace                 </td><td>NA</td><td>NA</td><td> 60</td><td>Color</td><td>Drama|Fantasy                      </td><td>USA</td><td>Outros</td><td>     NA</td><td>NA</td><td>7.5</td><td>  634</td><td>Holly Hunter         </td><td>Dylan Minnette   </td><td>Bokeem Woodbine           </td></tr>\n",
       "\t<tr><td>Psych                        </td><td>NA</td><td>NA</td><td> 44</td><td>Color</td><td>Comedy|Crime|Mystery               </td><td>USA</td><td>Outros</td><td>     NA</td><td>NA</td><td>8.4</td><td>    0</td><td>Corbin Bernsen       </td><td>Dulé Hill        </td><td>Timothy Omundson          </td></tr>\n",
       "\t<tr><td>Secrets and Lies             </td><td>NA</td><td>NA</td><td> 43</td><td>Color</td><td>Crime|Drama                        </td><td>USA</td><td>Outros</td><td>     NA</td><td>NA</td><td>7.7</td><td> 2000</td><td>Dan Fogler           </td><td>Indiana Evans    </td><td>KaDee Strickland          </td></tr>\n",
       "\t<tr><td>Animal Kingdom               </td><td>NA</td><td>NA</td><td> 60</td><td>Color</td><td>Crime|Drama                        </td><td>USA</td><td>Outros</td><td>     NA</td><td>NA</td><td>8.1</td><td>    0</td><td>Dorian Missick       </td><td>Daniella Alonso  </td><td>Ellen Barkin              </td></tr>\n",
       "\t<tr><td>Saving Grace                 </td><td>NA</td><td>NA</td><td> 60</td><td>Color</td><td>Drama|Fantasy                      </td><td>USA</td><td>Outros</td><td>     NA</td><td>NA</td><td>7.5</td><td>  634</td><td>Holly Hunter         </td><td>Dylan Minnette   </td><td>Bokeem Woodbine           </td></tr>\n",
       "\t<tr><td>Sonny with a Chance          </td><td>NA</td><td>NA</td><td> 23</td><td>Color</td><td>Comedy|Family|Romance              </td><td>USA</td><td>Outros</td><td>     NA</td><td>NA</td><td>6.1</td><td>  325</td><td>Doug Brochu          </td><td>Tiffany Thornton </td><td>Brandon Mychal Smith      </td></tr>\n",
       "\t<tr><td>M*A*S*H                      </td><td>NA</td><td>NA</td><td> 25</td><td>Color</td><td>Comedy|Drama|War                   </td><td>USA</td><td>Outros</td><td>     NA</td><td>NA</td><td>8.4</td><td>    0</td><td>David Ogden Stiers   </td><td>Jamie Farr       </td><td>Mike Farrell              </td></tr>\n",
       "\t<tr><td>Empire                       </td><td>NA</td><td>NA</td><td> 42</td><td>Color</td><td>Drama|Music                        </td><td>USA</td><td>Outros</td><td>     NA</td><td>NA</td><td>7.8</td><td>14000</td><td>Ta'Rhonda Jones      </td><td>Gabourey Sidibe  </td><td>Malik Yoba                </td></tr>\n",
       "\t<tr><td>Robot Chicken                </td><td>NA</td><td>NA</td><td> 11</td><td>Color</td><td>Animation|Comedy                   </td><td>USA</td><td>Outros</td><td>     NA</td><td>NA</td><td>7.8</td><td> 1000</td><td>Matthew Senreich     </td><td>Seth Green       </td><td>Breckin Meyer             </td></tr>\n",
       "\t<tr><td>Creature                     </td><td>NA</td><td>NA</td><td>173</td><td>Color</td><td>Horror|Sci-Fi|Thriller             </td><td>USA</td><td>Outros</td><td>     NA</td><td>NA</td><td>5.0</td><td>  518</td><td>Craig T. Nelson      </td><td>Colm Feore       </td><td>Megalyn Echikunwoke       </td></tr>\n",
       "\t<tr><td>BrainDead                    </td><td>NA</td><td>NA</td><td> 44</td><td>Color</td><td>Comedy|Drama|Horror|Sci-Fi|Thriller</td><td>USA</td><td>Outros</td><td>     NA</td><td>NA</td><td>7.9</td><td> 3000</td><td>Danny Pino           </td><td>Megan Hilty      </td><td>Zach Grenier              </td></tr>\n",
       "\t<tr><td>In the Heat of the Night     </td><td>NA</td><td>NA</td><td> 60</td><td>Color</td><td>Crime|Drama|Mystery                </td><td>USA</td><td>Outros</td><td>     NA</td><td>NA</td><td>7.4</td><td>  763</td><td>Carroll O'Connor     </td><td>Alan Autry       </td><td>Crystal R. Fox            </td></tr>\n",
       "\t<tr><td>Strangers with Candy         </td><td>NA</td><td>NA</td><td> 22</td><td>Color</td><td>Comedy                             </td><td>USA</td><td>Outros</td><td>     NA</td><td>NA</td><td>8.1</td><td>  558</td><td>Stephen Colbert      </td><td>Amy Sedaris      </td><td>Maria Thayer              </td></tr>\n",
       "\t<tr><td>Get Real                     </td><td>NA</td><td>NA</td><td> 60</td><td>Color</td><td>Comedy|Drama|Romance               </td><td>USA</td><td>Outros</td><td>     NA</td><td>NA</td><td>7.3</td><td>   43</td><td>Anne Hathaway        </td><td>Jon Tenney       </td><td>Debrah Farentino          </td></tr>\n",
       "\t<tr><td>Eureka                       </td><td>NA</td><td>NA</td><td> 60</td><td>Color</td><td>Comedy|Drama|Sci-Fi                </td><td>USA</td><td>Outros</td><td>     NA</td><td>NA</td><td>7.9</td><td> 3000</td><td>Joe Morton           </td><td>Colin Ferguson   </td><td>Salli Richardson-Whitfield</td></tr>\n",
       "\t<tr><td>Wings                        </td><td>NA</td><td>NA</td><td> 30</td><td>Color</td><td>Comedy|Drama                       </td><td>USA</td><td>Outros</td><td>     NA</td><td>NA</td><td>7.3</td><td> 1000</td><td>Steven Weber         </td><td>Tim Daly         </td><td>Amy Yasbeck               </td></tr>\n",
       "\t<tr><td>The Streets of San Francisco </td><td>NA</td><td>NA</td><td>120</td><td>Color</td><td>Action|Crime|Drama|Mystery         </td><td>USA</td><td>Outros</td><td>     NA</td><td>NA</td><td>7.3</td><td>  533</td><td>Karl Malden          </td><td>Michael Douglas  </td><td>NA                        </td></tr>\n",
       "\t<tr><td>Space: Above and Beyond      </td><td>NA</td><td>NA</td><td> 60</td><td>Color</td><td>Drama|Sci-Fi                       </td><td>USA</td><td>Outros</td><td>5000000</td><td>NA</td><td>7.7</td><td>  963</td><td>James Morrison       </td><td>Tucker Smallwood </td><td>Kristen Cloke             </td></tr>\n",
       "\t<tr><td>The Girlfriend Experience    </td><td>NA</td><td>NA</td><td> 27</td><td>Color</td><td>Drama                              </td><td>USA</td><td>Outros</td><td>     NA</td><td>NA</td><td>7.3</td><td>  632</td><td>Mary Lynn Rajskub    </td><td>Riley Keough     </td><td>Paul Sparks               </td></tr>\n",
       "\t<tr><td>Jesse                        </td><td>NA</td><td>NA</td><td> 30</td><td>Color</td><td>Comedy                             </td><td>USA</td><td>Outros</td><td>     NA</td><td>NA</td><td>5.9</td><td>   57</td><td>Eric Lloyd           </td><td>David DeLuise    </td><td>Bruno Campos              </td></tr>\n",
       "\t<tr><td>Heroes                       </td><td>NA</td><td>NA</td><td> 60</td><td>Color</td><td>Drama|Fantasy|Sci-Fi|Thriller      </td><td>USA</td><td>Outros</td><td>     NA</td><td>NA</td><td>7.7</td><td>    0</td><td>Sendhil Ramamurthy   </td><td>Masi Oka         </td><td>Greg Grunberg             </td></tr>\n",
       "\t<tr><td>Home Movies                  </td><td>NA</td><td>NA</td><td> 22</td><td>Color</td><td>Animation|Comedy|Drama             </td><td>USA</td><td>Outros</td><td>     NA</td><td>NA</td><td>8.2</td><td>  526</td><td>Brendon Small        </td><td>Ron Lynch        </td><td>Melissa Bardin Galsky     </td></tr>\n",
       "\t<tr><td>Revolution                   </td><td>NA</td><td>NA</td><td> 43</td><td>Color</td><td>Action|Adventure|Drama|Sci-Fi      </td><td>USA</td><td>Outros</td><td>     NA</td><td>NA</td><td>6.7</td><td>17000</td><td>Billy Burke          </td><td>Tracy Spiridakos </td><td>David Lyons               </td></tr>\n",
       "\t<tr><td>The Following                </td><td>NA</td><td>NA</td><td> 43</td><td>Color</td><td>Crime|Drama|Mystery|Thriller       </td><td>USA</td><td>Outros</td><td>     NA</td><td>NA</td><td>7.5</td><td>32000</td><td>Natalie Zea          </td><td>Valorie Curry    </td><td>Sam Underwood             </td></tr>\n",
       "</tbody>\n",
       "</table>\n"
      ],
      "text/latex": [
       "A tibble: 3807 × 15\n",
       "\\begin{tabular}{lllllllllllllll}\n",
       " titulo & ano & diretor & duracao & cor & generos & pais & classificacao & orcamento & receita & nota\\_imdb & likes\\_facebook & ator\\_1 & ator\\_2 & ator\\_3\\\\\n",
       " <chr> & <int> & <chr> & <int> & <chr> & <chr> & <chr> & <chr> & <int> & <int> & <dbl> & <int> & <chr> & <chr> & <chr>\\\\\n",
       "\\hline\n",
       "\t Intolerance: Love's Struggle Throughout the Ages  & 1916 & D.W. Griffith     & 123 & Black and White & Drama\\textbar{}History\\textbar{}War                    & USA & Outros &  385907 &        NA & 8.0 &   691 & Lillian Gish      & Mae Marsh             & Walter Long      \\\\\n",
       "\t Over the Hill to the Poorhouse                    & 1920 & Harry F. Millarde & 110 & Black and White & Crime\\textbar{}Drama                          & USA & Outros &  100000 &   3000000 & 4.8 &     0 & Stephen Carr      & Johnnie Walker        & Mary Carr        \\\\\n",
       "\t The Big Parade                                    & 1925 & King Vidor        & 151 & Black and White & Drama\\textbar{}Romance\\textbar{}War                    & USA & Outros &  245000 &        NA & 8.3 &   226 & John Gilbert      & Renée Adorée          & Claire Adams     \\\\\n",
       "\t The Broadway Melody                               & 1929 & Harry Beaumont    & 100 & Black and White & Musical\\textbar{}Romance                      & USA & Outros &  379000 &   2808000 & 6.3 &   167 & Anita Page        & Bessie Love           & Charles King     \\\\\n",
       "\t Hell's Angels                                     & 1930 & Howard Hughes     &  96 & Black and White & Drama\\textbar{}War                            & USA & Outros & 3950000 &        NA & 7.8 &   279 & Jean Harlow       & Marian Marsh          & James Hall       \\\\\n",
       "\t A Farewell to Arms                                & 1932 & Frank Borzage     &  79 & Black and White & Drama\\textbar{}Romance\\textbar{}War                    & USA & Outros &  800000 &        NA & 6.6 &   213 & Gary Cooper       & Helen Hayes           & Adolphe Menjou   \\\\\n",
       "\t 42nd Street                                       & 1933 & Lloyd Bacon       &  89 & Black and White & Comedy\\textbar{}Musical\\textbar{}Romance               & USA & Outros &  439000 &   2300000 & 7.7 &   439 & Ginger Rogers     & Dick Powell           & George Brent     \\\\\n",
       "\t She Done Him Wrong                                & 1933 & Lowell Sherman    &  66 & Black and White & Comedy\\textbar{}Drama\\textbar{}History\\textbar{}Musical\\textbar{}Romance & USA & Outros &  200000 &        NA & 6.5 &   328 & Mae West          & Gilbert Roland        & Louise Beavers   \\\\\n",
       "\t It Happened One Night                             & 1934 & Frank Capra       &  65 & Black and White & Comedy\\textbar{}Romance                       & USA & Outros &  325000 &        NA & 8.2 &     0 & Claudette Colbert & Alan Hale             & Walter Connolly  \\\\\n",
       "\t Top Hat                                           & 1935 & Mark Sandrich     &  81 & Black and White & Comedy\\textbar{}Musical\\textbar{}Romance               & USA & Outros &  609000 &   3000000 & 7.8 &  1000 & Ginger Rogers     & Edward Everett Horton & Eric Blore       \\\\\n",
       "\t Modern Times                                      & 1936 & Charles Chaplin   &  87 & Black and White & Comedy\\textbar{}Drama\\textbar{}Family                  & USA & Outros & 1500000 &    163245 & 8.6 &     0 & Paulette Goddard  & Stanley Blystone      & Fred Malatesta   \\\\\n",
       "\t The Charge of the Light Brigade                   & 1936 & Michael Curtiz    & 100 & Black and White & Action\\textbar{}Adventure\\textbar{}Romance\\textbar{}War         & USA & Outros & 1200000 &        NA & 7.1 &   204 & Errol Flynn       & David Niven           & Spring Byington  \\\\\n",
       "\t Snow White and the Seven Dwarfs                   & 1937 & William Cottrell  &  83 & Color           & Animation\\textbar{}Family\\textbar{}Fantasy\\textbar{}Musical     & USA & Outros & 2000000 & 184925485 & 7.7 &     0 & Adriana Caselotti & Billy Gilbert         & Lucille La Verne \\\\\n",
       "\t The Prisoner of Zenda                             & 1937 & John Cromwell     & 101 & Black and White & Adventure\\textbar{}Drama\\textbar{}Romance              & USA & Outros &      NA &        NA & 7.8 &   337 & David Niven       & Mary Astor            & Ronald Colman    \\\\\n",
       "\t Alexander's Ragtime Band                          & 1938 & Henry King        & 106 & Black and White & Drama\\textbar{}Musical\\textbar{}Romance                & USA & Outros & 2000000 &        NA & 7.0 &    60 & Tyrone Power      & Don Ameche            & John Carradine   \\\\\n",
       "\t You Can't Take It with You                        & 1938 & Frank Capra       & 126 & Black and White & Comedy\\textbar{}Drama\\textbar{}Romance                 & USA & Outros & 1644736 &        NA & 8.0 &     0 & Jean Arthur       & Ann Miller            & Lionel Barrymore \\\\\n",
       "\t Gone with the Wind                                & 1939 & Victor Fleming    & 226 & Color           & Drama\\textbar{}History\\textbar{}Romance\\textbar{}War            & USA & Outros & 3977000 & 198655278 & 8.2 & 16000 & Hattie McDaniel   & George Reeves         & Thomas Mitchell  \\\\\n",
       "\t The Wizard of Oz                                  & 1939 & Victor Fleming    & 102 & Black and White & Adventure\\textbar{}Family\\textbar{}Fantasy\\textbar{}Musical     & USA & Outros & 2800000 &  22202612 & 8.1 & 14000 & Margaret Hamilton & Terry                 & Billie Burke     \\\\\n",
       "\t Mr. Smith Goes to Washington                      & 1939 & Frank Capra       & 120 & Black and White & Comedy\\textbar{}Drama                         & USA & Outros & 1500000 &        NA & 8.2 &     0 & Claude Rains      & Jean Arthur           & Thomas Mitchell  \\\\\n",
       "\t Pinocchio                                         & 1940 & Norman Ferguson   &  88 & Color           & Animation\\textbar{}Family\\textbar{}Fantasy\\textbar{}Musical     & USA & Outros & 2600000 &  84300000 & 7.5 &     0 & Mel Blanc         & Dickie Jones          & Cliff Edwards    \\\\\n",
       "\t Fantasia                                          & 1940 & James Algar       & 120 & Color           & Animation\\textbar{}Family\\textbar{}Fantasy\\textbar{}Music       & USA & Outros & 2280000 &  76400000 & 7.8 &  3000 & Leopold Stokowski & Deems Taylor          & NA               \\\\\n",
       "\t Boom Town                                         & 1940 & Jack Conway       & 119 & Black and White & Adventure\\textbar{}Drama\\textbar{}Romance\\textbar{}Western      & USA & Outros & 1614000 &        NA & 7.1 &   236 & Hedy Lamarr       & Spencer Tracy         & Claudette Colbert\\\\\n",
       "\t Rebecca                                           & 1940 & Alfred Hitchcock  & 130 & Black and White & Drama\\textbar{}Film-Noir\\textbar{}Mystery\\textbar{}Thriller     & USA & Outros & 1288000 &        NA & 8.2 &     0 & Laurence Olivier  & Joan Fontaine         & George Sanders   \\\\\n",
       "\t The Blue Bird                                     & 1940 & Walter Lang       &  83 & Black and White & Drama\\textbar{}Family\\textbar{}Fantasy                 & USA & Outros &      NA &        NA & 6.5 &   548 & Spring Byington   & Nigel Bruce           & Gale Sondergaard \\\\\n",
       "\t How Green Was My Valley                           & 1941 & John Ford         & 118 & Black and White & Drama\\textbar{}Family                         & USA & Outros & 1250000 &        NA & 7.8 &     0 & Roddy McDowall    & Walter Pidgeon        & Barry Fitzgerald \\\\\n",
       "\t Bambi                                             & 1942 & James Algar       &  70 & Color           & Animation\\textbar{}Drama\\textbar{}Family               & USA & Outros &      NA & 102797150 & 7.4 &     0 & Sam Edwards       & Donnie Dunagan        & Ann Gillis       \\\\\n",
       "\t Casablanca                                        & 1942 & Michael Curtiz    &  82 & Color           & Drama\\textbar{}Romance\\textbar{}War                    & USA & Livre  &  950000 &        NA & 8.6 & 23000 & Humphrey Bogart   & Claude Rains          & Conrad Veidt     \\\\\n",
       "\t A Guy Named Joe                                   & 1943 & Victor Fleming    & 122 & Black and White & Drama\\textbar{}Fantasy\\textbar{}Romance\\textbar{}War            & USA & Outros & 2627000 &        NA & 7.0 &   116 & Spencer Tracy     & Esther Williams       & Irene Dunne      \\\\\n",
       "\t Bathing Beauty                                    & 1944 & George Sidney     & 101 & Color           & Comedy\\textbar{}Musical                       & USA & Outros & 2361000 &        NA & 6.5 &   144 & Esther Williams   & Basil Rathbone        & Red Skelton      \\\\\n",
       "\t State Fair                                        & 1945 & Walter Lang       & 100 & Color           & Musical\\textbar{}Romance                      & USA & Outros &      NA &        NA & 7.1 &   501 & Dana Andrews      & Jeanne Crain          & Frank McHugh     \\\\\n",
       "\t ⋮ & ⋮ & ⋮ & ⋮ & ⋮ & ⋮ & ⋮ & ⋮ & ⋮ & ⋮ & ⋮ & ⋮ & ⋮ & ⋮ & ⋮\\\\\n",
       "\t The Player                    & NA & NA &  60 & Color & Action\\textbar{}Crime\\textbar{}Drama\\textbar{}Thriller         & USA & Outros &      NA & NA & 7.1 &     0 & Nick Wechsler         & Philip Winchester & Jeff Marlow               \\\\\n",
       "\t Fargo                         & NA & NA &  53 & Color & Crime\\textbar{}Drama\\textbar{}Thriller                & USA & Outros &      NA & NA & 9.0 & 61000 & Kirsten Dunst         & Adam Goldberg     & Oliver Platt              \\\\\n",
       "\t Buffy the Vampire Slayer      & NA & NA &  44 & Color & Action\\textbar{}Drama\\textbar{}Fantasy\\textbar{}Romance        & USA & Outros & 2300000 & NA & 8.2 &  6000 & Sarah Michelle Gellar & Alyson Hannigan   & Emma Caulfield            \\\\\n",
       "\t Nikita                        & NA & NA &  60 & Color & Action\\textbar{}Crime\\textbar{}Drama\\textbar{}Thriller         & USA & Outros &      NA & NA & 7.7 &     0 & Melinda Clarke        & Xander Berkeley   & Aaron Stanford            \\\\\n",
       "\t Dark Angel                    & NA & NA &  60 & Color & Action\\textbar{}Drama\\textbar{}Mystery\\textbar{}Sci-Fi         & USA & Outros &      NA & NA & 7.4 &     0 & Jensen Ackles         & Ashley Scott      & John Savage               \\\\\n",
       "\t Veronica Mars                 & NA & NA &  44 & Color & Crime\\textbar{}Drama\\textbar{}Mystery                 & USA & Outros &      NA & NA & 8.4 &     0 & Francis Capra         & Jason Dohring     & Enrico Colantoni          \\\\\n",
       "\t Saving Grace                  & NA & NA &  60 & Color & Drama\\textbar{}Fantasy                       & USA & Outros &      NA & NA & 7.5 &   634 & Holly Hunter          & Dylan Minnette    & Bokeem Woodbine           \\\\\n",
       "\t Psych                         & NA & NA &  44 & Color & Comedy\\textbar{}Crime\\textbar{}Mystery                & USA & Outros &      NA & NA & 8.4 &     0 & Corbin Bernsen        & Dulé Hill         & Timothy Omundson          \\\\\n",
       "\t Secrets and Lies              & NA & NA &  43 & Color & Crime\\textbar{}Drama                         & USA & Outros &      NA & NA & 7.7 &  2000 & Dan Fogler            & Indiana Evans     & KaDee Strickland          \\\\\n",
       "\t Animal Kingdom                & NA & NA &  60 & Color & Crime\\textbar{}Drama                         & USA & Outros &      NA & NA & 8.1 &     0 & Dorian Missick        & Daniella Alonso   & Ellen Barkin              \\\\\n",
       "\t Saving Grace                  & NA & NA &  60 & Color & Drama\\textbar{}Fantasy                       & USA & Outros &      NA & NA & 7.5 &   634 & Holly Hunter          & Dylan Minnette    & Bokeem Woodbine           \\\\\n",
       "\t Sonny with a Chance           & NA & NA &  23 & Color & Comedy\\textbar{}Family\\textbar{}Romance               & USA & Outros &      NA & NA & 6.1 &   325 & Doug Brochu           & Tiffany Thornton  & Brandon Mychal Smith      \\\\\n",
       "\t M*A*S*H                       & NA & NA &  25 & Color & Comedy\\textbar{}Drama\\textbar{}War                    & USA & Outros &      NA & NA & 8.4 &     0 & David Ogden Stiers    & Jamie Farr        & Mike Farrell              \\\\\n",
       "\t Empire                        & NA & NA &  42 & Color & Drama\\textbar{}Music                         & USA & Outros &      NA & NA & 7.8 & 14000 & Ta'Rhonda Jones       & Gabourey Sidibe   & Malik Yoba                \\\\\n",
       "\t Robot Chicken                 & NA & NA &  11 & Color & Animation\\textbar{}Comedy                    & USA & Outros &      NA & NA & 7.8 &  1000 & Matthew Senreich      & Seth Green        & Breckin Meyer             \\\\\n",
       "\t Creature                      & NA & NA & 173 & Color & Horror\\textbar{}Sci-Fi\\textbar{}Thriller              & USA & Outros &      NA & NA & 5.0 &   518 & Craig T. Nelson       & Colm Feore        & Megalyn Echikunwoke       \\\\\n",
       "\t BrainDead                     & NA & NA &  44 & Color & Comedy\\textbar{}Drama\\textbar{}Horror\\textbar{}Sci-Fi\\textbar{}Thriller & USA & Outros &      NA & NA & 7.9 &  3000 & Danny Pino            & Megan Hilty       & Zach Grenier              \\\\\n",
       "\t In the Heat of the Night      & NA & NA &  60 & Color & Crime\\textbar{}Drama\\textbar{}Mystery                 & USA & Outros &      NA & NA & 7.4 &   763 & Carroll O'Connor      & Alan Autry        & Crystal R. Fox            \\\\\n",
       "\t Strangers with Candy          & NA & NA &  22 & Color & Comedy                              & USA & Outros &      NA & NA & 8.1 &   558 & Stephen Colbert       & Amy Sedaris       & Maria Thayer              \\\\\n",
       "\t Get Real                      & NA & NA &  60 & Color & Comedy\\textbar{}Drama\\textbar{}Romance                & USA & Outros &      NA & NA & 7.3 &    43 & Anne Hathaway         & Jon Tenney        & Debrah Farentino          \\\\\n",
       "\t Eureka                        & NA & NA &  60 & Color & Comedy\\textbar{}Drama\\textbar{}Sci-Fi                 & USA & Outros &      NA & NA & 7.9 &  3000 & Joe Morton            & Colin Ferguson    & Salli Richardson-Whitfield\\\\\n",
       "\t Wings                         & NA & NA &  30 & Color & Comedy\\textbar{}Drama                        & USA & Outros &      NA & NA & 7.3 &  1000 & Steven Weber          & Tim Daly          & Amy Yasbeck               \\\\\n",
       "\t The Streets of San Francisco  & NA & NA & 120 & Color & Action\\textbar{}Crime\\textbar{}Drama\\textbar{}Mystery          & USA & Outros &      NA & NA & 7.3 &   533 & Karl Malden           & Michael Douglas   & NA                        \\\\\n",
       "\t Space: Above and Beyond       & NA & NA &  60 & Color & Drama\\textbar{}Sci-Fi                        & USA & Outros & 5000000 & NA & 7.7 &   963 & James Morrison        & Tucker Smallwood  & Kristen Cloke             \\\\\n",
       "\t The Girlfriend Experience     & NA & NA &  27 & Color & Drama                               & USA & Outros &      NA & NA & 7.3 &   632 & Mary Lynn Rajskub     & Riley Keough      & Paul Sparks               \\\\\n",
       "\t Jesse                         & NA & NA &  30 & Color & Comedy                              & USA & Outros &      NA & NA & 5.9 &    57 & Eric Lloyd            & David DeLuise     & Bruno Campos              \\\\\n",
       "\t Heroes                        & NA & NA &  60 & Color & Drama\\textbar{}Fantasy\\textbar{}Sci-Fi\\textbar{}Thriller       & USA & Outros &      NA & NA & 7.7 &     0 & Sendhil Ramamurthy    & Masi Oka          & Greg Grunberg             \\\\\n",
       "\t Home Movies                   & NA & NA &  22 & Color & Animation\\textbar{}Comedy\\textbar{}Drama              & USA & Outros &      NA & NA & 8.2 &   526 & Brendon Small         & Ron Lynch         & Melissa Bardin Galsky     \\\\\n",
       "\t Revolution                    & NA & NA &  43 & Color & Action\\textbar{}Adventure\\textbar{}Drama\\textbar{}Sci-Fi       & USA & Outros &      NA & NA & 6.7 & 17000 & Billy Burke           & Tracy Spiridakos  & David Lyons               \\\\\n",
       "\t The Following                 & NA & NA &  43 & Color & Crime\\textbar{}Drama\\textbar{}Mystery\\textbar{}Thriller        & USA & Outros &      NA & NA & 7.5 & 32000 & Natalie Zea           & Valorie Curry     & Sam Underwood             \\\\\n",
       "\\end{tabular}\n"
      ],
      "text/markdown": [
       "\n",
       "A tibble: 3807 × 15\n",
       "\n",
       "| titulo &lt;chr&gt; | ano &lt;int&gt; | diretor &lt;chr&gt; | duracao &lt;int&gt; | cor &lt;chr&gt; | generos &lt;chr&gt; | pais &lt;chr&gt; | classificacao &lt;chr&gt; | orcamento &lt;int&gt; | receita &lt;int&gt; | nota_imdb &lt;dbl&gt; | likes_facebook &lt;int&gt; | ator_1 &lt;chr&gt; | ator_2 &lt;chr&gt; | ator_3 &lt;chr&gt; |\n",
       "|---|---|---|---|---|---|---|---|---|---|---|---|---|---|---|\n",
       "| Intolerance: Love's Struggle Throughout the Ages  | 1916 | D.W. Griffith     | 123 | Black and White | Drama|History|War                    | USA | Outros |  385907 |        NA | 8.0 |   691 | Lillian Gish      | Mae Marsh             | Walter Long       |\n",
       "| Over the Hill to the Poorhouse                    | 1920 | Harry F. Millarde | 110 | Black and White | Crime|Drama                          | USA | Outros |  100000 |   3000000 | 4.8 |     0 | Stephen Carr      | Johnnie Walker        | Mary Carr         |\n",
       "| The Big Parade                                    | 1925 | King Vidor        | 151 | Black and White | Drama|Romance|War                    | USA | Outros |  245000 |        NA | 8.3 |   226 | John Gilbert      | Renée Adorée          | Claire Adams      |\n",
       "| The Broadway Melody                               | 1929 | Harry Beaumont    | 100 | Black and White | Musical|Romance                      | USA | Outros |  379000 |   2808000 | 6.3 |   167 | Anita Page        | Bessie Love           | Charles King      |\n",
       "| Hell's Angels                                     | 1930 | Howard Hughes     |  96 | Black and White | Drama|War                            | USA | Outros | 3950000 |        NA | 7.8 |   279 | Jean Harlow       | Marian Marsh          | James Hall        |\n",
       "| A Farewell to Arms                                | 1932 | Frank Borzage     |  79 | Black and White | Drama|Romance|War                    | USA | Outros |  800000 |        NA | 6.6 |   213 | Gary Cooper       | Helen Hayes           | Adolphe Menjou    |\n",
       "| 42nd Street                                       | 1933 | Lloyd Bacon       |  89 | Black and White | Comedy|Musical|Romance               | USA | Outros |  439000 |   2300000 | 7.7 |   439 | Ginger Rogers     | Dick Powell           | George Brent      |\n",
       "| She Done Him Wrong                                | 1933 | Lowell Sherman    |  66 | Black and White | Comedy|Drama|History|Musical|Romance | USA | Outros |  200000 |        NA | 6.5 |   328 | Mae West          | Gilbert Roland        | Louise Beavers    |\n",
       "| It Happened One Night                             | 1934 | Frank Capra       |  65 | Black and White | Comedy|Romance                       | USA | Outros |  325000 |        NA | 8.2 |     0 | Claudette Colbert | Alan Hale             | Walter Connolly   |\n",
       "| Top Hat                                           | 1935 | Mark Sandrich     |  81 | Black and White | Comedy|Musical|Romance               | USA | Outros |  609000 |   3000000 | 7.8 |  1000 | Ginger Rogers     | Edward Everett Horton | Eric Blore        |\n",
       "| Modern Times                                      | 1936 | Charles Chaplin   |  87 | Black and White | Comedy|Drama|Family                  | USA | Outros | 1500000 |    163245 | 8.6 |     0 | Paulette Goddard  | Stanley Blystone      | Fred Malatesta    |\n",
       "| The Charge of the Light Brigade                   | 1936 | Michael Curtiz    | 100 | Black and White | Action|Adventure|Romance|War         | USA | Outros | 1200000 |        NA | 7.1 |   204 | Errol Flynn       | David Niven           | Spring Byington   |\n",
       "| Snow White and the Seven Dwarfs                   | 1937 | William Cottrell  |  83 | Color           | Animation|Family|Fantasy|Musical     | USA | Outros | 2000000 | 184925485 | 7.7 |     0 | Adriana Caselotti | Billy Gilbert         | Lucille La Verne  |\n",
       "| The Prisoner of Zenda                             | 1937 | John Cromwell     | 101 | Black and White | Adventure|Drama|Romance              | USA | Outros |      NA |        NA | 7.8 |   337 | David Niven       | Mary Astor            | Ronald Colman     |\n",
       "| Alexander's Ragtime Band                          | 1938 | Henry King        | 106 | Black and White | Drama|Musical|Romance                | USA | Outros | 2000000 |        NA | 7.0 |    60 | Tyrone Power      | Don Ameche            | John Carradine    |\n",
       "| You Can't Take It with You                        | 1938 | Frank Capra       | 126 | Black and White | Comedy|Drama|Romance                 | USA | Outros | 1644736 |        NA | 8.0 |     0 | Jean Arthur       | Ann Miller            | Lionel Barrymore  |\n",
       "| Gone with the Wind                                | 1939 | Victor Fleming    | 226 | Color           | Drama|History|Romance|War            | USA | Outros | 3977000 | 198655278 | 8.2 | 16000 | Hattie McDaniel   | George Reeves         | Thomas Mitchell   |\n",
       "| The Wizard of Oz                                  | 1939 | Victor Fleming    | 102 | Black and White | Adventure|Family|Fantasy|Musical     | USA | Outros | 2800000 |  22202612 | 8.1 | 14000 | Margaret Hamilton | Terry                 | Billie Burke      |\n",
       "| Mr. Smith Goes to Washington                      | 1939 | Frank Capra       | 120 | Black and White | Comedy|Drama                         | USA | Outros | 1500000 |        NA | 8.2 |     0 | Claude Rains      | Jean Arthur           | Thomas Mitchell   |\n",
       "| Pinocchio                                         | 1940 | Norman Ferguson   |  88 | Color           | Animation|Family|Fantasy|Musical     | USA | Outros | 2600000 |  84300000 | 7.5 |     0 | Mel Blanc         | Dickie Jones          | Cliff Edwards     |\n",
       "| Fantasia                                          | 1940 | James Algar       | 120 | Color           | Animation|Family|Fantasy|Music       | USA | Outros | 2280000 |  76400000 | 7.8 |  3000 | Leopold Stokowski | Deems Taylor          | NA                |\n",
       "| Boom Town                                         | 1940 | Jack Conway       | 119 | Black and White | Adventure|Drama|Romance|Western      | USA | Outros | 1614000 |        NA | 7.1 |   236 | Hedy Lamarr       | Spencer Tracy         | Claudette Colbert |\n",
       "| Rebecca                                           | 1940 | Alfred Hitchcock  | 130 | Black and White | Drama|Film-Noir|Mystery|Thriller     | USA | Outros | 1288000 |        NA | 8.2 |     0 | Laurence Olivier  | Joan Fontaine         | George Sanders    |\n",
       "| The Blue Bird                                     | 1940 | Walter Lang       |  83 | Black and White | Drama|Family|Fantasy                 | USA | Outros |      NA |        NA | 6.5 |   548 | Spring Byington   | Nigel Bruce           | Gale Sondergaard  |\n",
       "| How Green Was My Valley                           | 1941 | John Ford         | 118 | Black and White | Drama|Family                         | USA | Outros | 1250000 |        NA | 7.8 |     0 | Roddy McDowall    | Walter Pidgeon        | Barry Fitzgerald  |\n",
       "| Bambi                                             | 1942 | James Algar       |  70 | Color           | Animation|Drama|Family               | USA | Outros |      NA | 102797150 | 7.4 |     0 | Sam Edwards       | Donnie Dunagan        | Ann Gillis        |\n",
       "| Casablanca                                        | 1942 | Michael Curtiz    |  82 | Color           | Drama|Romance|War                    | USA | Livre  |  950000 |        NA | 8.6 | 23000 | Humphrey Bogart   | Claude Rains          | Conrad Veidt      |\n",
       "| A Guy Named Joe                                   | 1943 | Victor Fleming    | 122 | Black and White | Drama|Fantasy|Romance|War            | USA | Outros | 2627000 |        NA | 7.0 |   116 | Spencer Tracy     | Esther Williams       | Irene Dunne       |\n",
       "| Bathing Beauty                                    | 1944 | George Sidney     | 101 | Color           | Comedy|Musical                       | USA | Outros | 2361000 |        NA | 6.5 |   144 | Esther Williams   | Basil Rathbone        | Red Skelton       |\n",
       "| State Fair                                        | 1945 | Walter Lang       | 100 | Color           | Musical|Romance                      | USA | Outros |      NA |        NA | 7.1 |   501 | Dana Andrews      | Jeanne Crain          | Frank McHugh      |\n",
       "| ⋮ | ⋮ | ⋮ | ⋮ | ⋮ | ⋮ | ⋮ | ⋮ | ⋮ | ⋮ | ⋮ | ⋮ | ⋮ | ⋮ | ⋮ |\n",
       "| The Player                    | NA | NA |  60 | Color | Action|Crime|Drama|Thriller         | USA | Outros |      NA | NA | 7.1 |     0 | Nick Wechsler         | Philip Winchester | Jeff Marlow                |\n",
       "| Fargo                         | NA | NA |  53 | Color | Crime|Drama|Thriller                | USA | Outros |      NA | NA | 9.0 | 61000 | Kirsten Dunst         | Adam Goldberg     | Oliver Platt               |\n",
       "| Buffy the Vampire Slayer      | NA | NA |  44 | Color | Action|Drama|Fantasy|Romance        | USA | Outros | 2300000 | NA | 8.2 |  6000 | Sarah Michelle Gellar | Alyson Hannigan   | Emma Caulfield             |\n",
       "| Nikita                        | NA | NA |  60 | Color | Action|Crime|Drama|Thriller         | USA | Outros |      NA | NA | 7.7 |     0 | Melinda Clarke        | Xander Berkeley   | Aaron Stanford             |\n",
       "| Dark Angel                    | NA | NA |  60 | Color | Action|Drama|Mystery|Sci-Fi         | USA | Outros |      NA | NA | 7.4 |     0 | Jensen Ackles         | Ashley Scott      | John Savage                |\n",
       "| Veronica Mars                 | NA | NA |  44 | Color | Crime|Drama|Mystery                 | USA | Outros |      NA | NA | 8.4 |     0 | Francis Capra         | Jason Dohring     | Enrico Colantoni           |\n",
       "| Saving Grace                  | NA | NA |  60 | Color | Drama|Fantasy                       | USA | Outros |      NA | NA | 7.5 |   634 | Holly Hunter          | Dylan Minnette    | Bokeem Woodbine            |\n",
       "| Psych                         | NA | NA |  44 | Color | Comedy|Crime|Mystery                | USA | Outros |      NA | NA | 8.4 |     0 | Corbin Bernsen        | Dulé Hill         | Timothy Omundson           |\n",
       "| Secrets and Lies              | NA | NA |  43 | Color | Crime|Drama                         | USA | Outros |      NA | NA | 7.7 |  2000 | Dan Fogler            | Indiana Evans     | KaDee Strickland           |\n",
       "| Animal Kingdom                | NA | NA |  60 | Color | Crime|Drama                         | USA | Outros |      NA | NA | 8.1 |     0 | Dorian Missick        | Daniella Alonso   | Ellen Barkin               |\n",
       "| Saving Grace                  | NA | NA |  60 | Color | Drama|Fantasy                       | USA | Outros |      NA | NA | 7.5 |   634 | Holly Hunter          | Dylan Minnette    | Bokeem Woodbine            |\n",
       "| Sonny with a Chance           | NA | NA |  23 | Color | Comedy|Family|Romance               | USA | Outros |      NA | NA | 6.1 |   325 | Doug Brochu           | Tiffany Thornton  | Brandon Mychal Smith       |\n",
       "| M*A*S*H                       | NA | NA |  25 | Color | Comedy|Drama|War                    | USA | Outros |      NA | NA | 8.4 |     0 | David Ogden Stiers    | Jamie Farr        | Mike Farrell               |\n",
       "| Empire                        | NA | NA |  42 | Color | Drama|Music                         | USA | Outros |      NA | NA | 7.8 | 14000 | Ta'Rhonda Jones       | Gabourey Sidibe   | Malik Yoba                 |\n",
       "| Robot Chicken                 | NA | NA |  11 | Color | Animation|Comedy                    | USA | Outros |      NA | NA | 7.8 |  1000 | Matthew Senreich      | Seth Green        | Breckin Meyer              |\n",
       "| Creature                      | NA | NA | 173 | Color | Horror|Sci-Fi|Thriller              | USA | Outros |      NA | NA | 5.0 |   518 | Craig T. Nelson       | Colm Feore        | Megalyn Echikunwoke        |\n",
       "| BrainDead                     | NA | NA |  44 | Color | Comedy|Drama|Horror|Sci-Fi|Thriller | USA | Outros |      NA | NA | 7.9 |  3000 | Danny Pino            | Megan Hilty       | Zach Grenier               |\n",
       "| In the Heat of the Night      | NA | NA |  60 | Color | Crime|Drama|Mystery                 | USA | Outros |      NA | NA | 7.4 |   763 | Carroll O'Connor      | Alan Autry        | Crystal R. Fox             |\n",
       "| Strangers with Candy          | NA | NA |  22 | Color | Comedy                              | USA | Outros |      NA | NA | 8.1 |   558 | Stephen Colbert       | Amy Sedaris       | Maria Thayer               |\n",
       "| Get Real                      | NA | NA |  60 | Color | Comedy|Drama|Romance                | USA | Outros |      NA | NA | 7.3 |    43 | Anne Hathaway         | Jon Tenney        | Debrah Farentino           |\n",
       "| Eureka                        | NA | NA |  60 | Color | Comedy|Drama|Sci-Fi                 | USA | Outros |      NA | NA | 7.9 |  3000 | Joe Morton            | Colin Ferguson    | Salli Richardson-Whitfield |\n",
       "| Wings                         | NA | NA |  30 | Color | Comedy|Drama                        | USA | Outros |      NA | NA | 7.3 |  1000 | Steven Weber          | Tim Daly          | Amy Yasbeck                |\n",
       "| The Streets of San Francisco  | NA | NA | 120 | Color | Action|Crime|Drama|Mystery          | USA | Outros |      NA | NA | 7.3 |   533 | Karl Malden           | Michael Douglas   | NA                         |\n",
       "| Space: Above and Beyond       | NA | NA |  60 | Color | Drama|Sci-Fi                        | USA | Outros | 5000000 | NA | 7.7 |   963 | James Morrison        | Tucker Smallwood  | Kristen Cloke              |\n",
       "| The Girlfriend Experience     | NA | NA |  27 | Color | Drama                               | USA | Outros |      NA | NA | 7.3 |   632 | Mary Lynn Rajskub     | Riley Keough      | Paul Sparks                |\n",
       "| Jesse                         | NA | NA |  30 | Color | Comedy                              | USA | Outros |      NA | NA | 5.9 |    57 | Eric Lloyd            | David DeLuise     | Bruno Campos               |\n",
       "| Heroes                        | NA | NA |  60 | Color | Drama|Fantasy|Sci-Fi|Thriller       | USA | Outros |      NA | NA | 7.7 |     0 | Sendhil Ramamurthy    | Masi Oka          | Greg Grunberg              |\n",
       "| Home Movies                   | NA | NA |  22 | Color | Animation|Comedy|Drama              | USA | Outros |      NA | NA | 8.2 |   526 | Brendon Small         | Ron Lynch         | Melissa Bardin Galsky      |\n",
       "| Revolution                    | NA | NA |  43 | Color | Action|Adventure|Drama|Sci-Fi       | USA | Outros |      NA | NA | 6.7 | 17000 | Billy Burke           | Tracy Spiridakos  | David Lyons                |\n",
       "| The Following                 | NA | NA |  43 | Color | Crime|Drama|Mystery|Thriller        | USA | Outros |      NA | NA | 7.5 | 32000 | Natalie Zea           | Valorie Curry     | Sam Underwood              |\n",
       "\n"
      ],
      "text/plain": [
       "     titulo                                            ano  diretor          \n",
       "1    Intolerance: Love's Struggle Throughout the Ages  1916 D.W. Griffith    \n",
       "2    Over the Hill to the Poorhouse                    1920 Harry F. Millarde\n",
       "3    The Big Parade                                    1925 King Vidor       \n",
       "4    The Broadway Melody                               1929 Harry Beaumont   \n",
       "5    Hell's Angels                                     1930 Howard Hughes    \n",
       "6    A Farewell to Arms                                1932 Frank Borzage    \n",
       "7    42nd Street                                       1933 Lloyd Bacon      \n",
       "8    She Done Him Wrong                                1933 Lowell Sherman   \n",
       "9    It Happened One Night                             1934 Frank Capra      \n",
       "10   Top Hat                                           1935 Mark Sandrich    \n",
       "11   Modern Times                                      1936 Charles Chaplin  \n",
       "12   The Charge of the Light Brigade                   1936 Michael Curtiz   \n",
       "13   Snow White and the Seven Dwarfs                   1937 William Cottrell \n",
       "14   The Prisoner of Zenda                             1937 John Cromwell    \n",
       "15   Alexander's Ragtime Band                          1938 Henry King       \n",
       "16   You Can't Take It with You                        1938 Frank Capra      \n",
       "17   Gone with the Wind                                1939 Victor Fleming   \n",
       "18   The Wizard of Oz                                  1939 Victor Fleming   \n",
       "19   Mr. Smith Goes to Washington                      1939 Frank Capra      \n",
       "20   Pinocchio                                         1940 Norman Ferguson  \n",
       "21   Fantasia                                          1940 James Algar      \n",
       "22   Boom Town                                         1940 Jack Conway      \n",
       "23   Rebecca                                           1940 Alfred Hitchcock \n",
       "24   The Blue Bird                                     1940 Walter Lang      \n",
       "25   How Green Was My Valley                           1941 John Ford        \n",
       "26   Bambi                                             1942 James Algar      \n",
       "27   Casablanca                                        1942 Michael Curtiz   \n",
       "28   A Guy Named Joe                                   1943 Victor Fleming   \n",
       "29   Bathing Beauty                                    1944 George Sidney    \n",
       "30   State Fair                                        1945 Walter Lang      \n",
       "⋮    ⋮                                                 ⋮    ⋮                \n",
       "3778 The Player                                        NA   NA               \n",
       "3779 Fargo                                             NA   NA               \n",
       "3780 Buffy the Vampire Slayer                          NA   NA               \n",
       "3781 Nikita                                            NA   NA               \n",
       "3782 Dark Angel                                        NA   NA               \n",
       "3783 Veronica Mars                                     NA   NA               \n",
       "3784 Saving Grace                                      NA   NA               \n",
       "3785 Psych                                             NA   NA               \n",
       "3786 Secrets and Lies                                  NA   NA               \n",
       "3787 Animal Kingdom                                    NA   NA               \n",
       "3788 Saving Grace                                      NA   NA               \n",
       "3789 Sonny with a Chance                               NA   NA               \n",
       "3790 M*A*S*H                                           NA   NA               \n",
       "3791 Empire                                            NA   NA               \n",
       "3792 Robot Chicken                                     NA   NA               \n",
       "3793 Creature                                          NA   NA               \n",
       "3794 BrainDead                                         NA   NA               \n",
       "3795 In the Heat of the Night                          NA   NA               \n",
       "3796 Strangers with Candy                              NA   NA               \n",
       "3797 Get Real                                          NA   NA               \n",
       "3798 Eureka                                            NA   NA               \n",
       "3799 Wings                                             NA   NA               \n",
       "3800 The Streets of San Francisco                      NA   NA               \n",
       "3801 Space: Above and Beyond                           NA   NA               \n",
       "3802 The Girlfriend Experience                         NA   NA               \n",
       "3803 Jesse                                             NA   NA               \n",
       "3804 Heroes                                            NA   NA               \n",
       "3805 Home Movies                                       NA   NA               \n",
       "3806 Revolution                                        NA   NA               \n",
       "3807 The Following                                     NA   NA               \n",
       "     duracao cor             generos                              pais\n",
       "1    123     Black and White Drama|History|War                    USA \n",
       "2    110     Black and White Crime|Drama                          USA \n",
       "3    151     Black and White Drama|Romance|War                    USA \n",
       "4    100     Black and White Musical|Romance                      USA \n",
       "5     96     Black and White Drama|War                            USA \n",
       "6     79     Black and White Drama|Romance|War                    USA \n",
       "7     89     Black and White Comedy|Musical|Romance               USA \n",
       "8     66     Black and White Comedy|Drama|History|Musical|Romance USA \n",
       "9     65     Black and White Comedy|Romance                       USA \n",
       "10    81     Black and White Comedy|Musical|Romance               USA \n",
       "11    87     Black and White Comedy|Drama|Family                  USA \n",
       "12   100     Black and White Action|Adventure|Romance|War         USA \n",
       "13    83     Color           Animation|Family|Fantasy|Musical     USA \n",
       "14   101     Black and White Adventure|Drama|Romance              USA \n",
       "15   106     Black and White Drama|Musical|Romance                USA \n",
       "16   126     Black and White Comedy|Drama|Romance                 USA \n",
       "17   226     Color           Drama|History|Romance|War            USA \n",
       "18   102     Black and White Adventure|Family|Fantasy|Musical     USA \n",
       "19   120     Black and White Comedy|Drama                         USA \n",
       "20    88     Color           Animation|Family|Fantasy|Musical     USA \n",
       "21   120     Color           Animation|Family|Fantasy|Music       USA \n",
       "22   119     Black and White Adventure|Drama|Romance|Western      USA \n",
       "23   130     Black and White Drama|Film-Noir|Mystery|Thriller     USA \n",
       "24    83     Black and White Drama|Family|Fantasy                 USA \n",
       "25   118     Black and White Drama|Family                         USA \n",
       "26    70     Color           Animation|Drama|Family               USA \n",
       "27    82     Color           Drama|Romance|War                    USA \n",
       "28   122     Black and White Drama|Fantasy|Romance|War            USA \n",
       "29   101     Color           Comedy|Musical                       USA \n",
       "30   100     Color           Musical|Romance                      USA \n",
       "⋮    ⋮       ⋮               ⋮                                    ⋮   \n",
       "3778  60     Color           Action|Crime|Drama|Thriller          USA \n",
       "3779  53     Color           Crime|Drama|Thriller                 USA \n",
       "3780  44     Color           Action|Drama|Fantasy|Romance         USA \n",
       "3781  60     Color           Action|Crime|Drama|Thriller          USA \n",
       "3782  60     Color           Action|Drama|Mystery|Sci-Fi          USA \n",
       "3783  44     Color           Crime|Drama|Mystery                  USA \n",
       "3784  60     Color           Drama|Fantasy                        USA \n",
       "3785  44     Color           Comedy|Crime|Mystery                 USA \n",
       "3786  43     Color           Crime|Drama                          USA \n",
       "3787  60     Color           Crime|Drama                          USA \n",
       "3788  60     Color           Drama|Fantasy                        USA \n",
       "3789  23     Color           Comedy|Family|Romance                USA \n",
       "3790  25     Color           Comedy|Drama|War                     USA \n",
       "3791  42     Color           Drama|Music                          USA \n",
       "3792  11     Color           Animation|Comedy                     USA \n",
       "3793 173     Color           Horror|Sci-Fi|Thriller               USA \n",
       "3794  44     Color           Comedy|Drama|Horror|Sci-Fi|Thriller  USA \n",
       "3795  60     Color           Crime|Drama|Mystery                  USA \n",
       "3796  22     Color           Comedy                               USA \n",
       "3797  60     Color           Comedy|Drama|Romance                 USA \n",
       "3798  60     Color           Comedy|Drama|Sci-Fi                  USA \n",
       "3799  30     Color           Comedy|Drama                         USA \n",
       "3800 120     Color           Action|Crime|Drama|Mystery           USA \n",
       "3801  60     Color           Drama|Sci-Fi                         USA \n",
       "3802  27     Color           Drama                                USA \n",
       "3803  30     Color           Comedy                               USA \n",
       "3804  60     Color           Drama|Fantasy|Sci-Fi|Thriller        USA \n",
       "3805  22     Color           Animation|Comedy|Drama               USA \n",
       "3806  43     Color           Action|Adventure|Drama|Sci-Fi        USA \n",
       "3807  43     Color           Crime|Drama|Mystery|Thriller         USA \n",
       "     classificacao orcamento receita   nota_imdb likes_facebook\n",
       "1    Outros         385907          NA 8.0         691         \n",
       "2    Outros         100000     3000000 4.8           0         \n",
       "3    Outros         245000          NA 8.3         226         \n",
       "4    Outros         379000     2808000 6.3         167         \n",
       "5    Outros        3950000          NA 7.8         279         \n",
       "6    Outros         800000          NA 6.6         213         \n",
       "7    Outros         439000     2300000 7.7         439         \n",
       "8    Outros         200000          NA 6.5         328         \n",
       "9    Outros         325000          NA 8.2           0         \n",
       "10   Outros         609000     3000000 7.8        1000         \n",
       "11   Outros        1500000      163245 8.6           0         \n",
       "12   Outros        1200000          NA 7.1         204         \n",
       "13   Outros        2000000   184925485 7.7           0         \n",
       "14   Outros             NA          NA 7.8         337         \n",
       "15   Outros        2000000          NA 7.0          60         \n",
       "16   Outros        1644736          NA 8.0           0         \n",
       "17   Outros        3977000   198655278 8.2       16000         \n",
       "18   Outros        2800000    22202612 8.1       14000         \n",
       "19   Outros        1500000          NA 8.2           0         \n",
       "20   Outros        2600000    84300000 7.5           0         \n",
       "21   Outros        2280000    76400000 7.8        3000         \n",
       "22   Outros        1614000          NA 7.1         236         \n",
       "23   Outros        1288000          NA 8.2           0         \n",
       "24   Outros             NA          NA 6.5         548         \n",
       "25   Outros        1250000          NA 7.8           0         \n",
       "26   Outros             NA   102797150 7.4           0         \n",
       "27   Livre          950000          NA 8.6       23000         \n",
       "28   Outros        2627000          NA 7.0         116         \n",
       "29   Outros        2361000          NA 6.5         144         \n",
       "30   Outros             NA          NA 7.1         501         \n",
       "⋮    ⋮             ⋮         ⋮         ⋮         ⋮             \n",
       "3778 Outros             NA   NA        7.1           0         \n",
       "3779 Outros             NA   NA        9.0       61000         \n",
       "3780 Outros        2300000   NA        8.2        6000         \n",
       "3781 Outros             NA   NA        7.7           0         \n",
       "3782 Outros             NA   NA        7.4           0         \n",
       "3783 Outros             NA   NA        8.4           0         \n",
       "3784 Outros             NA   NA        7.5         634         \n",
       "3785 Outros             NA   NA        8.4           0         \n",
       "3786 Outros             NA   NA        7.7        2000         \n",
       "3787 Outros             NA   NA        8.1           0         \n",
       "3788 Outros             NA   NA        7.5         634         \n",
       "3789 Outros             NA   NA        6.1         325         \n",
       "3790 Outros             NA   NA        8.4           0         \n",
       "3791 Outros             NA   NA        7.8       14000         \n",
       "3792 Outros             NA   NA        7.8        1000         \n",
       "3793 Outros             NA   NA        5.0         518         \n",
       "3794 Outros             NA   NA        7.9        3000         \n",
       "3795 Outros             NA   NA        7.4         763         \n",
       "3796 Outros             NA   NA        8.1         558         \n",
       "3797 Outros             NA   NA        7.3          43         \n",
       "3798 Outros             NA   NA        7.9        3000         \n",
       "3799 Outros             NA   NA        7.3        1000         \n",
       "3800 Outros             NA   NA        7.3         533         \n",
       "3801 Outros        5000000   NA        7.7         963         \n",
       "3802 Outros             NA   NA        7.3         632         \n",
       "3803 Outros             NA   NA        5.9          57         \n",
       "3804 Outros             NA   NA        7.7           0         \n",
       "3805 Outros             NA   NA        8.2         526         \n",
       "3806 Outros             NA   NA        6.7       17000         \n",
       "3807 Outros             NA   NA        7.5       32000         \n",
       "     ator_1                ator_2                ator_3                    \n",
       "1    Lillian Gish          Mae Marsh             Walter Long               \n",
       "2    Stephen Carr          Johnnie Walker        Mary Carr                 \n",
       "3    John Gilbert          Renée Adorée          Claire Adams              \n",
       "4    Anita Page            Bessie Love           Charles King              \n",
       "5    Jean Harlow           Marian Marsh          James Hall                \n",
       "6    Gary Cooper           Helen Hayes           Adolphe Menjou            \n",
       "7    Ginger Rogers         Dick Powell           George Brent              \n",
       "8    Mae West              Gilbert Roland        Louise Beavers            \n",
       "9    Claudette Colbert     Alan Hale             Walter Connolly           \n",
       "10   Ginger Rogers         Edward Everett Horton Eric Blore                \n",
       "11   Paulette Goddard      Stanley Blystone      Fred Malatesta            \n",
       "12   Errol Flynn           David Niven           Spring Byington           \n",
       "13   Adriana Caselotti     Billy Gilbert         Lucille La Verne          \n",
       "14   David Niven           Mary Astor            Ronald Colman             \n",
       "15   Tyrone Power          Don Ameche            John Carradine            \n",
       "16   Jean Arthur           Ann Miller            Lionel Barrymore          \n",
       "17   Hattie McDaniel       George Reeves         Thomas Mitchell           \n",
       "18   Margaret Hamilton     Terry                 Billie Burke              \n",
       "19   Claude Rains          Jean Arthur           Thomas Mitchell           \n",
       "20   Mel Blanc             Dickie Jones          Cliff Edwards             \n",
       "21   Leopold Stokowski     Deems Taylor          NA                        \n",
       "22   Hedy Lamarr           Spencer Tracy         Claudette Colbert         \n",
       "23   Laurence Olivier      Joan Fontaine         George Sanders            \n",
       "24   Spring Byington       Nigel Bruce           Gale Sondergaard          \n",
       "25   Roddy McDowall        Walter Pidgeon        Barry Fitzgerald          \n",
       "26   Sam Edwards           Donnie Dunagan        Ann Gillis                \n",
       "27   Humphrey Bogart       Claude Rains          Conrad Veidt              \n",
       "28   Spencer Tracy         Esther Williams       Irene Dunne               \n",
       "29   Esther Williams       Basil Rathbone        Red Skelton               \n",
       "30   Dana Andrews          Jeanne Crain          Frank McHugh              \n",
       "⋮    ⋮                     ⋮                     ⋮                         \n",
       "3778 Nick Wechsler         Philip Winchester     Jeff Marlow               \n",
       "3779 Kirsten Dunst         Adam Goldberg         Oliver Platt              \n",
       "3780 Sarah Michelle Gellar Alyson Hannigan       Emma Caulfield            \n",
       "3781 Melinda Clarke        Xander Berkeley       Aaron Stanford            \n",
       "3782 Jensen Ackles         Ashley Scott          John Savage               \n",
       "3783 Francis Capra         Jason Dohring         Enrico Colantoni          \n",
       "3784 Holly Hunter          Dylan Minnette        Bokeem Woodbine           \n",
       "3785 Corbin Bernsen        Dulé Hill             Timothy Omundson          \n",
       "3786 Dan Fogler            Indiana Evans         KaDee Strickland          \n",
       "3787 Dorian Missick        Daniella Alonso       Ellen Barkin              \n",
       "3788 Holly Hunter          Dylan Minnette        Bokeem Woodbine           \n",
       "3789 Doug Brochu           Tiffany Thornton      Brandon Mychal Smith      \n",
       "3790 David Ogden Stiers    Jamie Farr            Mike Farrell              \n",
       "3791 Ta'Rhonda Jones       Gabourey Sidibe       Malik Yoba                \n",
       "3792 Matthew Senreich      Seth Green            Breckin Meyer             \n",
       "3793 Craig T. Nelson       Colm Feore            Megalyn Echikunwoke       \n",
       "3794 Danny Pino            Megan Hilty           Zach Grenier              \n",
       "3795 Carroll O'Connor      Alan Autry            Crystal R. Fox            \n",
       "3796 Stephen Colbert       Amy Sedaris           Maria Thayer              \n",
       "3797 Anne Hathaway         Jon Tenney            Debrah Farentino          \n",
       "3798 Joe Morton            Colin Ferguson        Salli Richardson-Whitfield\n",
       "3799 Steven Weber          Tim Daly              Amy Yasbeck               \n",
       "3800 Karl Malden           Michael Douglas       NA                        \n",
       "3801 James Morrison        Tucker Smallwood      Kristen Cloke             \n",
       "3802 Mary Lynn Rajskub     Riley Keough          Paul Sparks               \n",
       "3803 Eric Lloyd            David DeLuise         Bruno Campos              \n",
       "3804 Sendhil Ramamurthy    Masi Oka              Greg Grunberg             \n",
       "3805 Brendon Small         Ron Lynch             Melissa Bardin Galsky     \n",
       "3806 Billy Burke           Tracy Spiridakos      David Lyons               \n",
       "3807 Natalie Zea           Valorie Curry         Sam Underwood             "
      ]
     },
     "metadata": {},
     "output_type": "display_data"
    }
   ],
   "source": [
    "filmes_ordenados <- imdb %>% arrange(ano, desc(receita))\n",
    "filmes_ordenados"
   ]
  },
  {
   "cell_type": "markdown",
   "id": "roman-delivery",
   "metadata": {},
   "source": [
    "2)"
   ]
  },
  {
   "cell_type": "code",
   "execution_count": 17,
   "id": "coated-concentration",
   "metadata": {},
   "outputs": [
    {
     "data": {
      "text/html": [
       "<table class=\"dataframe\">\n",
       "<caption>A tibble: 6 × 2</caption>\n",
       "<thead>\n",
       "\t<tr><th scope=col>titulo</th><th scope=col>orcamento</th></tr>\n",
       "\t<tr><th scope=col>&lt;chr&gt;</th><th scope=col>&lt;int&gt;</th></tr>\n",
       "</thead>\n",
       "<tbody>\n",
       "\t<tr><td>Pirates of the Caribbean: At World's End </td><td>300000000</td></tr>\n",
       "\t<tr><td>John Carter                              </td><td>263700000</td></tr>\n",
       "\t<tr><td>Tangled                                  </td><td>260000000</td></tr>\n",
       "\t<tr><td>Spider-Man 3                             </td><td>258000000</td></tr>\n",
       "\t<tr><td>Spider-Man 3                             </td><td>258000000</td></tr>\n",
       "\t<tr><td>The Dark Knight Rises                    </td><td>250000000</td></tr>\n",
       "</tbody>\n",
       "</table>\n"
      ],
      "text/latex": [
       "A tibble: 6 × 2\n",
       "\\begin{tabular}{ll}\n",
       " titulo & orcamento\\\\\n",
       " <chr> & <int>\\\\\n",
       "\\hline\n",
       "\t Pirates of the Caribbean: At World's End  & 300000000\\\\\n",
       "\t John Carter                               & 263700000\\\\\n",
       "\t Tangled                                   & 260000000\\\\\n",
       "\t Spider-Man 3                              & 258000000\\\\\n",
       "\t Spider-Man 3                              & 258000000\\\\\n",
       "\t The Dark Knight Rises                     & 250000000\\\\\n",
       "\\end{tabular}\n"
      ],
      "text/markdown": [
       "\n",
       "A tibble: 6 × 2\n",
       "\n",
       "| titulo &lt;chr&gt; | orcamento &lt;int&gt; |\n",
       "|---|---|\n",
       "| Pirates of the Caribbean: At World's End  | 300000000 |\n",
       "| John Carter                               | 263700000 |\n",
       "| Tangled                                   | 260000000 |\n",
       "| Spider-Man 3                              | 258000000 |\n",
       "| Spider-Man 3                              | 258000000 |\n",
       "| The Dark Knight Rises                     | 250000000 |\n",
       "\n"
      ],
      "text/plain": [
       "  titulo                                    orcamento\n",
       "1 Pirates of the Caribbean: At World's End  300000000\n",
       "2 John Carter                               263700000\n",
       "3 Tangled                                   260000000\n",
       "4 Spider-Man 3                              258000000\n",
       "5 Spider-Man 3                              258000000\n",
       "6 The Dark Knight Rises                     250000000"
      ]
     },
     "metadata": {},
     "output_type": "display_data"
    }
   ],
   "source": [
    "filmes_ordenados_2 <- imdb %>% arrange(desc(orcamento)) %>% select(titulo, orcamento)\n",
    "head(filmes_ordenados_2)"
   ]
  },
  {
   "cell_type": "markdown",
   "id": "continental-customer",
   "metadata": {},
   "source": [
    "## Exercícios 7.2.4\n",
    "\n",
    "1)"
   ]
  },
  {
   "cell_type": "code",
   "execution_count": 35,
   "id": "final-latex",
   "metadata": {},
   "outputs": [
    {
     "data": {
      "text/html": [
       "<table class=\"dataframe\">\n",
       "<caption>A tibble: 6 × 15</caption>\n",
       "<thead>\n",
       "\t<tr><th scope=col>titulo</th><th scope=col>ano</th><th scope=col>diretor</th><th scope=col>duracao</th><th scope=col>cor</th><th scope=col>generos</th><th scope=col>pais</th><th scope=col>classificacao</th><th scope=col>orcamento</th><th scope=col>receita</th><th scope=col>nota_imdb</th><th scope=col>likes_facebook</th><th scope=col>ator_1</th><th scope=col>ator_2</th><th scope=col>ator_3</th></tr>\n",
       "\t<tr><th scope=col>&lt;chr&gt;</th><th scope=col>&lt;int&gt;</th><th scope=col>&lt;chr&gt;</th><th scope=col>&lt;int&gt;</th><th scope=col>&lt;chr&gt;</th><th scope=col>&lt;chr&gt;</th><th scope=col>&lt;chr&gt;</th><th scope=col>&lt;chr&gt;</th><th scope=col>&lt;int&gt;</th><th scope=col>&lt;int&gt;</th><th scope=col>&lt;dbl&gt;</th><th scope=col>&lt;int&gt;</th><th scope=col>&lt;chr&gt;</th><th scope=col>&lt;chr&gt;</th><th scope=col>&lt;chr&gt;</th></tr>\n",
       "</thead>\n",
       "<tbody>\n",
       "\t<tr><td>Pearl Harbor </td><td>2001</td><td>Michael Bay     </td><td>184</td><td>Black and White</td><td>Action|Drama|History|Romance|War</td><td>USA</td><td>A partir de 13 anos</td><td>140000000</td><td>198539855</td><td>6.1</td><td>0</td><td>Jennifer Garner     </td><td>Jaime King        </td><td>Mako           </td></tr>\n",
       "\t<tr><td>The Aviator  </td><td>2004</td><td>Martin Scorsese </td><td>170</td><td>Black and White</td><td>Biography|Drama                 </td><td>USA</td><td>A partir de 13 anos</td><td>110000000</td><td>102608827</td><td>7.5</td><td>0</td><td>Leonardo DiCaprio   </td><td>Adam Scott        </td><td>Frances Conroy </td></tr>\n",
       "\t<tr><td>Ali          </td><td>2001</td><td>Michael Mann    </td><td>165</td><td>Black and White</td><td>Biography|Drama|Sport           </td><td>USA</td><td>A partir de 18 anos</td><td>107000000</td><td> 58183966</td><td>6.8</td><td>0</td><td>Will Smith          </td><td>Jada Pinkett Smith</td><td>Joe Morton     </td></tr>\n",
       "\t<tr><td>Eragon       </td><td>2006</td><td>Stefen Fangmeier</td><td>104</td><td>Black and White</td><td>Action|Adventure|Family|Fantasy </td><td>USA</td><td>Livre              </td><td>100000000</td><td> 75030163</td><td>5.1</td><td>0</td><td>Djimon Hounsou      </td><td>Ed Speleers       </td><td>Gary Lewis     </td></tr>\n",
       "\t<tr><td>Seabiscuit   </td><td>2003</td><td>Gary Ross       </td><td>140</td><td>Black and White</td><td>Drama|History|Sport             </td><td>USA</td><td>A partir de 13 anos</td><td> 87000000</td><td>120147445</td><td>7.3</td><td>0</td><td>Jeff Bridges        </td><td>Michael Angarano  </td><td>Michael O'Neill</td></tr>\n",
       "\t<tr><td>Bewitched    </td><td>  NA</td><td>NA              </td><td> 25</td><td>Black and White</td><td>Comedy|Family|Fantasy           </td><td>USA</td><td>Outros             </td><td>       NA</td><td>       NA</td><td>7.6</td><td>0</td><td>Elizabeth Montgomery</td><td>Agnes Moorehead   </td><td>Dick York      </td></tr>\n",
       "</tbody>\n",
       "</table>\n"
      ],
      "text/latex": [
       "A tibble: 6 × 15\n",
       "\\begin{tabular}{lllllllllllllll}\n",
       " titulo & ano & diretor & duracao & cor & generos & pais & classificacao & orcamento & receita & nota\\_imdb & likes\\_facebook & ator\\_1 & ator\\_2 & ator\\_3\\\\\n",
       " <chr> & <int> & <chr> & <int> & <chr> & <chr> & <chr> & <chr> & <int> & <int> & <dbl> & <int> & <chr> & <chr> & <chr>\\\\\n",
       "\\hline\n",
       "\t Pearl Harbor  & 2001 & Michael Bay      & 184 & Black and White & Action\\textbar{}Drama\\textbar{}History\\textbar{}Romance\\textbar{}War & USA & A partir de 13 anos & 140000000 & 198539855 & 6.1 & 0 & Jennifer Garner      & Jaime King         & Mako           \\\\\n",
       "\t The Aviator   & 2004 & Martin Scorsese  & 170 & Black and White & Biography\\textbar{}Drama                  & USA & A partir de 13 anos & 110000000 & 102608827 & 7.5 & 0 & Leonardo DiCaprio    & Adam Scott         & Frances Conroy \\\\\n",
       "\t Ali           & 2001 & Michael Mann     & 165 & Black and White & Biography\\textbar{}Drama\\textbar{}Sport            & USA & A partir de 18 anos & 107000000 &  58183966 & 6.8 & 0 & Will Smith           & Jada Pinkett Smith & Joe Morton     \\\\\n",
       "\t Eragon        & 2006 & Stefen Fangmeier & 104 & Black and White & Action\\textbar{}Adventure\\textbar{}Family\\textbar{}Fantasy  & USA & Livre               & 100000000 &  75030163 & 5.1 & 0 & Djimon Hounsou       & Ed Speleers        & Gary Lewis     \\\\\n",
       "\t Seabiscuit    & 2003 & Gary Ross        & 140 & Black and White & Drama\\textbar{}History\\textbar{}Sport              & USA & A partir de 13 anos &  87000000 & 120147445 & 7.3 & 0 & Jeff Bridges         & Michael Angarano   & Michael O'Neill\\\\\n",
       "\t Bewitched     &   NA & NA               &  25 & Black and White & Comedy\\textbar{}Family\\textbar{}Fantasy            & USA & Outros              &        NA &        NA & 7.6 & 0 & Elizabeth Montgomery & Agnes Moorehead    & Dick York      \\\\\n",
       "\\end{tabular}\n"
      ],
      "text/markdown": [
       "\n",
       "A tibble: 6 × 15\n",
       "\n",
       "| titulo &lt;chr&gt; | ano &lt;int&gt; | diretor &lt;chr&gt; | duracao &lt;int&gt; | cor &lt;chr&gt; | generos &lt;chr&gt; | pais &lt;chr&gt; | classificacao &lt;chr&gt; | orcamento &lt;int&gt; | receita &lt;int&gt; | nota_imdb &lt;dbl&gt; | likes_facebook &lt;int&gt; | ator_1 &lt;chr&gt; | ator_2 &lt;chr&gt; | ator_3 &lt;chr&gt; |\n",
       "|---|---|---|---|---|---|---|---|---|---|---|---|---|---|---|\n",
       "| Pearl Harbor  | 2001 | Michael Bay      | 184 | Black and White | Action|Drama|History|Romance|War | USA | A partir de 13 anos | 140000000 | 198539855 | 6.1 | 0 | Jennifer Garner      | Jaime King         | Mako            |\n",
       "| The Aviator   | 2004 | Martin Scorsese  | 170 | Black and White | Biography|Drama                  | USA | A partir de 13 anos | 110000000 | 102608827 | 7.5 | 0 | Leonardo DiCaprio    | Adam Scott         | Frances Conroy  |\n",
       "| Ali           | 2001 | Michael Mann     | 165 | Black and White | Biography|Drama|Sport            | USA | A partir de 18 anos | 107000000 |  58183966 | 6.8 | 0 | Will Smith           | Jada Pinkett Smith | Joe Morton      |\n",
       "| Eragon        | 2006 | Stefen Fangmeier | 104 | Black and White | Action|Adventure|Family|Fantasy  | USA | Livre               | 100000000 |  75030163 | 5.1 | 0 | Djimon Hounsou       | Ed Speleers        | Gary Lewis      |\n",
       "| Seabiscuit    | 2003 | Gary Ross        | 140 | Black and White | Drama|History|Sport              | USA | A partir de 13 anos |  87000000 | 120147445 | 7.3 | 0 | Jeff Bridges         | Michael Angarano   | Michael O'Neill |\n",
       "| Bewitched     |   NA | NA               |  25 | Black and White | Comedy|Family|Fantasy            | USA | Outros              |        NA |        NA | 7.6 | 0 | Elizabeth Montgomery | Agnes Moorehead    | Dick York       |\n",
       "\n"
      ],
      "text/plain": [
       "  titulo        ano  diretor          duracao cor            \n",
       "1 Pearl Harbor  2001 Michael Bay      184     Black and White\n",
       "2 The Aviator   2004 Martin Scorsese  170     Black and White\n",
       "3 Ali           2001 Michael Mann     165     Black and White\n",
       "4 Eragon        2006 Stefen Fangmeier 104     Black and White\n",
       "5 Seabiscuit    2003 Gary Ross        140     Black and White\n",
       "6 Bewitched       NA NA                25     Black and White\n",
       "  generos                          pais classificacao       orcamento receita  \n",
       "1 Action|Drama|History|Romance|War USA  A partir de 13 anos 140000000 198539855\n",
       "2 Biography|Drama                  USA  A partir de 13 anos 110000000 102608827\n",
       "3 Biography|Drama|Sport            USA  A partir de 18 anos 107000000  58183966\n",
       "4 Action|Adventure|Family|Fantasy  USA  Livre               100000000  75030163\n",
       "5 Drama|History|Sport              USA  A partir de 13 anos  87000000 120147445\n",
       "6 Comedy|Family|Fantasy            USA  Outros                     NA        NA\n",
       "  nota_imdb likes_facebook ator_1               ator_2            \n",
       "1 6.1       0              Jennifer Garner      Jaime King        \n",
       "2 7.5       0              Leonardo DiCaprio    Adam Scott        \n",
       "3 6.8       0              Will Smith           Jada Pinkett Smith\n",
       "4 5.1       0              Djimon Hounsou       Ed Speleers       \n",
       "5 7.3       0              Jeff Bridges         Michael Angarano  \n",
       "6 7.6       0              Elizabeth Montgomery Agnes Moorehead   \n",
       "  ator_3         \n",
       "1 Mako           \n",
       "2 Frances Conroy \n",
       "3 Joe Morton     \n",
       "4 Gary Lewis     \n",
       "5 Michael O'Neill\n",
       "6 Dick York      "
      ]
     },
     "metadata": {},
     "output_type": "display_data"
    }
   ],
   "source": [
    "filmes_pb <- imdb %>% filter(cor == \"Black and White\")\n",
    "head(filmes_pb)"
   ]
  },
  {
   "cell_type": "markdown",
   "id": "powerful-roberts",
   "metadata": {},
   "source": [
    "2)"
   ]
  },
  {
   "cell_type": "code",
   "execution_count": 25,
   "id": "meaning-oklahoma",
   "metadata": {},
   "outputs": [
    {
     "data": {
      "text/html": [
       "<table class=\"dataframe\">\n",
       "<caption>A tibble: 6 × 15</caption>\n",
       "<thead>\n",
       "\t<tr><th scope=col>titulo</th><th scope=col>ano</th><th scope=col>diretor</th><th scope=col>duracao</th><th scope=col>cor</th><th scope=col>generos</th><th scope=col>pais</th><th scope=col>classificacao</th><th scope=col>orcamento</th><th scope=col>receita</th><th scope=col>nota_imdb</th><th scope=col>likes_facebook</th><th scope=col>ator_1</th><th scope=col>ator_2</th><th scope=col>ator_3</th></tr>\n",
       "\t<tr><th scope=col>&lt;chr&gt;</th><th scope=col>&lt;int&gt;</th><th scope=col>&lt;chr&gt;</th><th scope=col>&lt;int&gt;</th><th scope=col>&lt;chr&gt;</th><th scope=col>&lt;chr&gt;</th><th scope=col>&lt;chr&gt;</th><th scope=col>&lt;chr&gt;</th><th scope=col>&lt;int&gt;</th><th scope=col>&lt;int&gt;</th><th scope=col>&lt;dbl&gt;</th><th scope=col>&lt;int&gt;</th><th scope=col>&lt;chr&gt;</th><th scope=col>&lt;chr&gt;</th><th scope=col>&lt;chr&gt;</th></tr>\n",
       "</thead>\n",
       "<tbody>\n",
       "\t<tr><td>Hannibal                          </td><td>NA</td><td>NA</td><td>44</td><td>Color          </td><td>Crime|Drama|Horror|Mystery|Thriller         </td><td>USA</td><td>Outros</td><td>NA</td><td>NA</td><td>8.6</td><td>59000</td><td>Caroline Dhavernas</td><td>Scott Thompson </td><td>Hettienne Park</td></tr>\n",
       "\t<tr><td>Daredevil                         </td><td>NA</td><td>NA</td><td>54</td><td>NA             </td><td>Action|Adventure|Crime|Drama|Sci-Fi|Thriller</td><td>USA</td><td>Outros</td><td>NA</td><td>NA</td><td>8.8</td><td>55000</td><td>Elden Henson      </td><td>Royce Johnson  </td><td>Charlie Cox   </td></tr>\n",
       "\t<tr><td>Friday Night Lights               </td><td>NA</td><td>NA</td><td>44</td><td>Color          </td><td>Drama|Sport                                 </td><td>USA</td><td>Outros</td><td>NA</td><td>NA</td><td>8.7</td><td>    0</td><td>Zach Gilford      </td><td>Aimee Teegarden</td><td>Scott Porter  </td></tr>\n",
       "\t<tr><td>The Honeymooners                  </td><td>NA</td><td>NA</td><td>30</td><td>Black and White</td><td>Comedy|Family                               </td><td>USA</td><td>Outros</td><td>NA</td><td>NA</td><td>8.7</td><td>  459</td><td>Jackie Gleason    </td><td>Art Carney     </td><td>Joyce Randolph</td></tr>\n",
       "\t<tr><td>It's Always Sunny in Philadelphia </td><td>NA</td><td>NA</td><td>22</td><td>Color          </td><td>Comedy                                      </td><td>USA</td><td>Outros</td><td>NA</td><td>NA</td><td>8.8</td><td>    0</td><td>Rob McElhenney    </td><td>Kaitlin Olson  </td><td>Glenn Howerton</td></tr>\n",
       "\t<tr><td>Spartacus: War of the Damned      </td><td>NA</td><td>NA</td><td>55</td><td>Color          </td><td>Action|Adventure|Biography|Drama|History    </td><td>USA</td><td>Outros</td><td>NA</td><td>NA</td><td>8.6</td><td>31000</td><td>Peter Mensah      </td><td>Kelvin Taylor  </td><td>Viva Bianca   </td></tr>\n",
       "</tbody>\n",
       "</table>\n"
      ],
      "text/latex": [
       "A tibble: 6 × 15\n",
       "\\begin{tabular}{lllllllllllllll}\n",
       " titulo & ano & diretor & duracao & cor & generos & pais & classificacao & orcamento & receita & nota\\_imdb & likes\\_facebook & ator\\_1 & ator\\_2 & ator\\_3\\\\\n",
       " <chr> & <int> & <chr> & <int> & <chr> & <chr> & <chr> & <chr> & <int> & <int> & <dbl> & <int> & <chr> & <chr> & <chr>\\\\\n",
       "\\hline\n",
       "\t Hannibal                           & NA & NA & 44 & Color           & Crime\\textbar{}Drama\\textbar{}Horror\\textbar{}Mystery\\textbar{}Thriller          & USA & Outros & NA & NA & 8.6 & 59000 & Caroline Dhavernas & Scott Thompson  & Hettienne Park\\\\\n",
       "\t Daredevil                          & NA & NA & 54 & NA              & Action\\textbar{}Adventure\\textbar{}Crime\\textbar{}Drama\\textbar{}Sci-Fi\\textbar{}Thriller & USA & Outros & NA & NA & 8.8 & 55000 & Elden Henson       & Royce Johnson   & Charlie Cox   \\\\\n",
       "\t Friday Night Lights                & NA & NA & 44 & Color           & Drama\\textbar{}Sport                                  & USA & Outros & NA & NA & 8.7 &     0 & Zach Gilford       & Aimee Teegarden & Scott Porter  \\\\\n",
       "\t The Honeymooners                   & NA & NA & 30 & Black and White & Comedy\\textbar{}Family                                & USA & Outros & NA & NA & 8.7 &   459 & Jackie Gleason     & Art Carney      & Joyce Randolph\\\\\n",
       "\t It's Always Sunny in Philadelphia  & NA & NA & 22 & Color           & Comedy                                       & USA & Outros & NA & NA & 8.8 &     0 & Rob McElhenney     & Kaitlin Olson   & Glenn Howerton\\\\\n",
       "\t Spartacus: War of the Damned       & NA & NA & 55 & Color           & Action\\textbar{}Adventure\\textbar{}Biography\\textbar{}Drama\\textbar{}History     & USA & Outros & NA & NA & 8.6 & 31000 & Peter Mensah       & Kelvin Taylor   & Viva Bianca   \\\\\n",
       "\\end{tabular}\n"
      ],
      "text/markdown": [
       "\n",
       "A tibble: 6 × 15\n",
       "\n",
       "| titulo &lt;chr&gt; | ano &lt;int&gt; | diretor &lt;chr&gt; | duracao &lt;int&gt; | cor &lt;chr&gt; | generos &lt;chr&gt; | pais &lt;chr&gt; | classificacao &lt;chr&gt; | orcamento &lt;int&gt; | receita &lt;int&gt; | nota_imdb &lt;dbl&gt; | likes_facebook &lt;int&gt; | ator_1 &lt;chr&gt; | ator_2 &lt;chr&gt; | ator_3 &lt;chr&gt; |\n",
       "|---|---|---|---|---|---|---|---|---|---|---|---|---|---|---|\n",
       "| Hannibal                           | NA | NA | 44 | Color           | Crime|Drama|Horror|Mystery|Thriller          | USA | Outros | NA | NA | 8.6 | 59000 | Caroline Dhavernas | Scott Thompson  | Hettienne Park |\n",
       "| Daredevil                          | NA | NA | 54 | NA              | Action|Adventure|Crime|Drama|Sci-Fi|Thriller | USA | Outros | NA | NA | 8.8 | 55000 | Elden Henson       | Royce Johnson   | Charlie Cox    |\n",
       "| Friday Night Lights                | NA | NA | 44 | Color           | Drama|Sport                                  | USA | Outros | NA | NA | 8.7 |     0 | Zach Gilford       | Aimee Teegarden | Scott Porter   |\n",
       "| The Honeymooners                   | NA | NA | 30 | Black and White | Comedy|Family                                | USA | Outros | NA | NA | 8.7 |   459 | Jackie Gleason     | Art Carney      | Joyce Randolph |\n",
       "| It's Always Sunny in Philadelphia  | NA | NA | 22 | Color           | Comedy                                       | USA | Outros | NA | NA | 8.8 |     0 | Rob McElhenney     | Kaitlin Olson   | Glenn Howerton |\n",
       "| Spartacus: War of the Damned       | NA | NA | 55 | Color           | Action|Adventure|Biography|Drama|History     | USA | Outros | NA | NA | 8.6 | 31000 | Peter Mensah       | Kelvin Taylor   | Viva Bianca    |\n",
       "\n"
      ],
      "text/plain": [
       "  titulo                             ano diretor duracao cor            \n",
       "1 Hannibal                           NA  NA      44      Color          \n",
       "2 Daredevil                          NA  NA      54      NA             \n",
       "3 Friday Night Lights                NA  NA      44      Color          \n",
       "4 The Honeymooners                   NA  NA      30      Black and White\n",
       "5 It's Always Sunny in Philadelphia  NA  NA      22      Color          \n",
       "6 Spartacus: War of the Damned       NA  NA      55      Color          \n",
       "  generos                                      pais classificacao orcamento\n",
       "1 Crime|Drama|Horror|Mystery|Thriller          USA  Outros        NA       \n",
       "2 Action|Adventure|Crime|Drama|Sci-Fi|Thriller USA  Outros        NA       \n",
       "3 Drama|Sport                                  USA  Outros        NA       \n",
       "4 Comedy|Family                                USA  Outros        NA       \n",
       "5 Comedy                                       USA  Outros        NA       \n",
       "6 Action|Adventure|Biography|Drama|History     USA  Outros        NA       \n",
       "  receita nota_imdb likes_facebook ator_1             ator_2         \n",
       "1 NA      8.6       59000          Caroline Dhavernas Scott Thompson \n",
       "2 NA      8.8       55000          Elden Henson       Royce Johnson  \n",
       "3 NA      8.7           0          Zach Gilford       Aimee Teegarden\n",
       "4 NA      8.7         459          Jackie Gleason     Art Carney     \n",
       "5 NA      8.8           0          Rob McElhenney     Kaitlin Olson  \n",
       "6 NA      8.6       31000          Peter Mensah       Kelvin Taylor  \n",
       "  ator_3        \n",
       "1 Hettienne Park\n",
       "2 Charlie Cox   \n",
       "3 Scott Porter  \n",
       "4 Joyce Randolph\n",
       "5 Glenn Howerton\n",
       "6 Viva Bianca   "
      ]
     },
     "metadata": {},
     "output_type": "display_data"
    }
   ],
   "source": [
    "curtas_legais <- imdb %>% filter(duracao <= 90 & nota_imdb > 8.5)\n",
    "head(curtas_legais)"
   ]
  },
  {
   "cell_type": "markdown",
   "id": "geological-webster",
   "metadata": {},
   "source": [
    "3) a)"
   ]
  },
  {
   "cell_type": "code",
   "execution_count": 36,
   "id": "signed-powder",
   "metadata": {},
   "outputs": [
    {
     "data": {
      "text/html": [
       "<table class=\"dataframe\">\n",
       "<caption>A tibble: 6 × 15</caption>\n",
       "<thead>\n",
       "\t<tr><th scope=col>titulo</th><th scope=col>ano</th><th scope=col>diretor</th><th scope=col>duracao</th><th scope=col>cor</th><th scope=col>generos</th><th scope=col>pais</th><th scope=col>classificacao</th><th scope=col>orcamento</th><th scope=col>receita</th><th scope=col>nota_imdb</th><th scope=col>likes_facebook</th><th scope=col>ator_1</th><th scope=col>ator_2</th><th scope=col>ator_3</th></tr>\n",
       "\t<tr><th scope=col>&lt;chr&gt;</th><th scope=col>&lt;int&gt;</th><th scope=col>&lt;chr&gt;</th><th scope=col>&lt;int&gt;</th><th scope=col>&lt;chr&gt;</th><th scope=col>&lt;chr&gt;</th><th scope=col>&lt;chr&gt;</th><th scope=col>&lt;chr&gt;</th><th scope=col>&lt;int&gt;</th><th scope=col>&lt;int&gt;</th><th scope=col>&lt;dbl&gt;</th><th scope=col>&lt;int&gt;</th><th scope=col>&lt;chr&gt;</th><th scope=col>&lt;chr&gt;</th><th scope=col>&lt;chr&gt;</th></tr>\n",
       "</thead>\n",
       "<tbody>\n",
       "\t<tr><td>Pinocchio          </td><td>1940</td><td>Norman Ferguson  </td><td> 88</td><td>Color</td><td>Animation|Family|Fantasy|Musical</td><td>USA</td><td>Outros</td><td>2600000</td><td> 84300000</td><td>7.5</td><td>    0</td><td>Mel Blanc      </td><td>Dickie Jones </td><td>Cliff Edwards  </td></tr>\n",
       "\t<tr><td>Duel in the Sun    </td><td>1946</td><td>King Vidor       </td><td>144</td><td>Color</td><td>Drama|Romance|Western           </td><td>USA</td><td>Outros</td><td>8000000</td><td> 20400000</td><td>6.9</td><td>  403</td><td>Joseph Cotten  </td><td>Lillian Gish </td><td>Jennifer Jones </td></tr>\n",
       "\t<tr><td>Tycoon             </td><td>1947</td><td>Richard Wallace  </td><td> 95</td><td>Color</td><td>Adventure|Drama|Romance         </td><td>USA</td><td>Outros</td><td>3209000</td><td>       NA</td><td>6.2</td><td>   44</td><td>Judith Anderson</td><td>Paul Fix     </td><td>Laraine Day    </td></tr>\n",
       "\t<tr><td>State Fair         </td><td>1945</td><td>Walter Lang      </td><td>100</td><td>Color</td><td>Musical|Romance                 </td><td>USA</td><td>Outros</td><td>     NA</td><td>       NA</td><td>7.1</td><td>  501</td><td>Dana Andrews   </td><td>Jeanne Crain </td><td>Frank McHugh   </td></tr>\n",
       "\t<tr><td>Gone with the Wind </td><td>1939</td><td>Victor Fleming   </td><td>226</td><td>Color</td><td>Drama|History|Romance|War       </td><td>USA</td><td>Outros</td><td>3977000</td><td>198655278</td><td>8.2</td><td>16000</td><td>Hattie McDaniel</td><td>George Reeves</td><td>Thomas Mitchell</td></tr>\n",
       "\t<tr><td>The Pirate         </td><td>1948</td><td>Vincente Minnelli</td><td>102</td><td>Color</td><td>Adventure|Comedy|Musical|Romance</td><td>USA</td><td>Outros</td><td>3700000</td><td>  2956000</td><td>7.1</td><td>  359</td><td>Gladys Cooper  </td><td>Reginald Owen</td><td>Ellen Ross     </td></tr>\n",
       "</tbody>\n",
       "</table>\n"
      ],
      "text/latex": [
       "A tibble: 6 × 15\n",
       "\\begin{tabular}{lllllllllllllll}\n",
       " titulo & ano & diretor & duracao & cor & generos & pais & classificacao & orcamento & receita & nota\\_imdb & likes\\_facebook & ator\\_1 & ator\\_2 & ator\\_3\\\\\n",
       " <chr> & <int> & <chr> & <int> & <chr> & <chr> & <chr> & <chr> & <int> & <int> & <dbl> & <int> & <chr> & <chr> & <chr>\\\\\n",
       "\\hline\n",
       "\t Pinocchio           & 1940 & Norman Ferguson   &  88 & Color & Animation\\textbar{}Family\\textbar{}Fantasy\\textbar{}Musical & USA & Outros & 2600000 &  84300000 & 7.5 &     0 & Mel Blanc       & Dickie Jones  & Cliff Edwards  \\\\\n",
       "\t Duel in the Sun     & 1946 & King Vidor        & 144 & Color & Drama\\textbar{}Romance\\textbar{}Western            & USA & Outros & 8000000 &  20400000 & 6.9 &   403 & Joseph Cotten   & Lillian Gish  & Jennifer Jones \\\\\n",
       "\t Tycoon              & 1947 & Richard Wallace   &  95 & Color & Adventure\\textbar{}Drama\\textbar{}Romance          & USA & Outros & 3209000 &        NA & 6.2 &    44 & Judith Anderson & Paul Fix      & Laraine Day    \\\\\n",
       "\t State Fair          & 1945 & Walter Lang       & 100 & Color & Musical\\textbar{}Romance                  & USA & Outros &      NA &        NA & 7.1 &   501 & Dana Andrews    & Jeanne Crain  & Frank McHugh   \\\\\n",
       "\t Gone with the Wind  & 1939 & Victor Fleming    & 226 & Color & Drama\\textbar{}History\\textbar{}Romance\\textbar{}War        & USA & Outros & 3977000 & 198655278 & 8.2 & 16000 & Hattie McDaniel & George Reeves & Thomas Mitchell\\\\\n",
       "\t The Pirate          & 1948 & Vincente Minnelli & 102 & Color & Adventure\\textbar{}Comedy\\textbar{}Musical\\textbar{}Romance & USA & Outros & 3700000 &   2956000 & 7.1 &   359 & Gladys Cooper   & Reginald Owen & Ellen Ross     \\\\\n",
       "\\end{tabular}\n"
      ],
      "text/markdown": [
       "\n",
       "A tibble: 6 × 15\n",
       "\n",
       "| titulo &lt;chr&gt; | ano &lt;int&gt; | diretor &lt;chr&gt; | duracao &lt;int&gt; | cor &lt;chr&gt; | generos &lt;chr&gt; | pais &lt;chr&gt; | classificacao &lt;chr&gt; | orcamento &lt;int&gt; | receita &lt;int&gt; | nota_imdb &lt;dbl&gt; | likes_facebook &lt;int&gt; | ator_1 &lt;chr&gt; | ator_2 &lt;chr&gt; | ator_3 &lt;chr&gt; |\n",
       "|---|---|---|---|---|---|---|---|---|---|---|---|---|---|---|\n",
       "| Pinocchio           | 1940 | Norman Ferguson   |  88 | Color | Animation|Family|Fantasy|Musical | USA | Outros | 2600000 |  84300000 | 7.5 |     0 | Mel Blanc       | Dickie Jones  | Cliff Edwards   |\n",
       "| Duel in the Sun     | 1946 | King Vidor        | 144 | Color | Drama|Romance|Western            | USA | Outros | 8000000 |  20400000 | 6.9 |   403 | Joseph Cotten   | Lillian Gish  | Jennifer Jones  |\n",
       "| Tycoon              | 1947 | Richard Wallace   |  95 | Color | Adventure|Drama|Romance          | USA | Outros | 3209000 |        NA | 6.2 |    44 | Judith Anderson | Paul Fix      | Laraine Day     |\n",
       "| State Fair          | 1945 | Walter Lang       | 100 | Color | Musical|Romance                  | USA | Outros |      NA |        NA | 7.1 |   501 | Dana Andrews    | Jeanne Crain  | Frank McHugh    |\n",
       "| Gone with the Wind  | 1939 | Victor Fleming    | 226 | Color | Drama|History|Romance|War        | USA | Outros | 3977000 | 198655278 | 8.2 | 16000 | Hattie McDaniel | George Reeves | Thomas Mitchell |\n",
       "| The Pirate          | 1948 | Vincente Minnelli | 102 | Color | Adventure|Comedy|Musical|Romance | USA | Outros | 3700000 |   2956000 | 7.1 |   359 | Gladys Cooper   | Reginald Owen | Ellen Ross      |\n",
       "\n"
      ],
      "text/plain": [
       "  titulo              ano  diretor           duracao cor  \n",
       "1 Pinocchio           1940 Norman Ferguson    88     Color\n",
       "2 Duel in the Sun     1946 King Vidor        144     Color\n",
       "3 Tycoon              1947 Richard Wallace    95     Color\n",
       "4 State Fair          1945 Walter Lang       100     Color\n",
       "5 Gone with the Wind  1939 Victor Fleming    226     Color\n",
       "6 The Pirate          1948 Vincente Minnelli 102     Color\n",
       "  generos                          pais classificacao orcamento receita  \n",
       "1 Animation|Family|Fantasy|Musical USA  Outros        2600000    84300000\n",
       "2 Drama|Romance|Western            USA  Outros        8000000    20400000\n",
       "3 Adventure|Drama|Romance          USA  Outros        3209000          NA\n",
       "4 Musical|Romance                  USA  Outros             NA          NA\n",
       "5 Drama|History|Romance|War        USA  Outros        3977000   198655278\n",
       "6 Adventure|Comedy|Musical|Romance USA  Outros        3700000     2956000\n",
       "  nota_imdb likes_facebook ator_1          ator_2        ator_3         \n",
       "1 7.5           0          Mel Blanc       Dickie Jones  Cliff Edwards  \n",
       "2 6.9         403          Joseph Cotten   Lillian Gish  Jennifer Jones \n",
       "3 6.2          44          Judith Anderson Paul Fix      Laraine Day    \n",
       "4 7.1         501          Dana Andrews    Jeanne Crain  Frank McHugh   \n",
       "5 8.2       16000          Hattie McDaniel George Reeves Thomas Mitchell\n",
       "6 7.1         359          Gladys Cooper   Reginald Owen Ellen Ross     "
      ]
     },
     "metadata": {},
     "output_type": "display_data"
    }
   ],
   "source": [
    "head(imdb %>% filter(cor == \"Color\" & ano < 1950))"
   ]
  },
  {
   "cell_type": "markdown",
   "id": "bound-radical",
   "metadata": {},
   "source": [
    "b)"
   ]
  },
  {
   "cell_type": "code",
   "execution_count": 37,
   "id": "limited-portsmouth",
   "metadata": {},
   "outputs": [
    {
     "data": {
      "text/html": [
       "<table class=\"dataframe\">\n",
       "<caption>A tibble: 6 × 15</caption>\n",
       "<thead>\n",
       "\t<tr><th scope=col>titulo</th><th scope=col>ano</th><th scope=col>diretor</th><th scope=col>duracao</th><th scope=col>cor</th><th scope=col>generos</th><th scope=col>pais</th><th scope=col>classificacao</th><th scope=col>orcamento</th><th scope=col>receita</th><th scope=col>nota_imdb</th><th scope=col>likes_facebook</th><th scope=col>ator_1</th><th scope=col>ator_2</th><th scope=col>ator_3</th></tr>\n",
       "\t<tr><th scope=col>&lt;chr&gt;</th><th scope=col>&lt;int&gt;</th><th scope=col>&lt;chr&gt;</th><th scope=col>&lt;int&gt;</th><th scope=col>&lt;chr&gt;</th><th scope=col>&lt;chr&gt;</th><th scope=col>&lt;chr&gt;</th><th scope=col>&lt;chr&gt;</th><th scope=col>&lt;int&gt;</th><th scope=col>&lt;int&gt;</th><th scope=col>&lt;dbl&gt;</th><th scope=col>&lt;int&gt;</th><th scope=col>&lt;chr&gt;</th><th scope=col>&lt;chr&gt;</th><th scope=col>&lt;chr&gt;</th></tr>\n",
       "</thead>\n",
       "<tbody>\n",
       "\t<tr><td>The Life Aquatic with Steve Zissou </td><td>2004</td><td>Wes Anderson</td><td>119</td><td>Color</td><td>Adventure|Comedy|Drama                 </td><td>USA</td><td>A partir de 18 anos</td><td>50000000</td><td>24006726</td><td>7.3</td><td>     0</td><td>Bill Murray </td><td>Anjelica Huston  </td><td>Matthew Gray Gubler   </td></tr>\n",
       "\t<tr><td>Fantastic Mr. Fox                  </td><td>2009</td><td>Wes Anderson</td><td> 87</td><td>Color</td><td>Adventure|Animation|Comedy|Crime|Family</td><td>USA</td><td>Livre              </td><td>40000000</td><td>20999103</td><td>7.8</td><td> 15000</td><td>Bill Murray </td><td>Meryl Streep     </td><td>Helen McCrory         </td></tr>\n",
       "\t<tr><td>The Grand Budapest Hotel           </td><td>2014</td><td>Wes Anderson</td><td> 99</td><td>Color</td><td>Adventure|Comedy|Crime|Drama           </td><td>USA</td><td>A partir de 18 anos</td><td>25000000</td><td>59073773</td><td>8.1</td><td>149000</td><td>Bill Murray </td><td>Tom Wilkinson    </td><td>F. Murray Abraham     </td></tr>\n",
       "\t<tr><td>The Royal Tenenbaums               </td><td>2001</td><td>Wes Anderson</td><td>110</td><td>Color</td><td>Comedy|Drama                           </td><td>USA</td><td>A partir de 18 anos</td><td>21000000</td><td>52353636</td><td>7.6</td><td>     0</td><td>Bill Murray </td><td>Anjelica Huston  </td><td>Seymour Cassel        </td></tr>\n",
       "\t<tr><td>The Curse of the Jade Scorpion     </td><td>2001</td><td>Woody Allen </td><td>103</td><td>Color</td><td>Comedy|Crime|Mystery|Romance           </td><td>USA</td><td>A partir de 13 anos</td><td>26000000</td><td> 7496522</td><td>6.8</td><td>   826</td><td>Woody Allen </td><td>Elizabeth Berkley</td><td>Peter Gerety          </td></tr>\n",
       "\t<tr><td>To Rome with Love                  </td><td>2012</td><td>Woody Allen </td><td>112</td><td>Color</td><td>Comedy|Romance                         </td><td>USA</td><td>A partir de 18 anos</td><td>17000000</td><td>16684352</td><td>6.3</td><td> 18000</td><td>Ornella Muti</td><td>Judy Davis       </td><td>Alessandra Mastronardi</td></tr>\n",
       "</tbody>\n",
       "</table>\n"
      ],
      "text/latex": [
       "A tibble: 6 × 15\n",
       "\\begin{tabular}{lllllllllllllll}\n",
       " titulo & ano & diretor & duracao & cor & generos & pais & classificacao & orcamento & receita & nota\\_imdb & likes\\_facebook & ator\\_1 & ator\\_2 & ator\\_3\\\\\n",
       " <chr> & <int> & <chr> & <int> & <chr> & <chr> & <chr> & <chr> & <int> & <int> & <dbl> & <int> & <chr> & <chr> & <chr>\\\\\n",
       "\\hline\n",
       "\t The Life Aquatic with Steve Zissou  & 2004 & Wes Anderson & 119 & Color & Adventure\\textbar{}Comedy\\textbar{}Drama                  & USA & A partir de 18 anos & 50000000 & 24006726 & 7.3 &      0 & Bill Murray  & Anjelica Huston   & Matthew Gray Gubler   \\\\\n",
       "\t Fantastic Mr. Fox                   & 2009 & Wes Anderson &  87 & Color & Adventure\\textbar{}Animation\\textbar{}Comedy\\textbar{}Crime\\textbar{}Family & USA & Livre               & 40000000 & 20999103 & 7.8 &  15000 & Bill Murray  & Meryl Streep      & Helen McCrory         \\\\\n",
       "\t The Grand Budapest Hotel            & 2014 & Wes Anderson &  99 & Color & Adventure\\textbar{}Comedy\\textbar{}Crime\\textbar{}Drama            & USA & A partir de 18 anos & 25000000 & 59073773 & 8.1 & 149000 & Bill Murray  & Tom Wilkinson     & F. Murray Abraham     \\\\\n",
       "\t The Royal Tenenbaums                & 2001 & Wes Anderson & 110 & Color & Comedy\\textbar{}Drama                            & USA & A partir de 18 anos & 21000000 & 52353636 & 7.6 &      0 & Bill Murray  & Anjelica Huston   & Seymour Cassel        \\\\\n",
       "\t The Curse of the Jade Scorpion      & 2001 & Woody Allen  & 103 & Color & Comedy\\textbar{}Crime\\textbar{}Mystery\\textbar{}Romance            & USA & A partir de 13 anos & 26000000 &  7496522 & 6.8 &    826 & Woody Allen  & Elizabeth Berkley & Peter Gerety          \\\\\n",
       "\t To Rome with Love                   & 2012 & Woody Allen  & 112 & Color & Comedy\\textbar{}Romance                          & USA & A partir de 18 anos & 17000000 & 16684352 & 6.3 &  18000 & Ornella Muti & Judy Davis        & Alessandra Mastronardi\\\\\n",
       "\\end{tabular}\n"
      ],
      "text/markdown": [
       "\n",
       "A tibble: 6 × 15\n",
       "\n",
       "| titulo &lt;chr&gt; | ano &lt;int&gt; | diretor &lt;chr&gt; | duracao &lt;int&gt; | cor &lt;chr&gt; | generos &lt;chr&gt; | pais &lt;chr&gt; | classificacao &lt;chr&gt; | orcamento &lt;int&gt; | receita &lt;int&gt; | nota_imdb &lt;dbl&gt; | likes_facebook &lt;int&gt; | ator_1 &lt;chr&gt; | ator_2 &lt;chr&gt; | ator_3 &lt;chr&gt; |\n",
       "|---|---|---|---|---|---|---|---|---|---|---|---|---|---|---|\n",
       "| The Life Aquatic with Steve Zissou  | 2004 | Wes Anderson | 119 | Color | Adventure|Comedy|Drama                  | USA | A partir de 18 anos | 50000000 | 24006726 | 7.3 |      0 | Bill Murray  | Anjelica Huston   | Matthew Gray Gubler    |\n",
       "| Fantastic Mr. Fox                   | 2009 | Wes Anderson |  87 | Color | Adventure|Animation|Comedy|Crime|Family | USA | Livre               | 40000000 | 20999103 | 7.8 |  15000 | Bill Murray  | Meryl Streep      | Helen McCrory          |\n",
       "| The Grand Budapest Hotel            | 2014 | Wes Anderson |  99 | Color | Adventure|Comedy|Crime|Drama            | USA | A partir de 18 anos | 25000000 | 59073773 | 8.1 | 149000 | Bill Murray  | Tom Wilkinson     | F. Murray Abraham      |\n",
       "| The Royal Tenenbaums                | 2001 | Wes Anderson | 110 | Color | Comedy|Drama                            | USA | A partir de 18 anos | 21000000 | 52353636 | 7.6 |      0 | Bill Murray  | Anjelica Huston   | Seymour Cassel         |\n",
       "| The Curse of the Jade Scorpion      | 2001 | Woody Allen  | 103 | Color | Comedy|Crime|Mystery|Romance            | USA | A partir de 13 anos | 26000000 |  7496522 | 6.8 |    826 | Woody Allen  | Elizabeth Berkley | Peter Gerety           |\n",
       "| To Rome with Love                   | 2012 | Woody Allen  | 112 | Color | Comedy|Romance                          | USA | A partir de 18 anos | 17000000 | 16684352 | 6.3 |  18000 | Ornella Muti | Judy Davis        | Alessandra Mastronardi |\n",
       "\n"
      ],
      "text/plain": [
       "  titulo                              ano  diretor      duracao cor  \n",
       "1 The Life Aquatic with Steve Zissou  2004 Wes Anderson 119     Color\n",
       "2 Fantastic Mr. Fox                   2009 Wes Anderson  87     Color\n",
       "3 The Grand Budapest Hotel            2014 Wes Anderson  99     Color\n",
       "4 The Royal Tenenbaums                2001 Wes Anderson 110     Color\n",
       "5 The Curse of the Jade Scorpion      2001 Woody Allen  103     Color\n",
       "6 To Rome with Love                   2012 Woody Allen  112     Color\n",
       "  generos                                 pais classificacao       orcamento\n",
       "1 Adventure|Comedy|Drama                  USA  A partir de 18 anos 50000000 \n",
       "2 Adventure|Animation|Comedy|Crime|Family USA  Livre               40000000 \n",
       "3 Adventure|Comedy|Crime|Drama            USA  A partir de 18 anos 25000000 \n",
       "4 Comedy|Drama                            USA  A partir de 18 anos 21000000 \n",
       "5 Comedy|Crime|Mystery|Romance            USA  A partir de 13 anos 26000000 \n",
       "6 Comedy|Romance                          USA  A partir de 18 anos 17000000 \n",
       "  receita  nota_imdb likes_facebook ator_1       ator_2           \n",
       "1 24006726 7.3            0         Bill Murray  Anjelica Huston  \n",
       "2 20999103 7.8        15000         Bill Murray  Meryl Streep     \n",
       "3 59073773 8.1       149000         Bill Murray  Tom Wilkinson    \n",
       "4 52353636 7.6            0         Bill Murray  Anjelica Huston  \n",
       "5  7496522 6.8          826         Woody Allen  Elizabeth Berkley\n",
       "6 16684352 6.3        18000         Ornella Muti Judy Davis       \n",
       "  ator_3                \n",
       "1 Matthew Gray Gubler   \n",
       "2 Helen McCrory         \n",
       "3 F. Murray Abraham     \n",
       "4 Seymour Cassel        \n",
       "5 Peter Gerety          \n",
       "6 Alessandra Mastronardi"
      ]
     },
     "metadata": {},
     "output_type": "display_data"
    }
   ],
   "source": [
    "head(imdb %>% filter(diretor %in% c(\"Woody Allen\", \"Wes Anderson\")))"
   ]
  },
  {
   "cell_type": "markdown",
   "id": "alive-teacher",
   "metadata": {},
   "source": [
    "c)"
   ]
  },
  {
   "cell_type": "code",
   "execution_count": 38,
   "id": "unauthorized-highland",
   "metadata": {},
   "outputs": [
    {
     "data": {
      "text/html": [
       "<table class=\"dataframe\">\n",
       "<caption>A tibble: 6 × 2</caption>\n",
       "<thead>\n",
       "\t<tr><th scope=col>ano</th><th scope=col>titulo</th></tr>\n",
       "\t<tr><th scope=col>&lt;int&gt;</th><th scope=col>&lt;chr&gt;</th></tr>\n",
       "</thead>\n",
       "<tbody>\n",
       "\t<tr><td>2015</td><td>Bridge of Spies                                    </td></tr>\n",
       "\t<tr><td>2012</td><td>Lincoln                                            </td></tr>\n",
       "\t<tr><td>2011</td><td>The Adventures of Tintin                           </td></tr>\n",
       "\t<tr><td>2011</td><td>War Horse                                          </td></tr>\n",
       "\t<tr><td>2008</td><td>Indiana Jones and the Kingdom of the Crystal Skull </td></tr>\n",
       "\t<tr><td>2005</td><td>War of the Worlds                                  </td></tr>\n",
       "</tbody>\n",
       "</table>\n"
      ],
      "text/latex": [
       "A tibble: 6 × 2\n",
       "\\begin{tabular}{ll}\n",
       " ano & titulo\\\\\n",
       " <int> & <chr>\\\\\n",
       "\\hline\n",
       "\t 2015 & Bridge of Spies                                    \\\\\n",
       "\t 2012 & Lincoln                                            \\\\\n",
       "\t 2011 & The Adventures of Tintin                           \\\\\n",
       "\t 2011 & War Horse                                          \\\\\n",
       "\t 2008 & Indiana Jones and the Kingdom of the Crystal Skull \\\\\n",
       "\t 2005 & War of the Worlds                                  \\\\\n",
       "\\end{tabular}\n"
      ],
      "text/markdown": [
       "\n",
       "A tibble: 6 × 2\n",
       "\n",
       "| ano &lt;int&gt; | titulo &lt;chr&gt; |\n",
       "|---|---|\n",
       "| 2015 | Bridge of Spies                                     |\n",
       "| 2012 | Lincoln                                             |\n",
       "| 2011 | The Adventures of Tintin                            |\n",
       "| 2011 | War Horse                                           |\n",
       "| 2008 | Indiana Jones and the Kingdom of the Crystal Skull  |\n",
       "| 2005 | War of the Worlds                                   |\n",
       "\n"
      ],
      "text/plain": [
       "  ano  titulo                                             \n",
       "1 2015 Bridge of Spies                                    \n",
       "2 2012 Lincoln                                            \n",
       "3 2011 The Adventures of Tintin                           \n",
       "4 2011 War Horse                                          \n",
       "5 2008 Indiana Jones and the Kingdom of the Crystal Skull \n",
       "6 2005 War of the Worlds                                  "
      ]
     },
     "metadata": {},
     "output_type": "display_data"
    }
   ],
   "source": [
    "head(imdb %>% filter(diretor == \"Steven Spielberg\") %>% select(ano, titulo) %>% arrange(desc(ano)))"
   ]
  },
  {
   "cell_type": "markdown",
   "id": "junior-moderator",
   "metadata": {},
   "source": [
    "d)"
   ]
  },
  {
   "cell_type": "code",
   "execution_count": 40,
   "id": "wired-orientation",
   "metadata": {},
   "outputs": [
    {
     "data": {
      "text/html": [
       "<table class=\"dataframe\">\n",
       "<caption>A tibble: 6 × 15</caption>\n",
       "<thead>\n",
       "\t<tr><th scope=col>titulo</th><th scope=col>ano</th><th scope=col>diretor</th><th scope=col>duracao</th><th scope=col>cor</th><th scope=col>generos</th><th scope=col>pais</th><th scope=col>classificacao</th><th scope=col>orcamento</th><th scope=col>receita</th><th scope=col>nota_imdb</th><th scope=col>likes_facebook</th><th scope=col>ator_1</th><th scope=col>ator_2</th><th scope=col>ator_3</th></tr>\n",
       "\t<tr><th scope=col>&lt;chr&gt;</th><th scope=col>&lt;int&gt;</th><th scope=col>&lt;chr&gt;</th><th scope=col>&lt;int&gt;</th><th scope=col>&lt;chr&gt;</th><th scope=col>&lt;chr&gt;</th><th scope=col>&lt;chr&gt;</th><th scope=col>&lt;chr&gt;</th><th scope=col>&lt;int&gt;</th><th scope=col>&lt;int&gt;</th><th scope=col>&lt;dbl&gt;</th><th scope=col>&lt;int&gt;</th><th scope=col>&lt;chr&gt;</th><th scope=col>&lt;chr&gt;</th><th scope=col>&lt;chr&gt;</th></tr>\n",
       "</thead>\n",
       "<tbody>\n",
       "\t<tr><td>Avatar                                   </td><td>2009</td><td>James Cameron    </td><td>178</td><td>Color</td><td>Action|Adventure|Fantasy|Sci-Fi                          </td><td>USA</td><td>A partir de 13 anos</td><td>237000000</td><td>760505847</td><td>7.9</td><td> 33000</td><td>CCH Pounder </td><td>Joel David Moore</td><td>Wes Studi           </td></tr>\n",
       "\t<tr><td>Pirates of the Caribbean: At World's End </td><td>2007</td><td>Gore Verbinski   </td><td>169</td><td>Color</td><td>Action|Adventure|Fantasy                                 </td><td>USA</td><td>A partir de 13 anos</td><td>300000000</td><td>309404152</td><td>7.1</td><td>     0</td><td>Johnny Depp </td><td>Orlando Bloom   </td><td>Jack Davenport      </td></tr>\n",
       "\t<tr><td>The Dark Knight Rises                    </td><td>2012</td><td>Christopher Nolan</td><td>164</td><td>Color</td><td>Action|Thriller                                          </td><td>USA</td><td>A partir de 13 anos</td><td>250000000</td><td>448130642</td><td>8.5</td><td>164000</td><td>Tom Hardy   </td><td>Christian Bale  </td><td>Joseph Gordon-Levitt</td></tr>\n",
       "\t<tr><td>John Carter                              </td><td>2012</td><td>Andrew Stanton   </td><td>132</td><td>Color</td><td>Action|Adventure|Sci-Fi                                  </td><td>USA</td><td>A partir de 13 anos</td><td>263700000</td><td> 73058679</td><td>6.6</td><td> 24000</td><td>Daryl Sabara</td><td>Samantha Morton </td><td>Polly Walker        </td></tr>\n",
       "\t<tr><td>Spider-Man 3                             </td><td>2007</td><td>Sam Raimi        </td><td>156</td><td>Color</td><td>Action|Adventure|Romance                                 </td><td>USA</td><td>A partir de 13 anos</td><td>258000000</td><td>336530303</td><td>6.2</td><td>     0</td><td>J.K. Simmons</td><td>James Franco    </td><td>Kirsten Dunst       </td></tr>\n",
       "\t<tr><td>Tangled                                  </td><td>2010</td><td>Nathan Greno     </td><td>100</td><td>Color</td><td>Adventure|Animation|Comedy|Family|Fantasy|Musical|Romance</td><td>USA</td><td>Livre              </td><td>260000000</td><td>200807262</td><td>7.8</td><td> 29000</td><td>Brad Garrett</td><td>Donna Murphy    </td><td>M.C. Gainey         </td></tr>\n",
       "</tbody>\n",
       "</table>\n"
      ],
      "text/latex": [
       "A tibble: 6 × 15\n",
       "\\begin{tabular}{lllllllllllllll}\n",
       " titulo & ano & diretor & duracao & cor & generos & pais & classificacao & orcamento & receita & nota\\_imdb & likes\\_facebook & ator\\_1 & ator\\_2 & ator\\_3\\\\\n",
       " <chr> & <int> & <chr> & <int> & <chr> & <chr> & <chr> & <chr> & <int> & <int> & <dbl> & <int> & <chr> & <chr> & <chr>\\\\\n",
       "\\hline\n",
       "\t Avatar                                    & 2009 & James Cameron     & 178 & Color & Action\\textbar{}Adventure\\textbar{}Fantasy\\textbar{}Sci-Fi                           & USA & A partir de 13 anos & 237000000 & 760505847 & 7.9 &  33000 & CCH Pounder  & Joel David Moore & Wes Studi           \\\\\n",
       "\t Pirates of the Caribbean: At World's End  & 2007 & Gore Verbinski    & 169 & Color & Action\\textbar{}Adventure\\textbar{}Fantasy                                  & USA & A partir de 13 anos & 300000000 & 309404152 & 7.1 &      0 & Johnny Depp  & Orlando Bloom    & Jack Davenport      \\\\\n",
       "\t The Dark Knight Rises                     & 2012 & Christopher Nolan & 164 & Color & Action\\textbar{}Thriller                                           & USA & A partir de 13 anos & 250000000 & 448130642 & 8.5 & 164000 & Tom Hardy    & Christian Bale   & Joseph Gordon-Levitt\\\\\n",
       "\t John Carter                               & 2012 & Andrew Stanton    & 132 & Color & Action\\textbar{}Adventure\\textbar{}Sci-Fi                                   & USA & A partir de 13 anos & 263700000 &  73058679 & 6.6 &  24000 & Daryl Sabara & Samantha Morton  & Polly Walker        \\\\\n",
       "\t Spider-Man 3                              & 2007 & Sam Raimi         & 156 & Color & Action\\textbar{}Adventure\\textbar{}Romance                                  & USA & A partir de 13 anos & 258000000 & 336530303 & 6.2 &      0 & J.K. Simmons & James Franco     & Kirsten Dunst       \\\\\n",
       "\t Tangled                                   & 2010 & Nathan Greno      & 100 & Color & Adventure\\textbar{}Animation\\textbar{}Comedy\\textbar{}Family\\textbar{}Fantasy\\textbar{}Musical\\textbar{}Romance & USA & Livre               & 260000000 & 200807262 & 7.8 &  29000 & Brad Garrett & Donna Murphy     & M.C. Gainey         \\\\\n",
       "\\end{tabular}\n"
      ],
      "text/markdown": [
       "\n",
       "A tibble: 6 × 15\n",
       "\n",
       "| titulo &lt;chr&gt; | ano &lt;int&gt; | diretor &lt;chr&gt; | duracao &lt;int&gt; | cor &lt;chr&gt; | generos &lt;chr&gt; | pais &lt;chr&gt; | classificacao &lt;chr&gt; | orcamento &lt;int&gt; | receita &lt;int&gt; | nota_imdb &lt;dbl&gt; | likes_facebook &lt;int&gt; | ator_1 &lt;chr&gt; | ator_2 &lt;chr&gt; | ator_3 &lt;chr&gt; |\n",
       "|---|---|---|---|---|---|---|---|---|---|---|---|---|---|---|\n",
       "| Avatar                                    | 2009 | James Cameron     | 178 | Color | Action|Adventure|Fantasy|Sci-Fi                           | USA | A partir de 13 anos | 237000000 | 760505847 | 7.9 |  33000 | CCH Pounder  | Joel David Moore | Wes Studi            |\n",
       "| Pirates of the Caribbean: At World's End  | 2007 | Gore Verbinski    | 169 | Color | Action|Adventure|Fantasy                                  | USA | A partir de 13 anos | 300000000 | 309404152 | 7.1 |      0 | Johnny Depp  | Orlando Bloom    | Jack Davenport       |\n",
       "| The Dark Knight Rises                     | 2012 | Christopher Nolan | 164 | Color | Action|Thriller                                           | USA | A partir de 13 anos | 250000000 | 448130642 | 8.5 | 164000 | Tom Hardy    | Christian Bale   | Joseph Gordon-Levitt |\n",
       "| John Carter                               | 2012 | Andrew Stanton    | 132 | Color | Action|Adventure|Sci-Fi                                   | USA | A partir de 13 anos | 263700000 |  73058679 | 6.6 |  24000 | Daryl Sabara | Samantha Morton  | Polly Walker         |\n",
       "| Spider-Man 3                              | 2007 | Sam Raimi         | 156 | Color | Action|Adventure|Romance                                  | USA | A partir de 13 anos | 258000000 | 336530303 | 6.2 |      0 | J.K. Simmons | James Franco     | Kirsten Dunst        |\n",
       "| Tangled                                   | 2010 | Nathan Greno      | 100 | Color | Adventure|Animation|Comedy|Family|Fantasy|Musical|Romance | USA | Livre               | 260000000 | 200807262 | 7.8 |  29000 | Brad Garrett | Donna Murphy     | M.C. Gainey          |\n",
       "\n"
      ],
      "text/plain": [
       "  titulo                                    ano  diretor           duracao\n",
       "1 Avatar                                    2009 James Cameron     178    \n",
       "2 Pirates of the Caribbean: At World's End  2007 Gore Verbinski    169    \n",
       "3 The Dark Knight Rises                     2012 Christopher Nolan 164    \n",
       "4 John Carter                               2012 Andrew Stanton    132    \n",
       "5 Spider-Man 3                              2007 Sam Raimi         156    \n",
       "6 Tangled                                   2010 Nathan Greno      100    \n",
       "  cor   generos                                                   pais\n",
       "1 Color Action|Adventure|Fantasy|Sci-Fi                           USA \n",
       "2 Color Action|Adventure|Fantasy                                  USA \n",
       "3 Color Action|Thriller                                           USA \n",
       "4 Color Action|Adventure|Sci-Fi                                   USA \n",
       "5 Color Action|Adventure|Romance                                  USA \n",
       "6 Color Adventure|Animation|Comedy|Family|Fantasy|Musical|Romance USA \n",
       "  classificacao       orcamento receita   nota_imdb likes_facebook ator_1      \n",
       "1 A partir de 13 anos 237000000 760505847 7.9        33000         CCH Pounder \n",
       "2 A partir de 13 anos 300000000 309404152 7.1            0         Johnny Depp \n",
       "3 A partir de 13 anos 250000000 448130642 8.5       164000         Tom Hardy   \n",
       "4 A partir de 13 anos 263700000  73058679 6.6        24000         Daryl Sabara\n",
       "5 A partir de 13 anos 258000000 336530303 6.2            0         J.K. Simmons\n",
       "6 Livre               260000000 200807262 7.8        29000         Brad Garrett\n",
       "  ator_2           ator_3              \n",
       "1 Joel David Moore Wes Studi           \n",
       "2 Orlando Bloom    Jack Davenport      \n",
       "3 Christian Bale   Joseph Gordon-Levitt\n",
       "4 Samantha Morton  Polly Walker        \n",
       "5 James Franco     Kirsten Dunst       \n",
       "6 Donna Murphy     M.C. Gainey         "
      ]
     },
     "metadata": {},
     "output_type": "display_data"
    }
   ],
   "source": [
    "suppressPackageStartupMessages(library(\"stringr\"))\n",
    "\n",
    "head(imdb %>% filter(str_detect(generos, \"Action\") | str_detect(generos, \"Comedy\")))"
   ]
  },
  {
   "cell_type": "markdown",
   "id": "cross-lucas",
   "metadata": {},
   "source": [
    "e)"
   ]
  },
  {
   "cell_type": "code",
   "execution_count": 41,
   "id": "favorite-space",
   "metadata": {},
   "outputs": [
    {
     "data": {
      "text/html": [
       "<table class=\"dataframe\">\n",
       "<caption>A tibble: 1 × 15</caption>\n",
       "<thead>\n",
       "\t<tr><th scope=col>titulo</th><th scope=col>ano</th><th scope=col>diretor</th><th scope=col>duracao</th><th scope=col>cor</th><th scope=col>generos</th><th scope=col>pais</th><th scope=col>classificacao</th><th scope=col>orcamento</th><th scope=col>receita</th><th scope=col>nota_imdb</th><th scope=col>likes_facebook</th><th scope=col>ator_1</th><th scope=col>ator_2</th><th scope=col>ator_3</th></tr>\n",
       "\t<tr><th scope=col>&lt;chr&gt;</th><th scope=col>&lt;int&gt;</th><th scope=col>&lt;chr&gt;</th><th scope=col>&lt;int&gt;</th><th scope=col>&lt;chr&gt;</th><th scope=col>&lt;chr&gt;</th><th scope=col>&lt;chr&gt;</th><th scope=col>&lt;chr&gt;</th><th scope=col>&lt;int&gt;</th><th scope=col>&lt;int&gt;</th><th scope=col>&lt;dbl&gt;</th><th scope=col>&lt;int&gt;</th><th scope=col>&lt;chr&gt;</th><th scope=col>&lt;chr&gt;</th><th scope=col>&lt;chr&gt;</th></tr>\n",
       "</thead>\n",
       "<tbody>\n",
       "\t<tr><td>Deadpool </td><td>2016</td><td>Tim Miller</td><td>108</td><td>Color</td><td>Action|Adventure|Comedy|Romance|Sci-Fi</td><td>USA</td><td>A partir de 18 anos</td><td>58000000</td><td>363024263</td><td>8.1</td><td>117000</td><td>Ryan Reynolds</td><td>Ed Skrein</td><td>Stefan Kapicic</td></tr>\n",
       "</tbody>\n",
       "</table>\n"
      ],
      "text/latex": [
       "A tibble: 1 × 15\n",
       "\\begin{tabular}{lllllllllllllll}\n",
       " titulo & ano & diretor & duracao & cor & generos & pais & classificacao & orcamento & receita & nota\\_imdb & likes\\_facebook & ator\\_1 & ator\\_2 & ator\\_3\\\\\n",
       " <chr> & <int> & <chr> & <int> & <chr> & <chr> & <chr> & <chr> & <int> & <int> & <dbl> & <int> & <chr> & <chr> & <chr>\\\\\n",
       "\\hline\n",
       "\t Deadpool  & 2016 & Tim Miller & 108 & Color & Action\\textbar{}Adventure\\textbar{}Comedy\\textbar{}Romance\\textbar{}Sci-Fi & USA & A partir de 18 anos & 58000000 & 363024263 & 8.1 & 117000 & Ryan Reynolds & Ed Skrein & Stefan Kapicic\\\\\n",
       "\\end{tabular}\n"
      ],
      "text/markdown": [
       "\n",
       "A tibble: 1 × 15\n",
       "\n",
       "| titulo &lt;chr&gt; | ano &lt;int&gt; | diretor &lt;chr&gt; | duracao &lt;int&gt; | cor &lt;chr&gt; | generos &lt;chr&gt; | pais &lt;chr&gt; | classificacao &lt;chr&gt; | orcamento &lt;int&gt; | receita &lt;int&gt; | nota_imdb &lt;dbl&gt; | likes_facebook &lt;int&gt; | ator_1 &lt;chr&gt; | ator_2 &lt;chr&gt; | ator_3 &lt;chr&gt; |\n",
       "|---|---|---|---|---|---|---|---|---|---|---|---|---|---|---|\n",
       "| Deadpool  | 2016 | Tim Miller | 108 | Color | Action|Adventure|Comedy|Romance|Sci-Fi | USA | A partir de 18 anos | 58000000 | 363024263 | 8.1 | 117000 | Ryan Reynolds | Ed Skrein | Stefan Kapicic |\n",
       "\n"
      ],
      "text/plain": [
       "  titulo    ano  diretor    duracao cor  \n",
       "1 Deadpool  2016 Tim Miller 108     Color\n",
       "  generos                                pais classificacao       orcamento\n",
       "1 Action|Adventure|Comedy|Romance|Sci-Fi USA  A partir de 18 anos 58000000 \n",
       "  receita   nota_imdb likes_facebook ator_1        ator_2    ator_3        \n",
       "1 363024263 8.1       117000         Ryan Reynolds Ed Skrein Stefan Kapicic"
      ]
     },
     "metadata": {},
     "output_type": "display_data"
    }
   ],
   "source": [
    "head(imdb %>% filter(str_detect(generos, \"Action\") & str_detect(generos, \"Comedy\") & \n",
    "    nota_imdb > 8))"
   ]
  },
  {
   "cell_type": "markdown",
   "id": "ordered-collar",
   "metadata": {},
   "source": [
    "f)"
   ]
  },
  {
   "cell_type": "code",
   "execution_count": 44,
   "id": "chinese-subcommittee",
   "metadata": {},
   "outputs": [
    {
     "data": {
      "text/html": [
       "<table class=\"dataframe\">\n",
       "<caption>A tibble: 6 × 15</caption>\n",
       "<thead>\n",
       "\t<tr><th scope=col>titulo</th><th scope=col>ano</th><th scope=col>diretor</th><th scope=col>duracao</th><th scope=col>cor</th><th scope=col>generos</th><th scope=col>pais</th><th scope=col>classificacao</th><th scope=col>orcamento</th><th scope=col>receita</th><th scope=col>nota_imdb</th><th scope=col>likes_facebook</th><th scope=col>ator_1</th><th scope=col>ator_2</th><th scope=col>ator_3</th></tr>\n",
       "\t<tr><th scope=col>&lt;chr&gt;</th><th scope=col>&lt;int&gt;</th><th scope=col>&lt;chr&gt;</th><th scope=col>&lt;int&gt;</th><th scope=col>&lt;chr&gt;</th><th scope=col>&lt;chr&gt;</th><th scope=col>&lt;chr&gt;</th><th scope=col>&lt;chr&gt;</th><th scope=col>&lt;int&gt;</th><th scope=col>&lt;int&gt;</th><th scope=col>&lt;dbl&gt;</th><th scope=col>&lt;int&gt;</th><th scope=col>&lt;chr&gt;</th><th scope=col>&lt;chr&gt;</th><th scope=col>&lt;chr&gt;</th></tr>\n",
       "</thead>\n",
       "<tbody>\n",
       "\t<tr><td>The A-Team    </td><td>  NA</td><td>NA               </td><td> 60</td><td>Color          </td><td>Action|Adventure|Crime                      </td><td>USA</td><td>Outros             </td><td>NA</td><td>NA</td><td>7.6</td><td>    0</td><td>George Peppard      </td><td>Dirk Benedict  </td><td>Dwight Schultz</td></tr>\n",
       "\t<tr><td>Ben-Hur       </td><td>2016</td><td>Timur Bekmambetov</td><td>141</td><td>Color          </td><td>Adventure|Drama|History                     </td><td>USA</td><td>A partir de 13 anos</td><td>NA</td><td>NA</td><td>6.1</td><td>    0</td><td>Morgan Freeman      </td><td>Ayelet Zurer   </td><td>Moises Arias  </td></tr>\n",
       "\t<tr><td>Hannibal      </td><td>  NA</td><td>NA               </td><td> 44</td><td>Color          </td><td>Crime|Drama|Horror|Mystery|Thriller         </td><td>USA</td><td>Outros             </td><td>NA</td><td>NA</td><td>8.6</td><td>59000</td><td>Caroline Dhavernas  </td><td>Scott Thompson </td><td>Hettienne Park</td></tr>\n",
       "\t<tr><td>All That Jazz </td><td>1979</td><td>Bob Fosse        </td><td>123</td><td>Color          </td><td>Comedy|Drama|Music|Musical                  </td><td>USA</td><td>A partir de 18 anos</td><td>NA</td><td>NA</td><td>7.8</td><td>    0</td><td>Roy Scheider        </td><td>Ben Vereen     </td><td>Max Wright    </td></tr>\n",
       "\t<tr><td>Daredevil     </td><td>  NA</td><td>NA               </td><td> 54</td><td>NA             </td><td>Action|Adventure|Crime|Drama|Sci-Fi|Thriller</td><td>USA</td><td>Outros             </td><td>NA</td><td>NA</td><td>8.8</td><td>55000</td><td>Elden Henson        </td><td>Royce Johnson  </td><td>Charlie Cox   </td></tr>\n",
       "\t<tr><td>Bewitched     </td><td>  NA</td><td>NA               </td><td> 25</td><td>Black and White</td><td>Comedy|Family|Fantasy                       </td><td>USA</td><td>Outros             </td><td>NA</td><td>NA</td><td>7.6</td><td>    0</td><td>Elizabeth Montgomery</td><td>Agnes Moorehead</td><td>Dick York     </td></tr>\n",
       "</tbody>\n",
       "</table>\n"
      ],
      "text/latex": [
       "A tibble: 6 × 15\n",
       "\\begin{tabular}{lllllllllllllll}\n",
       " titulo & ano & diretor & duracao & cor & generos & pais & classificacao & orcamento & receita & nota\\_imdb & likes\\_facebook & ator\\_1 & ator\\_2 & ator\\_3\\\\\n",
       " <chr> & <int> & <chr> & <int> & <chr> & <chr> & <chr> & <chr> & <int> & <int> & <dbl> & <int> & <chr> & <chr> & <chr>\\\\\n",
       "\\hline\n",
       "\t The A-Team     &   NA & NA                &  60 & Color           & Action\\textbar{}Adventure\\textbar{}Crime                       & USA & Outros              & NA & NA & 7.6 &     0 & George Peppard       & Dirk Benedict   & Dwight Schultz\\\\\n",
       "\t Ben-Hur        & 2016 & Timur Bekmambetov & 141 & Color           & Adventure\\textbar{}Drama\\textbar{}History                      & USA & A partir de 13 anos & NA & NA & 6.1 &     0 & Morgan Freeman       & Ayelet Zurer    & Moises Arias  \\\\\n",
       "\t Hannibal       &   NA & NA                &  44 & Color           & Crime\\textbar{}Drama\\textbar{}Horror\\textbar{}Mystery\\textbar{}Thriller          & USA & Outros              & NA & NA & 8.6 & 59000 & Caroline Dhavernas   & Scott Thompson  & Hettienne Park\\\\\n",
       "\t All That Jazz  & 1979 & Bob Fosse         & 123 & Color           & Comedy\\textbar{}Drama\\textbar{}Music\\textbar{}Musical                   & USA & A partir de 18 anos & NA & NA & 7.8 &     0 & Roy Scheider         & Ben Vereen      & Max Wright    \\\\\n",
       "\t Daredevil      &   NA & NA                &  54 & NA              & Action\\textbar{}Adventure\\textbar{}Crime\\textbar{}Drama\\textbar{}Sci-Fi\\textbar{}Thriller & USA & Outros              & NA & NA & 8.8 & 55000 & Elden Henson         & Royce Johnson   & Charlie Cox   \\\\\n",
       "\t Bewitched      &   NA & NA                &  25 & Black and White & Comedy\\textbar{}Family\\textbar{}Fantasy                        & USA & Outros              & NA & NA & 7.6 &     0 & Elizabeth Montgomery & Agnes Moorehead & Dick York     \\\\\n",
       "\\end{tabular}\n"
      ],
      "text/markdown": [
       "\n",
       "A tibble: 6 × 15\n",
       "\n",
       "| titulo &lt;chr&gt; | ano &lt;int&gt; | diretor &lt;chr&gt; | duracao &lt;int&gt; | cor &lt;chr&gt; | generos &lt;chr&gt; | pais &lt;chr&gt; | classificacao &lt;chr&gt; | orcamento &lt;int&gt; | receita &lt;int&gt; | nota_imdb &lt;dbl&gt; | likes_facebook &lt;int&gt; | ator_1 &lt;chr&gt; | ator_2 &lt;chr&gt; | ator_3 &lt;chr&gt; |\n",
       "|---|---|---|---|---|---|---|---|---|---|---|---|---|---|---|\n",
       "| The A-Team     |   NA | NA                |  60 | Color           | Action|Adventure|Crime                       | USA | Outros              | NA | NA | 7.6 |     0 | George Peppard       | Dirk Benedict   | Dwight Schultz |\n",
       "| Ben-Hur        | 2016 | Timur Bekmambetov | 141 | Color           | Adventure|Drama|History                      | USA | A partir de 13 anos | NA | NA | 6.1 |     0 | Morgan Freeman       | Ayelet Zurer    | Moises Arias   |\n",
       "| Hannibal       |   NA | NA                |  44 | Color           | Crime|Drama|Horror|Mystery|Thriller          | USA | Outros              | NA | NA | 8.6 | 59000 | Caroline Dhavernas   | Scott Thompson  | Hettienne Park |\n",
       "| All That Jazz  | 1979 | Bob Fosse         | 123 | Color           | Comedy|Drama|Music|Musical                   | USA | A partir de 18 anos | NA | NA | 7.8 |     0 | Roy Scheider         | Ben Vereen      | Max Wright     |\n",
       "| Daredevil      |   NA | NA                |  54 | NA              | Action|Adventure|Crime|Drama|Sci-Fi|Thriller | USA | Outros              | NA | NA | 8.8 | 55000 | Elden Henson         | Royce Johnson   | Charlie Cox    |\n",
       "| Bewitched      |   NA | NA                |  25 | Black and White | Comedy|Family|Fantasy                        | USA | Outros              | NA | NA | 7.6 |     0 | Elizabeth Montgomery | Agnes Moorehead | Dick York      |\n",
       "\n"
      ],
      "text/plain": [
       "  titulo         ano  diretor           duracao cor            \n",
       "1 The A-Team       NA NA                 60     Color          \n",
       "2 Ben-Hur        2016 Timur Bekmambetov 141     Color          \n",
       "3 Hannibal         NA NA                 44     Color          \n",
       "4 All That Jazz  1979 Bob Fosse         123     Color          \n",
       "5 Daredevil        NA NA                 54     NA             \n",
       "6 Bewitched        NA NA                 25     Black and White\n",
       "  generos                                      pais classificacao      \n",
       "1 Action|Adventure|Crime                       USA  Outros             \n",
       "2 Adventure|Drama|History                      USA  A partir de 13 anos\n",
       "3 Crime|Drama|Horror|Mystery|Thriller          USA  Outros             \n",
       "4 Comedy|Drama|Music|Musical                   USA  A partir de 18 anos\n",
       "5 Action|Adventure|Crime|Drama|Sci-Fi|Thriller USA  Outros             \n",
       "6 Comedy|Family|Fantasy                        USA  Outros             \n",
       "  orcamento receita nota_imdb likes_facebook ator_1              \n",
       "1 NA        NA      7.6           0          George Peppard      \n",
       "2 NA        NA      6.1           0          Morgan Freeman      \n",
       "3 NA        NA      8.6       59000          Caroline Dhavernas  \n",
       "4 NA        NA      7.8           0          Roy Scheider        \n",
       "5 NA        NA      8.8       55000          Elden Henson        \n",
       "6 NA        NA      7.6           0          Elizabeth Montgomery\n",
       "  ator_2          ator_3        \n",
       "1 Dirk Benedict   Dwight Schultz\n",
       "2 Ayelet Zurer    Moises Arias  \n",
       "3 Scott Thompson  Hettienne Park\n",
       "4 Ben Vereen      Max Wright    \n",
       "5 Royce Johnson   Charlie Cox   \n",
       "6 Agnes Moorehead Dick York     "
      ]
     },
     "metadata": {},
     "output_type": "display_data"
    }
   ],
   "source": [
    "head(imdb %>% filter(is.na(receita) & is.na(orcamento)))"
   ]
  },
  {
   "cell_type": "markdown",
   "id": "devoted-trinity",
   "metadata": {},
   "source": [
    "## Exercícios 7.2.5\n",
    "\n",
    "1)"
   ]
  },
  {
   "cell_type": "code",
   "execution_count": 52,
   "id": "expensive-myrtle",
   "metadata": {},
   "outputs": [
    {
     "data": {
      "text/html": [
       "<table class=\"dataframe\">\n",
       "<caption>A tibble: 6 × 16</caption>\n",
       "<thead>\n",
       "\t<tr><th scope=col>titulo</th><th scope=col>ano</th><th scope=col>diretor</th><th scope=col>duracao</th><th scope=col>cor</th><th scope=col>generos</th><th scope=col>pais</th><th scope=col>classificacao</th><th scope=col>orcamento</th><th scope=col>receita</th><th scope=col>nota_imdb</th><th scope=col>likes_facebook</th><th scope=col>ator_1</th><th scope=col>ator_2</th><th scope=col>ator_3</th><th scope=col>prejuizo</th></tr>\n",
       "\t<tr><th scope=col>&lt;chr&gt;</th><th scope=col>&lt;int&gt;</th><th scope=col>&lt;chr&gt;</th><th scope=col>&lt;int&gt;</th><th scope=col>&lt;chr&gt;</th><th scope=col>&lt;chr&gt;</th><th scope=col>&lt;chr&gt;</th><th scope=col>&lt;chr&gt;</th><th scope=col>&lt;int&gt;</th><th scope=col>&lt;int&gt;</th><th scope=col>&lt;dbl&gt;</th><th scope=col>&lt;int&gt;</th><th scope=col>&lt;chr&gt;</th><th scope=col>&lt;chr&gt;</th><th scope=col>&lt;chr&gt;</th><th scope=col>&lt;int&gt;</th></tr>\n",
       "</thead>\n",
       "<tbody>\n",
       "\t<tr><td>The Horse Boy  </td><td>2009</td><td>Michel Orion Scott   </td><td> 93</td><td>Color</td><td>Documentary         </td><td>USA</td><td>Outros             </td><td> 160000</td><td> 155984</td><td>7.4</td><td>  0</td><td>Temple Grandin     </td><td>Rowan Isaacson    </td><td>Simon Baron-Cohen</td><td> 4016</td></tr>\n",
       "\t<tr><td>Newlyweds      </td><td>2011</td><td>Edward Burns         </td><td> 95</td><td>Color</td><td>Comedy|Drama        </td><td>USA</td><td>Outros             </td><td>   9000</td><td>   4584</td><td>6.4</td><td>413</td><td>Kerry Bishé        </td><td>Caitlin FitzGerald</td><td>Daniella Pineda  </td><td> 4416</td></tr>\n",
       "\t<tr><td>Shortbus       </td><td>2006</td><td>John Cameron Mitchell</td><td>101</td><td>Color</td><td>Comedy|Drama|Romance</td><td>USA</td><td>Outros             </td><td>2000000</td><td>1984378</td><td>6.5</td><td>  0</td><td>Sook-Yin Lee       </td><td>Peter Stickles    </td><td>Raphael Barker   </td><td>15622</td></tr>\n",
       "\t<tr><td>Slam           </td><td>1998</td><td>Marc Levin           </td><td>100</td><td>Color</td><td>Drama               </td><td>USA</td><td>A partir de 18 anos</td><td>1000000</td><td> 982214</td><td>7.2</td><td>603</td><td>Sonja Sohn         </td><td>Saul Williams     </td><td>Bonz Malone      </td><td>17786</td></tr>\n",
       "\t<tr><td>Pink Narcissus </td><td>1971</td><td>James Bidgood        </td><td> 65</td><td>Color</td><td>Drama|Fantasy       </td><td>USA</td><td>Outros             </td><td>  27000</td><td>   8231</td><td>6.7</td><td> 85</td><td>Don Brooks         </td><td>Bobby Kendall     </td><td>NA               </td><td>18769</td></tr>\n",
       "\t<tr><td>The FP         </td><td>2011</td><td>Brandon Trost        </td><td> 82</td><td>Color</td><td>Comedy              </td><td>USA</td><td>A partir de 18 anos</td><td>  60000</td><td>  40557</td><td>5.6</td><td>  0</td><td>Clifton Collins Jr.</td><td>Sean Whalen       </td><td>James DeBello    </td><td>19443</td></tr>\n",
       "</tbody>\n",
       "</table>\n"
      ],
      "text/latex": [
       "A tibble: 6 × 16\n",
       "\\begin{tabular}{llllllllllllllll}\n",
       " titulo & ano & diretor & duracao & cor & generos & pais & classificacao & orcamento & receita & nota\\_imdb & likes\\_facebook & ator\\_1 & ator\\_2 & ator\\_3 & prejuizo\\\\\n",
       " <chr> & <int> & <chr> & <int> & <chr> & <chr> & <chr> & <chr> & <int> & <int> & <dbl> & <int> & <chr> & <chr> & <chr> & <int>\\\\\n",
       "\\hline\n",
       "\t The Horse Boy   & 2009 & Michel Orion Scott    &  93 & Color & Documentary          & USA & Outros              &  160000 &  155984 & 7.4 &   0 & Temple Grandin      & Rowan Isaacson     & Simon Baron-Cohen &  4016\\\\\n",
       "\t Newlyweds       & 2011 & Edward Burns          &  95 & Color & Comedy\\textbar{}Drama         & USA & Outros              &    9000 &    4584 & 6.4 & 413 & Kerry Bishé         & Caitlin FitzGerald & Daniella Pineda   &  4416\\\\\n",
       "\t Shortbus        & 2006 & John Cameron Mitchell & 101 & Color & Comedy\\textbar{}Drama\\textbar{}Romance & USA & Outros              & 2000000 & 1984378 & 6.5 &   0 & Sook-Yin Lee        & Peter Stickles     & Raphael Barker    & 15622\\\\\n",
       "\t Slam            & 1998 & Marc Levin            & 100 & Color & Drama                & USA & A partir de 18 anos & 1000000 &  982214 & 7.2 & 603 & Sonja Sohn          & Saul Williams      & Bonz Malone       & 17786\\\\\n",
       "\t Pink Narcissus  & 1971 & James Bidgood         &  65 & Color & Drama\\textbar{}Fantasy        & USA & Outros              &   27000 &    8231 & 6.7 &  85 & Don Brooks          & Bobby Kendall      & NA                & 18769\\\\\n",
       "\t The FP          & 2011 & Brandon Trost         &  82 & Color & Comedy               & USA & A partir de 18 anos &   60000 &   40557 & 5.6 &   0 & Clifton Collins Jr. & Sean Whalen        & James DeBello     & 19443\\\\\n",
       "\\end{tabular}\n"
      ],
      "text/markdown": [
       "\n",
       "A tibble: 6 × 16\n",
       "\n",
       "| titulo &lt;chr&gt; | ano &lt;int&gt; | diretor &lt;chr&gt; | duracao &lt;int&gt; | cor &lt;chr&gt; | generos &lt;chr&gt; | pais &lt;chr&gt; | classificacao &lt;chr&gt; | orcamento &lt;int&gt; | receita &lt;int&gt; | nota_imdb &lt;dbl&gt; | likes_facebook &lt;int&gt; | ator_1 &lt;chr&gt; | ator_2 &lt;chr&gt; | ator_3 &lt;chr&gt; | prejuizo &lt;int&gt; |\n",
       "|---|---|---|---|---|---|---|---|---|---|---|---|---|---|---|---|\n",
       "| The Horse Boy   | 2009 | Michel Orion Scott    |  93 | Color | Documentary          | USA | Outros              |  160000 |  155984 | 7.4 |   0 | Temple Grandin      | Rowan Isaacson     | Simon Baron-Cohen |  4016 |\n",
       "| Newlyweds       | 2011 | Edward Burns          |  95 | Color | Comedy|Drama         | USA | Outros              |    9000 |    4584 | 6.4 | 413 | Kerry Bishé         | Caitlin FitzGerald | Daniella Pineda   |  4416 |\n",
       "| Shortbus        | 2006 | John Cameron Mitchell | 101 | Color | Comedy|Drama|Romance | USA | Outros              | 2000000 | 1984378 | 6.5 |   0 | Sook-Yin Lee        | Peter Stickles     | Raphael Barker    | 15622 |\n",
       "| Slam            | 1998 | Marc Levin            | 100 | Color | Drama                | USA | A partir de 18 anos | 1000000 |  982214 | 7.2 | 603 | Sonja Sohn          | Saul Williams      | Bonz Malone       | 17786 |\n",
       "| Pink Narcissus  | 1971 | James Bidgood         |  65 | Color | Drama|Fantasy        | USA | Outros              |   27000 |    8231 | 6.7 |  85 | Don Brooks          | Bobby Kendall      | NA                | 18769 |\n",
       "| The FP          | 2011 | Brandon Trost         |  82 | Color | Comedy               | USA | A partir de 18 anos |   60000 |   40557 | 5.6 |   0 | Clifton Collins Jr. | Sean Whalen        | James DeBello     | 19443 |\n",
       "\n"
      ],
      "text/plain": [
       "  titulo          ano  diretor               duracao cor   generos             \n",
       "1 The Horse Boy   2009 Michel Orion Scott     93     Color Documentary         \n",
       "2 Newlyweds       2011 Edward Burns           95     Color Comedy|Drama        \n",
       "3 Shortbus        2006 John Cameron Mitchell 101     Color Comedy|Drama|Romance\n",
       "4 Slam            1998 Marc Levin            100     Color Drama               \n",
       "5 Pink Narcissus  1971 James Bidgood          65     Color Drama|Fantasy       \n",
       "6 The FP          2011 Brandon Trost          82     Color Comedy              \n",
       "  pais classificacao       orcamento receita nota_imdb likes_facebook\n",
       "1 USA  Outros               160000    155984 7.4         0           \n",
       "2 USA  Outros                 9000      4584 6.4       413           \n",
       "3 USA  Outros              2000000   1984378 6.5         0           \n",
       "4 USA  A partir de 18 anos 1000000    982214 7.2       603           \n",
       "5 USA  Outros                27000      8231 6.7        85           \n",
       "6 USA  A partir de 18 anos   60000     40557 5.6         0           \n",
       "  ator_1              ator_2             ator_3            prejuizo\n",
       "1 Temple Grandin      Rowan Isaacson     Simon Baron-Cohen  4016   \n",
       "2 Kerry Bishé         Caitlin FitzGerald Daniella Pineda    4416   \n",
       "3 Sook-Yin Lee        Peter Stickles     Raphael Barker    15622   \n",
       "4 Sonja Sohn          Saul Williams      Bonz Malone       17786   \n",
       "5 Don Brooks          Bobby Kendall      NA                18769   \n",
       "6 Clifton Collins Jr. Sean Whalen        James DeBello     19443   "
      ]
     },
     "metadata": {},
     "output_type": "display_data"
    }
   ],
   "source": [
    "imdb_prejuizo <- imdb %>% mutate(prejuizo = orcamento - receita) %>% filter(prejuizo > \n",
    "    0) %>% arrange(prejuizo)\n",
    "head(imdb_prejuizo)"
   ]
  },
  {
   "cell_type": "markdown",
   "id": "standing-strike",
   "metadata": {},
   "source": [
    "2)"
   ]
  },
  {
   "cell_type": "code",
   "execution_count": 59,
   "id": "generic-commissioner",
   "metadata": {},
   "outputs": [
    {
     "data": {
      "text/html": [
       "<table class=\"dataframe\">\n",
       "<caption>A tibble: 6 × 19</caption>\n",
       "<thead>\n",
       "\t<tr><th scope=col>titulo</th><th scope=col>ano</th><th scope=col>diretor</th><th scope=col>duracao</th><th scope=col>cor</th><th scope=col>generos</th><th scope=col>pais</th><th scope=col>classificacao</th><th scope=col>orcamento</th><th scope=col>receita</th><th scope=col>nota_imdb</th><th scope=col>likes_facebook</th><th scope=col>ator_1</th><th scope=col>ator_2</th><th scope=col>ator_3</th><th scope=col>lucro</th><th scope=col>lucro_medio</th><th scope=col>lucro_relativo</th><th scope=col>houve_lucro</th></tr>\n",
       "\t<tr><th scope=col>&lt;chr&gt;</th><th scope=col>&lt;int&gt;</th><th scope=col>&lt;chr&gt;</th><th scope=col>&lt;int&gt;</th><th scope=col>&lt;chr&gt;</th><th scope=col>&lt;chr&gt;</th><th scope=col>&lt;chr&gt;</th><th scope=col>&lt;chr&gt;</th><th scope=col>&lt;int&gt;</th><th scope=col>&lt;int&gt;</th><th scope=col>&lt;dbl&gt;</th><th scope=col>&lt;int&gt;</th><th scope=col>&lt;chr&gt;</th><th scope=col>&lt;chr&gt;</th><th scope=col>&lt;chr&gt;</th><th scope=col>&lt;int&gt;</th><th scope=col>&lt;dbl&gt;</th><th scope=col>&lt;dbl&gt;</th><th scope=col>&lt;chr&gt;</th></tr>\n",
       "</thead>\n",
       "<tbody>\n",
       "\t<tr><td>Avatar                                   </td><td>2009</td><td>James Cameron    </td><td>178</td><td>Color</td><td>Action|Adventure|Fantasy|Sci-Fi                          </td><td>USA</td><td>A partir de 13 anos</td><td>237000000</td><td>760505847</td><td>7.9</td><td> 33000</td><td>CCH Pounder </td><td>Joel David Moore</td><td>Wes Studi           </td><td> 523505847</td><td>17258230</td><td> 29.3336921</td><td>sim</td></tr>\n",
       "\t<tr><td>Pirates of the Caribbean: At World's End </td><td>2007</td><td>Gore Verbinski   </td><td>169</td><td>Color</td><td>Action|Adventure|Fantasy                                 </td><td>USA</td><td>A partir de 13 anos</td><td>300000000</td><td>309404152</td><td>7.1</td><td>     0</td><td>Johnny Depp </td><td>Orlando Bloom   </td><td>Jack Davenport      </td><td>   9404152</td><td>17258230</td><td> -0.4550918</td><td>sim</td></tr>\n",
       "\t<tr><td>The Dark Knight Rises                    </td><td>2012</td><td>Christopher Nolan</td><td>164</td><td>Color</td><td>Action|Thriller                                          </td><td>USA</td><td>A partir de 13 anos</td><td>250000000</td><td>448130642</td><td>8.5</td><td>164000</td><td>Tom Hardy   </td><td>Christian Bale  </td><td>Joseph Gordon-Levitt</td><td> 198130642</td><td>17258230</td><td> 10.4803568</td><td>sim</td></tr>\n",
       "\t<tr><td>John Carter                              </td><td>2012</td><td>Andrew Stanton   </td><td>132</td><td>Color</td><td>Action|Adventure|Sci-Fi                                  </td><td>USA</td><td>A partir de 13 anos</td><td>263700000</td><td> 73058679</td><td>6.6</td><td> 24000</td><td>Daryl Sabara</td><td>Samantha Morton </td><td>Polly Walker        </td><td>-190641321</td><td>17258230</td><td>-12.0464003</td><td>não</td></tr>\n",
       "\t<tr><td>Spider-Man 3                             </td><td>2007</td><td>Sam Raimi        </td><td>156</td><td>Color</td><td>Action|Adventure|Romance                                 </td><td>USA</td><td>A partir de 13 anos</td><td>258000000</td><td>336530303</td><td>6.2</td><td>     0</td><td>J.K. Simmons</td><td>James Franco    </td><td>Kirsten Dunst       </td><td>  78530303</td><td>17258230</td><td>  3.5503103</td><td>sim</td></tr>\n",
       "\t<tr><td>Tangled                                  </td><td>2010</td><td>Nathan Greno     </td><td>100</td><td>Color</td><td>Adventure|Animation|Comedy|Family|Fantasy|Musical|Romance</td><td>USA</td><td>Livre              </td><td>260000000</td><td>200807262</td><td>7.8</td><td> 29000</td><td>Brad Garrett</td><td>Donna Murphy    </td><td>M.C. Gainey         </td><td> -59192738</td><td>17258230</td><td> -4.4298266</td><td>não</td></tr>\n",
       "</tbody>\n",
       "</table>\n"
      ],
      "text/latex": [
       "A tibble: 6 × 19\n",
       "\\begin{tabular}{lllllllllllllllllll}\n",
       " titulo & ano & diretor & duracao & cor & generos & pais & classificacao & orcamento & receita & nota\\_imdb & likes\\_facebook & ator\\_1 & ator\\_2 & ator\\_3 & lucro & lucro\\_medio & lucro\\_relativo & houve\\_lucro\\\\\n",
       " <chr> & <int> & <chr> & <int> & <chr> & <chr> & <chr> & <chr> & <int> & <int> & <dbl> & <int> & <chr> & <chr> & <chr> & <int> & <dbl> & <dbl> & <chr>\\\\\n",
       "\\hline\n",
       "\t Avatar                                    & 2009 & James Cameron     & 178 & Color & Action\\textbar{}Adventure\\textbar{}Fantasy\\textbar{}Sci-Fi                           & USA & A partir de 13 anos & 237000000 & 760505847 & 7.9 &  33000 & CCH Pounder  & Joel David Moore & Wes Studi            &  523505847 & 17258230 &  29.3336921 & sim\\\\\n",
       "\t Pirates of the Caribbean: At World's End  & 2007 & Gore Verbinski    & 169 & Color & Action\\textbar{}Adventure\\textbar{}Fantasy                                  & USA & A partir de 13 anos & 300000000 & 309404152 & 7.1 &      0 & Johnny Depp  & Orlando Bloom    & Jack Davenport       &    9404152 & 17258230 &  -0.4550918 & sim\\\\\n",
       "\t The Dark Knight Rises                     & 2012 & Christopher Nolan & 164 & Color & Action\\textbar{}Thriller                                           & USA & A partir de 13 anos & 250000000 & 448130642 & 8.5 & 164000 & Tom Hardy    & Christian Bale   & Joseph Gordon-Levitt &  198130642 & 17258230 &  10.4803568 & sim\\\\\n",
       "\t John Carter                               & 2012 & Andrew Stanton    & 132 & Color & Action\\textbar{}Adventure\\textbar{}Sci-Fi                                   & USA & A partir de 13 anos & 263700000 &  73058679 & 6.6 &  24000 & Daryl Sabara & Samantha Morton  & Polly Walker         & -190641321 & 17258230 & -12.0464003 & não\\\\\n",
       "\t Spider-Man 3                              & 2007 & Sam Raimi         & 156 & Color & Action\\textbar{}Adventure\\textbar{}Romance                                  & USA & A partir de 13 anos & 258000000 & 336530303 & 6.2 &      0 & J.K. Simmons & James Franco     & Kirsten Dunst        &   78530303 & 17258230 &   3.5503103 & sim\\\\\n",
       "\t Tangled                                   & 2010 & Nathan Greno      & 100 & Color & Adventure\\textbar{}Animation\\textbar{}Comedy\\textbar{}Family\\textbar{}Fantasy\\textbar{}Musical\\textbar{}Romance & USA & Livre               & 260000000 & 200807262 & 7.8 &  29000 & Brad Garrett & Donna Murphy     & M.C. Gainey          &  -59192738 & 17258230 &  -4.4298266 & não\\\\\n",
       "\\end{tabular}\n"
      ],
      "text/markdown": [
       "\n",
       "A tibble: 6 × 19\n",
       "\n",
       "| titulo &lt;chr&gt; | ano &lt;int&gt; | diretor &lt;chr&gt; | duracao &lt;int&gt; | cor &lt;chr&gt; | generos &lt;chr&gt; | pais &lt;chr&gt; | classificacao &lt;chr&gt; | orcamento &lt;int&gt; | receita &lt;int&gt; | nota_imdb &lt;dbl&gt; | likes_facebook &lt;int&gt; | ator_1 &lt;chr&gt; | ator_2 &lt;chr&gt; | ator_3 &lt;chr&gt; | lucro &lt;int&gt; | lucro_medio &lt;dbl&gt; | lucro_relativo &lt;dbl&gt; | houve_lucro &lt;chr&gt; |\n",
       "|---|---|---|---|---|---|---|---|---|---|---|---|---|---|---|---|---|---|---|\n",
       "| Avatar                                    | 2009 | James Cameron     | 178 | Color | Action|Adventure|Fantasy|Sci-Fi                           | USA | A partir de 13 anos | 237000000 | 760505847 | 7.9 |  33000 | CCH Pounder  | Joel David Moore | Wes Studi            |  523505847 | 17258230 |  29.3336921 | sim |\n",
       "| Pirates of the Caribbean: At World's End  | 2007 | Gore Verbinski    | 169 | Color | Action|Adventure|Fantasy                                  | USA | A partir de 13 anos | 300000000 | 309404152 | 7.1 |      0 | Johnny Depp  | Orlando Bloom    | Jack Davenport       |    9404152 | 17258230 |  -0.4550918 | sim |\n",
       "| The Dark Knight Rises                     | 2012 | Christopher Nolan | 164 | Color | Action|Thriller                                           | USA | A partir de 13 anos | 250000000 | 448130642 | 8.5 | 164000 | Tom Hardy    | Christian Bale   | Joseph Gordon-Levitt |  198130642 | 17258230 |  10.4803568 | sim |\n",
       "| John Carter                               | 2012 | Andrew Stanton    | 132 | Color | Action|Adventure|Sci-Fi                                   | USA | A partir de 13 anos | 263700000 |  73058679 | 6.6 |  24000 | Daryl Sabara | Samantha Morton  | Polly Walker         | -190641321 | 17258230 | -12.0464003 | não |\n",
       "| Spider-Man 3                              | 2007 | Sam Raimi         | 156 | Color | Action|Adventure|Romance                                  | USA | A partir de 13 anos | 258000000 | 336530303 | 6.2 |      0 | J.K. Simmons | James Franco     | Kirsten Dunst        |   78530303 | 17258230 |   3.5503103 | sim |\n",
       "| Tangled                                   | 2010 | Nathan Greno      | 100 | Color | Adventure|Animation|Comedy|Family|Fantasy|Musical|Romance | USA | Livre               | 260000000 | 200807262 | 7.8 |  29000 | Brad Garrett | Donna Murphy     | M.C. Gainey          |  -59192738 | 17258230 |  -4.4298266 | não |\n",
       "\n"
      ],
      "text/plain": [
       "  titulo                                    ano  diretor           duracao\n",
       "1 Avatar                                    2009 James Cameron     178    \n",
       "2 Pirates of the Caribbean: At World's End  2007 Gore Verbinski    169    \n",
       "3 The Dark Knight Rises                     2012 Christopher Nolan 164    \n",
       "4 John Carter                               2012 Andrew Stanton    132    \n",
       "5 Spider-Man 3                              2007 Sam Raimi         156    \n",
       "6 Tangled                                   2010 Nathan Greno      100    \n",
       "  cor   generos                                                   pais\n",
       "1 Color Action|Adventure|Fantasy|Sci-Fi                           USA \n",
       "2 Color Action|Adventure|Fantasy                                  USA \n",
       "3 Color Action|Thriller                                           USA \n",
       "4 Color Action|Adventure|Sci-Fi                                   USA \n",
       "5 Color Action|Adventure|Romance                                  USA \n",
       "6 Color Adventure|Animation|Comedy|Family|Fantasy|Musical|Romance USA \n",
       "  classificacao       orcamento receita   nota_imdb likes_facebook ator_1      \n",
       "1 A partir de 13 anos 237000000 760505847 7.9        33000         CCH Pounder \n",
       "2 A partir de 13 anos 300000000 309404152 7.1            0         Johnny Depp \n",
       "3 A partir de 13 anos 250000000 448130642 8.5       164000         Tom Hardy   \n",
       "4 A partir de 13 anos 263700000  73058679 6.6        24000         Daryl Sabara\n",
       "5 A partir de 13 anos 258000000 336530303 6.2            0         J.K. Simmons\n",
       "6 Livre               260000000 200807262 7.8        29000         Brad Garrett\n",
       "  ator_2           ator_3               lucro      lucro_medio lucro_relativo\n",
       "1 Joel David Moore Wes Studi             523505847 17258230     29.3336921   \n",
       "2 Orlando Bloom    Jack Davenport          9404152 17258230     -0.4550918   \n",
       "3 Christian Bale   Joseph Gordon-Levitt  198130642 17258230     10.4803568   \n",
       "4 Samantha Morton  Polly Walker         -190641321 17258230    -12.0464003   \n",
       "5 James Franco     Kirsten Dunst          78530303 17258230      3.5503103   \n",
       "6 Donna Murphy     M.C. Gainey           -59192738 17258230     -4.4298266   \n",
       "  houve_lucro\n",
       "1 sim        \n",
       "2 sim        \n",
       "3 sim        \n",
       "4 não        \n",
       "5 sim        \n",
       "6 não        "
      ]
     },
     "metadata": {},
     "output_type": "display_data"
    }
   ],
   "source": [
    "head(imdb %>% mutate(lucro = receita - orcamento, lucro_medio = mean(lucro, na.rm = T), \n",
    "    lucro_relativo = (lucro - lucro_medio)/lucro_medio, houve_lucro = ifelse(lucro > \n",
    "        0, \"sim\", \"não\")))"
   ]
  },
  {
   "cell_type": "markdown",
   "id": "exclusive-afghanistan",
   "metadata": {},
   "source": [
    "3)"
   ]
  },
  {
   "cell_type": "code",
   "execution_count": 63,
   "id": "small-complexity",
   "metadata": {},
   "outputs": [
    {
     "data": {
      "text/html": [
       "<table class=\"dataframe\">\n",
       "<caption>A tibble: 6 × 16</caption>\n",
       "<thead>\n",
       "\t<tr><th scope=col>titulo</th><th scope=col>ano</th><th scope=col>diretor</th><th scope=col>duracao</th><th scope=col>cor</th><th scope=col>generos</th><th scope=col>pais</th><th scope=col>classificacao</th><th scope=col>orcamento</th><th scope=col>receita</th><th scope=col>nota_imdb</th><th scope=col>likes_facebook</th><th scope=col>ator_1</th><th scope=col>ator_2</th><th scope=col>ator_3</th><th scope=col>classificacao_ano_lancamento</th></tr>\n",
       "\t<tr><th scope=col>&lt;chr&gt;</th><th scope=col>&lt;int&gt;</th><th scope=col>&lt;chr&gt;</th><th scope=col>&lt;int&gt;</th><th scope=col>&lt;chr&gt;</th><th scope=col>&lt;chr&gt;</th><th scope=col>&lt;chr&gt;</th><th scope=col>&lt;chr&gt;</th><th scope=col>&lt;int&gt;</th><th scope=col>&lt;int&gt;</th><th scope=col>&lt;dbl&gt;</th><th scope=col>&lt;int&gt;</th><th scope=col>&lt;chr&gt;</th><th scope=col>&lt;chr&gt;</th><th scope=col>&lt;chr&gt;</th><th scope=col>&lt;chr&gt;</th></tr>\n",
       "</thead>\n",
       "<tbody>\n",
       "\t<tr><td>Avatar                                   </td><td>2009</td><td>James Cameron    </td><td>178</td><td>Color</td><td>Action|Adventure|Fantasy|Sci-Fi                          </td><td>USA</td><td>A partir de 13 anos</td><td>237000000</td><td>760505847</td><td>7.9</td><td> 33000</td><td>CCH Pounder </td><td>Joel David Moore</td><td>Wes Studi           </td><td>recente</td></tr>\n",
       "\t<tr><td>Pirates of the Caribbean: At World's End </td><td>2007</td><td>Gore Verbinski   </td><td>169</td><td>Color</td><td>Action|Adventure|Fantasy                                 </td><td>USA</td><td>A partir de 13 anos</td><td>300000000</td><td>309404152</td><td>7.1</td><td>     0</td><td>Johnny Depp </td><td>Orlando Bloom   </td><td>Jack Davenport      </td><td>recente</td></tr>\n",
       "\t<tr><td>The Dark Knight Rises                    </td><td>2012</td><td>Christopher Nolan</td><td>164</td><td>Color</td><td>Action|Thriller                                          </td><td>USA</td><td>A partir de 13 anos</td><td>250000000</td><td>448130642</td><td>8.5</td><td>164000</td><td>Tom Hardy   </td><td>Christian Bale  </td><td>Joseph Gordon-Levitt</td><td>recente</td></tr>\n",
       "\t<tr><td>John Carter                              </td><td>2012</td><td>Andrew Stanton   </td><td>132</td><td>Color</td><td>Action|Adventure|Sci-Fi                                  </td><td>USA</td><td>A partir de 13 anos</td><td>263700000</td><td> 73058679</td><td>6.6</td><td> 24000</td><td>Daryl Sabara</td><td>Samantha Morton </td><td>Polly Walker        </td><td>recente</td></tr>\n",
       "\t<tr><td>Spider-Man 3                             </td><td>2007</td><td>Sam Raimi        </td><td>156</td><td>Color</td><td>Action|Adventure|Romance                                 </td><td>USA</td><td>A partir de 13 anos</td><td>258000000</td><td>336530303</td><td>6.2</td><td>     0</td><td>J.K. Simmons</td><td>James Franco    </td><td>Kirsten Dunst       </td><td>recente</td></tr>\n",
       "\t<tr><td>Tangled                                  </td><td>2010</td><td>Nathan Greno     </td><td>100</td><td>Color</td><td>Adventure|Animation|Comedy|Family|Fantasy|Musical|Romance</td><td>USA</td><td>Livre              </td><td>260000000</td><td>200807262</td><td>7.8</td><td> 29000</td><td>Brad Garrett</td><td>Donna Murphy    </td><td>M.C. Gainey         </td><td>recente</td></tr>\n",
       "</tbody>\n",
       "</table>\n"
      ],
      "text/latex": [
       "A tibble: 6 × 16\n",
       "\\begin{tabular}{llllllllllllllll}\n",
       " titulo & ano & diretor & duracao & cor & generos & pais & classificacao & orcamento & receita & nota\\_imdb & likes\\_facebook & ator\\_1 & ator\\_2 & ator\\_3 & classificacao\\_ano\\_lancamento\\\\\n",
       " <chr> & <int> & <chr> & <int> & <chr> & <chr> & <chr> & <chr> & <int> & <int> & <dbl> & <int> & <chr> & <chr> & <chr> & <chr>\\\\\n",
       "\\hline\n",
       "\t Avatar                                    & 2009 & James Cameron     & 178 & Color & Action\\textbar{}Adventure\\textbar{}Fantasy\\textbar{}Sci-Fi                           & USA & A partir de 13 anos & 237000000 & 760505847 & 7.9 &  33000 & CCH Pounder  & Joel David Moore & Wes Studi            & recente\\\\\n",
       "\t Pirates of the Caribbean: At World's End  & 2007 & Gore Verbinski    & 169 & Color & Action\\textbar{}Adventure\\textbar{}Fantasy                                  & USA & A partir de 13 anos & 300000000 & 309404152 & 7.1 &      0 & Johnny Depp  & Orlando Bloom    & Jack Davenport       & recente\\\\\n",
       "\t The Dark Knight Rises                     & 2012 & Christopher Nolan & 164 & Color & Action\\textbar{}Thriller                                           & USA & A partir de 13 anos & 250000000 & 448130642 & 8.5 & 164000 & Tom Hardy    & Christian Bale   & Joseph Gordon-Levitt & recente\\\\\n",
       "\t John Carter                               & 2012 & Andrew Stanton    & 132 & Color & Action\\textbar{}Adventure\\textbar{}Sci-Fi                                   & USA & A partir de 13 anos & 263700000 &  73058679 & 6.6 &  24000 & Daryl Sabara & Samantha Morton  & Polly Walker         & recente\\\\\n",
       "\t Spider-Man 3                              & 2007 & Sam Raimi         & 156 & Color & Action\\textbar{}Adventure\\textbar{}Romance                                  & USA & A partir de 13 anos & 258000000 & 336530303 & 6.2 &      0 & J.K. Simmons & James Franco     & Kirsten Dunst        & recente\\\\\n",
       "\t Tangled                                   & 2010 & Nathan Greno      & 100 & Color & Adventure\\textbar{}Animation\\textbar{}Comedy\\textbar{}Family\\textbar{}Fantasy\\textbar{}Musical\\textbar{}Romance & USA & Livre               & 260000000 & 200807262 & 7.8 &  29000 & Brad Garrett & Donna Murphy     & M.C. Gainey          & recente\\\\\n",
       "\\end{tabular}\n"
      ],
      "text/markdown": [
       "\n",
       "A tibble: 6 × 16\n",
       "\n",
       "| titulo &lt;chr&gt; | ano &lt;int&gt; | diretor &lt;chr&gt; | duracao &lt;int&gt; | cor &lt;chr&gt; | generos &lt;chr&gt; | pais &lt;chr&gt; | classificacao &lt;chr&gt; | orcamento &lt;int&gt; | receita &lt;int&gt; | nota_imdb &lt;dbl&gt; | likes_facebook &lt;int&gt; | ator_1 &lt;chr&gt; | ator_2 &lt;chr&gt; | ator_3 &lt;chr&gt; | classificacao_ano_lancamento &lt;chr&gt; |\n",
       "|---|---|---|---|---|---|---|---|---|---|---|---|---|---|---|---|\n",
       "| Avatar                                    | 2009 | James Cameron     | 178 | Color | Action|Adventure|Fantasy|Sci-Fi                           | USA | A partir de 13 anos | 237000000 | 760505847 | 7.9 |  33000 | CCH Pounder  | Joel David Moore | Wes Studi            | recente |\n",
       "| Pirates of the Caribbean: At World's End  | 2007 | Gore Verbinski    | 169 | Color | Action|Adventure|Fantasy                                  | USA | A partir de 13 anos | 300000000 | 309404152 | 7.1 |      0 | Johnny Depp  | Orlando Bloom    | Jack Davenport       | recente |\n",
       "| The Dark Knight Rises                     | 2012 | Christopher Nolan | 164 | Color | Action|Thriller                                           | USA | A partir de 13 anos | 250000000 | 448130642 | 8.5 | 164000 | Tom Hardy    | Christian Bale   | Joseph Gordon-Levitt | recente |\n",
       "| John Carter                               | 2012 | Andrew Stanton    | 132 | Color | Action|Adventure|Sci-Fi                                   | USA | A partir de 13 anos | 263700000 |  73058679 | 6.6 |  24000 | Daryl Sabara | Samantha Morton  | Polly Walker         | recente |\n",
       "| Spider-Man 3                              | 2007 | Sam Raimi         | 156 | Color | Action|Adventure|Romance                                  | USA | A partir de 13 anos | 258000000 | 336530303 | 6.2 |      0 | J.K. Simmons | James Franco     | Kirsten Dunst        | recente |\n",
       "| Tangled                                   | 2010 | Nathan Greno      | 100 | Color | Adventure|Animation|Comedy|Family|Fantasy|Musical|Romance | USA | Livre               | 260000000 | 200807262 | 7.8 |  29000 | Brad Garrett | Donna Murphy     | M.C. Gainey          | recente |\n",
       "\n"
      ],
      "text/plain": [
       "  titulo                                    ano  diretor           duracao\n",
       "1 Avatar                                    2009 James Cameron     178    \n",
       "2 Pirates of the Caribbean: At World's End  2007 Gore Verbinski    169    \n",
       "3 The Dark Knight Rises                     2012 Christopher Nolan 164    \n",
       "4 John Carter                               2012 Andrew Stanton    132    \n",
       "5 Spider-Man 3                              2007 Sam Raimi         156    \n",
       "6 Tangled                                   2010 Nathan Greno      100    \n",
       "  cor   generos                                                   pais\n",
       "1 Color Action|Adventure|Fantasy|Sci-Fi                           USA \n",
       "2 Color Action|Adventure|Fantasy                                  USA \n",
       "3 Color Action|Thriller                                           USA \n",
       "4 Color Action|Adventure|Sci-Fi                                   USA \n",
       "5 Color Action|Adventure|Romance                                  USA \n",
       "6 Color Adventure|Animation|Comedy|Family|Fantasy|Musical|Romance USA \n",
       "  classificacao       orcamento receita   nota_imdb likes_facebook ator_1      \n",
       "1 A partir de 13 anos 237000000 760505847 7.9        33000         CCH Pounder \n",
       "2 A partir de 13 anos 300000000 309404152 7.1            0         Johnny Depp \n",
       "3 A partir de 13 anos 250000000 448130642 8.5       164000         Tom Hardy   \n",
       "4 A partir de 13 anos 263700000  73058679 6.6        24000         Daryl Sabara\n",
       "5 A partir de 13 anos 258000000 336530303 6.2            0         J.K. Simmons\n",
       "6 Livre               260000000 200807262 7.8        29000         Brad Garrett\n",
       "  ator_2           ator_3               classificacao_ano_lancamento\n",
       "1 Joel David Moore Wes Studi            recente                     \n",
       "2 Orlando Bloom    Jack Davenport       recente                     \n",
       "3 Christian Bale   Joseph Gordon-Levitt recente                     \n",
       "4 Samantha Morton  Polly Walker         recente                     \n",
       "5 James Franco     Kirsten Dunst        recente                     \n",
       "6 Donna Murphy     M.C. Gainey          recente                     "
      ]
     },
     "metadata": {},
     "output_type": "display_data"
    }
   ],
   "source": [
    "head(imdb %>% mutate(classificacao_ano_lancamento = ifelse(ano > 2000, \"recente\", \n",
    "    \"antigo\")))"
   ]
  },
  {
   "cell_type": "markdown",
   "id": "lyric-scheme",
   "metadata": {},
   "source": [
    "## Exercícios 7.2.6\n",
    "\n",
    "1)"
   ]
  },
  {
   "cell_type": "code",
   "execution_count": 6,
   "id": "french-socket",
   "metadata": {},
   "outputs": [
    {
     "data": {
      "text/html": [
       "<table class=\"dataframe\">\n",
       "<caption>A tibble: 1 × 2</caption>\n",
       "<thead>\n",
       "\t<tr><th scope=col>media_duracao</th><th scope=col>mediana_duracao</th></tr>\n",
       "\t<tr><th scope=col>&lt;dbl&gt;</th><th scope=col>&lt;int&gt;</th></tr>\n",
       "</thead>\n",
       "<tbody>\n",
       "\t<tr><td>106.4351</td><td>103</td></tr>\n",
       "</tbody>\n",
       "</table>\n"
      ],
      "text/latex": [
       "A tibble: 1 × 2\n",
       "\\begin{tabular}{ll}\n",
       " media\\_duracao & mediana\\_duracao\\\\\n",
       " <dbl> & <int>\\\\\n",
       "\\hline\n",
       "\t 106.4351 & 103\\\\\n",
       "\\end{tabular}\n"
      ],
      "text/markdown": [
       "\n",
       "A tibble: 1 × 2\n",
       "\n",
       "| media_duracao &lt;dbl&gt; | mediana_duracao &lt;int&gt; |\n",
       "|---|---|\n",
       "| 106.4351 | 103 |\n",
       "\n"
      ],
      "text/plain": [
       "  media_duracao mediana_duracao\n",
       "1 106.4351      103            "
      ]
     },
     "metadata": {},
     "output_type": "display_data"
    }
   ],
   "source": [
    "imdb %>% summarize(media_duracao = mean(duracao, na.rm = T), mediana_duracao = median(duracao, \n",
    "    na.rm = T))"
   ]
  },
  {
   "cell_type": "markdown",
   "id": "olympic-challenge",
   "metadata": {},
   "source": [
    "2)"
   ]
  },
  {
   "cell_type": "code",
   "execution_count": 11,
   "id": "concrete-relaxation",
   "metadata": {},
   "outputs": [
    {
     "data": {
      "text/html": [
       "<table class=\"dataframe\">\n",
       "<caption>A tibble: 1 × 1</caption>\n",
       "<thead>\n",
       "\t<tr><th scope=col>media_lucro</th></tr>\n",
       "\t<tr><th scope=col>&lt;dbl&gt;</th></tr>\n",
       "</thead>\n",
       "<tbody>\n",
       "\t<tr><td>632454.3</td></tr>\n",
       "</tbody>\n",
       "</table>\n"
      ],
      "text/latex": [
       "A tibble: 1 × 1\n",
       "\\begin{tabular}{l}\n",
       " media\\_lucro\\\\\n",
       " <dbl>\\\\\n",
       "\\hline\n",
       "\t 632454.3\\\\\n",
       "\\end{tabular}\n"
      ],
      "text/markdown": [
       "\n",
       "A tibble: 1 × 1\n",
       "\n",
       "| media_lucro &lt;dbl&gt; |\n",
       "|---|\n",
       "| 632454.3 |\n",
       "\n"
      ],
      "text/plain": [
       "  media_lucro\n",
       "1 632454.3   "
      ]
     },
     "metadata": {},
     "output_type": "display_data"
    }
   ],
   "source": [
    "imdb %>% filter(duracao < 60) %>% mutate(lucro = receita - orcamento) %>% summarize(media_lucro = mean(lucro, \n",
    "    na.rm = T))"
   ]
  },
  {
   "cell_type": "markdown",
   "id": "blessed-central",
   "metadata": {},
   "source": [
    "3)"
   ]
  },
  {
   "cell_type": "code",
   "execution_count": 18,
   "id": "technological-plate",
   "metadata": {},
   "outputs": [
    {
     "data": {
      "text/html": [
       "<table class=\"dataframe\">\n",
       "<caption>A tibble: 1 × 2</caption>\n",
       "<thead>\n",
       "\t<tr><th scope=col>media_lucro_menos_60</th><th scope=col>media_lucro_mais_60</th></tr>\n",
       "\t<tr><th scope=col>&lt;dbl&gt;</th><th scope=col>&lt;dbl&gt;</th></tr>\n",
       "</thead>\n",
       "<tbody>\n",
       "\t<tr><td>632454.3</td><td>17274472</td></tr>\n",
       "</tbody>\n",
       "</table>\n"
      ],
      "text/latex": [
       "A tibble: 1 × 2\n",
       "\\begin{tabular}{ll}\n",
       " media\\_lucro\\_menos\\_60 & media\\_lucro\\_mais\\_60\\\\\n",
       " <dbl> & <dbl>\\\\\n",
       "\\hline\n",
       "\t 632454.3 & 17274472\\\\\n",
       "\\end{tabular}\n"
      ],
      "text/markdown": [
       "\n",
       "A tibble: 1 × 2\n",
       "\n",
       "| media_lucro_menos_60 &lt;dbl&gt; | media_lucro_mais_60 &lt;dbl&gt; |\n",
       "|---|---|\n",
       "| 632454.3 | 17274472 |\n",
       "\n"
      ],
      "text/plain": [
       "  media_lucro_menos_60 media_lucro_mais_60\n",
       "1 632454.3             17274472           "
      ]
     },
     "metadata": {},
     "output_type": "display_data"
    }
   ],
   "source": [
    "imdb %>% mutate(lucro = receita - orcamento) %>% summarize(media_lucro_menos_60 = mean(lucro[duracao < \n",
    "    60], na.rm = T), media_lucro_mais_60 = mean(lucro[duracao >= 60], na.rm = T))"
   ]
  },
  {
   "cell_type": "markdown",
   "id": "noble-flour",
   "metadata": {},
   "source": [
    "4) a)"
   ]
  },
  {
   "cell_type": "code",
   "execution_count": 23,
   "id": "acute-withdrawal",
   "metadata": {},
   "outputs": [
    {
     "data": {
      "text/html": [
       "<table class=\"dataframe\">\n",
       "<caption>A tibble: 4 × 2</caption>\n",
       "<thead>\n",
       "\t<tr><th></th><th scope=col>classificacao</th><th scope=col>media_nota_imdb</th></tr>\n",
       "\t<tr><th></th><th scope=col>&lt;chr&gt;</th><th scope=col>&lt;dbl&gt;</th></tr>\n",
       "</thead>\n",
       "<tbody>\n",
       "\t<tr><th scope=row>1</th><td>A partir de 13 anos</td><td>6.180132</td></tr>\n",
       "\t<tr><th scope=row>2</th><td>A partir de 18 anos</td><td>6.466688</td></tr>\n",
       "\t<tr><th scope=row>3</th><td>Livre              </td><td>6.260932</td></tr>\n",
       "\t<tr><th scope=row>4</th><td>Outros             </td><td>6.645376</td></tr>\n",
       "</tbody>\n",
       "</table>\n"
      ],
      "text/latex": [
       "A tibble: 4 × 2\n",
       "\\begin{tabular}{r|ll}\n",
       "  & classificacao & media\\_nota\\_imdb\\\\\n",
       "  & <chr> & <dbl>\\\\\n",
       "\\hline\n",
       "\t1 & A partir de 13 anos & 6.180132\\\\\n",
       "\t2 & A partir de 18 anos & 6.466688\\\\\n",
       "\t3 & Livre               & 6.260932\\\\\n",
       "\t4 & Outros              & 6.645376\\\\\n",
       "\\end{tabular}\n"
      ],
      "text/markdown": [
       "\n",
       "A tibble: 4 × 2\n",
       "\n",
       "| <!--/--> | classificacao &lt;chr&gt; | media_nota_imdb &lt;dbl&gt; |\n",
       "|---|---|---|\n",
       "| 1 | A partir de 13 anos | 6.180132 |\n",
       "| 2 | A partir de 18 anos | 6.466688 |\n",
       "| 3 | Livre               | 6.260932 |\n",
       "| 4 | Outros              | 6.645376 |\n",
       "\n"
      ],
      "text/plain": [
       "  classificacao       media_nota_imdb\n",
       "1 A partir de 13 anos 6.180132       \n",
       "2 A partir de 18 anos 6.466688       \n",
       "3 Livre               6.260932       \n",
       "4 Outros              6.645376       "
      ]
     },
     "metadata": {},
     "output_type": "display_data"
    }
   ],
   "source": [
    "imdb %>% group_by(classificacao) %>% summarise(media_nota_imdb = mean(nota_imdb, \n",
    "    na.rm = T))"
   ]
  },
  {
   "cell_type": "markdown",
   "id": "environmental-camping",
   "metadata": {},
   "source": [
    "b)"
   ]
  },
  {
   "cell_type": "code",
   "execution_count": 30,
   "id": "editorial-holocaust",
   "metadata": {},
   "outputs": [
    {
     "data": {
      "text/html": [
       "<table class=\"dataframe\">\n",
       "<caption>A tibble: 70 × 3</caption>\n",
       "<thead>\n",
       "\t<tr><th></th><th scope=col>ano</th><th scope=col>media_receita</th><th scope=col>mediana_receita</th></tr>\n",
       "\t<tr><th></th><th scope=col>&lt;int&gt;</th><th scope=col>&lt;dbl&gt;</th><th scope=col>&lt;dbl&gt;</th></tr>\n",
       "</thead>\n",
       "<tbody>\n",
       "\t<tr><th scope=row>1</th><td>1920</td><td>  3000000</td><td>  3000000</td></tr>\n",
       "\t<tr><th scope=row>2</th><td>1929</td><td>  2808000</td><td>  2808000</td></tr>\n",
       "\t<tr><th scope=row>3</th><td>1933</td><td>  2300000</td><td>  2300000</td></tr>\n",
       "\t<tr><th scope=row>4</th><td>1935</td><td>  3000000</td><td>  3000000</td></tr>\n",
       "\t<tr><th scope=row>5</th><td>1936</td><td>   163245</td><td>   163245</td></tr>\n",
       "\t<tr><th scope=row>6</th><td>1937</td><td>184925485</td><td>184925485</td></tr>\n",
       "\t<tr><th scope=row>7</th><td>1939</td><td>110428945</td><td>110428945</td></tr>\n",
       "\t<tr><th scope=row>8</th><td>1940</td><td> 80350000</td><td> 80350000</td></tr>\n",
       "\t<tr><th scope=row>9</th><td>1942</td><td>102797150</td><td>102797150</td></tr>\n",
       "\t<tr><th scope=row>10</th><td>1946</td><td> 22025000</td><td> 22025000</td></tr>\n",
       "\t<tr><th scope=row>11</th><td>1947</td><td>     7927</td><td>     7927</td></tr>\n",
       "\t<tr><th scope=row>12</th><td>1948</td><td>  2956000</td><td>  2956000</td></tr>\n",
       "\t<tr><th scope=row>13</th><td>1950</td><td>  8000000</td><td>  8000000</td></tr>\n",
       "\t<tr><th scope=row>14</th><td>1952</td><td> 36000000</td><td> 36000000</td></tr>\n",
       "\t<tr><th scope=row>15</th><td>1953</td><td> 20500000</td><td> 20500000</td></tr>\n",
       "\t<tr><th scope=row>16</th><td>1954</td><td>  9600000</td><td>  9600000</td></tr>\n",
       "\t<tr><th scope=row>17</th><td>1959</td><td> 25000000</td><td> 25000000</td></tr>\n",
       "\t<tr><th scope=row>18</th><td>1960</td><td> 32000000</td><td> 32000000</td></tr>\n",
       "\t<tr><th scope=row>19</th><td>1961</td><td> 43650000</td><td> 43650000</td></tr>\n",
       "\t<tr><th scope=row>20</th><td>1963</td><td> 46300000</td><td> 46300000</td></tr>\n",
       "\t<tr><th scope=row>21</th><td>1964</td><td> 58104146</td><td> 72000000</td></tr>\n",
       "\t<tr><th scope=row>22</th><td>1965</td><td> 70737790</td><td> 59861000</td></tr>\n",
       "\t<tr><th scope=row>23</th><td>1969</td><td>102308900</td><td>102308900</td></tr>\n",
       "\t<tr><th scope=row>24</th><td>1970</td><td>  9100000</td><td>  9000000</td></tr>\n",
       "\t<tr><th scope=row>25</th><td>1971</td><td> 21729410</td><td> 15180000</td></tr>\n",
       "\t<tr><th scope=row>26</th><td>1972</td><td> 67501218</td><td> 67501218</td></tr>\n",
       "\t<tr><th scope=row>27</th><td>1973</td><td>119799411</td><td>137300000</td></tr>\n",
       "\t<tr><th scope=row>28</th><td>1974</td><td> 60728433</td><td> 48426300</td></tr>\n",
       "\t<tr><th scope=row>29</th><td>1975</td><td>186000000</td><td>186000000</td></tr>\n",
       "\t<tr><th scope=row>30</th><td>1976</td><td> 71117624</td><td> 71117624</td></tr>\n",
       "\t<tr><th scope=row>⋮</th><td>⋮</td><td>⋮</td><td>⋮</td></tr>\n",
       "\t<tr><th scope=row>41</th><td>1987</td><td>44511426</td><td>30857814</td></tr>\n",
       "\t<tr><th scope=row>42</th><td>1988</td><td>40213042</td><td>26750842</td></tr>\n",
       "\t<tr><th scope=row>43</th><td>1989</td><td>53122618</td><td>35267534</td></tr>\n",
       "\t<tr><th scope=row>44</th><td>1990</td><td>83382634</td><td>64083031</td></tr>\n",
       "\t<tr><th scope=row>45</th><td>1991</td><td>53273433</td><td>35183792</td></tr>\n",
       "\t<tr><th scope=row>46</th><td>1992</td><td>70063092</td><td>55473600</td></tr>\n",
       "\t<tr><th scope=row>47</th><td>1993</td><td>54065614</td><td>27939700</td></tr>\n",
       "\t<tr><th scope=row>48</th><td>1994</td><td>66445599</td><td>40600250</td></tr>\n",
       "\t<tr><th scope=row>49</th><td>1995</td><td>47084154</td><td>31968347</td></tr>\n",
       "\t<tr><th scope=row>50</th><td>1996</td><td>46252336</td><td>26722680</td></tr>\n",
       "\t<tr><th scope=row>51</th><td>1997</td><td>51321000</td><td>39647595</td></tr>\n",
       "\t<tr><th scope=row>52</th><td>1998</td><td>46765454</td><td>28079452</td></tr>\n",
       "\t<tr><th scope=row>53</th><td>1999</td><td>42636434</td><td>22326247</td></tr>\n",
       "\t<tr><th scope=row>54</th><td>2000</td><td>46031429</td><td>30199105</td></tr>\n",
       "\t<tr><th scope=row>55</th><td>2001</td><td>46444631</td><td>27087695</td></tr>\n",
       "\t<tr><th scope=row>56</th><td>2002</td><td>50634004</td><td>30259652</td></tr>\n",
       "\t<tr><th scope=row>57</th><td>2003</td><td>55529152</td><td>35119761</td></tr>\n",
       "\t<tr><th scope=row>58</th><td>2004</td><td>49324872</td><td>28165882</td></tr>\n",
       "\t<tr><th scope=row>59</th><td>2005</td><td>44099548</td><td>26082914</td></tr>\n",
       "\t<tr><th scope=row>60</th><td>2006</td><td>45501311</td><td>23078294</td></tr>\n",
       "\t<tr><th scope=row>61</th><td>2007</td><td>53802004</td><td>22466994</td></tr>\n",
       "\t<tr><th scope=row>62</th><td>2008</td><td>51919333</td><td>30398704</td></tr>\n",
       "\t<tr><th scope=row>63</th><td>2009</td><td>56577414</td><td>28501651</td></tr>\n",
       "\t<tr><th scope=row>64</th><td>2010</td><td>60197472</td><td>32549564</td></tr>\n",
       "\t<tr><th scope=row>65</th><td>2011</td><td>55669744</td><td>37295394</td></tr>\n",
       "\t<tr><th scope=row>66</th><td>2012</td><td>67813699</td><td>37016050</td></tr>\n",
       "\t<tr><th scope=row>67</th><td>2013</td><td>67011274</td><td>35266619</td></tr>\n",
       "\t<tr><th scope=row>68</th><td>2014</td><td>66125503</td><td>42475692</td></tr>\n",
       "\t<tr><th scope=row>69</th><td>2015</td><td>74582674</td><td>42535352</td></tr>\n",
       "\t<tr><th scope=row>70</th><td>2016</td><td>78543564</td><td>55461307</td></tr>\n",
       "</tbody>\n",
       "</table>\n"
      ],
      "text/latex": [
       "A tibble: 70 × 3\n",
       "\\begin{tabular}{r|lll}\n",
       "  & ano & media\\_receita & mediana\\_receita\\\\\n",
       "  & <int> & <dbl> & <dbl>\\\\\n",
       "\\hline\n",
       "\t1 & 1920 &   3000000 &   3000000\\\\\n",
       "\t2 & 1929 &   2808000 &   2808000\\\\\n",
       "\t3 & 1933 &   2300000 &   2300000\\\\\n",
       "\t4 & 1935 &   3000000 &   3000000\\\\\n",
       "\t5 & 1936 &    163245 &    163245\\\\\n",
       "\t6 & 1937 & 184925485 & 184925485\\\\\n",
       "\t7 & 1939 & 110428945 & 110428945\\\\\n",
       "\t8 & 1940 &  80350000 &  80350000\\\\\n",
       "\t9 & 1942 & 102797150 & 102797150\\\\\n",
       "\t10 & 1946 &  22025000 &  22025000\\\\\n",
       "\t11 & 1947 &      7927 &      7927\\\\\n",
       "\t12 & 1948 &   2956000 &   2956000\\\\\n",
       "\t13 & 1950 &   8000000 &   8000000\\\\\n",
       "\t14 & 1952 &  36000000 &  36000000\\\\\n",
       "\t15 & 1953 &  20500000 &  20500000\\\\\n",
       "\t16 & 1954 &   9600000 &   9600000\\\\\n",
       "\t17 & 1959 &  25000000 &  25000000\\\\\n",
       "\t18 & 1960 &  32000000 &  32000000\\\\\n",
       "\t19 & 1961 &  43650000 &  43650000\\\\\n",
       "\t20 & 1963 &  46300000 &  46300000\\\\\n",
       "\t21 & 1964 &  58104146 &  72000000\\\\\n",
       "\t22 & 1965 &  70737790 &  59861000\\\\\n",
       "\t23 & 1969 & 102308900 & 102308900\\\\\n",
       "\t24 & 1970 &   9100000 &   9000000\\\\\n",
       "\t25 & 1971 &  21729410 &  15180000\\\\\n",
       "\t26 & 1972 &  67501218 &  67501218\\\\\n",
       "\t27 & 1973 & 119799411 & 137300000\\\\\n",
       "\t28 & 1974 &  60728433 &  48426300\\\\\n",
       "\t29 & 1975 & 186000000 & 186000000\\\\\n",
       "\t30 & 1976 &  71117624 &  71117624\\\\\n",
       "\t⋮ & ⋮ & ⋮ & ⋮\\\\\n",
       "\t41 & 1987 & 44511426 & 30857814\\\\\n",
       "\t42 & 1988 & 40213042 & 26750842\\\\\n",
       "\t43 & 1989 & 53122618 & 35267534\\\\\n",
       "\t44 & 1990 & 83382634 & 64083031\\\\\n",
       "\t45 & 1991 & 53273433 & 35183792\\\\\n",
       "\t46 & 1992 & 70063092 & 55473600\\\\\n",
       "\t47 & 1993 & 54065614 & 27939700\\\\\n",
       "\t48 & 1994 & 66445599 & 40600250\\\\\n",
       "\t49 & 1995 & 47084154 & 31968347\\\\\n",
       "\t50 & 1996 & 46252336 & 26722680\\\\\n",
       "\t51 & 1997 & 51321000 & 39647595\\\\\n",
       "\t52 & 1998 & 46765454 & 28079452\\\\\n",
       "\t53 & 1999 & 42636434 & 22326247\\\\\n",
       "\t54 & 2000 & 46031429 & 30199105\\\\\n",
       "\t55 & 2001 & 46444631 & 27087695\\\\\n",
       "\t56 & 2002 & 50634004 & 30259652\\\\\n",
       "\t57 & 2003 & 55529152 & 35119761\\\\\n",
       "\t58 & 2004 & 49324872 & 28165882\\\\\n",
       "\t59 & 2005 & 44099548 & 26082914\\\\\n",
       "\t60 & 2006 & 45501311 & 23078294\\\\\n",
       "\t61 & 2007 & 53802004 & 22466994\\\\\n",
       "\t62 & 2008 & 51919333 & 30398704\\\\\n",
       "\t63 & 2009 & 56577414 & 28501651\\\\\n",
       "\t64 & 2010 & 60197472 & 32549564\\\\\n",
       "\t65 & 2011 & 55669744 & 37295394\\\\\n",
       "\t66 & 2012 & 67813699 & 37016050\\\\\n",
       "\t67 & 2013 & 67011274 & 35266619\\\\\n",
       "\t68 & 2014 & 66125503 & 42475692\\\\\n",
       "\t69 & 2015 & 74582674 & 42535352\\\\\n",
       "\t70 & 2016 & 78543564 & 55461307\\\\\n",
       "\\end{tabular}\n"
      ],
      "text/markdown": [
       "\n",
       "A tibble: 70 × 3\n",
       "\n",
       "| <!--/--> | ano &lt;int&gt; | media_receita &lt;dbl&gt; | mediana_receita &lt;dbl&gt; |\n",
       "|---|---|---|---|\n",
       "| 1 | 1920 |   3000000 |   3000000 |\n",
       "| 2 | 1929 |   2808000 |   2808000 |\n",
       "| 3 | 1933 |   2300000 |   2300000 |\n",
       "| 4 | 1935 |   3000000 |   3000000 |\n",
       "| 5 | 1936 |    163245 |    163245 |\n",
       "| 6 | 1937 | 184925485 | 184925485 |\n",
       "| 7 | 1939 | 110428945 | 110428945 |\n",
       "| 8 | 1940 |  80350000 |  80350000 |\n",
       "| 9 | 1942 | 102797150 | 102797150 |\n",
       "| 10 | 1946 |  22025000 |  22025000 |\n",
       "| 11 | 1947 |      7927 |      7927 |\n",
       "| 12 | 1948 |   2956000 |   2956000 |\n",
       "| 13 | 1950 |   8000000 |   8000000 |\n",
       "| 14 | 1952 |  36000000 |  36000000 |\n",
       "| 15 | 1953 |  20500000 |  20500000 |\n",
       "| 16 | 1954 |   9600000 |   9600000 |\n",
       "| 17 | 1959 |  25000000 |  25000000 |\n",
       "| 18 | 1960 |  32000000 |  32000000 |\n",
       "| 19 | 1961 |  43650000 |  43650000 |\n",
       "| 20 | 1963 |  46300000 |  46300000 |\n",
       "| 21 | 1964 |  58104146 |  72000000 |\n",
       "| 22 | 1965 |  70737790 |  59861000 |\n",
       "| 23 | 1969 | 102308900 | 102308900 |\n",
       "| 24 | 1970 |   9100000 |   9000000 |\n",
       "| 25 | 1971 |  21729410 |  15180000 |\n",
       "| 26 | 1972 |  67501218 |  67501218 |\n",
       "| 27 | 1973 | 119799411 | 137300000 |\n",
       "| 28 | 1974 |  60728433 |  48426300 |\n",
       "| 29 | 1975 | 186000000 | 186000000 |\n",
       "| 30 | 1976 |  71117624 |  71117624 |\n",
       "| ⋮ | ⋮ | ⋮ | ⋮ |\n",
       "| 41 | 1987 | 44511426 | 30857814 |\n",
       "| 42 | 1988 | 40213042 | 26750842 |\n",
       "| 43 | 1989 | 53122618 | 35267534 |\n",
       "| 44 | 1990 | 83382634 | 64083031 |\n",
       "| 45 | 1991 | 53273433 | 35183792 |\n",
       "| 46 | 1992 | 70063092 | 55473600 |\n",
       "| 47 | 1993 | 54065614 | 27939700 |\n",
       "| 48 | 1994 | 66445599 | 40600250 |\n",
       "| 49 | 1995 | 47084154 | 31968347 |\n",
       "| 50 | 1996 | 46252336 | 26722680 |\n",
       "| 51 | 1997 | 51321000 | 39647595 |\n",
       "| 52 | 1998 | 46765454 | 28079452 |\n",
       "| 53 | 1999 | 42636434 | 22326247 |\n",
       "| 54 | 2000 | 46031429 | 30199105 |\n",
       "| 55 | 2001 | 46444631 | 27087695 |\n",
       "| 56 | 2002 | 50634004 | 30259652 |\n",
       "| 57 | 2003 | 55529152 | 35119761 |\n",
       "| 58 | 2004 | 49324872 | 28165882 |\n",
       "| 59 | 2005 | 44099548 | 26082914 |\n",
       "| 60 | 2006 | 45501311 | 23078294 |\n",
       "| 61 | 2007 | 53802004 | 22466994 |\n",
       "| 62 | 2008 | 51919333 | 30398704 |\n",
       "| 63 | 2009 | 56577414 | 28501651 |\n",
       "| 64 | 2010 | 60197472 | 32549564 |\n",
       "| 65 | 2011 | 55669744 | 37295394 |\n",
       "| 66 | 2012 | 67813699 | 37016050 |\n",
       "| 67 | 2013 | 67011274 | 35266619 |\n",
       "| 68 | 2014 | 66125503 | 42475692 |\n",
       "| 69 | 2015 | 74582674 | 42535352 |\n",
       "| 70 | 2016 | 78543564 | 55461307 |\n",
       "\n"
      ],
      "text/plain": [
       "   ano  media_receita mediana_receita\n",
       "1  1920   3000000       3000000      \n",
       "2  1929   2808000       2808000      \n",
       "3  1933   2300000       2300000      \n",
       "4  1935   3000000       3000000      \n",
       "5  1936    163245        163245      \n",
       "6  1937 184925485     184925485      \n",
       "7  1939 110428945     110428945      \n",
       "8  1940  80350000      80350000      \n",
       "9  1942 102797150     102797150      \n",
       "10 1946  22025000      22025000      \n",
       "11 1947      7927          7927      \n",
       "12 1948   2956000       2956000      \n",
       "13 1950   8000000       8000000      \n",
       "14 1952  36000000      36000000      \n",
       "15 1953  20500000      20500000      \n",
       "16 1954   9600000       9600000      \n",
       "17 1959  25000000      25000000      \n",
       "18 1960  32000000      32000000      \n",
       "19 1961  43650000      43650000      \n",
       "20 1963  46300000      46300000      \n",
       "21 1964  58104146      72000000      \n",
       "22 1965  70737790      59861000      \n",
       "23 1969 102308900     102308900      \n",
       "24 1970   9100000       9000000      \n",
       "25 1971  21729410      15180000      \n",
       "26 1972  67501218      67501218      \n",
       "27 1973 119799411     137300000      \n",
       "28 1974  60728433      48426300      \n",
       "29 1975 186000000     186000000      \n",
       "30 1976  71117624      71117624      \n",
       "⋮  ⋮    ⋮             ⋮              \n",
       "41 1987 44511426      30857814       \n",
       "42 1988 40213042      26750842       \n",
       "43 1989 53122618      35267534       \n",
       "44 1990 83382634      64083031       \n",
       "45 1991 53273433      35183792       \n",
       "46 1992 70063092      55473600       \n",
       "47 1993 54065614      27939700       \n",
       "48 1994 66445599      40600250       \n",
       "49 1995 47084154      31968347       \n",
       "50 1996 46252336      26722680       \n",
       "51 1997 51321000      39647595       \n",
       "52 1998 46765454      28079452       \n",
       "53 1999 42636434      22326247       \n",
       "54 2000 46031429      30199105       \n",
       "55 2001 46444631      27087695       \n",
       "56 2002 50634004      30259652       \n",
       "57 2003 55529152      35119761       \n",
       "58 2004 49324872      28165882       \n",
       "59 2005 44099548      26082914       \n",
       "60 2006 45501311      23078294       \n",
       "61 2007 53802004      22466994       \n",
       "62 2008 51919333      30398704       \n",
       "63 2009 56577414      28501651       \n",
       "64 2010 60197472      32549564       \n",
       "65 2011 55669744      37295394       \n",
       "66 2012 67813699      37016050       \n",
       "67 2013 67011274      35266619       \n",
       "68 2014 66125503      42475692       \n",
       "69 2015 74582674      42535352       \n",
       "70 2016 78543564      55461307       "
      ]
     },
     "metadata": {},
     "output_type": "display_data"
    }
   ],
   "source": [
    "imdb %>% filter(!is.na(receita)) %>% group_by(ano) %>% summarise(media_receita = mean(receita), \n",
    "    mediana_receita = median(receita))"
   ]
  },
  {
   "cell_type": "markdown",
   "id": "furnished-identification",
   "metadata": {},
   "source": [
    "c)"
   ]
  },
  {
   "cell_type": "code",
   "execution_count": 41,
   "id": "stupid-tokyo",
   "metadata": {},
   "outputs": [
    {
     "data": {
      "text/html": [
       "<table class=\"dataframe\">\n",
       "<caption>A grouped_df: 22 × 2</caption>\n",
       "<thead>\n",
       "\t<tr><th scope=col>diretor</th><th scope=col>n</th></tr>\n",
       "\t<tr><th scope=col>&lt;chr&gt;</th><th scope=col>&lt;int&gt;</th></tr>\n",
       "</thead>\n",
       "<tbody>\n",
       "\t<tr><td>Barry Levinson      </td><td>13</td></tr>\n",
       "\t<tr><td>Clint Eastwood      </td><td>20</td></tr>\n",
       "\t<tr><td>Francis Ford Coppola</td><td>11</td></tr>\n",
       "\t<tr><td>John Carpenter      </td><td>12</td></tr>\n",
       "\t<tr><td>Kevin Smith         </td><td>12</td></tr>\n",
       "\t<tr><td>Martin Scorsese     </td><td>20</td></tr>\n",
       "\t<tr><td>Michael Bay         </td><td>13</td></tr>\n",
       "\t<tr><td>Renny Harlin        </td><td>14</td></tr>\n",
       "\t<tr><td>Ridley Scott        </td><td>14</td></tr>\n",
       "\t<tr><td>Rob Cohen           </td><td>11</td></tr>\n",
       "\t<tr><td>Rob Reiner          </td><td>11</td></tr>\n",
       "\t<tr><td>Robert Rodriguez    </td><td>12</td></tr>\n",
       "\t<tr><td>Robert Zemeckis     </td><td>13</td></tr>\n",
       "\t<tr><td>Ron Howard          </td><td>12</td></tr>\n",
       "\t<tr><td>Sam Raimi           </td><td>11</td></tr>\n",
       "\t<tr><td>Shawn Levy          </td><td>12</td></tr>\n",
       "\t<tr><td>Spike Lee           </td><td>16</td></tr>\n",
       "\t<tr><td>Steven Soderbergh   </td><td>15</td></tr>\n",
       "\t<tr><td>Steven Spielberg    </td><td>24</td></tr>\n",
       "\t<tr><td>Tim Burton          </td><td>16</td></tr>\n",
       "\t<tr><td>Wes Craven          </td><td>12</td></tr>\n",
       "\t<tr><td>Woody Allen         </td><td>18</td></tr>\n",
       "</tbody>\n",
       "</table>\n"
      ],
      "text/latex": [
       "A grouped\\_df: 22 × 2\n",
       "\\begin{tabular}{ll}\n",
       " diretor & n\\\\\n",
       " <chr> & <int>\\\\\n",
       "\\hline\n",
       "\t Barry Levinson       & 13\\\\\n",
       "\t Clint Eastwood       & 20\\\\\n",
       "\t Francis Ford Coppola & 11\\\\\n",
       "\t John Carpenter       & 12\\\\\n",
       "\t Kevin Smith          & 12\\\\\n",
       "\t Martin Scorsese      & 20\\\\\n",
       "\t Michael Bay          & 13\\\\\n",
       "\t Renny Harlin         & 14\\\\\n",
       "\t Ridley Scott         & 14\\\\\n",
       "\t Rob Cohen            & 11\\\\\n",
       "\t Rob Reiner           & 11\\\\\n",
       "\t Robert Rodriguez     & 12\\\\\n",
       "\t Robert Zemeckis      & 13\\\\\n",
       "\t Ron Howard           & 12\\\\\n",
       "\t Sam Raimi            & 11\\\\\n",
       "\t Shawn Levy           & 12\\\\\n",
       "\t Spike Lee            & 16\\\\\n",
       "\t Steven Soderbergh    & 15\\\\\n",
       "\t Steven Spielberg     & 24\\\\\n",
       "\t Tim Burton           & 16\\\\\n",
       "\t Wes Craven           & 12\\\\\n",
       "\t Woody Allen          & 18\\\\\n",
       "\\end{tabular}\n"
      ],
      "text/markdown": [
       "\n",
       "A grouped_df: 22 × 2\n",
       "\n",
       "| diretor &lt;chr&gt; | n &lt;int&gt; |\n",
       "|---|---|\n",
       "| Barry Levinson       | 13 |\n",
       "| Clint Eastwood       | 20 |\n",
       "| Francis Ford Coppola | 11 |\n",
       "| John Carpenter       | 12 |\n",
       "| Kevin Smith          | 12 |\n",
       "| Martin Scorsese      | 20 |\n",
       "| Michael Bay          | 13 |\n",
       "| Renny Harlin         | 14 |\n",
       "| Ridley Scott         | 14 |\n",
       "| Rob Cohen            | 11 |\n",
       "| Rob Reiner           | 11 |\n",
       "| Robert Rodriguez     | 12 |\n",
       "| Robert Zemeckis      | 13 |\n",
       "| Ron Howard           | 12 |\n",
       "| Sam Raimi            | 11 |\n",
       "| Shawn Levy           | 12 |\n",
       "| Spike Lee            | 16 |\n",
       "| Steven Soderbergh    | 15 |\n",
       "| Steven Spielberg     | 24 |\n",
       "| Tim Burton           | 16 |\n",
       "| Wes Craven           | 12 |\n",
       "| Woody Allen          | 18 |\n",
       "\n"
      ],
      "text/plain": [
       "   diretor              n \n",
       "1  Barry Levinson       13\n",
       "2  Clint Eastwood       20\n",
       "3  Francis Ford Coppola 11\n",
       "4  John Carpenter       12\n",
       "5  Kevin Smith          12\n",
       "6  Martin Scorsese      20\n",
       "7  Michael Bay          13\n",
       "8  Renny Harlin         14\n",
       "9  Ridley Scott         14\n",
       "10 Rob Cohen            11\n",
       "11 Rob Reiner           11\n",
       "12 Robert Rodriguez     12\n",
       "13 Robert Zemeckis      13\n",
       "14 Ron Howard           12\n",
       "15 Sam Raimi            11\n",
       "16 Shawn Levy           12\n",
       "17 Spike Lee            16\n",
       "18 Steven Soderbergh    15\n",
       "19 Steven Spielberg     24\n",
       "20 Tim Burton           16\n",
       "21 Wes Craven           12\n",
       "22 Woody Allen          18"
      ]
     },
     "metadata": {},
     "output_type": "display_data"
    }
   ],
   "source": [
    "imdb %>% filter(!is.na(diretor)) %>% group_by(diretor) %>% count(diretor) %>% filter(n > \n",
    "    10)"
   ]
  },
  {
   "cell_type": "markdown",
   "id": "future-formula",
   "metadata": {},
   "source": [
    "## Exercícios 7.2.7\n",
    "\n",
    "1) a)"
   ]
  },
  {
   "cell_type": "code",
   "execution_count": 47,
   "id": "mysterious-cotton",
   "metadata": {},
   "outputs": [
    {
     "data": {
      "text/html": [
       "<table class=\"dataframe\">\n",
       "<caption>A tibble: 6 × 2</caption>\n",
       "<thead>\n",
       "\t<tr><th scope=col>diretor</th><th scope=col>media_nota_imdb</th></tr>\n",
       "\t<tr><th scope=col>&lt;chr&gt;</th><th scope=col>&lt;dbl&gt;</th></tr>\n",
       "</thead>\n",
       "<tbody>\n",
       "\t<tr><td>A. Raven Cruz  </td><td>1.9</td></tr>\n",
       "\t<tr><td>Aaron Hann     </td><td>6.0</td></tr>\n",
       "\t<tr><td>Aaron Schneider</td><td>7.1</td></tr>\n",
       "\t<tr><td>Aaron Seltzer  </td><td>2.7</td></tr>\n",
       "\t<tr><td>Abel Ferrara   </td><td>6.6</td></tr>\n",
       "\t<tr><td>Adam Carolla   </td><td>6.1</td></tr>\n",
       "</tbody>\n",
       "</table>\n"
      ],
      "text/latex": [
       "A tibble: 6 × 2\n",
       "\\begin{tabular}{ll}\n",
       " diretor & media\\_nota\\_imdb\\\\\n",
       " <chr> & <dbl>\\\\\n",
       "\\hline\n",
       "\t A. Raven Cruz   & 1.9\\\\\n",
       "\t Aaron Hann      & 6.0\\\\\n",
       "\t Aaron Schneider & 7.1\\\\\n",
       "\t Aaron Seltzer   & 2.7\\\\\n",
       "\t Abel Ferrara    & 6.6\\\\\n",
       "\t Adam Carolla    & 6.1\\\\\n",
       "\\end{tabular}\n"
      ],
      "text/markdown": [
       "\n",
       "A tibble: 6 × 2\n",
       "\n",
       "| diretor &lt;chr&gt; | media_nota_imdb &lt;dbl&gt; |\n",
       "|---|---|\n",
       "| A. Raven Cruz   | 1.9 |\n",
       "| Aaron Hann      | 6.0 |\n",
       "| Aaron Schneider | 7.1 |\n",
       "| Aaron Seltzer   | 2.7 |\n",
       "| Abel Ferrara    | 6.6 |\n",
       "| Adam Carolla    | 6.1 |\n",
       "\n"
      ],
      "text/plain": [
       "  diretor         media_nota_imdb\n",
       "1 A. Raven Cruz   1.9            \n",
       "2 Aaron Hann      6.0            \n",
       "3 Aaron Schneider 7.1            \n",
       "4 Aaron Seltzer   2.7            \n",
       "5 Abel Ferrara    6.6            \n",
       "6 Adam Carolla    6.1            "
      ]
     },
     "metadata": {},
     "output_type": "display_data"
    }
   ],
   "source": [
    "imdb_diretores_nota <- imdb %>% group_by(diretor) %>% summarise(media_nota_imdb = mean(nota_imdb, \n",
    "    na.rm = T)) %>% select(diretor, media_nota_imdb)\n",
    "\n",
    "head(imdb_diretores_nota)"
   ]
  },
  {
   "cell_type": "markdown",
   "id": "freelance-empire",
   "metadata": {},
   "source": [
    "b)"
   ]
  },
  {
   "cell_type": "code",
   "execution_count": 49,
   "id": "textile-egyptian",
   "metadata": {},
   "outputs": [
    {
     "data": {
      "text/html": [
       "<table class=\"dataframe\">\n",
       "<caption>A tibble: 6 × 16</caption>\n",
       "<thead>\n",
       "\t<tr><th scope=col>titulo</th><th scope=col>ano</th><th scope=col>diretor</th><th scope=col>duracao</th><th scope=col>cor</th><th scope=col>generos</th><th scope=col>pais</th><th scope=col>classificacao</th><th scope=col>orcamento</th><th scope=col>receita</th><th scope=col>nota_imdb</th><th scope=col>likes_facebook</th><th scope=col>ator_1</th><th scope=col>ator_2</th><th scope=col>ator_3</th><th scope=col>media_nota_imdb</th></tr>\n",
       "\t<tr><th scope=col>&lt;chr&gt;</th><th scope=col>&lt;int&gt;</th><th scope=col>&lt;chr&gt;</th><th scope=col>&lt;int&gt;</th><th scope=col>&lt;chr&gt;</th><th scope=col>&lt;chr&gt;</th><th scope=col>&lt;chr&gt;</th><th scope=col>&lt;chr&gt;</th><th scope=col>&lt;int&gt;</th><th scope=col>&lt;int&gt;</th><th scope=col>&lt;dbl&gt;</th><th scope=col>&lt;int&gt;</th><th scope=col>&lt;chr&gt;</th><th scope=col>&lt;chr&gt;</th><th scope=col>&lt;chr&gt;</th><th scope=col>&lt;dbl&gt;</th></tr>\n",
       "</thead>\n",
       "<tbody>\n",
       "\t<tr><td>The Helix... Loaded </td><td>2005</td><td>A. Raven Cruz  </td><td> 97</td><td>Color</td><td>Action|Adventure|Comedy|Fantasy|Sci-Fi</td><td>USA</td><td>A partir de 18 anos</td><td> 1000000</td><td>      NA</td><td>1.9</td><td>128</td><td>Scott Levy         </td><td>Vanilla Ice       </td><td>Jennifer Sky         </td><td>1.9</td></tr>\n",
       "\t<tr><td>Circle              </td><td>2015</td><td>Aaron Hann     </td><td> 87</td><td>Color</td><td>Drama|Horror|Mystery|Sci-Fi|Thriller  </td><td>USA</td><td>Outros             </td><td>      NA</td><td>      NA</td><td>6.0</td><td>  0</td><td>Jordi Vilasuso     </td><td>Michael McLafferty</td><td>Kaiwi Lyman-Mersereau</td><td>6.0</td></tr>\n",
       "\t<tr><td>Get Low             </td><td>2009</td><td>Aaron Schneider</td><td>100</td><td>Color</td><td>Drama|Mystery                         </td><td>USA</td><td>A partir de 13 anos</td><td> 7500000</td><td> 9176553</td><td>7.1</td><td>  0</td><td>Bill Murray        </td><td>Robert Duvall     </td><td>Bill Cobbs           </td><td>7.1</td></tr>\n",
       "\t<tr><td>Date Movie          </td><td>2006</td><td>Aaron Seltzer  </td><td> 85</td><td>Color</td><td>Comedy|Romance                        </td><td>USA</td><td>A partir de 13 anos</td><td>20000000</td><td>48546578</td><td>2.7</td><td>806</td><td>Alyson Hannigan    </td><td>Carmen Electra    </td><td>Fred Willard         </td><td>2.7</td></tr>\n",
       "\t<tr><td>The Funeral         </td><td>1996</td><td>Abel Ferrara   </td><td> 99</td><td>Color</td><td>Crime|Drama                           </td><td>USA</td><td>A partir de 18 anos</td><td>12500000</td><td> 1227324</td><td>6.6</td><td>344</td><td>Isabella Rossellini</td><td>Vincent Gallo     </td><td>Gretchen Mol         </td><td>6.6</td></tr>\n",
       "\t<tr><td>Road Hard           </td><td>2015</td><td>Adam Carolla   </td><td> 98</td><td>Color</td><td>Comedy                                </td><td>USA</td><td>Outros             </td><td> 1500000</td><td>  105943</td><td>6.1</td><td>212</td><td>Jay Mohr           </td><td>Jim O'Heir        </td><td>David Alan Grier     </td><td>6.1</td></tr>\n",
       "</tbody>\n",
       "</table>\n"
      ],
      "text/latex": [
       "A tibble: 6 × 16\n",
       "\\begin{tabular}{llllllllllllllll}\n",
       " titulo & ano & diretor & duracao & cor & generos & pais & classificacao & orcamento & receita & nota\\_imdb & likes\\_facebook & ator\\_1 & ator\\_2 & ator\\_3 & media\\_nota\\_imdb\\\\\n",
       " <chr> & <int> & <chr> & <int> & <chr> & <chr> & <chr> & <chr> & <int> & <int> & <dbl> & <int> & <chr> & <chr> & <chr> & <dbl>\\\\\n",
       "\\hline\n",
       "\t The Helix... Loaded  & 2005 & A. Raven Cruz   &  97 & Color & Action\\textbar{}Adventure\\textbar{}Comedy\\textbar{}Fantasy\\textbar{}Sci-Fi & USA & A partir de 18 anos &  1000000 &       NA & 1.9 & 128 & Scott Levy          & Vanilla Ice        & Jennifer Sky          & 1.9\\\\\n",
       "\t Circle               & 2015 & Aaron Hann      &  87 & Color & Drama\\textbar{}Horror\\textbar{}Mystery\\textbar{}Sci-Fi\\textbar{}Thriller   & USA & Outros              &       NA &       NA & 6.0 &   0 & Jordi Vilasuso      & Michael McLafferty & Kaiwi Lyman-Mersereau & 6.0\\\\\n",
       "\t Get Low              & 2009 & Aaron Schneider & 100 & Color & Drama\\textbar{}Mystery                          & USA & A partir de 13 anos &  7500000 &  9176553 & 7.1 &   0 & Bill Murray         & Robert Duvall      & Bill Cobbs            & 7.1\\\\\n",
       "\t Date Movie           & 2006 & Aaron Seltzer   &  85 & Color & Comedy\\textbar{}Romance                         & USA & A partir de 13 anos & 20000000 & 48546578 & 2.7 & 806 & Alyson Hannigan     & Carmen Electra     & Fred Willard          & 2.7\\\\\n",
       "\t The Funeral          & 1996 & Abel Ferrara    &  99 & Color & Crime\\textbar{}Drama                            & USA & A partir de 18 anos & 12500000 &  1227324 & 6.6 & 344 & Isabella Rossellini & Vincent Gallo      & Gretchen Mol          & 6.6\\\\\n",
       "\t Road Hard            & 2015 & Adam Carolla    &  98 & Color & Comedy                                 & USA & Outros              &  1500000 &   105943 & 6.1 & 212 & Jay Mohr            & Jim O'Heir         & David Alan Grier      & 6.1\\\\\n",
       "\\end{tabular}\n"
      ],
      "text/markdown": [
       "\n",
       "A tibble: 6 × 16\n",
       "\n",
       "| titulo &lt;chr&gt; | ano &lt;int&gt; | diretor &lt;chr&gt; | duracao &lt;int&gt; | cor &lt;chr&gt; | generos &lt;chr&gt; | pais &lt;chr&gt; | classificacao &lt;chr&gt; | orcamento &lt;int&gt; | receita &lt;int&gt; | nota_imdb &lt;dbl&gt; | likes_facebook &lt;int&gt; | ator_1 &lt;chr&gt; | ator_2 &lt;chr&gt; | ator_3 &lt;chr&gt; | media_nota_imdb &lt;dbl&gt; |\n",
       "|---|---|---|---|---|---|---|---|---|---|---|---|---|---|---|---|\n",
       "| The Helix... Loaded  | 2005 | A. Raven Cruz   |  97 | Color | Action|Adventure|Comedy|Fantasy|Sci-Fi | USA | A partir de 18 anos |  1000000 |       NA | 1.9 | 128 | Scott Levy          | Vanilla Ice        | Jennifer Sky          | 1.9 |\n",
       "| Circle               | 2015 | Aaron Hann      |  87 | Color | Drama|Horror|Mystery|Sci-Fi|Thriller   | USA | Outros              |       NA |       NA | 6.0 |   0 | Jordi Vilasuso      | Michael McLafferty | Kaiwi Lyman-Mersereau | 6.0 |\n",
       "| Get Low              | 2009 | Aaron Schneider | 100 | Color | Drama|Mystery                          | USA | A partir de 13 anos |  7500000 |  9176553 | 7.1 |   0 | Bill Murray         | Robert Duvall      | Bill Cobbs            | 7.1 |\n",
       "| Date Movie           | 2006 | Aaron Seltzer   |  85 | Color | Comedy|Romance                         | USA | A partir de 13 anos | 20000000 | 48546578 | 2.7 | 806 | Alyson Hannigan     | Carmen Electra     | Fred Willard          | 2.7 |\n",
       "| The Funeral          | 1996 | Abel Ferrara    |  99 | Color | Crime|Drama                            | USA | A partir de 18 anos | 12500000 |  1227324 | 6.6 | 344 | Isabella Rossellini | Vincent Gallo      | Gretchen Mol          | 6.6 |\n",
       "| Road Hard            | 2015 | Adam Carolla    |  98 | Color | Comedy                                 | USA | Outros              |  1500000 |   105943 | 6.1 | 212 | Jay Mohr            | Jim O'Heir         | David Alan Grier      | 6.1 |\n",
       "\n"
      ],
      "text/plain": [
       "  titulo               ano  diretor         duracao cor  \n",
       "1 The Helix... Loaded  2005 A. Raven Cruz    97     Color\n",
       "2 Circle               2015 Aaron Hann       87     Color\n",
       "3 Get Low              2009 Aaron Schneider 100     Color\n",
       "4 Date Movie           2006 Aaron Seltzer    85     Color\n",
       "5 The Funeral          1996 Abel Ferrara     99     Color\n",
       "6 Road Hard            2015 Adam Carolla     98     Color\n",
       "  generos                                pais classificacao       orcamento\n",
       "1 Action|Adventure|Comedy|Fantasy|Sci-Fi USA  A partir de 18 anos  1000000 \n",
       "2 Drama|Horror|Mystery|Sci-Fi|Thriller   USA  Outros                    NA \n",
       "3 Drama|Mystery                          USA  A partir de 13 anos  7500000 \n",
       "4 Comedy|Romance                         USA  A partir de 13 anos 20000000 \n",
       "5 Crime|Drama                            USA  A partir de 18 anos 12500000 \n",
       "6 Comedy                                 USA  Outros               1500000 \n",
       "  receita  nota_imdb likes_facebook ator_1              ator_2            \n",
       "1       NA 1.9       128            Scott Levy          Vanilla Ice       \n",
       "2       NA 6.0         0            Jordi Vilasuso      Michael McLafferty\n",
       "3  9176553 7.1         0            Bill Murray         Robert Duvall     \n",
       "4 48546578 2.7       806            Alyson Hannigan     Carmen Electra    \n",
       "5  1227324 6.6       344            Isabella Rossellini Vincent Gallo     \n",
       "6   105943 6.1       212            Jay Mohr            Jim O'Heir        \n",
       "  ator_3                media_nota_imdb\n",
       "1 Jennifer Sky          1.9            \n",
       "2 Kaiwi Lyman-Mersereau 6.0            \n",
       "3 Bill Cobbs            7.1            \n",
       "4 Fred Willard          2.7            \n",
       "5 Gretchen Mol          6.6            \n",
       "6 David Alan Grier      6.1            "
      ]
     },
     "metadata": {},
     "output_type": "display_data"
    }
   ],
   "source": [
    "head(left_join(imdb, imdb_diretores_nota, by = \"diretor\") %>% arrange(diretor))"
   ]
  }
 ],
 "metadata": {
  "kernelspec": {
   "display_name": "R",
   "language": "R",
   "name": "ir"
  },
  "language_info": {
   "codemirror_mode": "r",
   "file_extension": ".r",
   "mimetype": "text/x-r-source",
   "name": "R",
   "pygments_lexer": "r",
   "version": "4.0.3"
  }
 },
 "nbformat": 4,
 "nbformat_minor": 5
}
