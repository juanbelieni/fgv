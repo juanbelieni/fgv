{
 "cells": [
  {
   "cell_type": "markdown",
   "id": "covered-dynamics",
   "metadata": {},
   "source": [
    "# Exercício 4\n",
    "\n",
    "Exercícios referentes à **lista 3**: 1, 4, 7, 9, 11, 14, 19, 20, 27, 34, 35, 36.\n",
    "\n",
    "Importando os pacotes necessários e os dados da tabela 2.1:"
   ]
  },
  {
   "cell_type": "code",
   "execution_count": 25,
   "id": "suited-combine",
   "metadata": {},
   "outputs": [
    {
     "data": {
      "text/html": [
       "<table class=\"dataframe\">\n",
       "<caption>A data.frame: 6 × 8</caption>\n",
       "<thead>\n",
       "\t<tr><th></th><th scope=col>n</th><th scope=col>estado_civil</th><th scope=col>grau_instrucao</th><th scope=col>filhos</th><th scope=col>salario</th><th scope=col>idade_anos</th><th scope=col>idade_meses</th><th scope=col>regiao_procedencia</th></tr>\n",
       "\t<tr><th></th><th scope=col>&lt;int&gt;</th><th scope=col>&lt;chr&gt;</th><th scope=col>&lt;chr&gt;</th><th scope=col>&lt;int&gt;</th><th scope=col>&lt;dbl&gt;</th><th scope=col>&lt;int&gt;</th><th scope=col>&lt;int&gt;</th><th scope=col>&lt;chr&gt;</th></tr>\n",
       "</thead>\n",
       "<tbody>\n",
       "\t<tr><th scope=row>1</th><td>1</td><td>solteiro</td><td>ensino fundamental</td><td>NA</td><td>4.00</td><td>26</td><td> 3</td><td>interior</td></tr>\n",
       "\t<tr><th scope=row>2</th><td>2</td><td>casado  </td><td>ensino fundamental</td><td> 1</td><td>4.56</td><td>32</td><td>10</td><td>capital </td></tr>\n",
       "\t<tr><th scope=row>3</th><td>3</td><td>casado  </td><td>ensino fundamental</td><td> 2</td><td>5.25</td><td>36</td><td> 5</td><td>capital </td></tr>\n",
       "\t<tr><th scope=row>4</th><td>4</td><td>solteiro</td><td>ensino médio      </td><td>NA</td><td>5.73</td><td>20</td><td>10</td><td>outra   </td></tr>\n",
       "\t<tr><th scope=row>5</th><td>5</td><td>solteiro</td><td>ensino fundamental</td><td>NA</td><td>6.26</td><td>40</td><td> 7</td><td>outra   </td></tr>\n",
       "\t<tr><th scope=row>6</th><td>6</td><td>casado  </td><td>ensino fundamental</td><td> 0</td><td>6.66</td><td>28</td><td> 0</td><td>interior</td></tr>\n",
       "</tbody>\n",
       "</table>\n"
      ],
      "text/latex": [
       "A data.frame: 6 × 8\n",
       "\\begin{tabular}{r|llllllll}\n",
       "  & n & estado\\_civil & grau\\_instrucao & filhos & salario & idade\\_anos & idade\\_meses & regiao\\_procedencia\\\\\n",
       "  & <int> & <chr> & <chr> & <int> & <dbl> & <int> & <int> & <chr>\\\\\n",
       "\\hline\n",
       "\t1 & 1 & solteiro & ensino fundamental & NA & 4.00 & 26 &  3 & interior\\\\\n",
       "\t2 & 2 & casado   & ensino fundamental &  1 & 4.56 & 32 & 10 & capital \\\\\n",
       "\t3 & 3 & casado   & ensino fundamental &  2 & 5.25 & 36 &  5 & capital \\\\\n",
       "\t4 & 4 & solteiro & ensino médio       & NA & 5.73 & 20 & 10 & outra   \\\\\n",
       "\t5 & 5 & solteiro & ensino fundamental & NA & 6.26 & 40 &  7 & outra   \\\\\n",
       "\t6 & 6 & casado   & ensino fundamental &  0 & 6.66 & 28 &  0 & interior\\\\\n",
       "\\end{tabular}\n"
      ],
      "text/markdown": [
       "\n",
       "A data.frame: 6 × 8\n",
       "\n",
       "| <!--/--> | n &lt;int&gt; | estado_civil &lt;chr&gt; | grau_instrucao &lt;chr&gt; | filhos &lt;int&gt; | salario &lt;dbl&gt; | idade_anos &lt;int&gt; | idade_meses &lt;int&gt; | regiao_procedencia &lt;chr&gt; |\n",
       "|---|---|---|---|---|---|---|---|---|\n",
       "| 1 | 1 | solteiro | ensino fundamental | NA | 4.00 | 26 |  3 | interior |\n",
       "| 2 | 2 | casado   | ensino fundamental |  1 | 4.56 | 32 | 10 | capital  |\n",
       "| 3 | 3 | casado   | ensino fundamental |  2 | 5.25 | 36 |  5 | capital  |\n",
       "| 4 | 4 | solteiro | ensino médio       | NA | 5.73 | 20 | 10 | outra    |\n",
       "| 5 | 5 | solteiro | ensino fundamental | NA | 6.26 | 40 |  7 | outra    |\n",
       "| 6 | 6 | casado   | ensino fundamental |  0 | 6.66 | 28 |  0 | interior |\n",
       "\n"
      ],
      "text/plain": [
       "  n estado_civil grau_instrucao     filhos salario idade_anos idade_meses\n",
       "1 1 solteiro     ensino fundamental NA     4.00    26          3         \n",
       "2 2 casado       ensino fundamental  1     4.56    32         10         \n",
       "3 3 casado       ensino fundamental  2     5.25    36          5         \n",
       "4 4 solteiro     ensino médio       NA     5.73    20         10         \n",
       "5 5 solteiro     ensino fundamental NA     6.26    40          7         \n",
       "6 6 casado       ensino fundamental  0     6.66    28          0         \n",
       "  regiao_procedencia\n",
       "1 interior          \n",
       "2 capital           \n",
       "3 capital           \n",
       "4 outra             \n",
       "5 outra             \n",
       "6 interior          "
      ]
     },
     "metadata": {},
     "output_type": "display_data"
    }
   ],
   "source": [
    "suppressMessages(install.packages(\"janitor\"))\n",
    "\n",
    "suppressPackageStartupMessages(library(\"dplyr\"))\n",
    "suppressPackageStartupMessages(library(\"scales\"))\n",
    "suppressPackageStartupMessages(library(\"ggplot2\"))\n",
    "suppressPackageStartupMessages(library(\"janitor\"))\n",
    "funcionarios <- read.csv(\"tabela_2_1.csv\")\n",
    "\n",
    "head(funcionarios)"
   ]
  },
  {
   "cell_type": "markdown",
   "id": "martial-seating",
   "metadata": {},
   "source": [
    "1) a)"
   ]
  },
  {
   "cell_type": "code",
   "execution_count": 17,
   "id": "joined-sacramento",
   "metadata": {},
   "outputs": [
    {
     "data": {
      "text/html": [
       "<table class=\"dataframe\">\n",
       "<caption>A tabyl: 4 × 5</caption>\n",
       "<thead>\n",
       "\t<tr><th></th><th scope=col>regiao_procedencia</th><th scope=col>ensino fundamental</th><th scope=col>ensino médio</th><th scope=col>superior</th><th scope=col>Total</th></tr>\n",
       "\t<tr><th></th><th scope=col>&lt;chr&gt;</th><th scope=col>&lt;chr&gt;</th><th scope=col>&lt;chr&gt;</th><th scope=col>&lt;chr&gt;</th><th scope=col>&lt;chr&gt;</th></tr>\n",
       "</thead>\n",
       "<tbody>\n",
       "\t<tr><th scope=row>1</th><td>capital </td><td>11.11%</td><td>13.89%</td><td>5.56% </td><td>30.56% </td></tr>\n",
       "\t<tr><th scope=row>2</th><td>interior</td><td>8.33% </td><td>19.44%</td><td>5.56% </td><td>33.33% </td></tr>\n",
       "\t<tr><th scope=row>3</th><td>outra   </td><td>13.89%</td><td>16.67%</td><td>5.56% </td><td>36.11% </td></tr>\n",
       "\t<tr><th scope=row>4</th><td>Total   </td><td>33.33%</td><td>50.00%</td><td>16.67%</td><td>100.00%</td></tr>\n",
       "</tbody>\n",
       "</table>\n"
      ],
      "text/latex": [
       "A tabyl: 4 × 5\n",
       "\\begin{tabular}{r|lllll}\n",
       "  & regiao\\_procedencia & ensino fundamental & ensino médio & superior & Total\\\\\n",
       "  & <chr> & <chr> & <chr> & <chr> & <chr>\\\\\n",
       "\\hline\n",
       "\t1 & capital  & 11.11\\% & 13.89\\% & 5.56\\%  & 30.56\\% \\\\\n",
       "\t2 & interior & 8.33\\%  & 19.44\\% & 5.56\\%  & 33.33\\% \\\\\n",
       "\t3 & outra    & 13.89\\% & 16.67\\% & 5.56\\%  & 36.11\\% \\\\\n",
       "\t4 & Total    & 33.33\\% & 50.00\\% & 16.67\\% & 100.00\\%\\\\\n",
       "\\end{tabular}\n"
      ],
      "text/markdown": [
       "\n",
       "A tabyl: 4 × 5\n",
       "\n",
       "| <!--/--> | regiao_procedencia &lt;chr&gt; | ensino fundamental &lt;chr&gt; | ensino médio &lt;chr&gt; | superior &lt;chr&gt; | Total &lt;chr&gt; |\n",
       "|---|---|---|---|---|---|\n",
       "| 1 | capital  | 11.11% | 13.89% | 5.56%  | 30.56%  |\n",
       "| 2 | interior | 8.33%  | 19.44% | 5.56%  | 33.33%  |\n",
       "| 3 | outra    | 13.89% | 16.67% | 5.56%  | 36.11%  |\n",
       "| 4 | Total    | 33.33% | 50.00% | 16.67% | 100.00% |\n",
       "\n"
      ],
      "text/plain": [
       "  regiao_procedencia ensino fundamental ensino médio superior Total  \n",
       "1 capital            11.11%             13.89%       5.56%    30.56% \n",
       "2 interior           8.33%              19.44%       5.56%    33.33% \n",
       "3 outra              13.89%             16.67%       5.56%    36.11% \n",
       "4 Total              33.33%             50.00%       16.67%   100.00%"
      ]
     },
     "metadata": {},
     "output_type": "display_data"
    }
   ],
   "source": [
    "funcionarios %>% tabyl(regiao_procedencia, grau_instrucao) %>% adorn_totals(\"row\") %>% \n",
    "    adorn_totals(\"col\") %>% adorn_percentages(\"all\") %>% adorn_pct_formatting(digits = 2)"
   ]
  },
  {
   "cell_type": "markdown",
   "id": "excited-watson",
   "metadata": {},
   "source": [
    "b)"
   ]
  },
  {
   "cell_type": "code",
   "execution_count": 53,
   "id": "following-portland",
   "metadata": {},
   "outputs": [
    {
     "data": {
      "text/html": [
       "<table class=\"dataframe\">\n",
       "<caption>A data.frame: 1 × 3</caption>\n",
       "<thead>\n",
       "\t<tr><th scope=col>grau_instrucao</th><th scope=col>n</th><th scope=col>proporcao</th></tr>\n",
       "\t<tr><th scope=col>&lt;chr&gt;</th><th scope=col>&lt;int&gt;</th><th scope=col>&lt;chr&gt;</th></tr>\n",
       "</thead>\n",
       "<tbody>\n",
       "\t<tr><td>ensino médio</td><td>18</td><td>50%</td></tr>\n",
       "</tbody>\n",
       "</table>\n"
      ],
      "text/latex": [
       "A data.frame: 1 × 3\n",
       "\\begin{tabular}{lll}\n",
       " grau\\_instrucao & n & proporcao\\\\\n",
       " <chr> & <int> & <chr>\\\\\n",
       "\\hline\n",
       "\t ensino médio & 18 & 50\\%\\\\\n",
       "\\end{tabular}\n"
      ],
      "text/markdown": [
       "\n",
       "A data.frame: 1 × 3\n",
       "\n",
       "| grau_instrucao &lt;chr&gt; | n &lt;int&gt; | proporcao &lt;chr&gt; |\n",
       "|---|---|---|\n",
       "| ensino médio | 18 | 50% |\n",
       "\n"
      ],
      "text/plain": [
       "  grau_instrucao n  proporcao\n",
       "1 ensino médio   18 50%      "
      ]
     },
     "metadata": {},
     "output_type": "display_data"
    }
   ],
   "source": [
    "funcionarios %>% count(grau_instrucao) %>% mutate(proporcao = percent(n/sum(n))) %>% \n",
    "    filter(grau_instrucao == \"ensino médio\")"
   ]
  },
  {
   "cell_type": "markdown",
   "id": "purple-fever",
   "metadata": {},
   "source": [
    "c)"
   ]
  },
  {
   "cell_type": "code",
   "execution_count": 54,
   "id": "black-kingston",
   "metadata": {},
   "outputs": [
    {
     "data": {
      "text/html": [
       "<table class=\"dataframe\">\n",
       "<caption>A data.frame: 1 × 4</caption>\n",
       "<thead>\n",
       "\t<tr><th scope=col>grau_instrucao</th><th scope=col>regiao_procedencia</th><th scope=col>n</th><th scope=col>proporcao</th></tr>\n",
       "\t<tr><th scope=col>&lt;chr&gt;</th><th scope=col>&lt;chr&gt;</th><th scope=col>&lt;int&gt;</th><th scope=col>&lt;chr&gt;</th></tr>\n",
       "</thead>\n",
       "<tbody>\n",
       "\t<tr><td>ensino médio</td><td>interior</td><td>7</td><td>19.4%</td></tr>\n",
       "</tbody>\n",
       "</table>\n"
      ],
      "text/latex": [
       "A data.frame: 1 × 4\n",
       "\\begin{tabular}{llll}\n",
       " grau\\_instrucao & regiao\\_procedencia & n & proporcao\\\\\n",
       " <chr> & <chr> & <int> & <chr>\\\\\n",
       "\\hline\n",
       "\t ensino médio & interior & 7 & 19.4\\%\\\\\n",
       "\\end{tabular}\n"
      ],
      "text/markdown": [
       "\n",
       "A data.frame: 1 × 4\n",
       "\n",
       "| grau_instrucao &lt;chr&gt; | regiao_procedencia &lt;chr&gt; | n &lt;int&gt; | proporcao &lt;chr&gt; |\n",
       "|---|---|---|---|\n",
       "| ensino médio | interior | 7 | 19.4% |\n",
       "\n"
      ],
      "text/plain": [
       "  grau_instrucao regiao_procedencia n proporcao\n",
       "1 ensino médio   interior           7 19.4%    "
      ]
     },
     "metadata": {},
     "output_type": "display_data"
    }
   ],
   "source": [
    "funcionarios %>% count(grau_instrucao, regiao_procedencia) %>% mutate(proporcao = percent(n/sum(n))) %>% \n",
    "    filter(grau_instrucao == \"ensino médio\" & regiao_procedencia == \"interior\")"
   ]
  },
  {
   "cell_type": "markdown",
   "id": "certified-slovak",
   "metadata": {},
   "source": [
    "d)"
   ]
  },
  {
   "cell_type": "code",
   "execution_count": 55,
   "id": "continuing-ordinance",
   "metadata": {},
   "outputs": [
    {
     "data": {
      "text/html": [
       "<table class=\"dataframe\">\n",
       "<caption>A data.frame: 1 × 3</caption>\n",
       "<thead>\n",
       "\t<tr><th scope=col>grau_instrucao</th><th scope=col>n</th><th scope=col>proporcao</th></tr>\n",
       "\t<tr><th scope=col>&lt;chr&gt;</th><th scope=col>&lt;int&gt;</th><th scope=col>&lt;chr&gt;</th></tr>\n",
       "</thead>\n",
       "<tbody>\n",
       "\t<tr><td>ensino médio</td><td>7</td><td>58.3%</td></tr>\n",
       "</tbody>\n",
       "</table>\n"
      ],
      "text/latex": [
       "A data.frame: 1 × 3\n",
       "\\begin{tabular}{lll}\n",
       " grau\\_instrucao & n & proporcao\\\\\n",
       " <chr> & <int> & <chr>\\\\\n",
       "\\hline\n",
       "\t ensino médio & 7 & 58.3\\%\\\\\n",
       "\\end{tabular}\n"
      ],
      "text/markdown": [
       "\n",
       "A data.frame: 1 × 3\n",
       "\n",
       "| grau_instrucao &lt;chr&gt; | n &lt;int&gt; | proporcao &lt;chr&gt; |\n",
       "|---|---|---|\n",
       "| ensino médio | 7 | 58.3% |\n",
       "\n"
      ],
      "text/plain": [
       "  grau_instrucao n proporcao\n",
       "1 ensino médio   7 58.3%    "
      ]
     },
     "metadata": {},
     "output_type": "display_data"
    }
   ],
   "source": [
    "funcionarios %>% filter(regiao_procedencia == \"interior\") %>% count(grau_instrucao) %>% \n",
    "    mutate(proporcao = percent(n/sum(n))) %>% filter(grau_instrucao == \"ensino médio\")"
   ]
  },
  {
   "cell_type": "markdown",
   "id": "comparative-career",
   "metadata": {},
   "source": [
    "4) a)"
   ]
  },
  {
   "cell_type": "code",
   "execution_count": 22,
   "id": "laughing-clause",
   "metadata": {},
   "outputs": [
    {
     "data": {
      "text/html": [
       "<table class=\"dataframe\">\n",
       "<caption>A tabyl: 4 × 5</caption>\n",
       "<thead>\n",
       "\t<tr><th></th><th scope=col>regiao_procedencia</th><th scope=col>ensino fundamental</th><th scope=col>ensino médio</th><th scope=col>superior</th><th scope=col>Total</th></tr>\n",
       "\t<tr><th></th><th scope=col>&lt;chr&gt;</th><th scope=col>&lt;chr&gt;</th><th scope=col>&lt;chr&gt;</th><th scope=col>&lt;chr&gt;</th><th scope=col>&lt;chr&gt;</th></tr>\n",
       "</thead>\n",
       "<tbody>\n",
       "\t<tr><th scope=row>1</th><td>capital </td><td>36.36%</td><td>45.45%</td><td>18.18%</td><td>100.00%</td></tr>\n",
       "\t<tr><th scope=row>2</th><td>interior</td><td>25.00%</td><td>58.33%</td><td>16.67%</td><td>100.00%</td></tr>\n",
       "\t<tr><th scope=row>3</th><td>outra   </td><td>38.46%</td><td>46.15%</td><td>15.38%</td><td>100.00%</td></tr>\n",
       "\t<tr><th scope=row>4</th><td>Total   </td><td>33.33%</td><td>50.00%</td><td>16.67%</td><td>100.00%</td></tr>\n",
       "</tbody>\n",
       "</table>\n"
      ],
      "text/latex": [
       "A tabyl: 4 × 5\n",
       "\\begin{tabular}{r|lllll}\n",
       "  & regiao\\_procedencia & ensino fundamental & ensino médio & superior & Total\\\\\n",
       "  & <chr> & <chr> & <chr> & <chr> & <chr>\\\\\n",
       "\\hline\n",
       "\t1 & capital  & 36.36\\% & 45.45\\% & 18.18\\% & 100.00\\%\\\\\n",
       "\t2 & interior & 25.00\\% & 58.33\\% & 16.67\\% & 100.00\\%\\\\\n",
       "\t3 & outra    & 38.46\\% & 46.15\\% & 15.38\\% & 100.00\\%\\\\\n",
       "\t4 & Total    & 33.33\\% & 50.00\\% & 16.67\\% & 100.00\\%\\\\\n",
       "\\end{tabular}\n"
      ],
      "text/markdown": [
       "\n",
       "A tabyl: 4 × 5\n",
       "\n",
       "| <!--/--> | regiao_procedencia &lt;chr&gt; | ensino fundamental &lt;chr&gt; | ensino médio &lt;chr&gt; | superior &lt;chr&gt; | Total &lt;chr&gt; |\n",
       "|---|---|---|---|---|---|\n",
       "| 1 | capital  | 36.36% | 45.45% | 18.18% | 100.00% |\n",
       "| 2 | interior | 25.00% | 58.33% | 16.67% | 100.00% |\n",
       "| 3 | outra    | 38.46% | 46.15% | 15.38% | 100.00% |\n",
       "| 4 | Total    | 33.33% | 50.00% | 16.67% | 100.00% |\n",
       "\n"
      ],
      "text/plain": [
       "  regiao_procedencia ensino fundamental ensino médio superior Total  \n",
       "1 capital            36.36%             45.45%       18.18%   100.00%\n",
       "2 interior           25.00%             58.33%       16.67%   100.00%\n",
       "3 outra              38.46%             46.15%       15.38%   100.00%\n",
       "4 Total              33.33%             50.00%       16.67%   100.00%"
      ]
     },
     "metadata": {},
     "output_type": "display_data"
    }
   ],
   "source": [
    "funcionarios %>% tabyl(regiao_procedencia, grau_instrucao) %>% adorn_totals(\"col\") %>% \n",
    "    adorn_totals(\"row\") %>% adorn_percentages(\"row\") %>% adorn_pct_formatting(digits = 2)"
   ]
  },
  {
   "cell_type": "markdown",
   "id": "coordinate-entity",
   "metadata": {},
   "source": [
    "b) [fazer]\n",
    "\n",
    "7)"
   ]
  },
  {
   "cell_type": "code",
   "execution_count": 96,
   "id": "piano-meter",
   "metadata": {},
   "outputs": [
    {
     "data": {
      "text/html": [
       "'X^2 = 0.661421911421912'"
      ],
      "text/latex": [
       "'X\\textasciicircum{}2 = 0.661421911421912'"
      ],
      "text/markdown": [
       "'X^2 = 0.661421911421912'"
      ],
      "text/plain": [
       "[1] \"X^2 = 0.661421911421912\""
      ]
     },
     "metadata": {},
     "output_type": "display_data"
    },
    {
     "data": {
      "text/html": [
       "'C = 0.134318129887708'"
      ],
      "text/latex": [
       "'C = 0.134318129887708'"
      ],
      "text/markdown": [
       "'C = 0.134318129887708'"
      ],
      "text/plain": [
       "[1] \"C = 0.134318129887708\""
      ]
     },
     "metadata": {},
     "output_type": "display_data"
    }
   ],
   "source": [
    "n <- funcionarios %>% count(grau_instrucao, regiao_procedencia) %>% pull(n)\n",
    "regiao_procedencia <- funcionarios %>% count(regiao_procedencia) %>% pull(n)\n",
    "grau_instrucao <- funcionarios %>% count(grau_instrucao) %>% pull(n)\n",
    "\n",
    "m <- matrix(1:(length(regiao_procedencia) * length(grau_instrucao)), nrow = length(regiao_procedencia))\n",
    "\n",
    "for (i in 1:nrow(m)) {\n",
    "    for (j in 1:ncol(m)) {\n",
    "        m[i, j] <- regiao_procedencia[i] * grau_instrucao[j]/nrow(funcionarios)\n",
    "    }\n",
    "}\n",
    "\n",
    "qui_quadrado <- sum((n - as.vector(m))^2/as.vector(m))\n",
    "coeficiente_contigencia <- sqrt(qui_quadrado/(qui_quadrado + nrow(funcionarios)))\n",
    "\n",
    "paste(\"X^2 =\", qui_quadrado)\n",
    "paste(\"C =\", coeficiente_contigencia)"
   ]
  },
  {
   "cell_type": "markdown",
   "id": "centered-mapping",
   "metadata": {},
   "source": [
    "14)"
   ]
  },
  {
   "cell_type": "code",
   "execution_count": 118,
   "id": "ranking-vegetable",
   "metadata": {},
   "outputs": [
    {
     "data": {
      "text/html": [
       "'R^2 = 0.00909520062942559'"
      ],
      "text/latex": [
       "'R\\textasciicircum{}2 = 0.00909520062942559'"
      ],
      "text/markdown": [
       "'R^2 = 0.00909520062942559'"
      ],
      "text/plain": [
       "[1] \"R^2 = 0.00909520062942559\""
      ]
     },
     "metadata": {},
     "output_type": "display_data"
    }
   ],
   "source": [
    "variancia <- function(x) {\n",
    "    sum((x - mean(x))^2/length(x))\n",
    "}\n",
    "\n",
    "vars <- funcionarios %>% group_by(estado_civil) %>% summarise(n = n(), var = variancia(idade_anos))\n",
    "var_soma <- sum(vars %>% summarise(v = var * n) %>% pull(v))/sum(vars %>% pull(n))\n",
    "\n",
    "var <- variancia(funcionarios %>% pull(idade_anos))\n",
    "\n",
    "grau_associacao <- 1 - var_soma/var\n",
    "\n",
    "paste(\"R^2 =\", grau_associacao)"
   ]
  },
  {
   "cell_type": "markdown",
   "id": "meaningful-fluid",
   "metadata": {},
   "source": [
    "27) a)"
   ]
  },
  {
   "cell_type": "code",
   "execution_count": 24,
   "id": "missing-violence",
   "metadata": {},
   "outputs": [
    {
     "data": {
      "text/html": [
       "<table class=\"dataframe\">\n",
       "<caption>A tabyl: 4 × 4</caption>\n",
       "<thead>\n",
       "\t<tr><th scope=col></th><th scope=col>cat_idade</th><th scope=col></th><th scope=col></th></tr>\n",
       "\t<tr><th scope=col>&lt;chr&gt;</th><th scope=col>&lt;chr&gt;</th><th scope=col>&lt;chr&gt;</th><th scope=col>&lt;chr&gt;</th></tr>\n",
       "</thead>\n",
       "<tbody>\n",
       "\t<tr><td>cat_salario</td><td>20 até 30</td><td>30 até 40</td><td>40 até 50</td></tr>\n",
       "\t<tr><td>0 até 8    </td><td>4        </td><td>4        </td><td>2        </td></tr>\n",
       "\t<tr><td>8 até 16   </td><td>6        </td><td>11       </td><td>3        </td></tr>\n",
       "\t<tr><td>16 até 24  </td><td>0        </td><td>3        </td><td>3        </td></tr>\n",
       "</tbody>\n",
       "</table>\n"
      ],
      "text/latex": [
       "A tabyl: 4 × 4\n",
       "\\begin{tabular}{llll}\n",
       "  & cat\\_idade &  & \\\\\n",
       " <chr> & <chr> & <chr> & <chr>\\\\\n",
       "\\hline\n",
       "\t cat\\_salario & 20 até 30 & 30 até 40 & 40 até 50\\\\\n",
       "\t 0 até 8     & 4         & 4         & 2        \\\\\n",
       "\t 8 até 16    & 6         & 11        & 3        \\\\\n",
       "\t 16 até 24   & 0         & 3         & 3        \\\\\n",
       "\\end{tabular}\n"
      ],
      "text/markdown": [
       "\n",
       "A tabyl: 4 × 4\n",
       "\n",
       "| <!----> &lt;chr&gt; | cat_idade &lt;chr&gt; | <!----> &lt;chr&gt; | <!----> &lt;chr&gt; |\n",
       "|---|---|---|---|\n",
       "| cat_salario | 20 até 30 | 30 até 40 | 40 até 50 |\n",
       "| 0 até 8     | 4         | 4         | 2         |\n",
       "| 8 até 16    | 6         | 11        | 3         |\n",
       "| 16 até 24   | 0         | 3         | 3         |\n",
       "\n"
      ],
      "text/plain": [
       "              cat_idade                    \n",
       "1 cat_salario 20 até 30 30 até 40 40 até 50\n",
       "2 0 até 8     4         4         2        \n",
       "3 8 até 16    6         11        3        \n",
       "4 16 até 24   0         3         3        "
      ]
     },
     "metadata": {},
     "output_type": "display_data"
    }
   ],
   "source": [
    "funcionarios %>% mutate(cat_salario = cut(salario, breaks = c(-Inf, 8, 16, Inf), \n",
    "    labels = c(\"0 até 8\", \"8 até 16\", \"16 até 24\")), cat_idade = cut(idade_anos, \n",
    "    breaks = c(-Inf, 30, 40, Inf), labels = c(\"20 até 30\", \"30 até 40\", \"40 até 50\"))) %>% \n",
    "    tabyl(cat_salario, cat_idade) %>% adorn_title"
   ]
  },
  {
   "cell_type": "markdown",
   "id": "saving-placement",
   "metadata": {},
   "source": [
    "35)"
   ]
  },
  {
   "cell_type": "code",
   "execution_count": 37,
   "id": "speaking-connection",
   "metadata": {},
   "outputs": [
    {
     "data": {
      "image/png": "[encoded data removed]",
      "text/plain": [
       "plot without title"
      ]
     },
     "metadata": {
      "image/png": {
       "height": 420,
       "width": 420
      }
     },
     "output_type": "display_data"
    }
   ],
   "source": [
    "funcionarios %>% ggplot(aes(x = regiao_procedencia, y = salario)) + geom_boxplot() + \n",
    "    geom_jitter(width = 0.05, size = 2)"
   ]
  },
  {
   "cell_type": "markdown",
   "id": "difficult-mechanism",
   "metadata": {},
   "source": [
    "36)"
   ]
  },
  {
   "cell_type": "code",
   "execution_count": 38,
   "id": "abstract-smooth",
   "metadata": {},
   "outputs": [
    {
     "data": {
      "text/html": [
       "'(idade) R^2 = 0.00909520062942559'"
      ],
      "text/latex": [
       "'(idade) R\\textasciicircum{}2 = 0.00909520062942559'"
      ],
      "text/markdown": [
       "'(idade) R^2 = 0.00909520062942559'"
      ],
      "text/plain": [
       "[1] \"(idade) R^2 = 0.00909520062942559\""
      ]
     },
     "metadata": {},
     "output_type": "display_data"
    },
    {
     "data": {
      "text/html": [
       "'(salário) R^2 = 0.0612504827954509'"
      ],
      "text/latex": [
       "'(salário) R\\textasciicircum{}2 = 0.0612504827954509'"
      ],
      "text/markdown": [
       "'(salário) R^2 = 0.0612504827954509'"
      ],
      "text/plain": [
       "[1] \"(salário) R^2 = 0.0612504827954509\""
      ]
     },
     "metadata": {},
     "output_type": "display_data"
    }
   ],
   "source": [
    "variancia <- function(x) {\n",
    "    sum((x - mean(x))^2/length(x))\n",
    "}\n",
    "\n",
    "# Idade\n",
    "\n",
    "vars <- funcionarios %>% group_by(estado_civil) %>% summarise(n = n(), var = variancia(idade_anos))\n",
    "var_soma <- sum(vars %>% summarise(v = var * n) %>% pull(v))/sum(vars %>% pull(n))\n",
    "\n",
    "var <- variancia(funcionarios %>% pull(idade_anos))\n",
    "\n",
    "grau_associacao <- 1 - var_soma/var\n",
    "\n",
    "paste(\"(idade) R^2 =\", grau_associacao)\n",
    "\n",
    "# Salário\n",
    "\n",
    "vars <- funcionarios %>% group_by(estado_civil) %>% summarise(n = n(), var = variancia(salario))\n",
    "var_soma <- sum(vars %>% summarise(v = var * n) %>% pull(v))/sum(vars %>% pull(n))\n",
    "\n",
    "var <- variancia(funcionarios %>% pull(salario))\n",
    "\n",
    "grau_associacao <- 1 - var_soma/var\n",
    "\n",
    "paste(\"(salário) R^2 =\", grau_associacao)"
   ]
  }
 ],
 "metadata": {
  "kernelspec": {
   "display_name": "R",
   "language": "R",
   "name": "ir"
  },
  "language_info": {
   "codemirror_mode": "r",
   "file_extension": ".r",
   "mimetype": "text/x-r-source",
   "name": "R",
   "pygments_lexer": "r",
   "version": "4.0.3"
  }
 },
 "nbformat": 4,
 "nbformat_minor": 5
}
