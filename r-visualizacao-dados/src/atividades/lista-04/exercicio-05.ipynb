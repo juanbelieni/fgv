{
 "cells": [
  {
   "cell_type": "markdown",
   "id": "numerical-property",
   "metadata": {},
   "source": [
    "# Exercício 5\n",
    "\n",
    "Importando as bibliotecas necessárias e a base de dados `cd_brasil.csv`:"
   ]
  },
  {
   "cell_type": "code",
   "execution_count": 2,
   "id": "large-blame",
   "metadata": {},
   "outputs": [
    {
     "data": {
      "text/html": [
       "<table class=\"dataframe\">\n",
       "<caption>A data.frame: 6 × 5</caption>\n",
       "<thead>\n",
       "\t<tr><th></th><th scope=col>estado</th><th scope=col>regiao</th><th scope=col>superficie</th><th scope=col>populacao</th><th scope=col>densidade</th></tr>\n",
       "\t<tr><th></th><th scope=col>&lt;chr&gt;</th><th scope=col>&lt;chr&gt;</th><th scope=col>&lt;dbl&gt;</th><th scope=col>&lt;int&gt;</th><th scope=col>&lt;dbl&gt;</th></tr>\n",
       "</thead>\n",
       "<tbody>\n",
       "\t<tr><th scope=row>1</th><td>RO</td><td>Norte</td><td> 237576.2</td><td>1453756</td><td>6.12</td></tr>\n",
       "\t<tr><th scope=row>2</th><td>AC</td><td>Norte</td><td> 164165.2</td><td> 653385</td><td>3.98</td></tr>\n",
       "\t<tr><th scope=row>3</th><td>AM</td><td>Norte</td><td>1559161.8</td><td>3221940</td><td>2.07</td></tr>\n",
       "\t<tr><th scope=row>4</th><td>RR</td><td>Norte</td><td> 224299.0</td><td> 395725</td><td>1.76</td></tr>\n",
       "\t<tr><th scope=row>5</th><td>PA</td><td>Norte</td><td>1247689.5</td><td>7065573</td><td>5.66</td></tr>\n",
       "\t<tr><th scope=row>6</th><td>AP</td><td>Norte</td><td> 142814.6</td><td> 587311</td><td>4.11</td></tr>\n",
       "</tbody>\n",
       "</table>\n"
      ],
      "text/latex": [
       "A data.frame: 6 × 5\n",
       "\\begin{tabular}{r|lllll}\n",
       "  & estado & regiao & superficie & populacao & densidade\\\\\n",
       "  & <chr> & <chr> & <dbl> & <int> & <dbl>\\\\\n",
       "\\hline\n",
       "\t1 & RO & Norte &  237576.2 & 1453756 & 6.12\\\\\n",
       "\t2 & AC & Norte &  164165.2 &  653385 & 3.98\\\\\n",
       "\t3 & AM & Norte & 1559161.8 & 3221940 & 2.07\\\\\n",
       "\t4 & RR & Norte &  224299.0 &  395725 & 1.76\\\\\n",
       "\t5 & PA & Norte & 1247689.5 & 7065573 & 5.66\\\\\n",
       "\t6 & AP & Norte &  142814.6 &  587311 & 4.11\\\\\n",
       "\\end{tabular}\n"
      ],
      "text/markdown": [
       "\n",
       "A data.frame: 6 × 5\n",
       "\n",
       "| <!--/--> | estado &lt;chr&gt; | regiao &lt;chr&gt; | superficie &lt;dbl&gt; | populacao &lt;int&gt; | densidade &lt;dbl&gt; |\n",
       "|---|---|---|---|---|---|\n",
       "| 1 | RO | Norte |  237576.2 | 1453756 | 6.12 |\n",
       "| 2 | AC | Norte |  164165.2 |  653385 | 3.98 |\n",
       "| 3 | AM | Norte | 1559161.8 | 3221940 | 2.07 |\n",
       "| 4 | RR | Norte |  224299.0 |  395725 | 1.76 |\n",
       "| 5 | PA | Norte | 1247689.5 | 7065573 | 5.66 |\n",
       "| 6 | AP | Norte |  142814.6 |  587311 | 4.11 |\n",
       "\n"
      ],
      "text/plain": [
       "  estado regiao superficie populacao densidade\n",
       "1 RO     Norte   237576.2  1453756   6.12     \n",
       "2 AC     Norte   164165.2   653385   3.98     \n",
       "3 AM     Norte  1559161.8  3221940   2.07     \n",
       "4 RR     Norte   224299.0   395725   1.76     \n",
       "5 PA     Norte  1247689.5  7065573   5.66     \n",
       "6 AP     Norte   142814.6   587311   4.11     "
      ]
     },
     "metadata": {},
     "output_type": "display_data"
    }
   ],
   "source": [
    "suppressPackageStartupMessages(library(\"dplyr\"))\n",
    "suppressPackageStartupMessages(library(\"scales\"))\n",
    "suppressPackageStartupMessages(library(\"ggplot2\"))\n",
    "suppressPackageStartupMessages(library(\"janitor\"))\n",
    "estados <- read.csv(\"cd_brasil.csv\")\n",
    "\n",
    "head(estados)"
   ]
  },
  {
   "cell_type": "markdown",
   "id": "extraordinary-edinburgh",
   "metadata": {},
   "source": [
    "## Distribuição de frequencia das variáveis população e densidade populacional"
   ]
  },
  {
   "cell_type": "code",
   "execution_count": 4,
   "id": "preliminary-avatar",
   "metadata": {},
   "outputs": [
    {
     "data": {
      "text/html": [
       "<table class=\"dataframe\">\n",
       "<caption>A tabyl: 4 × 4</caption>\n",
       "<thead>\n",
       "\t<tr><th scope=col></th><th scope=col>cat_densidade</th><th scope=col></th><th scope=col></th></tr>\n",
       "\t<tr><th scope=col>&lt;chr&gt;</th><th scope=col>&lt;chr&gt;</th><th scope=col>&lt;chr&gt;</th><th scope=col>&lt;chr&gt;</th></tr>\n",
       "</thead>\n",
       "<tbody>\n",
       "\t<tr><td>cat_populacao</td><td>0 até 50</td><td>50 até 100</td><td>100 até 500</td></tr>\n",
       "\t<tr><td>0 até 5M     </td><td>9       </td><td>4         </td><td>2          </td></tr>\n",
       "\t<tr><td>5M até 10M   </td><td>3       </td><td>3         </td><td>0          </td></tr>\n",
       "\t<tr><td>10M até 50M  </td><td>3       </td><td>1         </td><td>2          </td></tr>\n",
       "</tbody>\n",
       "</table>\n"
      ],
      "text/latex": [
       "A tabyl: 4 × 4\n",
       "\\begin{tabular}{llll}\n",
       "  & cat\\_densidade &  & \\\\\n",
       " <chr> & <chr> & <chr> & <chr>\\\\\n",
       "\\hline\n",
       "\t cat\\_populacao & 0 até 50 & 50 até 100 & 100 até 500\\\\\n",
       "\t 0 até 5M      & 9        & 4          & 2          \\\\\n",
       "\t 5M até 10M    & 3        & 3          & 0          \\\\\n",
       "\t 10M até 50M   & 3        & 1          & 2          \\\\\n",
       "\\end{tabular}\n"
      ],
      "text/markdown": [
       "\n",
       "A tabyl: 4 × 4\n",
       "\n",
       "| <!----> &lt;chr&gt; | cat_densidade &lt;chr&gt; | <!----> &lt;chr&gt; | <!----> &lt;chr&gt; |\n",
       "|---|---|---|---|\n",
       "| cat_populacao | 0 até 50 | 50 até 100 | 100 até 500 |\n",
       "| 0 até 5M      | 9        | 4          | 2           |\n",
       "| 5M até 10M    | 3        | 3          | 0           |\n",
       "| 10M até 50M   | 3        | 1          | 2           |\n",
       "\n"
      ],
      "text/plain": [
       "                cat_densidade                       \n",
       "1 cat_populacao 0 até 50      50 até 100 100 até 500\n",
       "2 0 até 5M      9             4          2          \n",
       "3 5M até 10M    3             3          0          \n",
       "4 10M até 50M   3             1          2          "
      ]
     },
     "metadata": {},
     "output_type": "display_data"
    }
   ],
   "source": [
    "estados %>% mutate(cat_populacao = cut(populacao, breaks = c(-Inf, 5e+06, 1e+07, \n",
    "    Inf), labels = c(\"0 até 5M\", \"5M até 10M\", \"10M até 50M\")), cat_densidade = cut(densidade, \n",
    "    breaks = c(-Inf, 50, 100, Inf), labels = c(\"0 até 50\", \"50 até 100\", \"100 até 500\"))) %>% \n",
    "    tabyl(cat_populacao, cat_densidade) %>% adorn_title"
   ]
  },
  {
   "cell_type": "markdown",
   "id": "close-opinion",
   "metadata": {},
   "source": [
    "## Quantis da variável população"
   ]
  },
  {
   "cell_type": "code",
   "execution_count": 5,
   "id": "governing-newcastle",
   "metadata": {},
   "outputs": [
    {
     "data": {
      "text/html": [
       "<table class=\"dataframe\">\n",
       "<caption>A data.frame: 5 × 2</caption>\n",
       "<thead>\n",
       "\t<tr><th scope=col>quantil</th><th scope=col>populacao</th></tr>\n",
       "\t<tr><th scope=col>&lt;chr&gt;</th><th scope=col>&lt;dbl&gt;</th></tr>\n",
       "</thead>\n",
       "<tbody>\n",
       "\t<tr><td>10%</td><td> 1007530</td></tr>\n",
       "\t<tr><td>25%</td><td> 2360858</td></tr>\n",
       "\t<tr><td>50%</td><td> 3351669</td></tr>\n",
       "\t<tr><td>75%</td><td> 8335944</td></tr>\n",
       "\t<tr><td>90%</td><td>14616582</td></tr>\n",
       "</tbody>\n",
       "</table>\n"
      ],
      "text/latex": [
       "A data.frame: 5 × 2\n",
       "\\begin{tabular}{ll}\n",
       " quantil & populacao\\\\\n",
       " <chr> & <dbl>\\\\\n",
       "\\hline\n",
       "\t 10\\% &  1007530\\\\\n",
       "\t 25\\% &  2360858\\\\\n",
       "\t 50\\% &  3351669\\\\\n",
       "\t 75\\% &  8335944\\\\\n",
       "\t 90\\% & 14616582\\\\\n",
       "\\end{tabular}\n"
      ],
      "text/markdown": [
       "\n",
       "A data.frame: 5 × 2\n",
       "\n",
       "| quantil &lt;chr&gt; | populacao &lt;dbl&gt; |\n",
       "|---|---|\n",
       "| 10% |  1007530 |\n",
       "| 25% |  2360858 |\n",
       "| 50% |  3351669 |\n",
       "| 75% |  8335944 |\n",
       "| 90% | 14616582 |\n",
       "\n"
      ],
      "text/plain": [
       "  quantil populacao\n",
       "1 10%      1007530 \n",
       "2 25%      2360858 \n",
       "3 50%      3351669 \n",
       "4 75%      8335944 \n",
       "5 90%     14616582 "
      ]
     },
     "metadata": {},
     "output_type": "display_data"
    }
   ],
   "source": [
    "quantis <- c(0.1, 0.25, 0.5, 0.75, 0.9)\n",
    "\n",
    "estados %>% summarize(quantil = percent(quantis), populacao = quantile(populacao, \n",
    "    probs = quantis))"
   ]
  },
  {
   "cell_type": "markdown",
   "id": "manual-marker",
   "metadata": {},
   "source": [
    "## Desenhe o bosxplot e faça comentários\n",
    "\n",
    "É possível observar que a região sudeste possui uma variabilidade de população muito maior que as outras regiões."
   ]
  },
  {
   "cell_type": "code",
   "execution_count": 37,
   "id": "unable-lawyer",
   "metadata": {},
   "outputs": [
    {
     "data": {
      "image/png": "[encoded data removed]",
      "text/plain": [
       "plot without title"
      ]
     },
     "metadata": {
      "image/png": {
       "height": 420,
       "width": 420
      }
     },
     "output_type": "display_data"
    }
   ],
   "source": [
    "estados %>% ggplot(aes(x = regiao, y = populacao)) + geom_boxplot()"
   ]
  },
  {
   "cell_type": "markdown",
   "id": "returning-background",
   "metadata": {},
   "source": [
    "## Represente graficamente a população por regiões geográficas"
   ]
  },
  {
   "cell_type": "code",
   "execution_count": 5,
   "id": "ancient-berkeley",
   "metadata": {},
   "outputs": [
    {
     "data": {
      "image/png": "[encoded data removed]",
      "text/plain": [
       "plot without title"
      ]
     },
     "metadata": {
      "image/png": {
       "height": 420,
       "width": 420
      }
     },
     "output_type": "display_data"
    }
   ],
   "source": [
    "estados %>% ggplot(aes(x = reorder(estado, -populacao), y = populacao)) + geom_col() + \n",
    "    xlab(\"Estados\") + ylab(\"População\")"
   ]
  }
 ],
 "metadata": {
  "kernelspec": {
   "display_name": "R",
   "language": "R",
   "name": "ir"
  },
  "language_info": {
   "codemirror_mode": "r",
   "file_extension": ".r",
   "mimetype": "text/x-r-source",
   "name": "R",
   "pygments_lexer": "r",
   "version": "4.0.3"
  }
 },
 "nbformat": 4,
 "nbformat_minor": 5
}
