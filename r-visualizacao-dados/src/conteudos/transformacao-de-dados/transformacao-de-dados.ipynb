{
 "cells": [
  {
   "cell_type": "markdown",
   "id": "optical-category",
   "metadata": {},
   "source": [
    "# Transformacao de dados\n",
    "\n",
    "## Utilizando o pacote `nycflights13`\n",
    "\n",
    "Importando e visualizando as primeiras linhas:"
   ]
  },
  {
   "cell_type": "code",
   "execution_count": 9,
   "id": "center-department",
   "metadata": {},
   "outputs": [
    {
     "data": {
      "text/html": [
       "<table class=\"dataframe\">\n",
       "<caption>A tibble: 6 × 19</caption>\n",
       "<thead>\n",
       "\t<tr><th scope=col>year</th><th scope=col>month</th><th scope=col>day</th><th scope=col>dep_time</th><th scope=col>sched_dep_time</th><th scope=col>dep_delay</th><th scope=col>arr_time</th><th scope=col>sched_arr_time</th><th scope=col>arr_delay</th><th scope=col>carrier</th><th scope=col>flight</th><th scope=col>tailnum</th><th scope=col>origin</th><th scope=col>dest</th><th scope=col>air_time</th><th scope=col>distance</th><th scope=col>hour</th><th scope=col>minute</th><th scope=col>time_hour</th></tr>\n",
       "\t<tr><th scope=col>&lt;int&gt;</th><th scope=col>&lt;int&gt;</th><th scope=col>&lt;int&gt;</th><th scope=col>&lt;int&gt;</th><th scope=col>&lt;int&gt;</th><th scope=col>&lt;dbl&gt;</th><th scope=col>&lt;int&gt;</th><th scope=col>&lt;int&gt;</th><th scope=col>&lt;dbl&gt;</th><th scope=col>&lt;chr&gt;</th><th scope=col>&lt;int&gt;</th><th scope=col>&lt;chr&gt;</th><th scope=col>&lt;chr&gt;</th><th scope=col>&lt;chr&gt;</th><th scope=col>&lt;dbl&gt;</th><th scope=col>&lt;dbl&gt;</th><th scope=col>&lt;dbl&gt;</th><th scope=col>&lt;dbl&gt;</th><th scope=col>&lt;dttm&gt;</th></tr>\n",
       "</thead>\n",
       "<tbody>\n",
       "\t<tr><td>2013</td><td>1</td><td>1</td><td>517</td><td>515</td><td> 2</td><td> 830</td><td> 819</td><td> 11</td><td>UA</td><td>1545</td><td>N14228</td><td>EWR</td><td>IAH</td><td>227</td><td>1400</td><td>5</td><td>15</td><td>2013-01-01 05:00:00</td></tr>\n",
       "\t<tr><td>2013</td><td>1</td><td>1</td><td>533</td><td>529</td><td> 4</td><td> 850</td><td> 830</td><td> 20</td><td>UA</td><td>1714</td><td>N24211</td><td>LGA</td><td>IAH</td><td>227</td><td>1416</td><td>5</td><td>29</td><td>2013-01-01 05:00:00</td></tr>\n",
       "\t<tr><td>2013</td><td>1</td><td>1</td><td>542</td><td>540</td><td> 2</td><td> 923</td><td> 850</td><td> 33</td><td>AA</td><td>1141</td><td>N619AA</td><td>JFK</td><td>MIA</td><td>160</td><td>1089</td><td>5</td><td>40</td><td>2013-01-01 05:00:00</td></tr>\n",
       "\t<tr><td>2013</td><td>1</td><td>1</td><td>544</td><td>545</td><td>-1</td><td>1004</td><td>1022</td><td>-18</td><td>B6</td><td> 725</td><td>N804JB</td><td>JFK</td><td>BQN</td><td>183</td><td>1576</td><td>5</td><td>45</td><td>2013-01-01 05:00:00</td></tr>\n",
       "\t<tr><td>2013</td><td>1</td><td>1</td><td>554</td><td>600</td><td>-6</td><td> 812</td><td> 837</td><td>-25</td><td>DL</td><td> 461</td><td>N668DN</td><td>LGA</td><td>ATL</td><td>116</td><td> 762</td><td>6</td><td> 0</td><td>2013-01-01 06:00:00</td></tr>\n",
       "\t<tr><td>2013</td><td>1</td><td>1</td><td>554</td><td>558</td><td>-4</td><td> 740</td><td> 728</td><td> 12</td><td>UA</td><td>1696</td><td>N39463</td><td>EWR</td><td>ORD</td><td>150</td><td> 719</td><td>5</td><td>58</td><td>2013-01-01 05:00:00</td></tr>\n",
       "</tbody>\n",
       "</table>\n"
      ],
      "text/latex": [
       "A tibble: 6 × 19\n",
       "\\begin{tabular}{lllllllllllllllllll}\n",
       " year & month & day & dep\\_time & sched\\_dep\\_time & dep\\_delay & arr\\_time & sched\\_arr\\_time & arr\\_delay & carrier & flight & tailnum & origin & dest & air\\_time & distance & hour & minute & time\\_hour\\\\\n",
       " <int> & <int> & <int> & <int> & <int> & <dbl> & <int> & <int> & <dbl> & <chr> & <int> & <chr> & <chr> & <chr> & <dbl> & <dbl> & <dbl> & <dbl> & <dttm>\\\\\n",
       "\\hline\n",
       "\t 2013 & 1 & 1 & 517 & 515 &  2 &  830 &  819 &  11 & UA & 1545 & N14228 & EWR & IAH & 227 & 1400 & 5 & 15 & 2013-01-01 05:00:00\\\\\n",
       "\t 2013 & 1 & 1 & 533 & 529 &  4 &  850 &  830 &  20 & UA & 1714 & N24211 & LGA & IAH & 227 & 1416 & 5 & 29 & 2013-01-01 05:00:00\\\\\n",
       "\t 2013 & 1 & 1 & 542 & 540 &  2 &  923 &  850 &  33 & AA & 1141 & N619AA & JFK & MIA & 160 & 1089 & 5 & 40 & 2013-01-01 05:00:00\\\\\n",
       "\t 2013 & 1 & 1 & 544 & 545 & -1 & 1004 & 1022 & -18 & B6 &  725 & N804JB & JFK & BQN & 183 & 1576 & 5 & 45 & 2013-01-01 05:00:00\\\\\n",
       "\t 2013 & 1 & 1 & 554 & 600 & -6 &  812 &  837 & -25 & DL &  461 & N668DN & LGA & ATL & 116 &  762 & 6 &  0 & 2013-01-01 06:00:00\\\\\n",
       "\t 2013 & 1 & 1 & 554 & 558 & -4 &  740 &  728 &  12 & UA & 1696 & N39463 & EWR & ORD & 150 &  719 & 5 & 58 & 2013-01-01 05:00:00\\\\\n",
       "\\end{tabular}\n"
      ],
      "text/markdown": [
       "\n",
       "A tibble: 6 × 19\n",
       "\n",
       "| year &lt;int&gt; | month &lt;int&gt; | day &lt;int&gt; | dep_time &lt;int&gt; | sched_dep_time &lt;int&gt; | dep_delay &lt;dbl&gt; | arr_time &lt;int&gt; | sched_arr_time &lt;int&gt; | arr_delay &lt;dbl&gt; | carrier &lt;chr&gt; | flight &lt;int&gt; | tailnum &lt;chr&gt; | origin &lt;chr&gt; | dest &lt;chr&gt; | air_time &lt;dbl&gt; | distance &lt;dbl&gt; | hour &lt;dbl&gt; | minute &lt;dbl&gt; | time_hour &lt;dttm&gt; |\n",
       "|---|---|---|---|---|---|---|---|---|---|---|---|---|---|---|---|---|---|---|\n",
       "| 2013 | 1 | 1 | 517 | 515 |  2 |  830 |  819 |  11 | UA | 1545 | N14228 | EWR | IAH | 227 | 1400 | 5 | 15 | 2013-01-01 05:00:00 |\n",
       "| 2013 | 1 | 1 | 533 | 529 |  4 |  850 |  830 |  20 | UA | 1714 | N24211 | LGA | IAH | 227 | 1416 | 5 | 29 | 2013-01-01 05:00:00 |\n",
       "| 2013 | 1 | 1 | 542 | 540 |  2 |  923 |  850 |  33 | AA | 1141 | N619AA | JFK | MIA | 160 | 1089 | 5 | 40 | 2013-01-01 05:00:00 |\n",
       "| 2013 | 1 | 1 | 544 | 545 | -1 | 1004 | 1022 | -18 | B6 |  725 | N804JB | JFK | BQN | 183 | 1576 | 5 | 45 | 2013-01-01 05:00:00 |\n",
       "| 2013 | 1 | 1 | 554 | 600 | -6 |  812 |  837 | -25 | DL |  461 | N668DN | LGA | ATL | 116 |  762 | 6 |  0 | 2013-01-01 06:00:00 |\n",
       "| 2013 | 1 | 1 | 554 | 558 | -4 |  740 |  728 |  12 | UA | 1696 | N39463 | EWR | ORD | 150 |  719 | 5 | 58 | 2013-01-01 05:00:00 |\n",
       "\n"
      ],
      "text/plain": [
       "  year month day dep_time sched_dep_time dep_delay arr_time sched_arr_time\n",
       "1 2013 1     1   517      515             2         830      819          \n",
       "2 2013 1     1   533      529             4         850      830          \n",
       "3 2013 1     1   542      540             2         923      850          \n",
       "4 2013 1     1   544      545            -1        1004     1022          \n",
       "5 2013 1     1   554      600            -6         812      837          \n",
       "6 2013 1     1   554      558            -4         740      728          \n",
       "  arr_delay carrier flight tailnum origin dest air_time distance hour minute\n",
       "1  11       UA      1545   N14228  EWR    IAH  227      1400     5    15    \n",
       "2  20       UA      1714   N24211  LGA    IAH  227      1416     5    29    \n",
       "3  33       AA      1141   N619AA  JFK    MIA  160      1089     5    40    \n",
       "4 -18       B6       725   N804JB  JFK    BQN  183      1576     5    45    \n",
       "5 -25       DL       461   N668DN  LGA    ATL  116       762     6     0    \n",
       "6  12       UA      1696   N39463  EWR    ORD  150       719     5    58    \n",
       "  time_hour          \n",
       "1 2013-01-01 05:00:00\n",
       "2 2013-01-01 05:00:00\n",
       "3 2013-01-01 05:00:00\n",
       "4 2013-01-01 05:00:00\n",
       "5 2013-01-01 06:00:00\n",
       "6 2013-01-01 05:00:00"
      ]
     },
     "metadata": {},
     "output_type": "display_data"
    }
   ],
   "source": [
    "suppressWarnings(library(\"dplyr\"))\n",
    "suppressWarnings(library(\"nycflights13\"))\n",
    "\n",
    "head(flights)"
   ]
  },
  {
   "cell_type": "markdown",
   "id": "aware-sister",
   "metadata": {},
   "source": [
    "### Comando `filter()`"
   ]
  },
  {
   "cell_type": "code",
   "execution_count": 12,
   "id": "social-negotiation",
   "metadata": {
    "scrolled": false
   },
   "outputs": [
    {
     "data": {
      "text/html": [
       "<table class=\"dataframe\">\n",
       "<caption>A tibble: 6 × 19</caption>\n",
       "<thead>\n",
       "\t<tr><th scope=col>year</th><th scope=col>month</th><th scope=col>day</th><th scope=col>dep_time</th><th scope=col>sched_dep_time</th><th scope=col>dep_delay</th><th scope=col>arr_time</th><th scope=col>sched_arr_time</th><th scope=col>arr_delay</th><th scope=col>carrier</th><th scope=col>flight</th><th scope=col>tailnum</th><th scope=col>origin</th><th scope=col>dest</th><th scope=col>air_time</th><th scope=col>distance</th><th scope=col>hour</th><th scope=col>minute</th><th scope=col>time_hour</th></tr>\n",
       "\t<tr><th scope=col>&lt;int&gt;</th><th scope=col>&lt;int&gt;</th><th scope=col>&lt;int&gt;</th><th scope=col>&lt;int&gt;</th><th scope=col>&lt;int&gt;</th><th scope=col>&lt;dbl&gt;</th><th scope=col>&lt;int&gt;</th><th scope=col>&lt;int&gt;</th><th scope=col>&lt;dbl&gt;</th><th scope=col>&lt;chr&gt;</th><th scope=col>&lt;int&gt;</th><th scope=col>&lt;chr&gt;</th><th scope=col>&lt;chr&gt;</th><th scope=col>&lt;chr&gt;</th><th scope=col>&lt;dbl&gt;</th><th scope=col>&lt;dbl&gt;</th><th scope=col>&lt;dbl&gt;</th><th scope=col>&lt;dbl&gt;</th><th scope=col>&lt;dttm&gt;</th></tr>\n",
       "</thead>\n",
       "<tbody>\n",
       "\t<tr><td>2013</td><td>11</td><td>1</td><td>  5</td><td>2359</td><td>  6</td><td>352</td><td> 345</td><td>  7</td><td>B6</td><td> 745</td><td>N568JB</td><td>JFK</td><td>PSE</td><td>205</td><td>1617</td><td>23</td><td>59</td><td>2013-11-01 23:00:00</td></tr>\n",
       "\t<tr><td>2013</td><td>11</td><td>1</td><td> 35</td><td>2250</td><td>105</td><td>123</td><td>2356</td><td> 87</td><td>B6</td><td>1816</td><td>N353JB</td><td>JFK</td><td>SYR</td><td> 36</td><td> 209</td><td>22</td><td>50</td><td>2013-11-01 22:00:00</td></tr>\n",
       "\t<tr><td>2013</td><td>11</td><td>1</td><td>455</td><td> 500</td><td> -5</td><td>641</td><td> 651</td><td>-10</td><td>US</td><td>1895</td><td>N192UW</td><td>EWR</td><td>CLT</td><td> 88</td><td> 529</td><td> 5</td><td> 0</td><td>2013-11-01 05:00:00</td></tr>\n",
       "\t<tr><td>2013</td><td>11</td><td>1</td><td>539</td><td> 545</td><td> -6</td><td>856</td><td> 827</td><td> 29</td><td>UA</td><td>1714</td><td>N38727</td><td>LGA</td><td>IAH</td><td>229</td><td>1416</td><td> 5</td><td>45</td><td>2013-11-01 05:00:00</td></tr>\n",
       "\t<tr><td>2013</td><td>11</td><td>1</td><td>542</td><td> 545</td><td> -3</td><td>831</td><td> 855</td><td>-24</td><td>AA</td><td>2243</td><td>N5CLAA</td><td>JFK</td><td>MIA</td><td>147</td><td>1089</td><td> 5</td><td>45</td><td>2013-11-01 05:00:00</td></tr>\n",
       "\t<tr><td>2013</td><td>11</td><td>1</td><td>549</td><td> 600</td><td>-11</td><td>912</td><td> 923</td><td>-11</td><td>UA</td><td> 303</td><td>N595UA</td><td>JFK</td><td>SFO</td><td>359</td><td>2586</td><td> 6</td><td> 0</td><td>2013-11-01 06:00:00</td></tr>\n",
       "</tbody>\n",
       "</table>\n"
      ],
      "text/latex": [
       "A tibble: 6 × 19\n",
       "\\begin{tabular}{lllllllllllllllllll}\n",
       " year & month & day & dep\\_time & sched\\_dep\\_time & dep\\_delay & arr\\_time & sched\\_arr\\_time & arr\\_delay & carrier & flight & tailnum & origin & dest & air\\_time & distance & hour & minute & time\\_hour\\\\\n",
       " <int> & <int> & <int> & <int> & <int> & <dbl> & <int> & <int> & <dbl> & <chr> & <int> & <chr> & <chr> & <chr> & <dbl> & <dbl> & <dbl> & <dbl> & <dttm>\\\\\n",
       "\\hline\n",
       "\t 2013 & 11 & 1 &   5 & 2359 &   6 & 352 &  345 &   7 & B6 &  745 & N568JB & JFK & PSE & 205 & 1617 & 23 & 59 & 2013-11-01 23:00:00\\\\\n",
       "\t 2013 & 11 & 1 &  35 & 2250 & 105 & 123 & 2356 &  87 & B6 & 1816 & N353JB & JFK & SYR &  36 &  209 & 22 & 50 & 2013-11-01 22:00:00\\\\\n",
       "\t 2013 & 11 & 1 & 455 &  500 &  -5 & 641 &  651 & -10 & US & 1895 & N192UW & EWR & CLT &  88 &  529 &  5 &  0 & 2013-11-01 05:00:00\\\\\n",
       "\t 2013 & 11 & 1 & 539 &  545 &  -6 & 856 &  827 &  29 & UA & 1714 & N38727 & LGA & IAH & 229 & 1416 &  5 & 45 & 2013-11-01 05:00:00\\\\\n",
       "\t 2013 & 11 & 1 & 542 &  545 &  -3 & 831 &  855 & -24 & AA & 2243 & N5CLAA & JFK & MIA & 147 & 1089 &  5 & 45 & 2013-11-01 05:00:00\\\\\n",
       "\t 2013 & 11 & 1 & 549 &  600 & -11 & 912 &  923 & -11 & UA &  303 & N595UA & JFK & SFO & 359 & 2586 &  6 &  0 & 2013-11-01 06:00:00\\\\\n",
       "\\end{tabular}\n"
      ],
      "text/markdown": [
       "\n",
       "A tibble: 6 × 19\n",
       "\n",
       "| year &lt;int&gt; | month &lt;int&gt; | day &lt;int&gt; | dep_time &lt;int&gt; | sched_dep_time &lt;int&gt; | dep_delay &lt;dbl&gt; | arr_time &lt;int&gt; | sched_arr_time &lt;int&gt; | arr_delay &lt;dbl&gt; | carrier &lt;chr&gt; | flight &lt;int&gt; | tailnum &lt;chr&gt; | origin &lt;chr&gt; | dest &lt;chr&gt; | air_time &lt;dbl&gt; | distance &lt;dbl&gt; | hour &lt;dbl&gt; | minute &lt;dbl&gt; | time_hour &lt;dttm&gt; |\n",
       "|---|---|---|---|---|---|---|---|---|---|---|---|---|---|---|---|---|---|---|\n",
       "| 2013 | 11 | 1 |   5 | 2359 |   6 | 352 |  345 |   7 | B6 |  745 | N568JB | JFK | PSE | 205 | 1617 | 23 | 59 | 2013-11-01 23:00:00 |\n",
       "| 2013 | 11 | 1 |  35 | 2250 | 105 | 123 | 2356 |  87 | B6 | 1816 | N353JB | JFK | SYR |  36 |  209 | 22 | 50 | 2013-11-01 22:00:00 |\n",
       "| 2013 | 11 | 1 | 455 |  500 |  -5 | 641 |  651 | -10 | US | 1895 | N192UW | EWR | CLT |  88 |  529 |  5 |  0 | 2013-11-01 05:00:00 |\n",
       "| 2013 | 11 | 1 | 539 |  545 |  -6 | 856 |  827 |  29 | UA | 1714 | N38727 | LGA | IAH | 229 | 1416 |  5 | 45 | 2013-11-01 05:00:00 |\n",
       "| 2013 | 11 | 1 | 542 |  545 |  -3 | 831 |  855 | -24 | AA | 2243 | N5CLAA | JFK | MIA | 147 | 1089 |  5 | 45 | 2013-11-01 05:00:00 |\n",
       "| 2013 | 11 | 1 | 549 |  600 | -11 | 912 |  923 | -11 | UA |  303 | N595UA | JFK | SFO | 359 | 2586 |  6 |  0 | 2013-11-01 06:00:00 |\n",
       "\n"
      ],
      "text/plain": [
       "  year month day dep_time sched_dep_time dep_delay arr_time sched_arr_time\n",
       "1 2013 11    1     5      2359             6       352       345          \n",
       "2 2013 11    1    35      2250           105       123      2356          \n",
       "3 2013 11    1   455       500            -5       641       651          \n",
       "4 2013 11    1   539       545            -6       856       827          \n",
       "5 2013 11    1   542       545            -3       831       855          \n",
       "6 2013 11    1   549       600           -11       912       923          \n",
       "  arr_delay carrier flight tailnum origin dest air_time distance hour minute\n",
       "1   7       B6       745   N568JB  JFK    PSE  205      1617     23   59    \n",
       "2  87       B6      1816   N353JB  JFK    SYR   36       209     22   50    \n",
       "3 -10       US      1895   N192UW  EWR    CLT   88       529      5    0    \n",
       "4  29       UA      1714   N38727  LGA    IAH  229      1416      5   45    \n",
       "5 -24       AA      2243   N5CLAA  JFK    MIA  147      1089      5   45    \n",
       "6 -11       UA       303   N595UA  JFK    SFO  359      2586      6    0    \n",
       "  time_hour          \n",
       "1 2013-11-01 23:00:00\n",
       "2 2013-11-01 22:00:00\n",
       "3 2013-11-01 05:00:00\n",
       "4 2013-11-01 05:00:00\n",
       "5 2013-11-01 05:00:00\n",
       "6 2013-11-01 06:00:00"
      ]
     },
     "metadata": {},
     "output_type": "display_data"
    }
   ],
   "source": [
    "dados_filtrados <- flights %>% filter(month == 11 | month == 12)\n",
    "head(dados_filtrados)"
   ]
  },
  {
   "cell_type": "markdown",
   "id": "toxic-coast",
   "metadata": {},
   "source": [
    "### Comando `arrange()`\n",
    "\n",
    "Ordenada os dados em relação a uma ou mais colunas."
   ]
  },
  {
   "cell_type": "code",
   "execution_count": 13,
   "id": "strong-sweet",
   "metadata": {},
   "outputs": [
    {
     "data": {
      "text/html": [
       "<table class=\"dataframe\">\n",
       "<caption>A tibble: 6 × 19</caption>\n",
       "<thead>\n",
       "\t<tr><th scope=col>year</th><th scope=col>month</th><th scope=col>day</th><th scope=col>dep_time</th><th scope=col>sched_dep_time</th><th scope=col>dep_delay</th><th scope=col>arr_time</th><th scope=col>sched_arr_time</th><th scope=col>arr_delay</th><th scope=col>carrier</th><th scope=col>flight</th><th scope=col>tailnum</th><th scope=col>origin</th><th scope=col>dest</th><th scope=col>air_time</th><th scope=col>distance</th><th scope=col>hour</th><th scope=col>minute</th><th scope=col>time_hour</th></tr>\n",
       "\t<tr><th scope=col>&lt;int&gt;</th><th scope=col>&lt;int&gt;</th><th scope=col>&lt;int&gt;</th><th scope=col>&lt;int&gt;</th><th scope=col>&lt;int&gt;</th><th scope=col>&lt;dbl&gt;</th><th scope=col>&lt;int&gt;</th><th scope=col>&lt;int&gt;</th><th scope=col>&lt;dbl&gt;</th><th scope=col>&lt;chr&gt;</th><th scope=col>&lt;int&gt;</th><th scope=col>&lt;chr&gt;</th><th scope=col>&lt;chr&gt;</th><th scope=col>&lt;chr&gt;</th><th scope=col>&lt;dbl&gt;</th><th scope=col>&lt;dbl&gt;</th><th scope=col>&lt;dbl&gt;</th><th scope=col>&lt;dbl&gt;</th><th scope=col>&lt;dttm&gt;</th></tr>\n",
       "</thead>\n",
       "<tbody>\n",
       "\t<tr><td>2013</td><td> 1</td><td>16</td><td>1355</td><td>1315</td><td> 40</td><td>1442</td><td>1411</td><td> 31</td><td>EV</td><td>4368</td><td>N16911</td><td>EWR</td><td>BDL</td><td>20</td><td>116</td><td>13</td><td>15</td><td>2013-01-16 13:00:00</td></tr>\n",
       "\t<tr><td>2013</td><td> 4</td><td>13</td><td> 537</td><td> 527</td><td> 10</td><td> 622</td><td> 628</td><td> -6</td><td>EV</td><td>4631</td><td>N12167</td><td>EWR</td><td>BDL</td><td>20</td><td>116</td><td> 5</td><td>27</td><td>2013-04-13 05:00:00</td></tr>\n",
       "\t<tr><td>2013</td><td>12</td><td> 6</td><td> 922</td><td> 851</td><td> 31</td><td>1021</td><td> 954</td><td> 27</td><td>EV</td><td>4276</td><td>N27200</td><td>EWR</td><td>BDL</td><td>21</td><td>116</td><td> 8</td><td>51</td><td>2013-12-06 08:00:00</td></tr>\n",
       "\t<tr><td>2013</td><td> 2</td><td> 3</td><td>2153</td><td>2129</td><td> 24</td><td>2247</td><td>2224</td><td> 23</td><td>EV</td><td>4619</td><td>N13913</td><td>EWR</td><td>PHL</td><td>21</td><td> 80</td><td>21</td><td>29</td><td>2013-02-03 21:00:00</td></tr>\n",
       "\t<tr><td>2013</td><td> 2</td><td> 5</td><td>1303</td><td>1315</td><td>-12</td><td>1342</td><td>1411</td><td>-29</td><td>EV</td><td>4368</td><td>N13955</td><td>EWR</td><td>BDL</td><td>21</td><td>116</td><td>13</td><td>15</td><td>2013-02-05 13:00:00</td></tr>\n",
       "\t<tr><td>2013</td><td> 2</td><td>12</td><td>2123</td><td>2130</td><td> -7</td><td>2211</td><td>2225</td><td>-14</td><td>EV</td><td>4619</td><td>N12921</td><td>EWR</td><td>PHL</td><td>21</td><td> 80</td><td>21</td><td>30</td><td>2013-02-12 21:00:00</td></tr>\n",
       "</tbody>\n",
       "</table>\n"
      ],
      "text/latex": [
       "A tibble: 6 × 19\n",
       "\\begin{tabular}{lllllllllllllllllll}\n",
       " year & month & day & dep\\_time & sched\\_dep\\_time & dep\\_delay & arr\\_time & sched\\_arr\\_time & arr\\_delay & carrier & flight & tailnum & origin & dest & air\\_time & distance & hour & minute & time\\_hour\\\\\n",
       " <int> & <int> & <int> & <int> & <int> & <dbl> & <int> & <int> & <dbl> & <chr> & <int> & <chr> & <chr> & <chr> & <dbl> & <dbl> & <dbl> & <dbl> & <dttm>\\\\\n",
       "\\hline\n",
       "\t 2013 &  1 & 16 & 1355 & 1315 &  40 & 1442 & 1411 &  31 & EV & 4368 & N16911 & EWR & BDL & 20 & 116 & 13 & 15 & 2013-01-16 13:00:00\\\\\n",
       "\t 2013 &  4 & 13 &  537 &  527 &  10 &  622 &  628 &  -6 & EV & 4631 & N12167 & EWR & BDL & 20 & 116 &  5 & 27 & 2013-04-13 05:00:00\\\\\n",
       "\t 2013 & 12 &  6 &  922 &  851 &  31 & 1021 &  954 &  27 & EV & 4276 & N27200 & EWR & BDL & 21 & 116 &  8 & 51 & 2013-12-06 08:00:00\\\\\n",
       "\t 2013 &  2 &  3 & 2153 & 2129 &  24 & 2247 & 2224 &  23 & EV & 4619 & N13913 & EWR & PHL & 21 &  80 & 21 & 29 & 2013-02-03 21:00:00\\\\\n",
       "\t 2013 &  2 &  5 & 1303 & 1315 & -12 & 1342 & 1411 & -29 & EV & 4368 & N13955 & EWR & BDL & 21 & 116 & 13 & 15 & 2013-02-05 13:00:00\\\\\n",
       "\t 2013 &  2 & 12 & 2123 & 2130 &  -7 & 2211 & 2225 & -14 & EV & 4619 & N12921 & EWR & PHL & 21 &  80 & 21 & 30 & 2013-02-12 21:00:00\\\\\n",
       "\\end{tabular}\n"
      ],
      "text/markdown": [
       "\n",
       "A tibble: 6 × 19\n",
       "\n",
       "| year &lt;int&gt; | month &lt;int&gt; | day &lt;int&gt; | dep_time &lt;int&gt; | sched_dep_time &lt;int&gt; | dep_delay &lt;dbl&gt; | arr_time &lt;int&gt; | sched_arr_time &lt;int&gt; | arr_delay &lt;dbl&gt; | carrier &lt;chr&gt; | flight &lt;int&gt; | tailnum &lt;chr&gt; | origin &lt;chr&gt; | dest &lt;chr&gt; | air_time &lt;dbl&gt; | distance &lt;dbl&gt; | hour &lt;dbl&gt; | minute &lt;dbl&gt; | time_hour &lt;dttm&gt; |\n",
       "|---|---|---|---|---|---|---|---|---|---|---|---|---|---|---|---|---|---|---|\n",
       "| 2013 |  1 | 16 | 1355 | 1315 |  40 | 1442 | 1411 |  31 | EV | 4368 | N16911 | EWR | BDL | 20 | 116 | 13 | 15 | 2013-01-16 13:00:00 |\n",
       "| 2013 |  4 | 13 |  537 |  527 |  10 |  622 |  628 |  -6 | EV | 4631 | N12167 | EWR | BDL | 20 | 116 |  5 | 27 | 2013-04-13 05:00:00 |\n",
       "| 2013 | 12 |  6 |  922 |  851 |  31 | 1021 |  954 |  27 | EV | 4276 | N27200 | EWR | BDL | 21 | 116 |  8 | 51 | 2013-12-06 08:00:00 |\n",
       "| 2013 |  2 |  3 | 2153 | 2129 |  24 | 2247 | 2224 |  23 | EV | 4619 | N13913 | EWR | PHL | 21 |  80 | 21 | 29 | 2013-02-03 21:00:00 |\n",
       "| 2013 |  2 |  5 | 1303 | 1315 | -12 | 1342 | 1411 | -29 | EV | 4368 | N13955 | EWR | BDL | 21 | 116 | 13 | 15 | 2013-02-05 13:00:00 |\n",
       "| 2013 |  2 | 12 | 2123 | 2130 |  -7 | 2211 | 2225 | -14 | EV | 4619 | N12921 | EWR | PHL | 21 |  80 | 21 | 30 | 2013-02-12 21:00:00 |\n",
       "\n"
      ],
      "text/plain": [
       "  year month day dep_time sched_dep_time dep_delay arr_time sched_arr_time\n",
       "1 2013  1    16  1355     1315            40       1442     1411          \n",
       "2 2013  4    13   537      527            10        622      628          \n",
       "3 2013 12     6   922      851            31       1021      954          \n",
       "4 2013  2     3  2153     2129            24       2247     2224          \n",
       "5 2013  2     5  1303     1315           -12       1342     1411          \n",
       "6 2013  2    12  2123     2130            -7       2211     2225          \n",
       "  arr_delay carrier flight tailnum origin dest air_time distance hour minute\n",
       "1  31       EV      4368   N16911  EWR    BDL  20       116      13   15    \n",
       "2  -6       EV      4631   N12167  EWR    BDL  20       116       5   27    \n",
       "3  27       EV      4276   N27200  EWR    BDL  21       116       8   51    \n",
       "4  23       EV      4619   N13913  EWR    PHL  21        80      21   29    \n",
       "5 -29       EV      4368   N13955  EWR    BDL  21       116      13   15    \n",
       "6 -14       EV      4619   N12921  EWR    PHL  21        80      21   30    \n",
       "  time_hour          \n",
       "1 2013-01-16 13:00:00\n",
       "2 2013-04-13 05:00:00\n",
       "3 2013-12-06 08:00:00\n",
       "4 2013-02-03 21:00:00\n",
       "5 2013-02-05 13:00:00\n",
       "6 2013-02-12 21:00:00"
      ]
     },
     "metadata": {},
     "output_type": "display_data"
    }
   ],
   "source": [
    "dados_filtrados <- flights %>% arrange(air_time)\n",
    "head(dados_filtrados)"
   ]
  },
  {
   "cell_type": "markdown",
   "id": "connected-selection",
   "metadata": {},
   "source": [
    "### Comando `select()`"
   ]
  },
  {
   "cell_type": "code",
   "execution_count": 14,
   "id": "public-tobago",
   "metadata": {},
   "outputs": [
    {
     "data": {
      "text/html": [
       "<table class=\"dataframe\">\n",
       "<caption>A tibble: 6 × 3</caption>\n",
       "<thead>\n",
       "\t<tr><th scope=col>year</th><th scope=col>month</th><th scope=col>time_hour</th></tr>\n",
       "\t<tr><th scope=col>&lt;int&gt;</th><th scope=col>&lt;int&gt;</th><th scope=col>&lt;dttm&gt;</th></tr>\n",
       "</thead>\n",
       "<tbody>\n",
       "\t<tr><td>2013</td><td>1</td><td>2013-01-01 05:00:00</td></tr>\n",
       "\t<tr><td>2013</td><td>1</td><td>2013-01-01 05:00:00</td></tr>\n",
       "\t<tr><td>2013</td><td>1</td><td>2013-01-01 05:00:00</td></tr>\n",
       "\t<tr><td>2013</td><td>1</td><td>2013-01-01 05:00:00</td></tr>\n",
       "\t<tr><td>2013</td><td>1</td><td>2013-01-01 06:00:00</td></tr>\n",
       "\t<tr><td>2013</td><td>1</td><td>2013-01-01 05:00:00</td></tr>\n",
       "</tbody>\n",
       "</table>\n"
      ],
      "text/latex": [
       "A tibble: 6 × 3\n",
       "\\begin{tabular}{lll}\n",
       " year & month & time\\_hour\\\\\n",
       " <int> & <int> & <dttm>\\\\\n",
       "\\hline\n",
       "\t 2013 & 1 & 2013-01-01 05:00:00\\\\\n",
       "\t 2013 & 1 & 2013-01-01 05:00:00\\\\\n",
       "\t 2013 & 1 & 2013-01-01 05:00:00\\\\\n",
       "\t 2013 & 1 & 2013-01-01 05:00:00\\\\\n",
       "\t 2013 & 1 & 2013-01-01 06:00:00\\\\\n",
       "\t 2013 & 1 & 2013-01-01 05:00:00\\\\\n",
       "\\end{tabular}\n"
      ],
      "text/markdown": [
       "\n",
       "A tibble: 6 × 3\n",
       "\n",
       "| year &lt;int&gt; | month &lt;int&gt; | time_hour &lt;dttm&gt; |\n",
       "|---|---|---|\n",
       "| 2013 | 1 | 2013-01-01 05:00:00 |\n",
       "| 2013 | 1 | 2013-01-01 05:00:00 |\n",
       "| 2013 | 1 | 2013-01-01 05:00:00 |\n",
       "| 2013 | 1 | 2013-01-01 05:00:00 |\n",
       "| 2013 | 1 | 2013-01-01 06:00:00 |\n",
       "| 2013 | 1 | 2013-01-01 05:00:00 |\n",
       "\n"
      ],
      "text/plain": [
       "  year month time_hour          \n",
       "1 2013 1     2013-01-01 05:00:00\n",
       "2 2013 1     2013-01-01 05:00:00\n",
       "3 2013 1     2013-01-01 05:00:00\n",
       "4 2013 1     2013-01-01 05:00:00\n",
       "5 2013 1     2013-01-01 06:00:00\n",
       "6 2013 1     2013-01-01 05:00:00"
      ]
     },
     "metadata": {},
     "output_type": "display_data"
    }
   ],
   "source": [
    "dados_filtrados <- flights %>% select(year, month, time_hour)\n",
    "head(dados_filtrados)"
   ]
  },
  {
   "cell_type": "markdown",
   "id": "greater-framework",
   "metadata": {},
   "source": [
    "### Comando `mutate()`"
   ]
  },
  {
   "cell_type": "code",
   "execution_count": 20,
   "id": "hairy-happening",
   "metadata": {},
   "outputs": [
    {
     "data": {
      "text/html": [
       "<table class=\"dataframe\">\n",
       "<caption>A tibble: 6 × 20</caption>\n",
       "<thead>\n",
       "\t<tr><th scope=col>year</th><th scope=col>month</th><th scope=col>day</th><th scope=col>dep_time</th><th scope=col>sched_dep_time</th><th scope=col>dep_delay</th><th scope=col>arr_time</th><th scope=col>sched_arr_time</th><th scope=col>arr_delay</th><th scope=col>carrier</th><th scope=col>flight</th><th scope=col>tailnum</th><th scope=col>origin</th><th scope=col>dest</th><th scope=col>air_time</th><th scope=col>distance</th><th scope=col>hour</th><th scope=col>minute</th><th scope=col>time_hour</th><th scope=col>month_name</th></tr>\n",
       "\t<tr><th scope=col>&lt;int&gt;</th><th scope=col>&lt;int&gt;</th><th scope=col>&lt;int&gt;</th><th scope=col>&lt;int&gt;</th><th scope=col>&lt;int&gt;</th><th scope=col>&lt;dbl&gt;</th><th scope=col>&lt;int&gt;</th><th scope=col>&lt;int&gt;</th><th scope=col>&lt;dbl&gt;</th><th scope=col>&lt;chr&gt;</th><th scope=col>&lt;int&gt;</th><th scope=col>&lt;chr&gt;</th><th scope=col>&lt;chr&gt;</th><th scope=col>&lt;chr&gt;</th><th scope=col>&lt;dbl&gt;</th><th scope=col>&lt;dbl&gt;</th><th scope=col>&lt;dbl&gt;</th><th scope=col>&lt;dbl&gt;</th><th scope=col>&lt;dttm&gt;</th><th scope=col>&lt;chr&gt;</th></tr>\n",
       "</thead>\n",
       "<tbody>\n",
       "\t<tr><td>2013</td><td>1</td><td>1</td><td>517</td><td>515</td><td> 2</td><td> 830</td><td> 819</td><td> 11</td><td>UA</td><td>1545</td><td>N14228</td><td>EWR</td><td>IAH</td><td>227</td><td>1400</td><td>5</td><td>15</td><td>2013-01-01 05:00:00</td><td>Janeiro</td></tr>\n",
       "\t<tr><td>2013</td><td>1</td><td>1</td><td>533</td><td>529</td><td> 4</td><td> 850</td><td> 830</td><td> 20</td><td>UA</td><td>1714</td><td>N24211</td><td>LGA</td><td>IAH</td><td>227</td><td>1416</td><td>5</td><td>29</td><td>2013-01-01 05:00:00</td><td>Janeiro</td></tr>\n",
       "\t<tr><td>2013</td><td>1</td><td>1</td><td>542</td><td>540</td><td> 2</td><td> 923</td><td> 850</td><td> 33</td><td>AA</td><td>1141</td><td>N619AA</td><td>JFK</td><td>MIA</td><td>160</td><td>1089</td><td>5</td><td>40</td><td>2013-01-01 05:00:00</td><td>Janeiro</td></tr>\n",
       "\t<tr><td>2013</td><td>1</td><td>1</td><td>544</td><td>545</td><td>-1</td><td>1004</td><td>1022</td><td>-18</td><td>B6</td><td> 725</td><td>N804JB</td><td>JFK</td><td>BQN</td><td>183</td><td>1576</td><td>5</td><td>45</td><td>2013-01-01 05:00:00</td><td>Janeiro</td></tr>\n",
       "\t<tr><td>2013</td><td>1</td><td>1</td><td>554</td><td>600</td><td>-6</td><td> 812</td><td> 837</td><td>-25</td><td>DL</td><td> 461</td><td>N668DN</td><td>LGA</td><td>ATL</td><td>116</td><td> 762</td><td>6</td><td> 0</td><td>2013-01-01 06:00:00</td><td>Janeiro</td></tr>\n",
       "\t<tr><td>2013</td><td>1</td><td>1</td><td>554</td><td>558</td><td>-4</td><td> 740</td><td> 728</td><td> 12</td><td>UA</td><td>1696</td><td>N39463</td><td>EWR</td><td>ORD</td><td>150</td><td> 719</td><td>5</td><td>58</td><td>2013-01-01 05:00:00</td><td>Janeiro</td></tr>\n",
       "</tbody>\n",
       "</table>\n"
      ],
      "text/latex": [
       "A tibble: 6 × 20\n",
       "\\begin{tabular}{llllllllllllllllllll}\n",
       " year & month & day & dep\\_time & sched\\_dep\\_time & dep\\_delay & arr\\_time & sched\\_arr\\_time & arr\\_delay & carrier & flight & tailnum & origin & dest & air\\_time & distance & hour & minute & time\\_hour & month\\_name\\\\\n",
       " <int> & <int> & <int> & <int> & <int> & <dbl> & <int> & <int> & <dbl> & <chr> & <int> & <chr> & <chr> & <chr> & <dbl> & <dbl> & <dbl> & <dbl> & <dttm> & <chr>\\\\\n",
       "\\hline\n",
       "\t 2013 & 1 & 1 & 517 & 515 &  2 &  830 &  819 &  11 & UA & 1545 & N14228 & EWR & IAH & 227 & 1400 & 5 & 15 & 2013-01-01 05:00:00 & Janeiro\\\\\n",
       "\t 2013 & 1 & 1 & 533 & 529 &  4 &  850 &  830 &  20 & UA & 1714 & N24211 & LGA & IAH & 227 & 1416 & 5 & 29 & 2013-01-01 05:00:00 & Janeiro\\\\\n",
       "\t 2013 & 1 & 1 & 542 & 540 &  2 &  923 &  850 &  33 & AA & 1141 & N619AA & JFK & MIA & 160 & 1089 & 5 & 40 & 2013-01-01 05:00:00 & Janeiro\\\\\n",
       "\t 2013 & 1 & 1 & 544 & 545 & -1 & 1004 & 1022 & -18 & B6 &  725 & N804JB & JFK & BQN & 183 & 1576 & 5 & 45 & 2013-01-01 05:00:00 & Janeiro\\\\\n",
       "\t 2013 & 1 & 1 & 554 & 600 & -6 &  812 &  837 & -25 & DL &  461 & N668DN & LGA & ATL & 116 &  762 & 6 &  0 & 2013-01-01 06:00:00 & Janeiro\\\\\n",
       "\t 2013 & 1 & 1 & 554 & 558 & -4 &  740 &  728 &  12 & UA & 1696 & N39463 & EWR & ORD & 150 &  719 & 5 & 58 & 2013-01-01 05:00:00 & Janeiro\\\\\n",
       "\\end{tabular}\n"
      ],
      "text/markdown": [
       "\n",
       "A tibble: 6 × 20\n",
       "\n",
       "| year &lt;int&gt; | month &lt;int&gt; | day &lt;int&gt; | dep_time &lt;int&gt; | sched_dep_time &lt;int&gt; | dep_delay &lt;dbl&gt; | arr_time &lt;int&gt; | sched_arr_time &lt;int&gt; | arr_delay &lt;dbl&gt; | carrier &lt;chr&gt; | flight &lt;int&gt; | tailnum &lt;chr&gt; | origin &lt;chr&gt; | dest &lt;chr&gt; | air_time &lt;dbl&gt; | distance &lt;dbl&gt; | hour &lt;dbl&gt; | minute &lt;dbl&gt; | time_hour &lt;dttm&gt; | month_name &lt;chr&gt; |\n",
       "|---|---|---|---|---|---|---|---|---|---|---|---|---|---|---|---|---|---|---|---|\n",
       "| 2013 | 1 | 1 | 517 | 515 |  2 |  830 |  819 |  11 | UA | 1545 | N14228 | EWR | IAH | 227 | 1400 | 5 | 15 | 2013-01-01 05:00:00 | Janeiro |\n",
       "| 2013 | 1 | 1 | 533 | 529 |  4 |  850 |  830 |  20 | UA | 1714 | N24211 | LGA | IAH | 227 | 1416 | 5 | 29 | 2013-01-01 05:00:00 | Janeiro |\n",
       "| 2013 | 1 | 1 | 542 | 540 |  2 |  923 |  850 |  33 | AA | 1141 | N619AA | JFK | MIA | 160 | 1089 | 5 | 40 | 2013-01-01 05:00:00 | Janeiro |\n",
       "| 2013 | 1 | 1 | 544 | 545 | -1 | 1004 | 1022 | -18 | B6 |  725 | N804JB | JFK | BQN | 183 | 1576 | 5 | 45 | 2013-01-01 05:00:00 | Janeiro |\n",
       "| 2013 | 1 | 1 | 554 | 600 | -6 |  812 |  837 | -25 | DL |  461 | N668DN | LGA | ATL | 116 |  762 | 6 |  0 | 2013-01-01 06:00:00 | Janeiro |\n",
       "| 2013 | 1 | 1 | 554 | 558 | -4 |  740 |  728 |  12 | UA | 1696 | N39463 | EWR | ORD | 150 |  719 | 5 | 58 | 2013-01-01 05:00:00 | Janeiro |\n",
       "\n"
      ],
      "text/plain": [
       "  year month day dep_time sched_dep_time dep_delay arr_time sched_arr_time\n",
       "1 2013 1     1   517      515             2         830      819          \n",
       "2 2013 1     1   533      529             4         850      830          \n",
       "3 2013 1     1   542      540             2         923      850          \n",
       "4 2013 1     1   544      545            -1        1004     1022          \n",
       "5 2013 1     1   554      600            -6         812      837          \n",
       "6 2013 1     1   554      558            -4         740      728          \n",
       "  arr_delay carrier flight tailnum origin dest air_time distance hour minute\n",
       "1  11       UA      1545   N14228  EWR    IAH  227      1400     5    15    \n",
       "2  20       UA      1714   N24211  LGA    IAH  227      1416     5    29    \n",
       "3  33       AA      1141   N619AA  JFK    MIA  160      1089     5    40    \n",
       "4 -18       B6       725   N804JB  JFK    BQN  183      1576     5    45    \n",
       "5 -25       DL       461   N668DN  LGA    ATL  116       762     6     0    \n",
       "6  12       UA      1696   N39463  EWR    ORD  150       719     5    58    \n",
       "  time_hour           month_name\n",
       "1 2013-01-01 05:00:00 Janeiro   \n",
       "2 2013-01-01 05:00:00 Janeiro   \n",
       "3 2013-01-01 05:00:00 Janeiro   \n",
       "4 2013-01-01 05:00:00 Janeiro   \n",
       "5 2013-01-01 06:00:00 Janeiro   \n",
       "6 2013-01-01 05:00:00 Janeiro   "
      ]
     },
     "metadata": {},
     "output_type": "display_data"
    }
   ],
   "source": [
    "dados_filtrados <- flights %>% mutate(month_name = c(\"Janeiro\", \"Fevereiro\", \"Março\", \n",
    "    \"Abril\", \"Maio\", \"Junho\", \"Julho\", \"Agosto\", \"Setembro\", \"Outubro\", \"Novembro\", \n",
    "    \"Dezembro\")[month])\n",
    "head(dados_filtrados)"
   ]
  }
 ],
 "metadata": {
  "kernelspec": {
   "display_name": "R",
   "language": "R",
   "name": "ir"
  },
  "language_info": {
   "codemirror_mode": "r",
   "file_extension": ".r",
   "mimetype": "text/x-r-source",
   "name": "R",
   "pygments_lexer": "r",
   "version": "4.0.3"
  }
 },
 "nbformat": 4,
 "nbformat_minor": 5
}
