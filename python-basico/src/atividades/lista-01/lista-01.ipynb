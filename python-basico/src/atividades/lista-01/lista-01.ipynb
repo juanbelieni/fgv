{
 "cells": [
  {
   "cell_type": "code",
   "execution_count": 23,
   "id": "curious-referral",
   "metadata": {},
   "outputs": [
    {
     "name": "stdout",
     "output_type": "stream",
     "text": [
      "Diclorodifeniltricloroetano\n"
     ]
    }
   ],
   "source": [
    "def questao_1():\n",
    "    x = \"DiClOrod  IFeNi  lTRicLOr oETaNo  \"\n",
    "    x = x.replace(\" \", \"\").lower().replace(\"d\", \"D\", 1)\n",
    "    print(x)\n",
    "\n",
    "\n",
    "questao_1()"
   ]
  },
  {
   "cell_type": "code",
   "execution_count": 24,
   "id": "similar-lying",
   "metadata": {},
   "outputs": [
    {
     "name": "stdout",
     "output_type": "stream",
     "text": [
      "palavra 15 3.14 lista\n"
     ]
    }
   ],
   "source": [
    "def questao_2():\n",
    "    A, B, C, D = \"palavra\", 15, 3.14, \"lista\"\n",
    "    print(A, B, C, D)\n",
    "    \n",
    "# questao_2()"
   ]
  },
  {
   "cell_type": "code",
   "execution_count": 1,
   "id": "abroad-pittsburgh",
   "metadata": {},
   "outputs": [
    {
     "name": "stdout",
     "output_type": "stream",
     "text": [
      "68.4 1.71\n",
      "Peso ideal (parabéns)\n"
     ]
    }
   ],
   "source": [
    "def questao_3():\n",
    "    p, h = map(float, input().split())\n",
    "    imc = p / (h**2)\n",
    "\n",
    "    if imc < 18.6:\n",
    "        print(\"abaixo do peso\")\n",
    "    elif 18.5 <= imc < 25:\n",
    "        print(\"Peso ideal (parabéns)\")\n",
    "    elif 25 <= imc < 30:\n",
    "        print(\"Levemente acima do peso\")\n",
    "    elif 30 <= imc < 35:\n",
    "        print(\"Obesidade grau I\")\n",
    "    elif 35 <= imc < 40:\n",
    "        print(\"Obesidade grau II (severa)\")\n",
    "    elif 40 <= imc:\n",
    "        print(\"Obesidade III (mórbida)\")\n",
    "\n",
    "\n",
    "# questao_3()"
   ]
  },
  {
   "cell_type": "code",
   "execution_count": 34,
   "id": "center-hygiene",
   "metadata": {},
   "outputs": [
    {
     "name": "stdout",
     "output_type": "stream",
     "text": [
      "6\n",
      "720\n"
     ]
    }
   ],
   "source": [
    "def questao_4():\n",
    "    n = int(input())\n",
    "\n",
    "    fatorial = 1\n",
    "\n",
    "    for m in range(1, n + 1):\n",
    "        fatorial *= m\n",
    "\n",
    "    print(fatorial)\n",
    "\n",
    "\n",
    "# questao_4()"
   ]
  },
  {
   "cell_type": "code",
   "execution_count": 40,
   "id": "legislative-killer",
   "metadata": {},
   "outputs": [
    {
     "name": "stdout",
     "output_type": "stream",
     "text": [
      "10\n",
      "5\n",
      "-1\n",
      "15\n"
     ]
    }
   ],
   "source": [
    "def questao_5():\n",
    "    soma = 0\n",
    "    n = 0\n",
    "\n",
    "    while n != -1:\n",
    "        soma += n\n",
    "        n = int(input())\n",
    "\n",
    "    print(soma)\n",
    "\n",
    "\n",
    "# questao_5()"
   ]
  },
  {
   "cell_type": "code",
   "execution_count": 2,
   "id": "finite-finger",
   "metadata": {},
   "outputs": [
    {
     "name": "stdout",
     "output_type": "stream",
     "text": [
      "Juan 193 15.63\n",
      "3016.59\n"
     ]
    }
   ],
   "source": [
    "def questao_6():\n",
    "    nome, horas, valor = input().split()\n",
    "    total = float(horas) * float(valor)\n",
    "    print(f\"{total:.2f}\")\n",
    "\n",
    "\n",
    "# questao_6()"
   ]
  },
  {
   "cell_type": "code",
   "execution_count": 44,
   "id": "apparent-kingdom",
   "metadata": {},
   "outputs": [
    {
     "name": "stdout",
     "output_type": "stream",
     "text": [
      "1 1 1\n",
      "0.5\n",
      "3.14159\n",
      "1.0\n",
      "1.0\n",
      "1.0\n"
     ]
    }
   ],
   "source": [
    "def questao_7():\n",
    "    A, B, C = map(float, input().split())\n",
    "\n",
    "    print(A * C / 2)\n",
    "    print(3.14159 * C**2)\n",
    "    print((A + B) * C / 2)\n",
    "    print(B**2)\n",
    "    print(A * B)\n",
    "\n",
    "\n",
    "# questao_7()"
   ]
  },
  {
   "cell_type": "code",
   "execution_count": 56,
   "id": "legendary-african",
   "metadata": {},
   "outputs": [
    {
     "name": "stdout",
     "output_type": "stream",
     "text": [
      "1 -2 -8\n",
      "x1: 4.0\n",
      "x2: -2.0\n"
     ]
    }
   ],
   "source": [
    "def questao_8():\n",
    "    a, b, c = map(float, input().split())\n",
    "\n",
    "    delta = b**2 - 4 * a * c\n",
    "\n",
    "    if delta < 0:\n",
    "        print(\"Essa equação não possui raízes reais\")\n",
    "    else:\n",
    "        x1 = (-b + delta ** 0.5) / (2 * a)\n",
    "        x2 = (-b - delta ** 0.5) / (2 * a)\n",
    "\n",
    "        print(f\"x1: {x1}\")\n",
    "        print(f\"x2: {x2}\")\n",
    "\n",
    "\n",
    "# questao_8()"
   ]
  },
  {
   "cell_type": "code",
   "execution_count": 59,
   "id": "million-tradition",
   "metadata": {},
   "outputs": [
    {
     "name": "stdout",
     "output_type": "stream",
     "text": [
      "1 1\n",
      "4 5\n",
      "5.0\n"
     ]
    }
   ],
   "source": [
    "def questao_9():\n",
    "    x1, y1 = map(float, input().split())\n",
    "    x2, y2 = map(float, input().split())\n",
    "\n",
    "    d = ((x1 -x2)**2 + (y1-y2)**2) ** 0.5\n",
    "   \n",
    "    print(d)\n",
    "\n",
    "# questao_9()"
   ]
  },
  {
   "cell_type": "code",
   "execution_count": 69,
   "id": "psychological-essay",
   "metadata": {},
   "outputs": [
    {
     "name": "stdout",
     "output_type": "stream",
     "text": [
      "1 -1\n",
      "q4\n"
     ]
    }
   ],
   "source": [
    "def questao_10():\n",
    "    x, y = map(float, input().split())\n",
    "\n",
    "    if x == 0 and y == 0:\n",
    "        print(\"origem\")\n",
    "    elif x == 0:\n",
    "        print(\"eixo x\")\n",
    "    elif y == 0:\n",
    "        print(\"eixo y\")\n",
    "    elif x > 0 and y > 0:\n",
    "        print(\"q1\")\n",
    "    elif x < 0 and y > 0:\n",
    "        print(\"q2\")\n",
    "    elif x < 0 and y < 0:\n",
    "        print(\"q3\")\n",
    "    elif x > 0 and y < 0:\n",
    "        print(\"q4\")\n",
    "\n",
    "# questao_10()"
   ]
  },
  {
   "cell_type": "code",
   "execution_count": 83,
   "id": "occupational-thickness",
   "metadata": {},
   "outputs": [
    {
     "name": "stdout",
     "output_type": "stream",
     "text": [
      "11\n",
      "São Paulo\n"
     ]
    }
   ],
   "source": [
    "def questao_11():\n",
    "    ddds = {\n",
    "        61: \"Brasília\",\n",
    "        71: \"Salvador\",\n",
    "        11: \"São Paulo\",\n",
    "        21: \"Rio de Janeiro\",\n",
    "        32: \"Juiz de Fora\",\n",
    "        19: \"Campinas\",\n",
    "        27: \"Vitoria\",\n",
    "        31: \"Belo Horizonte\"\n",
    "    }\n",
    "\n",
    "    ddd = int(input())\n",
    "    print(ddds[ddd])\n",
    "\n",
    "\n",
    "# questao_11()"
   ]
  },
  {
   "cell_type": "code",
   "execution_count": 95,
   "id": "loose-trainer",
   "metadata": {},
   "outputs": [
    {
     "name": "stdout",
     "output_type": "stream",
     "text": [
      "3.5 0.5 -1 -1 6 4\n",
      "4\n",
      "2.0\n"
     ]
    }
   ],
   "source": [
    "def questao_12():\n",
    "    valores = list(map(float, input().split()))\n",
    "\n",
    "    positivos = [valor for valor in valores if valor > 0]\n",
    "    print(len(positivos))\n",
    "\n",
    "    decimais = [valor for valor in valores if valor - int(valor) != 0]\n",
    "\n",
    "    if (len(decimais) > 0):\n",
    "        print(sum(decimais) / len(decimais))\n",
    "\n",
    "\n",
    "# questao_12()"
   ]
  },
  {
   "cell_type": "code",
   "execution_count": 4,
   "id": "detailed-reunion",
   "metadata": {},
   "outputs": [
    {
     "name": "stdout",
     "output_type": "stream",
     "text": [
      "1\n",
      "1\n"
     ]
    }
   ],
   "source": [
    "def questao_13():\n",
    "    N = int(input())\n",
    "    for n in range(1, N + 1):\n",
    "        print(n**2)\n",
    "\n",
    "\n",
    "# questao_13()"
   ]
  },
  {
   "cell_type": "code",
   "execution_count": 102,
   "id": "broad-january",
   "metadata": {},
   "outputs": [
    {
     "name": "stdout",
     "output_type": "stream",
     "text": [
      "4\n",
      "1\n",
      "ímpar positivo\n",
      "2\n",
      "par positivo\n",
      "-1\n",
      "ímpar negativo\n",
      "-2\n",
      "par negativo\n"
     ]
    }
   ],
   "source": [
    "def questao_14():\n",
    "    N = int(input())\n",
    "    for _ in range(N):\n",
    "        n = int(input()) \n",
    "        if n == 0:\n",
    "            print(\"nulo\")\n",
    "        else:\n",
    "            par_impar = \"par\" if n % 2 == 0 else \"ímpar\"\n",
    "            pos_neg = \"positivo\" if n > 0 else \"negativo\"\n",
    "            print(f\"{par_impar} {pos_neg}\")\n",
    "\n",
    "\n",
    "# questao_14()"
   ]
  },
  {
   "cell_type": "code",
   "execution_count": 7,
   "id": "settled-toronto",
   "metadata": {},
   "outputs": [
    {
     "name": "stdout",
     "output_type": "stream",
     "text": [
      "5 1 4 2 8 3\n",
      "1 2 3 4 5 8\n"
     ]
    }
   ],
   "source": [
    "def questao_15():\n",
    "    numeros = list(map(int, input().split()))\n",
    "    desordenado = True\n",
    "    while desordenado:\n",
    "        desordenado = False\n",
    "        for i in range(5):\n",
    "            if numeros[i] > numeros[i+1]:\n",
    "                numeros[i], numeros[i+1] = numeros[i+1],numeros[i]\n",
    "                desordenado = True        \n",
    "    \n",
    "    print(*numeros)\n",
    "    \n",
    "\n",
    "# questao_15()"
   ]
  }
 ],
 "metadata": {
  "kernelspec": {
   "display_name": "Python 3",
   "language": "python",
   "name": "python3"
  },
  "language_info": {
   "codemirror_mode": {
    "name": "ipython",
    "version": 3
   },
   "file_extension": ".py",
   "mimetype": "text/x-python",
   "name": "python",
   "nbconvert_exporter": "python",
   "pygments_lexer": "ipython3",
   "version": "3.8.8"
  }
 },
 "nbformat": 4,
 "nbformat_minor": 5
}