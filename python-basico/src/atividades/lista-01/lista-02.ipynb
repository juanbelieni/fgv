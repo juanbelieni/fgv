{
 "cells": [
  {
   "cell_type": "code",
   "execution_count": 3,
   "id": "0bc8a4a0",
   "metadata": {},
   "outputs": [
    {
     "data": {
      "text/plain": [
       "[4, 16, 36, 64, 100]"
      ]
     },
     "execution_count": 3,
     "metadata": {},
     "output_type": "execute_result"
    }
   ],
   "source": [
    "def quadrado_par(N):\n",
    "    return [n**2 for n in range(1, N + 1) if n % 2 == 0]\n",
    "\n",
    "\n",
    "# quadrado_par(10)"
   ]
  },
  {
   "cell_type": "code",
   "execution_count": 8,
   "id": "ec38e2ba",
   "metadata": {},
   "outputs": [
    {
     "name": "stdout",
     "output_type": "stream",
     "text": [
      "4\n",
      "3\n",
      "2\n",
      "1\n",
      "-1\n"
     ]
    },
    {
     "data": {
      "text/plain": [
       "([2, 4], [1, 3])"
      ]
     },
     "execution_count": 8,
     "metadata": {},
     "output_type": "execute_result"
    }
   ],
   "source": [
    "def divide_par_impar():\n",
    "    nums = []\n",
    "\n",
    "    while True:\n",
    "        n = int(input())\n",
    "        if n == -1: break\n",
    "\n",
    "        nums = sorted([*nums, n])\n",
    "\n",
    "    return [n for n in nums if n % 2 == 0], [n for n in nums if n % 2 == 1]\n",
    "\n",
    "\n",
    "# divide_par_impar()"
   ]
  },
  {
   "cell_type": "code",
   "execution_count": 11,
   "id": "e2039854",
   "metadata": {},
   "outputs": [
    {
     "data": {
      "text/plain": [
       "(2, 0)"
      ]
     },
     "execution_count": 11,
     "metadata": {},
     "output_type": "execute_result"
    }
   ],
   "source": [
    "def conta_par(L):\n",
    "    return len([l for l in L if l % 2 == 0])\n",
    "\n",
    "\n",
    "# conta_par([1, 2, 3, 4]), conta_par([1, 7])"
   ]
  },
  {
   "cell_type": "code",
   "execution_count": 13,
   "id": "53c9e9be",
   "metadata": {},
   "outputs": [
    {
     "data": {
      "text/plain": [
       "[1, 25, 9, 100]"
      ]
     },
     "execution_count": 13,
     "metadata": {},
     "output_type": "execute_result"
    }
   ],
   "source": [
    "def lista_ao_quadrado(L):\n",
    "    return [l**2 for l in L]\n",
    "\n",
    "\n",
    "# lista_ao_quadrado([1, 5, 3, 10])"
   ]
  },
  {
   "cell_type": "code",
   "execution_count": 16,
   "id": "d75c0e1c",
   "metadata": {},
   "outputs": [
    {
     "data": {
      "text/plain": [
       "[5, 4, 2, 1]"
      ]
     },
     "execution_count": 16,
     "metadata": {},
     "output_type": "execute_result"
    }
   ],
   "source": [
    "def decrescente(A,B):\n",
    "    return sorted([*A, *B])[::-1]\n",
    "\n",
    "\n",
    "# decrescente([1, 5], [4, 2])"
   ]
  },
  {
   "cell_type": "code",
   "execution_count": 17,
   "id": "5a9fb73c",
   "metadata": {},
   "outputs": [
    {
     "data": {
      "text/plain": [
       "[10, 20, 30, 4, 10, 50, 1]"
      ]
     },
     "execution_count": 17,
     "metadata": {},
     "output_type": "execute_result"
    }
   ],
   "source": [
    "def adiciona(A,*inteiros):\n",
    "    return [*A, *inteiros]\n",
    "\n",
    "# A = [10,20,30]\n",
    "# adiciona(A, 4, 10, 50, 1)"
   ]
  },
  {
   "cell_type": "code",
   "execution_count": 18,
   "id": "c4a28ed1",
   "metadata": {},
   "outputs": [
    {
     "data": {
      "text/plain": [
       "[2, 3]"
      ]
     },
     "execution_count": 18,
     "metadata": {},
     "output_type": "execute_result"
    }
   ],
   "source": [
    "def intercept(A,B):\n",
    "    return [a for a in A if a in B]\n",
    "\n",
    "# A = [-2, 0, 1, 2, 3]\n",
    "# B = [-1, 2, 3, 6, 8]\n",
    "# intercept(A,B)"
   ]
  },
  {
   "cell_type": "code",
   "execution_count": 21,
   "id": "cd238be6",
   "metadata": {},
   "outputs": [
    {
     "data": {
      "text/plain": [
       "[-2, -1, 0, 1, 2, 10]"
      ]
     },
     "execution_count": 21,
     "metadata": {},
     "output_type": "execute_result"
    }
   ],
   "source": [
    "def union(A, B):\n",
    "    return sorted([*A, *[b for b in B if b not in A]])\n",
    "\n",
    "\n",
    "# A = [-2, 0, 1, 2]\n",
    "# B = [-1, 1, 2, 10]\n",
    "# union(A, B)"
   ]
  },
  {
   "cell_type": "code",
   "execution_count": 33,
   "id": "8f802048",
   "metadata": {},
   "outputs": [
    {
     "data": {
      "text/plain": [
       "[2]"
      ]
     },
     "execution_count": 33,
     "metadata": {},
     "output_type": "execute_result"
    }
   ],
   "source": [
    "def intercept2(*lists):\n",
    "    if len(lists) == 2:\n",
    "        A = lists[0]\n",
    "        B = lists[1]\n",
    "        return [a for a in A if a in B]\n",
    "\n",
    "    return intercept2(lists[0], intercept2(*lists[1:]))\n",
    "\n",
    "# A = [-2, 0, 1, 2, 3]\n",
    "# B = [-1, 2, 3, 6, 8]\n",
    "# C = [1, 2, 4]\n",
    "\n",
    "# intercept2(A, B, C)"
   ]
  },
  {
   "cell_type": "code",
   "execution_count": 43,
   "id": "08db06d8",
   "metadata": {},
   "outputs": [
    {
     "data": {
      "text/plain": [
       "[[6, 12], [7, 4]]"
      ]
     },
     "execution_count": 43,
     "metadata": {},
     "output_type": "execute_result"
    }
   ],
   "source": [
    "def matriz(A: list, B: list):\n",
    "    C = []\n",
    "    Ai, Aj = len(A), len(A[0])\n",
    "    Bi, Bj = len(B), len(B[0])\n",
    "\n",
    "    for i in range(Ai):\n",
    "        C.append([])\n",
    "        for j in range(Bj):\n",
    "            C[i].append(sum([A[i][k] * B[k][j] for k in range(Aj)]))\n",
    "\n",
    "    return C\n",
    "\n",
    "\n",
    "# matriz([[2, 3, 1], [-1, 0, 2]], [[1, -2], [0, 5], [4, 1]])"
   ]
  }
 ],
 "metadata": {
  "kernelspec": {
   "display_name": "Python 3",
   "language": "python",
   "name": "python3"
  },
  "language_info": {
   "codemirror_mode": {
    "name": "ipython",
    "version": 3
   },
   "file_extension": ".py",
   "mimetype": "text/x-python",
   "name": "python",
   "nbconvert_exporter": "python",
   "pygments_lexer": "ipython3",
   "version": "3.8.8"
  }
 },
 "nbformat": 4,
 "nbformat_minor": 5
}
