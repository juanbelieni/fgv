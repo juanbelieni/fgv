{
 "cells": [
  {
   "cell_type": "markdown",
   "id": "impossible-active",
   "metadata": {},
   "source": [
    "# Introdução ao Python\n",
    "\n",
    "## Comando `print`"
   ]
  },
  {
   "cell_type": "code",
   "execution_count": 2,
   "id": "deadly-phenomenon",
   "metadata": {},
   "outputs": [
    {
     "name": "stdout",
     "output_type": "stream",
     "text": [
      "Olá, amiguinhos!\n"
     ]
    }
   ],
   "source": [
    "print(\"Olá, amiguinhos!\")"
   ]
  },
  {
   "cell_type": "markdown",
   "id": "aquatic-motorcycle",
   "metadata": {},
   "source": [
    "## Declarando variáveis"
   ]
  },
  {
   "cell_type": "code",
   "execution_count": 3,
   "id": "registered-yacht",
   "metadata": {},
   "outputs": [
    {
     "name": "stdout",
     "output_type": "stream",
     "text": [
      "Olá, amiguinhos\n",
      "6\n"
     ]
    }
   ],
   "source": [
    "frase = \"Olá, amiguinhos\"\n",
    "\n",
    "print(frase)\n",
    "\n",
    "x = 2\n",
    "y = 4\n",
    "\n",
    "print(x + y)"
   ]
  },
  {
   "cell_type": "markdown",
   "id": "bigger-color",
   "metadata": {},
   "source": [
    "## Comando `input`"
   ]
  },
  {
   "cell_type": "code",
   "execution_count": 4,
   "id": "leading-kuwait",
   "metadata": {},
   "outputs": [
    {
     "name": "stdout",
     "output_type": "stream",
     "text": [
      "Qual é seu nome? Juan\n",
      "Seu nome é: Juan\n"
     ]
    }
   ],
   "source": [
    "nome = input(\"Qual é seu nome? \")\n",
    "print(\"Seu nome é:\", nome)"
   ]
  },
  {
   "cell_type": "markdown",
   "id": "lesbian-fever",
   "metadata": {},
   "source": [
    "## Convertendo variáveis"
   ]
  },
  {
   "cell_type": "code",
   "execution_count": 1,
   "id": "auburn-contest",
   "metadata": {},
   "outputs": [
    {
     "name": "stdout",
     "output_type": "stream",
     "text": [
      "Digite sua idade: 20\n",
      "<class 'str'>\n",
      "<class 'int'>\n"
     ]
    }
   ],
   "source": [
    "idade = input(\"Digite sua idade: \")\n",
    "idade_inteiro = int(idade)\n",
    "\n",
    "print(type(idade))\n",
    "print(type(idade_inteiro))"
   ]
  },
  {
   "cell_type": "markdown",
   "id": "finite-fellow",
   "metadata": {},
   "source": [
    "## Estruturas condicionais"
   ]
  },
  {
   "cell_type": "code",
   "execution_count": 1,
   "id": "lasting-chase",
   "metadata": {},
   "outputs": [
    {
     "name": "stdout",
     "output_type": "stream",
     "text": [
      "Digite sua idade: 18\n",
      "Adulto\n"
     ]
    }
   ],
   "source": [
    "idade = int(input(\"Digite sua idade: \"))\n",
    "\n",
    "if idade < 18:\n",
    "    print(\"Jovem ou criança\")\n",
    "elif idade < 65:\n",
    "    print(\"Adulto\")\n",
    "else:\n",
    "    print(\"Idoso\")"
   ]
  },
  {
   "cell_type": "markdown",
   "id": "received-liabilities",
   "metadata": {},
   "source": [
    "## Estruturas de repetição"
   ]
  },
  {
   "cell_type": "code",
   "execution_count": 4,
   "id": "latin-brother",
   "metadata": {},
   "outputs": [
    {
     "name": "stdout",
     "output_type": "stream",
     "text": [
      "Número ímpar -> 1\n",
      "Número par   -> 2\n",
      "Número ímpar -> 3\n",
      "Número par   -> 4\n",
      "Número ímpar -> 5\n",
      "Número par   -> 6\n",
      "Número ímpar -> 7\n",
      "Número par   -> 8\n",
      "Número ímpar -> 9\n",
      "Número par   -> 10\n"
     ]
    }
   ],
   "source": [
    "n = 0\n",
    "\n",
    "while n < 10:\n",
    "    n += 1\n",
    "\n",
    "    if n % 2 == 0:\n",
    "        print(f\"Número par   -> {n}\")\n",
    "        continue\n",
    "    \n",
    "    print(f\"Número ímpar -> {n}\")"
   ]
  }
 ],
 "metadata": {
  "kernelspec": {
   "display_name": "Python 3",
   "language": "python",
   "name": "python3"
  },
  "language_info": {
   "codemirror_mode": {
    "name": "ipython",
    "version": 3
   },
   "file_extension": ".py",
   "mimetype": "text/x-python",
   "name": "python",
   "nbconvert_exporter": "python",
   "pygments_lexer": "ipython3",
   "version": "3.8.8"
  }
 },
 "nbformat": 4,
 "nbformat_minor": 5
}
