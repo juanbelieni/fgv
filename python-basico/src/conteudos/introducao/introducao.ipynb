{
 "cells": [
  {
   "cell_type": "markdown",
   "id": "impossible-active",
   "metadata": {},
   "source": [
    "# Básico de Python\n",
    "\n",
    "## Comando `print`"
   ]
  },
  {
   "cell_type": "code",
   "execution_count": 2,
   "id": "deadly-phenomenon",
   "metadata": {},
   "outputs": [
    {
     "name": "stdout",
     "output_type": "stream",
     "text": [
      "Olá, amiguinhos!\n"
     ]
    }
   ],
   "source": [
    "print(\"Olá, amiguinhos!\")"
   ]
  },
  {
   "cell_type": "markdown",
   "id": "aquatic-motorcycle",
   "metadata": {},
   "source": [
    "## Declarando variáveis"
   ]
  },
  {
   "cell_type": "code",
   "execution_count": 3,
   "id": "registered-yacht",
   "metadata": {},
   "outputs": [
    {
     "name": "stdout",
     "output_type": "stream",
     "text": [
      "Olá, amiguinhos\n",
      "6\n"
     ]
    }
   ],
   "source": [
    "frase = \"Olá, amiguinhos\"\n",
    "\n",
    "print(frase)\n",
    "\n",
    "x = 2\n",
    "y = 4\n",
    "\n",
    "print(x + y)"
   ]
  },
  {
   "cell_type": "markdown",
   "id": "bigger-color",
   "metadata": {},
   "source": [
    "## Comando `input`"
   ]
  },
  {
   "cell_type": "code",
   "execution_count": 4,
   "id": "leading-kuwait",
   "metadata": {},
   "outputs": [
    {
     "name": "stdout",
     "output_type": "stream",
     "text": [
      "Qual é seu nome? Juan\n",
      "Seu nome é: Juan\n"
     ]
    }
   ],
   "source": [
    "nome = input(\"Qual é seu nome? \")\n",
    "print(\"Seu nome é:\", nome)"
   ]
  }
 ],
 "metadata": {
  "kernelspec": {
   "display_name": "Python 3",
   "language": "python",
   "name": "python3"
  },
  "language_info": {
   "codemirror_mode": {
    "name": "ipython",
    "version": 3
   },
   "file_extension": ".py",
   "mimetype": "text/x-python",
   "name": "python",
   "nbconvert_exporter": "python",
   "pygments_lexer": "ipython3",
   "version": "3.8.8"
  }
 },
 "nbformat": 4,
 "nbformat_minor": 5
}
