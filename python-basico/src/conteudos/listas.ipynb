{
 "cells": [
  {
   "cell_type": "markdown",
   "id": "configured-concentrate",
   "metadata": {},
   "source": [
    "# Listas\n",
    "\n",
    "## Exercício de juros compostos"
   ]
  },
  {
   "cell_type": "code",
   "execution_count": 12,
   "id": "hungarian-concert",
   "metadata": {},
   "outputs": [
    {
     "name": "stdout",
     "output_type": "stream",
     "text": [
      "Montante inicial: R$ 100\n",
      "Taxa ao mês (%): 5\n",
      "Quantidade de meses: 12\n",
      "Mês 1: R$ 105.00\n",
      "Mês 2: R$ 110.25\n",
      "Mês 3: R$ 115.76\n",
      "Mês 4: R$ 121.55\n",
      "Mês 5: R$ 127.63\n",
      "Mês 6: R$ 134.01\n",
      "Mês 7: R$ 140.71\n",
      "Mês 8: R$ 147.75\n",
      "Mês 9: R$ 155.13\n",
      "Mês 10: R$ 162.89\n",
      "Mês 11: R$ 171.03\n",
      "Mês 12: R$ 179.59\n"
     ]
    }
   ],
   "source": [
    "montante = float(input(\"Montante inicial: R$ \"))\n",
    "taxa = float(input(\"Taxa ao mês (%): \")) / 100\n",
    "meses = int(input(\"Quantidade de meses: \"))\n",
    "\n",
    "for mes in range(1, meses + 1):\n",
    "    montante_mes = montante * (1 + taxa) ** mes\n",
    "    print(f\"Mês {mes}: R$ {montante_mes:.2f}\")"
   ]
  }
 ],
 "metadata": {
  "kernelspec": {
   "display_name": "Python 3",
   "language": "python",
   "name": "python3"
  },
  "language_info": {
   "codemirror_mode": {
    "name": "ipython",
    "version": 3
   },
   "file_extension": ".py",
   "mimetype": "text/x-python",
   "name": "python",
   "nbconvert_exporter": "python",
   "pygments_lexer": "ipython3",
   "version": "3.8.8"
  }
 },
 "nbformat": 4,
 "nbformat_minor": 5
}
